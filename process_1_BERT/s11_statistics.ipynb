{
 "cells": [
  {
   "cell_type": "markdown",
   "metadata": {},
   "source": [
    "#### "
   ]
  },
  {
   "cell_type": "markdown",
   "metadata": {},
   "source": [
    "# `Step 9: Statistics`"
   ]
  },
  {
   "cell_type": "markdown",
   "metadata": {},
   "source": [
    "# 0- `Config`"
   ]
  },
  {
   "cell_type": "code",
   "execution_count": null,
   "metadata": {},
   "outputs": [],
   "source": [
    "import pandas as pd \n",
    "import numpy as np  \n",
    "import pickle "
   ]
  },
  {
   "cell_type": "code",
   "execution_count": null,
   "metadata": {},
   "outputs": [],
   "source": [
    "try: \n",
    "    if manager == 1:\n",
    "        print(\"s1_load.ipynb running from MANAGER\")\n",
    "except: \n",
    "    %run s0_config.ipynb  "
   ]
  },
  {
   "cell_type": "markdown",
   "metadata": {},
   "source": [
    "# 1- `Load`"
   ]
  },
  {
   "cell_type": "markdown",
   "metadata": {},
   "source": [
    "## 0-) `NN`"
   ]
  },
  {
   "cell_type": "code",
   "execution_count": null,
   "metadata": {},
   "outputs": [],
   "source": [
    "# SVM Total \n",
    "try:\n",
    "    import_name = \"NN_Total\"\n",
    "    with open(os.path.join(access_data_path(f\"{process_barcode}/data/{folder_total}\", f\"{import_name}\" + \".pkl\"))  , 'rb') as file: \n",
    "        NN_Total = pickle.load(file)   \n",
    "    print(\"NN Total Data is loaded\")\n",
    "except:\n",
    "    print(\"No NN Best Total Data\") \n",
    "\n",
    "    NN_Total = {} \n",
    "    print(\"NN Total Data is created\")"
   ]
  },
  {
   "cell_type": "markdown",
   "metadata": {},
   "source": [
    "## 1-) `SVM`"
   ]
  },
  {
   "cell_type": "code",
   "execution_count": null,
   "metadata": {},
   "outputs": [],
   "source": [
    "# SVM Total \n",
    "try:\n",
    "    import_name = \"SVM_Total\"\n",
    "    with open(os.path.join(access_data_path(f\"{process_barcode}/data/{folder_total}\", f\"{import_name}\" + \".pkl\"))  , 'rb') as file: \n",
    "        SVM_Total = pickle.load(file)   \n",
    "    print(\"SVM Total Data is loaded\")\n",
    "except:\n",
    "    print(\"No SVM Best Total Data\") \n",
    "\n",
    "    SVM_Total = {} \n",
    "    print(\"SVM Total Data is created\")"
   ]
  },
  {
   "cell_type": "code",
   "execution_count": null,
   "metadata": {},
   "outputs": [],
   "source": [
    "SVM_Total"
   ]
  },
  {
   "cell_type": "markdown",
   "metadata": {},
   "source": [
    "## 2-) `SGD`"
   ]
  },
  {
   "cell_type": "code",
   "execution_count": null,
   "metadata": {},
   "outputs": [],
   "source": [
    "# SGD Total \n",
    "try:\n",
    "    import_name = \"SGD_Total\"\n",
    "    with open(os.path.join(access_data_path(f\"{process_barcode}/data/{folder_total}\", f\"{import_name}\" + \".pkl\"))  , 'rb') as file: \n",
    "        SGD_Total = pickle.load(file)   \n",
    "    print(\"SGD Total Data is loaded\")\n",
    "except:\n",
    "    print(\"No SGD Best Total Data\") \n",
    "\n",
    "    SGD_Total = {} \n",
    "    print(\"SGD Total Data is created\")"
   ]
  },
  {
   "cell_type": "markdown",
   "metadata": {},
   "source": [
    "## 3-) `Decision Tree`"
   ]
  },
  {
   "cell_type": "code",
   "execution_count": null,
   "metadata": {},
   "outputs": [],
   "source": [
    "# DT Total \n",
    "try:\n",
    "    import_name = \"DT_Total\"\n",
    "    with open(os.path.join(access_data_path(f\"{process_barcode}/data/{folder_total}\", f\"{import_name}\" + \".pkl\"))  , 'rb') as file: \n",
    "        DT_Total = pickle.load(file)   \n",
    "    print(\"DT Total Data is loaded\")\n",
    "except:\n",
    "    print(\"No DT Best Total Data\") \n",
    "\n",
    "    DT_Total = {} \n",
    "    print(\"DT Total Data is created\")"
   ]
  },
  {
   "cell_type": "markdown",
   "metadata": {},
   "source": [
    "## 4-) `Random Forest`"
   ]
  },
  {
   "cell_type": "code",
   "execution_count": null,
   "metadata": {},
   "outputs": [],
   "source": [
    "# RF Total \n",
    "try:\n",
    "    import_name = \"RF_Total\"\n",
    "    with open(os.path.join(access_data_path(f\"{process_barcode}/data/{folder_total}\", f\"{import_name}\" + \".pkl\"))  , 'rb') as file: \n",
    "        RF_Total = pickle.load(file)   \n",
    "    print(\"RF Total Data is loaded\")\n",
    "except:\n",
    "    print(\"No RF Best Total Data\") \n",
    "\n",
    "    RF_Total = {} \n",
    "    print(\"RF Total Data is created\")"
   ]
  },
  {
   "cell_type": "markdown",
   "metadata": {},
   "source": [
    "---\n",
    "# 2- `Results`"
   ]
  },
  {
   "cell_type": "markdown",
   "metadata": {},
   "source": [
    "## 0-) `NN`"
   ]
  },
  {
   "cell_type": "code",
   "execution_count": null,
   "metadata": {},
   "outputs": [],
   "source": [
    "NN_Total"
   ]
  },
  {
   "cell_type": "code",
   "execution_count": null,
   "metadata": {},
   "outputs": [],
   "source": [
    "try:\n",
    "    # Number of Unique Models \n",
    "    print(f\"Number of Unique Models: {len(pd.unique(NN_Total['Applications']))}\") \n",
    "except: \n",
    "    print(\"No NN Total Data\") "
   ]
  },
  {
   "cell_type": "markdown",
   "metadata": {},
   "source": [
    "### A-) `Inspection: Single`"
   ]
  },
  {
   "cell_type": "code",
   "execution_count": null,
   "metadata": {},
   "outputs": [],
   "source": [
    "try: \n",
    "    # Target \n",
    "    target_model = \"Free_v0_Free_v0_PCA_n2\" \n",
    "    # Statistics \n",
    "    NN_Total[NN_Total[\"Applications\"] == target_model] \n",
    "except: \n",
    "    print(\"No NN Total Data\") "
   ]
  },
  {
   "cell_type": "markdown",
   "metadata": {},
   "source": [
    "### B-) `Inspection: Best`"
   ]
  },
  {
   "cell_type": "code",
   "execution_count": null,
   "metadata": {},
   "outputs": [],
   "source": [
    "try: \n",
    "    NN_Total.sort_values(by=\"F1\", ascending=False) \n",
    "except: \n",
    "    print(\"No NN Total Data\") "
   ]
  },
  {
   "cell_type": "markdown",
   "metadata": {},
   "source": [
    "## 1-) `SVM`"
   ]
  },
  {
   "cell_type": "code",
   "execution_count": null,
   "metadata": {},
   "outputs": [],
   "source": [
    "SVM_Total"
   ]
  },
  {
   "cell_type": "code",
   "execution_count": null,
   "metadata": {},
   "outputs": [],
   "source": [
    "try:\n",
    "    # Number of Unique Models \n",
    "    print(f\"Number of Unique Models: {len(pd.unique(SVM_Total['Applications']))}\") \n",
    "except: \n",
    "    print(\"No SVM Total Data\") "
   ]
  },
  {
   "cell_type": "markdown",
   "metadata": {},
   "source": [
    "### A-) `Inspection: Single`"
   ]
  },
  {
   "cell_type": "code",
   "execution_count": null,
   "metadata": {},
   "outputs": [],
   "source": [
    "try: \n",
    "    # Target \n",
    "    target_model = \"Free_v0_Free_v0_PCA_n2\" \n",
    "    # Statistics \n",
    "    SVM_Total[SVM_Total[\"Applications\"] == target_model] \n",
    "except: \n",
    "    print(\"No SVM Total Data\") "
   ]
  },
  {
   "cell_type": "markdown",
   "metadata": {},
   "source": [
    "### B-) `Inspection: Best`"
   ]
  },
  {
   "cell_type": "code",
   "execution_count": null,
   "metadata": {},
   "outputs": [],
   "source": [
    "try: \n",
    "    SVM_Total.sort_values(by=\"F1\", ascending=False) \n",
    "except: \n",
    "    print(\"No SVM Total Data\") "
   ]
  },
  {
   "cell_type": "markdown",
   "metadata": {},
   "source": [
    "## 2-) `SGD`"
   ]
  },
  {
   "cell_type": "code",
   "execution_count": null,
   "metadata": {},
   "outputs": [],
   "source": [
    "try:\n",
    "    # Number of Unique Models \n",
    "    print(f\"Number of Unique Models: {len(pd.unique(SGD_Total['Applications']))}\") \n",
    "except: \n",
    "    print(\"No SGD Total Data\") "
   ]
  },
  {
   "cell_type": "markdown",
   "metadata": {},
   "source": [
    "### A-) `Inspection: Single`"
   ]
  },
  {
   "cell_type": "code",
   "execution_count": null,
   "metadata": {},
   "outputs": [],
   "source": [
    "try: \n",
    "    # Target \n",
    "    target_model = \"Free_v0_Free_v0_PCA_n2\" \n",
    "    # Statistics \n",
    "    SGD_Total[SGD_Total[\"Applications\"] == target_model] \n",
    "except: \n",
    "    print(\"No SGD Total Data\") "
   ]
  },
  {
   "cell_type": "markdown",
   "metadata": {},
   "source": [
    "### B-) `Inspection: Best`"
   ]
  },
  {
   "cell_type": "code",
   "execution_count": null,
   "metadata": {},
   "outputs": [],
   "source": [
    "try: \n",
    "    SGD_Total.sort_values(by=\"F1\", ascending=False) \n",
    "except: \n",
    "    print(\"No SGD Total Data\") "
   ]
  },
  {
   "cell_type": "markdown",
   "metadata": {},
   "source": [
    "## 3-) `Decision Tree`"
   ]
  },
  {
   "cell_type": "code",
   "execution_count": null,
   "metadata": {},
   "outputs": [],
   "source": [
    "try:\n",
    "    # Number of Unique Models \n",
    "    print(f\"Number of Unique Models: {len(pd.unique(DT_Total['Applications']))}\") \n",
    "except: \n",
    "    print(\"No DT Total Data\") "
   ]
  },
  {
   "cell_type": "markdown",
   "metadata": {},
   "source": [
    "### A-) `Inspection: Single`"
   ]
  },
  {
   "cell_type": "code",
   "execution_count": null,
   "metadata": {},
   "outputs": [],
   "source": [
    "try: \n",
    "    # Target \n",
    "    target_model = \"Free_v0_Free_v0_PCA_n2\" \n",
    "    # Statistics \n",
    "    DT_Total[DT_Total[\"Applications\"] == target_model] \n",
    "except: \n",
    "    print(\"No DT Total Data\") "
   ]
  },
  {
   "cell_type": "markdown",
   "metadata": {},
   "source": [
    "### B-) `Inspection: Best`"
   ]
  },
  {
   "cell_type": "code",
   "execution_count": null,
   "metadata": {},
   "outputs": [],
   "source": [
    "try: \n",
    "    DT_Total.sort_values(by=\"F1\", ascending=False) \n",
    "except: \n",
    "    print(\"No DT Total Data\") "
   ]
  },
  {
   "cell_type": "markdown",
   "metadata": {},
   "source": [
    "## 4-) `Random Forest`"
   ]
  },
  {
   "cell_type": "code",
   "execution_count": null,
   "metadata": {},
   "outputs": [],
   "source": [
    "try:\n",
    "    # Number of Unique Models \n",
    "    print(f\"Number of Unique Models: {len(pd.unique(RF_Total['Applications']))}\") \n",
    "except: \n",
    "    print(\"No RF Total Data\") "
   ]
  },
  {
   "cell_type": "markdown",
   "metadata": {},
   "source": [
    "### A-) `Inspection: Single`"
   ]
  },
  {
   "cell_type": "code",
   "execution_count": null,
   "metadata": {},
   "outputs": [],
   "source": [
    "try: \n",
    "    # Target \n",
    "    target_model = \"Free_v0_Free_v0_PCA_n2\" \n",
    "    # Statistics \n",
    "    RF_Total[RF_Total[\"Applications\"] == target_model] \n",
    "except: \n",
    "    print(\"No RF Total Data\") "
   ]
  },
  {
   "cell_type": "markdown",
   "metadata": {},
   "source": [
    "### B-) `Inspection: Best`"
   ]
  },
  {
   "cell_type": "code",
   "execution_count": null,
   "metadata": {},
   "outputs": [],
   "source": [
    "try: \n",
    "    RF_Total.sort_values(by=\"F1\", ascending=False) \n",
    "except: \n",
    "    print(\"No RF Total Data\") "
   ]
  },
  {
   "cell_type": "markdown",
   "metadata": {},
   "source": [
    "---\n",
    "# 3- `All In One`"
   ]
  },
  {
   "cell_type": "code",
   "execution_count": null,
   "metadata": {},
   "outputs": [],
   "source": [
    "All = pd.concat([SVM_Total, SGD_Total, DT_Total, RF_Total, NN_Total], axis=0) \n",
    "All.sort_values(by=\"F1\", ascending=False).head(20)"
   ]
  },
  {
   "cell_type": "markdown",
   "metadata": {},
   "source": [
    "---\n",
    "# `End`"
   ]
  }
 ],
 "metadata": {
  "kernelspec": {
   "display_name": "Python 3",
   "language": "python",
   "name": "python3"
  },
  "language_info": {
   "codemirror_mode": {
    "name": "ipython",
    "version": 3
   },
   "file_extension": ".py",
   "mimetype": "text/x-python",
   "name": "python",
   "nbconvert_exporter": "python",
   "pygments_lexer": "ipython3",
   "version": "3.11.8"
  }
 },
 "nbformat": 4,
 "nbformat_minor": 2
}
