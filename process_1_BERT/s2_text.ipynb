{
 "cells": [
  {
   "cell_type": "markdown",
   "metadata": {},
   "source": [
    "# `Step 2: Text Embeddings`"
   ]
  },
  {
   "cell_type": "markdown",
   "metadata": {},
   "source": [
    "# 0- `Config`"
   ]
  },
  {
   "cell_type": "code",
   "execution_count": null,
   "metadata": {},
   "outputs": [],
   "source": [
    "# Path Management\n",
    "import pickle\n",
    "import os\n",
    "# Data Handling \n",
    "import pandas as pd\n",
    "import numpy as np\n",
    "# Transformers \n",
    "from transformers import BertModel, BertTokenizer\n",
    "# Tokenization\n",
    "import torch\n",
    "from tqdm import tqdm"
   ]
  },
  {
   "cell_type": "code",
   "execution_count": null,
   "metadata": {},
   "outputs": [],
   "source": [
    "try:\n",
    "    if manager == 1:\n",
    "        print(\"Jupyter has been running from Manager\") \n",
    "except:\n",
    "    temp  = \"temp\"\n",
    "    %run s0_config.ipynb "
   ]
  },
  {
   "cell_type": "markdown",
   "metadata": {},
   "source": [
    "# 1- `Load`"
   ]
  },
  {
   "cell_type": "code",
   "execution_count": null,
   "metadata": {},
   "outputs": [],
   "source": [
    "import_name = \"subject_data\"\n",
    "with open(os.path.join(access_data_path(f\"{process_barcode}/data/{folder_setup}\", f\"{import_name}\" + \".pkl\")) , 'rb') as file:\n",
    "    subject_data = pickle.load(file)   "
   ]
  },
  {
   "cell_type": "markdown",
   "metadata": {},
   "source": [
    "## `Overview`"
   ]
  },
  {
   "cell_type": "code",
   "execution_count": null,
   "metadata": {},
   "outputs": [],
   "source": [
    "#subject_data = subject_data[:200]\n",
    "subject_data"
   ]
  },
  {
   "cell_type": "code",
   "execution_count": null,
   "metadata": {},
   "outputs": [],
   "source": [
    "subject_data = subject_data.iloc[:100]"
   ]
  },
  {
   "cell_type": "markdown",
   "metadata": {},
   "source": [
    "# 2- `Operation`"
   ]
  },
  {
   "cell_type": "markdown",
   "metadata": {},
   "source": [
    "### 1-) `Context Construction`"
   ]
  },
  {
   "cell_type": "code",
   "execution_count": null,
   "metadata": {},
   "outputs": [],
   "source": [
    "texts = subject_data['Cell_Type'] + \" \" + subject_data['Gene_Marker']\n",
    "texts"
   ]
  },
  {
   "cell_type": "markdown",
   "metadata": {},
   "source": [
    "### 2-) `Transformer Selection`"
   ]
  },
  {
   "cell_type": "code",
   "execution_count": null,
   "metadata": {},
   "outputs": [],
   "source": [
    "# Step 1: Load pre-trained model tokenizer\n",
    "tokenizer = BertTokenizer.from_pretrained('bert-base-uncased')\n",
    "# Step 2: Tokenization \n",
    "tokenized = texts.apply(lambda x: tokenizer(x, padding='max_length', truncation=True, max_length=512, return_tensors=\"pt\")) \n",
    "# Step 3: Model Selection  \n",
    "model = BertModel.from_pretrained('bert-base-uncased')"
   ]
  },
  {
   "cell_type": "markdown",
   "metadata": {},
   "source": [
    "### 3-) `Tokenization`"
   ]
  },
  {
   "cell_type": "code",
   "execution_count": null,
   "metadata": {},
   "outputs": [],
   "source": [
    "\n",
    "batch_size = 32\n",
    "Combined_Text_Embeddings = []\n",
    "\n",
    "# Assuming model is already loaded and set to evaluation mode with model.eval()\n",
    "\n",
    "for i in tqdm(range(0, len(tokenized), batch_size)):\n",
    "    # Here, make sure you're extracting batches correctly\n",
    "    batch = tokenized[i:i+batch_size]\n",
    "    \n",
    "    # Now, prepare your inputs. This assumes each entry in `batch` is a dictionary\n",
    "    # returned by the tokenizer corresponding to a single example.\n",
    "    batch_input_ids = torch.stack([item['input_ids'] for item in batch])\n",
    "    batch_attention_mask = torch.stack([item['attention_mask'] for item in batch])\n",
    "    \n",
    "    # Ensure dimensions are correct: [batch_size, sequence_length]\n",
    "    # If you encounter an error here, check the structure and content of `batch`\n",
    "    inputs = {\n",
    "        'input_ids': batch_input_ids.squeeze(),  # Remove any extra dimensions\n",
    "        'attention_mask': batch_attention_mask.squeeze()  # Remove any extra dimensions\n",
    "    }\n",
    "    \n",
    "    with torch.no_grad():\n",
    "        outputs = model(**inputs)\n",
    "        batch_embeddings = outputs.pooler_output\n",
    "        Combined_Text_Embeddings.append(batch_embeddings)\n",
    "\n",
    "# Combine embeddings from all batches\n",
    "Embeddings_BERT = torch.cat(Combined_Text_Embeddings, dim=0)\n",
    "\n",
    "#Embeddings_BERT = 1 "
   ]
  },
  {
   "cell_type": "code",
   "execution_count": null,
   "metadata": {},
   "outputs": [],
   "source": [
    "Embeddings_BERT.shape"
   ]
  },
  {
   "cell_type": "code",
   "execution_count": null,
   "metadata": {},
   "outputs": [],
   "source": [
    "len(data_full[\"Embeddings\"].iloc[0]) "
   ]
  },
  {
   "cell_type": "markdown",
   "metadata": {},
   "source": [
    "### 4-) `Main Data Creation`"
   ]
  },
  {
   "cell_type": "code",
   "execution_count": null,
   "metadata": {},
   "outputs": [],
   "source": [
    "# Step 1 \n",
    "data_full = subject_data.copy() \n",
    "# Step 2: \n",
    "#data_full[\"Cell_Type_Embeddings\"] = Embeddings_BERT  \n",
    "data_full[\"Embeddings\"] = [embedding.tolist() for embedding in Embeddings_BERT]"
   ]
  },
  {
   "cell_type": "code",
   "execution_count": null,
   "metadata": {},
   "outputs": [],
   "source": [
    "#embeddings_list = data_full[\"Cell_Type_Embeddings\"].tolist()  # Get the column as a list of lists\n",
    "#embeddings_tensor = torch.tensor(embeddings_list)             # Convert to a tensor "
   ]
  },
  {
   "cell_type": "markdown",
   "metadata": {},
   "source": [
    "# 3- `End`"
   ]
  },
  {
   "cell_type": "code",
   "execution_count": null,
   "metadata": {},
   "outputs": [],
   "source": [
    "export_name = \"data_full\" \n",
    "with open(os.path.join(access_data_path(f\"{process_barcode}/data/{folder_text}\", f\"{export_name}\" + \".pkl\"))  , 'wb') as file: \n",
    "    pickle.dump(data_full, file)   "
   ]
  }
 ],
 "metadata": {
  "kernelspec": {
   "display_name": "bilimlan",
   "language": "python",
   "name": "python3"
  },
  "language_info": {
   "codemirror_mode": {
    "name": "ipython",
    "version": 3
   },
   "file_extension": ".py",
   "mimetype": "text/x-python",
   "name": "python",
   "nbconvert_exporter": "python",
   "pygments_lexer": "ipython3",
   "version": "3.12.3"
  }
 },
 "nbformat": 4,
 "nbformat_minor": 2
}
