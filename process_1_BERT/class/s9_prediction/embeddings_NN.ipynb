{
 "cells": [
  {
   "cell_type": "code",
   "execution_count": null,
   "metadata": {},
   "outputs": [],
   "source": [
    "from sklearn.preprocessing import LabelEncoder\n",
    "from tensorflow.keras.utils import to_categorical\n",
    "\n",
    "encoder = LabelEncoder()\n",
    "cell_types_encoded = encoder.fit_transform(cell_types)\n",
    "cell_types_categorical = to_categorical(cell_types_encoded)\n"
   ]
  },
  {
   "cell_type": "code",
   "execution_count": null,
   "metadata": {},
   "outputs": [],
   "source": [
    "from sklearn.model_selection import KFold\n",
    "import numpy as np\n",
    "\n",
    "n_splits = 5\n",
    "kf = KFold(n_splits=n_splits, shuffle=True, random_state=42)\n",
    "scores = []\n"
   ]
  },
  {
   "cell_type": "code",
   "execution_count": null,
   "metadata": {},
   "outputs": [],
   "source": [
    "from tensorflow.keras.models import Model\n",
    "from tensorflow.keras.layers import Input, Dense, GaussianNoise, Dropout, Concatenate\n",
    "\n",
    "emb_p0 = {\"GaussianNoise\": 0.1}\n",
    "emb_p1 = {\"Dense\": 256}\n",
    "emb_p2 = {\"Dropout\": 0.3}\n",
    "emb_p3 = {\"Dense\": 128} \n"
   ]
  },
  {
   "cell_type": "code",
   "execution_count": null,
   "metadata": {},
   "outputs": [],
   "source": [
    "compliers = {\"optimizer\": \"adam\", \"loss\": \"categorical_crossentropy\", \"metrics\": [\"accuracy\"]}\n"
   ]
  },
  {
   "cell_type": "code",
   "execution_count": null,
   "metadata": {},
   "outputs": [],
   "source": [
    "for fold, (train_index, test_index) in enumerate(kf.split(embeddings), start=1):\n",
    "    # Split data into training and testing sets for this fold\n",
    "    X_train_emb, X_test_emb = embeddings[train_index], embeddings[test_index]\n",
    "    y_train, y_test = cell_types_categorical[train_index], cell_types_categorical[test_index]\n",
    "\n",
    "    # Define model inputs\n",
    "    input_emb = Input(shape=(X_train_emb.shape[1],), name='input_emb')\n",
    "\n",
    "    # Build pathway for embedding inputs\n",
    "    noisy_emb = GaussianNoise(emb_p0[\"GaussianNoise\"])(input_emb)\n",
    "    pathway_emb = Dense(emb_p1[\"Dense\"], activation='relu')(noisy_emb)\n",
    "    pathway_emb = Dropout(emb_p2[\"Dropout\"])(pathway_emb)\n",
    "    pathway_emb = Dense(emb_p3[\"Dense\"], activation='relu')(pathway_emb)\n",
    "    \n",
    "    # Define output layer\n",
    "    output = Dense(cell_types_categorical.shape[1], activation='softmax')(pathway_emb)\n",
    "\n",
    "    # Compile model\n",
    "    model = Model(inputs=input_emb, outputs=output)\n",
    "    model.compile(optimizer=compliers['optimizer'], loss=compliers['loss'], metrics=compliers['metrics'])\n",
    "\n",
    "    if fold == 1:\n",
    "        # Only print the model summary for the first fold\n",
    "        model.summary()\n",
    "\n",
    "    print(f\"\\nTraining on fold {fold}...\")\n",
    "    model.fit(X_train_emb, y_train, validation_split=0.2, epochs=30, batch_size=32, verbose=1)\n",
    "\n",
    "    # Step 4: Evaluate the model\n",
    "    loss, accuracy = model.evaluate(X_test_emb, y_test, verbose=1)\n",
    "    print(f\"Fold {fold} Test Accuracy: {accuracy}\\n\")\n",
    "    scores.append(accuracy)\n"
   ]
  },
  {
   "cell_type": "code",
   "execution_count": null,
   "metadata": {},
   "outputs": [],
   "source": [
    "average_score = np.mean(scores)\n",
    "print(f\"\\nAverage Test Accuracy across {n_splits} folds: {average_score}\")\n"
   ]
  },
  {
   "cell_type": "code",
   "execution_count": null,
   "metadata": {},
   "outputs": [],
   "source": [
    "nn_configurations = {\n",
    "    \"emb_path\": {\n",
    "        \"emb_p0\": {\"GaussianNoise\": 0.1},\n",
    "        \"emb_p1\": {\"Dense\": 256, \"activation\": \"relu\"},\n",
    "        \"emb_p2\": {\"Dropout\": 0.3},\n",
    "        \"emb_p3\": {\"Dense\": 128, \"activation\": \"relu\"}\n",
    "    },\n",
    "    \"compliers\": {\n",
    "        \"optimizer\": \"adam\", \n",
    "        \"loss\": \"categorical_crossentropy\", \n",
    "        \"metrics\": [\"accuracy\"]\n",
    "    }\n",
    "}\n",
    "\n",
    "def config_to_str(config_dict):\n",
    "    config_str_list = []\n",
    "    for path, configs in config_dict.items():\n",
    "        for key, value in configs.items():\n",
    "            config_str_list.append(f\"{key}: {value}\")\n",
    "    return ', '.join(config_str_list)\n",
    "\n",
    "config_str = config_to_str(nn_configurations)\n"
   ]
  },
  {
   "cell_type": "code",
   "execution_count": null,
   "metadata": {},
   "outputs": [],
   "source": [
    "from sklearn.metrics import classification_report, precision_score, recall_score, f1_score\n",
    "\n",
    "predictions = model.predict(X_test_emb)\n",
    "y_pred = np.argmax(predictions, axis=1)\n",
    "y_true = np.argmax(y_test, axis=1)\n",
    "\n",
    "report = classification_report(y_true, y_pred, output_dict=True)\n",
    "statistics_NeNe = pd.DataFrame(report).transpose()\n"
   ]
  },
  {
   "cell_type": "code",
   "execution_count": null,
   "metadata": {},
   "outputs": [],
   "source": [
    "applications_label = f\"{subject_outlier}_{subject_autoencoder}_{subject_normalization}_{subject_dimension}\"\n",
    "model_label = f\"{subject_outlier}_{subject_autoencoder}_{subject_normalization}_{subject_dimension}\"\n",
    "\n",
    "statistics_NeNe['Parameters'] = config_str\n",
    "statistics_NeNe['Applications'] = model_label\n",
    "statistics_NeNe['Applications_Condition'] = f\"{subject_label}_NeNe\"\n"
   ]
  },
  {
   "cell_type": "code",
   "execution_count": null,
   "metadata": {},
   "outputs": [],
   "source": [
    "statistics_NeNe_DF = pd.DataFrame({\n",
    "    \"Applications\": [applications_label],\n",
    "    \"Applications_Condition\": [f\"{subject_label}\"],\n",
    "    \"Model\": [\"NeNe\"],\n",
    "\n",
    "\n",
    "    \"Parameters\": [config_str],\n",
    "    \"Accuracy\": [average_score],\n",
    "    \"Precision\": [precision_score(y_true, y_pred, average='weighted', zero_division=0)],\n",
    "    \"Recall\": [recall_score(y_true, y_pred, average='weighted', zero_division=0)],\n",
    "    \"F1\": [f1_score(y_true, y_pred, average='weighted', zero_division=0)]\n",
    "})\n"
   ]
  },
  {
   "cell_type": "code",
   "execution_count": null,
   "metadata": {},
   "outputs": [],
   "source": [
    "Subject_Process_Dict = {\n",
    "    \"Model\": model,\n",
    "    \"Predictions\": y_pred,\n",
    "    \"Statistics\": statistics_NeNe,\n",
    "    \"Statistics_DF\": statistics_NeNe_DF\n",
    "}\n",
    "\n",
    "print(\"operationnn.ipynb has finished\")\n"
   ]
  }
 ],
 "metadata": {
  "language_info": {
   "name": "python"
  }
 },
 "nbformat": 4,
 "nbformat_minor": 2
}
