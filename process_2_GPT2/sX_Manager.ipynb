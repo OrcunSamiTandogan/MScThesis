{
 "cells": [
  {
   "cell_type": "code",
   "execution_count": null,
   "metadata": {},
   "outputs": [],
   "source": [
    "manager = 1 "
   ]
  },
  {
   "cell_type": "markdown",
   "metadata": {},
   "source": [
    "# Combinations "
   ]
  },
  {
   "cell_type": "code",
   "execution_count": null,
   "metadata": {},
   "outputs": [],
   "source": [
    "from itertools import product    "
   ]
  },
  {
   "cell_type": "code",
   "execution_count": null,
   "metadata": {},
   "outputs": [],
   "source": [
    "# Outlier\n",
    "options_embeddings_outlier = [\"Free_v0\",\n",
    "                   #\"ZScore_v0\",\n",
    "                   \"ZScore_v1\",\n",
    "                   #\"ISO_v0\",\n",
    "                   \"ISO_v1\",\n",
    "                   #\"LOF_v0\",\n",
    "                   \"LOF_v1\", \n",
    "                   ] \n",
    "options_expression_outlier = [\"Free_v0\",\n",
    "                   #\"ZScore_v0\",\"ZScore_v1\",\n",
    "                   #\"ISO_v0\",\"ISO_v1\",\n",
    "                   #\"LOF_v0\",\"LOF_v1\", \n",
    "                   ] "
   ]
  },
  {
   "cell_type": "code",
   "execution_count": null,
   "metadata": {},
   "outputs": [],
   "source": [
    "#options_embeddings_normalizer = [ \"Free\", \"StandardScaler\", \"MinMaxScaler\", \"RobustScaler\", \"MaxAbsScaler\"   ] \n",
    "options_embeddings_normalizer = [ #\"Free\", \n",
    "                                 \"StandardScaler\"\n",
    "                                 ] \n",
    "options_expression_normalizer = [ #\"Free\", \n",
    "                                 \"StandardScaler\"\n",
    "                                 ]  "
   ]
  },
  {
   "cell_type": "code",
   "execution_count": null,
   "metadata": {},
   "outputs": [],
   "source": [
    "# Autoencoder\n",
    "options_embeddings_autoencoder = [  \"Free_v0\",\n",
    "                                 ]\n",
    "\n",
    "options_expression_autoencoder = [ \"Free_v0\", \"Denoising_v0\"]"
   ]
  },
  {
   "cell_type": "code",
   "execution_count": null,
   "metadata": {},
   "outputs": [],
   "source": [
    "options_embdedings_combinations = list(product(options_embeddings_outlier, options_embeddings_normalizer)) \n",
    "options_expression_combinations = list(product(options_expression_outlier, options_expression_normalizer))   \n",
    "\n",
    "print(\"Lenght of combinations: \", len(options_embdedings_combinations)) \n",
    "print(\"Lenght of combinations: \", len(options_expression_combinations))\n"
   ]
  },
  {
   "cell_type": "markdown",
   "metadata": {},
   "source": [
    "# `Process`"
   ]
  },
  {
   "cell_type": "markdown",
   "metadata": {},
   "source": [
    "## 0-) `Step 0: Config`"
   ]
  },
  {
   "cell_type": "code",
   "execution_count": null,
   "metadata": {},
   "outputs": [],
   "source": [
    "%run s0_config.ipynb "
   ]
  },
  {
   "cell_type": "markdown",
   "metadata": {},
   "source": [
    "## 1-) `Step 1: Setup`"
   ]
  },
  {
   "cell_type": "code",
   "execution_count": null,
   "metadata": {},
   "outputs": [],
   "source": [
    "%run s1_setup.ipynb "
   ]
  },
  {
   "cell_type": "markdown",
   "metadata": {},
   "source": [
    "## 2-) `Step 2: Text`"
   ]
  },
  {
   "cell_type": "code",
   "execution_count": null,
   "metadata": {},
   "outputs": [],
   "source": [
    "#%run s2_text.ipynb "
   ]
  },
  {
   "cell_type": "markdown",
   "metadata": {},
   "source": [
    "## 3-) `Step 3: Load`"
   ]
  },
  {
   "cell_type": "code",
   "execution_count": null,
   "metadata": {},
   "outputs": [],
   "source": [
    "# 1: data_1_full\n",
    "# 2: data_2_full\n",
    "# 3: data_full \n",
    "\n",
    "selection = 1\n",
    "\n",
    "%run s3_load.ipynb \n"
   ]
  },
  {
   "cell_type": "markdown",
   "metadata": {},
   "source": [
    "# X-) `Step Combinations:`\n",
    "- 4-) Step 4: Outlier\n",
    "- 5-) Step 5: Autoencoder\n",
    "- 6-) Step 6: Dimension \n",
    "- 7-) Step 7: Prediction\n",
    "- 8-) Step 8: Total "
   ]
  },
  {
   "cell_type": "code",
   "execution_count": null,
   "metadata": {},
   "outputs": [],
   "source": [
    "subject_normalization_0 = \"Free_v0\"\n",
    "subject_normalization_1 = \"Free_v0\"\n",
    "\n",
    "subject_dimension_0 = \"Free_v0\"\n",
    "subject_dimension_1 = \"Free_v0\""
   ]
  },
  {
   "cell_type": "code",
   "execution_count": null,
   "metadata": {},
   "outputs": [],
   "source": [
    "options_embeddings_outlier      = [ \"Free_v0\", \"ZScore_v0\", \"ISO_v0\",\"LOF_v0\", \"ZScore_v1\", \"ISO_v1\",\"LOF_v1\", ]  \n",
    "options_expression_outlier      = [ \"Free_v0\"] \n",
    "\n",
    "options_embeddings_normalizer   = [ \"StandardScaler\",] \n",
    "options_expression_normalizer   = [ \"StandardScaler\",] \n",
    "\n",
    "forced_options_model_types  = [ \"Free_v0\", \"Autoencoder_v1\", \"Autoencoder_v2\", \"Autoencoder_v3\", \"Autoencoder_v4\", \"Autoencoder_v5\", \n",
    "                                \"BasicAutoencoder_v0\", \"DeepAutoencoder_v0\", \"SparseAutoencoder_v0\"]\n",
    "\n",
    "#forced_options_model_types      = [ \"Free_v0\"]\n",
    "\n",
    "options_expression_autoencoder  = [ \"Free_v0\"] \n",
    "\n",
    "\n",
    "options_embdedings_combinations = list(product(options_embeddings_outlier, forced_options_model_types)) \n",
    "options_expression_combinations = list(product(options_expression_outlier, options_expression_autoencoder)) \n"
   ]
  },
  {
   "cell_type": "code",
   "execution_count": null,
   "metadata": {},
   "outputs": [],
   "source": [
    "total_combinations = 0\n",
    "for subject_outlier_0, subject_autoencoder_0  in options_embdedings_combinations:\n",
    "    for subject_outlier_1, subject_autoencoder_1 in options_expression_combinations:\n",
    "        print(subject_outlier_0, subject_autoencoder_0, subject_outlier_1, subject_autoencoder_1)\n",
    "        total_combinations += 1  \n",
    "total_combinations"
   ]
  },
  {
   "cell_type": "code",
   "execution_count": null,
   "metadata": {},
   "outputs": [],
   "source": [
    "subject_normalization_0 = options_embeddings_normalizer[0]\n",
    "subject_normalization_1 = options_expression_normalizer[0]\n",
    "\n",
    "subject_dimension_0 = \"Free_v0\" \n",
    "subject_dimension_1 = \"Free_v0\" "
   ]
  },
  {
   "cell_type": "code",
   "execution_count": null,
   "metadata": {},
   "outputs": [],
   "source": [
    "for subject_outlier_0, subject_autoencoder_0  in options_embdedings_combinations:\n",
    "    print(\"-\"*100)\n",
    "    print(\"-\"*100)\n",
    "    print(\"-\"*100)\n",
    "    print(subject_outlier_0, subject_autoencoder_0)\n",
    "    for subject_outlier_1, subject_autoencoder_1 in options_expression_combinations:\n",
    "        print(\"*\"*100)\n",
    "        print(\"-\"*100)\n",
    "        print(\"*\"*100)\n",
    "        print(subject_outlier_1, subject_autoencoder_1) \n",
    "        forced_options_model_types = [subject_autoencoder_0]  \n",
    "        %run s4_outlier.ipynb \n",
    "        %run s5_normalization.ipynb \n",
    "        %run s6_autoencoder.ipynb \n",
    "        %run s7_dimension.ipynb \n",
    "        %run s8_preparation.ipynb \n",
    "        %run s9_prediction.ipynb \n",
    "        %run s10_total.ipynb \n",
    "        \n"
   ]
  },
  {
   "cell_type": "markdown",
   "metadata": {},
   "source": [
    "# R-) `Results`"
   ]
  },
  {
   "cell_type": "code",
   "execution_count": null,
   "metadata": {},
   "outputs": [],
   "source": [
    "NN_Total"
   ]
  },
  {
   "cell_type": "code",
   "execution_count": null,
   "metadata": {},
   "outputs": [],
   "source": [
    "print(f\"Length: {len(subject_data_full)}\")\n",
    "Cell_Type   = subject_data_full[\"Cell_Type\"] \n",
    "Gene_Marker = subject_data_full[\"Gene_Marker\"] \n",
    "print(f\"Unique Cell Types: {Cell_Type.nunique()}\")\n",
    "print(f\"Unique Gene Markers: {Gene_Marker.nunique()}\")\n",
    "\n",
    "print(\"--------------------\")\n",
    "print(f\"Subject Outlier 0 (Embedding): {subject_outlier_0}\")\n",
    "print(f\"Subject Outlier 1 (Expression): {subject_outlier_1}\")\n",
    "subject_outlier = subject_outlier_0 + \"_\" + subject_outlier_1 \n",
    "print(\"Subject_Outlier:\", subject_outlier)\n",
    "\n",
    "print(f\"Subject normalization 0 (Embedding): {subject_normalization_0}\")\n",
    "print(f\"Subject normalization 1 (Expression): {subject_normalization_1}\")\n",
    "subject_normalization = subject_normalization_0 + \"_\" + subject_normalization_1 \n",
    "\n",
    "print(f\"Subject Autoencoder 0 (Embedding): {subject_autoencoder_0}\")\n",
    "print(f\"Subject Autoencoder 1 (Expression): {subject_autoencoder_1}\")\n",
    "subject_autoencoder = subject_autoencoder_0 + \"_\" + subject_autoencoder_1 \n",
    "\n",
    "print(f\"Subject Dimension Reduction 0 (Embedding): {subject_dimension_0}\") \n",
    "print(f\"Subject Dimension Reduction 1 (Expression): {subject_dimension_1}\") \n",
    "subject_dimension = subject_dimension_0 + \"_\" + subject_dimension_1 \n",
    "\n",
    "print(\"--------------------\") \n",
    "pd.concat([subject_data_full.head(5), subject_data_full.tail(5)])    "
   ]
  },
  {
   "cell_type": "code",
   "execution_count": null,
   "metadata": {},
   "outputs": [],
   "source": [
    "subject_data_full.head(3)"
   ]
  },
  {
   "cell_type": "code",
   "execution_count": null,
   "metadata": {},
   "outputs": [],
   "source": [
    "%run s10_total.ipynb "
   ]
  },
  {
   "cell_type": "code",
   "execution_count": null,
   "metadata": {},
   "outputs": [],
   "source": [
    "All_Data"
   ]
  }
 ],
 "metadata": {
  "kernelspec": {
   "display_name": "Python 3",
   "language": "python",
   "name": "python3"
  },
  "language_info": {
   "codemirror_mode": {
    "name": "ipython",
    "version": 3
   },
   "file_extension": ".py",
   "mimetype": "text/x-python",
   "name": "python",
   "nbconvert_exporter": "python",
   "pygments_lexer": "ipython3",
   "version": "3.12.3"
  }
 },
 "nbformat": 4,
 "nbformat_minor": 2
}
