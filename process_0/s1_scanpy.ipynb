{
 "cells": [
  {
   "cell_type": "markdown",
   "metadata": {},
   "source": [
    "# `Step: 0: Config`\n",
    "- 1-) Activate compherensive config file "
   ]
  },
  {
   "cell_type": "code",
   "execution_count": null,
   "metadata": {},
   "outputs": [],
   "source": [
    "try: \n",
    "    if manager == 1: \n",
    "        print(\"Manager Mode: ON\")\n",
    "except:\n",
    "    print(\"Manager Mode: OFF\")\n",
    "    %run s0_config.ipynb \n",
    "    import scanpy as sc "
   ]
  },
  {
   "cell_type": "markdown",
   "metadata": {},
   "source": [
    "# `Step: 1: Load`\n",
    "- 1-) Read Data  "
   ]
  },
  {
   "cell_type": "markdown",
   "metadata": {},
   "source": [
    "## 1-) `Read` "
   ]
  },
  {
   "cell_type": "markdown",
   "metadata": {},
   "source": [
    "#### Operation "
   ]
  },
  {
   "cell_type": "code",
   "execution_count": null,
   "metadata": {},
   "outputs": [],
   "source": [
    "access_data_path(\"process_0/data\", \"blood_atlas_of_COVID.h5ad\")"
   ]
  },
  {
   "cell_type": "code",
   "execution_count": null,
   "metadata": {},
   "outputs": [],
   "source": [
    "point_start()\n",
    "\n",
    "#%memit adata = sc.read_h5ad(import_data_path, chunk_size=1000) \n",
    "%memit adata = sc.read(access_data_path(\"process_0/data\", \"blood_atlas_of_COVID.h5ad\")) \n",
    "adata.var_names_make_unique()  # this is unnecessary if using `var_names='gene_ids'` in `sc.read_10x_mtx` \n",
    "\n",
    "point_end() "
   ]
  },
  {
   "cell_type": "code",
   "execution_count": null,
   "metadata": {},
   "outputs": [],
   "source": [
    "import numpy as np\n",
    "\n",
    "np.random.seed(0)\n",
    "\n",
    "def downsample(group, n_samples=10000):\n",
    "    if len(group) > n_samples:\n",
    "        return group.sample(n_samples)\n",
    "    return group\n",
    "\n",
    "adata = adata[adata.obs['cell_type'].groupby(adata.obs['cell_type']).apply(\n",
    "    lambda x: downsample(x)).index.get_level_values(1)] "
   ]
  },
  {
   "cell_type": "code",
   "execution_count": null,
   "metadata": {},
   "outputs": [],
   "source": [
    "#adata.write(check_point_s1) "
   ]
  },
  {
   "cell_type": "markdown",
   "metadata": {},
   "source": [
    "## 2-) `Pipeline Management`"
   ]
  },
  {
   "cell_type": "code",
   "execution_count": null,
   "metadata": {},
   "outputs": [],
   "source": [
    "# `Step 2: Preprocessing`\n",
    "pipeline_Highly_Expressed_Genes = True \n",
    "pipeline_Basic_Filtering        = True \n",
    "pipeline_MT_Metrics             = True \n",
    "pipeline_doublet_detection      = True\n",
    "pipeline_Outlier                = True \n",
    "pipeline_Normalization          = True \n",
    "pipeline_Log_Transformation     = True \n",
    "pipeline_Highly_variable_genes  = True \n",
    "pipeline_Regress_Out            = True \n",
    "pipeline_Scaling                = True "
   ]
  },
  {
   "cell_type": "markdown",
   "metadata": {},
   "source": [
    "## 3-) `Overview`"
   ]
  },
  {
   "cell_type": "code",
   "execution_count": null,
   "metadata": {},
   "outputs": [],
   "source": [
    "adata.raw"
   ]
  },
  {
   "cell_type": "code",
   "execution_count": null,
   "metadata": {},
   "outputs": [],
   "source": [
    "adata "
   ]
  },
  {
   "cell_type": "code",
   "execution_count": null,
   "metadata": {},
   "outputs": [],
   "source": [
    "adata.obs.T"
   ]
  },
  {
   "cell_type": "markdown",
   "metadata": {},
   "source": [
    "---\n",
    "## 4-) `EDA`"
   ]
  },
  {
   "cell_type": "code",
   "execution_count": null,
   "metadata": {},
   "outputs": [],
   "source": [
    "\"\"\"\n",
    "try: \n",
    "    if manager == 1: \n",
    "        print(\"Manager Mode: ON\")\n",
    "except:\n",
    "    print(\"Manager Mode: OFF\")\n",
    "    %run s0_config.ipynb \n",
    "\n",
    "adata = sc.read(check_point_s1)    \n",
    "\"\"\""
   ]
  },
  {
   "cell_type": "code",
   "execution_count": null,
   "metadata": {},
   "outputs": [],
   "source": [
    "adata "
   ]
  },
  {
   "cell_type": "code",
   "execution_count": null,
   "metadata": {},
   "outputs": [],
   "source": [
    "adata.obs[\"cell_type\"].value_counts() "
   ]
  },
  {
   "cell_type": "code",
   "execution_count": null,
   "metadata": {},
   "outputs": [],
   "source": [
    "print(\"Number of unique cell types: \", len(adata.obs[\"cell_type\"].value_counts())) "
   ]
  },
  {
   "cell_type": "code",
   "execution_count": null,
   "metadata": {},
   "outputs": [],
   "source": [
    "adata.obs[\"disease\"].value_counts() "
   ]
  },
  {
   "cell_type": "code",
   "execution_count": null,
   "metadata": {},
   "outputs": [],
   "source": [
    "adata.obs[\"tissue\"].value_counts() "
   ]
  },
  {
   "cell_type": "code",
   "execution_count": null,
   "metadata": {},
   "outputs": [],
   "source": [
    "adata.obs[\"organism\"].value_counts() "
   ]
  },
  {
   "cell_type": "code",
   "execution_count": null,
   "metadata": {},
   "outputs": [],
   "source": [
    "adata.obs[\"sex\"].value_counts() "
   ]
  },
  {
   "cell_type": "code",
   "execution_count": null,
   "metadata": {},
   "outputs": [],
   "source": [
    "adata.obs[\"development_stage\"].value_counts() "
   ]
  },
  {
   "cell_type": "code",
   "execution_count": null,
   "metadata": {},
   "outputs": [],
   "source": [
    "subject_disease_status     = \"mixed\"\n",
    "subject_tissue_status      = \"blood\"\n",
    "subject_organism_status    = \"Homo sapiens\"\n",
    "subject_sex_status         = \"mixed\"\n",
    "subject_development_status = \"7-year-old human stage\""
   ]
  },
  {
   "cell_type": "code",
   "execution_count": null,
   "metadata": {},
   "outputs": [],
   "source": [
    "adata.obs[\"disease\"].value_counts() "
   ]
  },
  {
   "cell_type": "code",
   "execution_count": null,
   "metadata": {},
   "outputs": [],
   "source": [
    "#adata = adata[adata.obs['disease'] == subject_disease_status]\n",
    "print(len(adata))  "
   ]
  },
  {
   "cell_type": "code",
   "execution_count": null,
   "metadata": {},
   "outputs": [],
   "source": [
    "adata.obs[\"tissue\"].value_counts() "
   ]
  },
  {
   "cell_type": "code",
   "execution_count": null,
   "metadata": {},
   "outputs": [],
   "source": [
    "#adata = adata[adata.obs['tissue'] == subject_tissue_status]\n",
    "\n",
    "print(len(adata))  "
   ]
  },
  {
   "cell_type": "code",
   "execution_count": null,
   "metadata": {},
   "outputs": [],
   "source": [
    "adata.obs[\"organism\"].value_counts() "
   ]
  },
  {
   "cell_type": "code",
   "execution_count": null,
   "metadata": {},
   "outputs": [],
   "source": [
    "#adata = adata[adata.obs['organism'] == subject_organism_status]\n",
    "print(len(adata))  "
   ]
  },
  {
   "cell_type": "code",
   "execution_count": null,
   "metadata": {},
   "outputs": [],
   "source": [
    "adata.obs[\"sex\"].value_counts() "
   ]
  },
  {
   "cell_type": "code",
   "execution_count": null,
   "metadata": {},
   "outputs": [],
   "source": [
    "#adata = adata[adata.obs['sex'] == subject_sex_status]\n",
    "print(len(adata))  "
   ]
  },
  {
   "cell_type": "code",
   "execution_count": null,
   "metadata": {},
   "outputs": [],
   "source": [
    "adata.obs[\"development_stage\"].value_counts() "
   ]
  },
  {
   "cell_type": "code",
   "execution_count": null,
   "metadata": {},
   "outputs": [],
   "source": [
    "#adata = adata[adata.obs['development_stage'] != \"1-year-old human stage\"].copy() \n",
    "#adata = adata[adata.obs['development_stage'] != \"2-year-old human stage\"].copy() \n",
    "#adata = adata[adata.obs['development_stage'] != \"3-year-old human stage\"].copy() \n",
    "#adata = adata[adata.obs['development_stage'] != \"4-year-old human stage\"].copy() \n",
    "#adata = adata[adata.obs['development_stage'] != \"5-year-old human stage\"].copy() \n",
    "#adata = adata[adata.obs['development_stage'] != \"6-year-old human stage\"].copy() \n",
    "#adata = adata[(adata.obs['development_stage'] == \"6-year-old human stage\") | (adata.obs['development_stage'] == \"7-year-old human stage\")].copy() \n",
    "adata = adata[adata.obs['development_stage'] == \"7-year-old human stage\"].copy() \n",
    "#adata = adata[adata.obs['development_stage'] != \"8-year-old human stage\"].copy() \n",
    "#adata = adata[adata.obs['development_stage'] != \"9-year-old human stage\"].copy() \n",
    "print(len(adata))  "
   ]
  },
  {
   "cell_type": "code",
   "execution_count": null,
   "metadata": {},
   "outputs": [],
   "source": [
    "#adata = adata[adata.obs['disease'] == \"normal\"].copy()   "
   ]
  },
  {
   "cell_type": "code",
   "execution_count": null,
   "metadata": {},
   "outputs": [],
   "source": [
    "adata"
   ]
  },
  {
   "cell_type": "code",
   "execution_count": null,
   "metadata": {},
   "outputs": [],
   "source": [
    "adata.obs['cell_type'].value_counts() "
   ]
  },
  {
   "cell_type": "markdown",
   "metadata": {},
   "source": [
    "----\n",
    "# Fixing the Gene Marker Labelling"
   ]
  },
  {
   "cell_type": "code",
   "execution_count": null,
   "metadata": {},
   "outputs": [],
   "source": [
    "print(adata.var_names[:10],adata.var_names[100:110],adata.var_names[10:]) "
   ]
  },
  {
   "cell_type": "code",
   "execution_count": null,
   "metadata": {},
   "outputs": [],
   "source": [
    "# Load the data\n",
    "true_data = access_data_path(\"process_0/data\", \"rna_single_cell_type.tsv\")\n",
    "ensembl_to_symbol = pd.read_csv(true_data, sep='\\t')\n",
    "\n",
    "# Process the mapping file\n",
    "unique_ensembl_to_symbol = ensembl_to_symbol[['Gene', 'Gene name']].drop_duplicates('Gene')\n",
    "unique_ensembl_to_symbol['Gene'] = unique_ensembl_to_symbol['Gene'].str.strip()\n",
    "unique_ensembl_to_symbol['Gene name'] = unique_ensembl_to_symbol['Gene name'].str.strip()\n",
    "unique_ensembl_to_symbol.set_index('Gene', inplace=True)\n",
    "unique_ensembl_to_symbol_DF = unique_ensembl_to_symbol.reset_index()\n",
    "unique_ensembl_to_symbol_DF.columns = [\"ensembl_id\", \"gene_symbol\"]\n",
    "\n",
    "# Create the mapping dictionary\n",
    "ensembl_to_symbol_map = unique_ensembl_to_symbol_DF.set_index('ensembl_id')['gene_symbol'].to_dict()\n"
   ]
  },
  {
   "cell_type": "code",
   "execution_count": null,
   "metadata": {},
   "outputs": [],
   "source": [
    "ensembl_to_symbol = pd.read_csv(true_data, sep='\\t')\n",
    "ensembl_to_symbol "
   ]
  },
  {
   "cell_type": "code",
   "execution_count": null,
   "metadata": {},
   "outputs": [],
   "source": [
    "filtered_df = ensembl_to_symbol[~ensembl_to_symbol['Gene name'].str.startswith('ENSG')] \n",
    "len(pd.unique(filtered_df[\"Gene name\"]))"
   ]
  },
  {
   "cell_type": "code",
   "execution_count": null,
   "metadata": {},
   "outputs": [],
   "source": [
    "\n",
    "# Map Ensembl IDs to gene symbols\n",
    "gene_symbols = adata.var_names.map(ensembl_to_symbol_map)\n",
    "gene_symbols = pd.Series(gene_symbols, index=adata.var_names).fillna(pd.Series(adata.var_names, index=adata.var_names))\n",
    "\n",
    "# Update adata with the new gene symbols\n",
    "adata.var['gene_symbols'] = gene_symbols\n",
    "\n",
    "# Ensure there are no conflicts between the index and the new gene_symbols column\n",
    "if 'gene_symbols' in adata.var.columns:\n",
    "    adata.var.reset_index(inplace=True)  # Temporarily reset index to allow updating var_names\n",
    "    adata.var.set_index('gene_symbols', inplace=True)\n",
    "else:\n",
    "    adata.var_names = adata.var['gene_symbols']\n",
    "    adata.var_names_make_unique()"
   ]
  },
  {
   "cell_type": "code",
   "execution_count": null,
   "metadata": {},
   "outputs": [],
   "source": [
    "adata.var_names_make_unique() "
   ]
  },
  {
   "cell_type": "code",
   "execution_count": null,
   "metadata": {},
   "outputs": [],
   "source": [
    "print(np.array(gene_symbols)[:30] )"
   ]
  },
  {
   "cell_type": "code",
   "execution_count": null,
   "metadata": {},
   "outputs": [],
   "source": [
    "\n",
    "# Check the updated var_names\n",
    "print(adata.var_names[:10],adata.var_names[100:110],adata.var_names[10:])  "
   ]
  },
  {
   "cell_type": "markdown",
   "metadata": {},
   "source": [
    "## End\n",
    "---"
   ]
  },
  {
   "cell_type": "code",
   "execution_count": null,
   "metadata": {},
   "outputs": [],
   "source": [
    "true_label_column = \"cell_type\" "
   ]
  },
  {
   "cell_type": "code",
   "execution_count": null,
   "metadata": {},
   "outputs": [],
   "source": [
    "adata.var"
   ]
  },
  {
   "cell_type": "markdown",
   "metadata": {},
   "source": [
    "---\n",
    "# `Step 2: Preprocessing`\n",
    "- 1-) Highly Expressed Genes \n",
    "- 2-) Basic Filtering \n",
    "- 3-) MT Metrics\n",
    "- 4-) Outlier \n",
    "- 5-) Normalization  \n",
    "- 6-) Log Transformation  \n",
    "- 7-) Highly Variable Genes\n",
    "- 8-) Regress Out \n",
    "- 9-) Scaling "
   ]
  },
  {
   "cell_type": "markdown",
   "metadata": {},
   "source": [
    "## 1-) `Highly Expressed Genes`"
   ]
  },
  {
   "cell_type": "markdown",
   "metadata": {},
   "source": [
    "##### Result: | Scatter (pl)"
   ]
  },
  {
   "cell_type": "code",
   "execution_count": null,
   "metadata": {},
   "outputs": [],
   "source": [
    "if pipeline_Highly_Expressed_Genes == True:\n",
    "    %memit sc.pl.highest_expr_genes(adata, n_top=20)"
   ]
  },
  {
   "cell_type": "code",
   "execution_count": null,
   "metadata": {},
   "outputs": [],
   "source": [
    "adata.obs['cell_type'].value_counts() "
   ]
  },
  {
   "cell_type": "markdown",
   "metadata": {},
   "source": [
    "## 2-) `Basic Filtering` "
   ]
  },
  {
   "cell_type": "markdown",
   "metadata": {},
   "source": [
    "##### Operation: Calculate (pp)"
   ]
  },
  {
   "cell_type": "code",
   "execution_count": null,
   "metadata": {},
   "outputs": [],
   "source": [
    "adata"
   ]
  },
  {
   "cell_type": "code",
   "execution_count": null,
   "metadata": {},
   "outputs": [],
   "source": [
    "if pipeline_Basic_Filtering == True: \n",
    "    print(\"*\" * 20)\n",
    "    \n",
    "    # Filter cells with minimum number of genes\n",
    "    print(f\"Before: Minimum Genes: {adata.n_obs} cells, {adata.n_vars} genes\") \n",
    "    sc.pp.filter_cells(adata, min_genes=200)\n",
    "    print(f\"After: Minimum Genes: {adata.n_obs} cells, {adata.n_vars} genes\") \n",
    "    print(\"*\" * 20)\n",
    "    \n",
    "    # Filter cells with maximum number of genes\n",
    "    print(f\"Before: Maximum Genes: {adata.n_obs} cells, {adata.n_vars} genes\") \n",
    "    sc.pp.filter_cells(adata, max_genes=2500)\n",
    "    print(f\"After: Maximum Genes: {adata.n_obs} cells, {adata.n_vars} genes\") \n",
    "    print(\"*\" * 20)\n",
    "    \n",
    "    # Filter cells with minimum number of counts\n",
    "    print(f\"Before: Minimum Counts: {adata.n_obs} cells, {adata.n_vars} genes\") \n",
    "    sc.pp.filter_cells(adata, min_counts=500)\n",
    "    print(f\"After: Minimum Counts: {adata.n_obs} cells, {adata.n_vars} genes\") \n",
    "    print(\"*\" * 20)\n",
    "    \n",
    "    # Filter cells with maximum number of counts\n",
    "    print(f\"Before: Maximum Counts: {adata.n_obs} cells, {adata.n_vars} genes\") \n",
    "    sc.pp.filter_cells(adata, max_counts=25000)\n",
    "    print(f\"After: Maximum Counts: {adata.n_obs} cells, {adata.n_vars} genes\") \n",
    "    print(\"*\" * 20)\n",
    "    \n",
    "    # Filter genes expressed in fewer than a minimum number of cells\n",
    "    print(f\"Before: Minimum Cells per Gene: {adata.n_obs} cells, {adata.n_vars} genes\")    \n",
    "    sc.pp.filter_genes(adata, min_cells=3) \n",
    "    print(f\"After: Minimum Cells per Gene: {adata.n_obs} cells, {adata.n_vars} genes\")    \n",
    "    print(\"*\" * 20)\n",
    "    \n",
    "    # Filter genes expressed in more than a maximum number of cells\n",
    "    print(f\"Before: Maximum Cells per Gene: {adata.n_obs} cells, {adata.n_vars} genes\")    \n",
    "    sc.pp.filter_genes(adata, max_cells=adata.n_obs)\n",
    "    print(f\"After: Maximum Cells per Gene: {adata.n_obs} cells, {adata.n_vars} genes\")    \n",
    "    print(\"*\" * 20)\n"
   ]
  },
  {
   "cell_type": "code",
   "execution_count": null,
   "metadata": {},
   "outputs": [],
   "source": [
    "adata"
   ]
  },
  {
   "cell_type": "code",
   "execution_count": null,
   "metadata": {},
   "outputs": [],
   "source": [
    "adata.obs['cell_type'].value_counts() "
   ]
  },
  {
   "cell_type": "markdown",
   "metadata": {},
   "source": [
    "## 3-) `MT Metrics`"
   ]
  },
  {
   "cell_type": "markdown",
   "metadata": {},
   "source": [
    "##### Operation: Calculate (pp)"
   ]
  },
  {
   "cell_type": "code",
   "execution_count": null,
   "metadata": {},
   "outputs": [],
   "source": [
    "print(adata.var_names[:50])"
   ]
  },
  {
   "cell_type": "code",
   "execution_count": null,
   "metadata": {},
   "outputs": [],
   "source": [
    "# (1/2)\n",
    "%memit adata.var[\"mt\"] = adata.var_names.str.startswith(\"MT-\")\n",
    "# (2/2)\n",
    "\n",
    "if pipeline_MT_Metrics             == True:\n",
    "    sc.pp.calculate_qc_metrics(\n",
    "        adata, qc_vars  = [\"mt\"], \n",
    "        percent_top     = None, \n",
    "        log1p           = False, \n",
    "        inplace         = True\n",
    "    )  \n"
   ]
  },
  {
   "cell_type": "code",
   "execution_count": null,
   "metadata": {},
   "outputs": [],
   "source": [
    "adata.var[\"mt\"] "
   ]
  },
  {
   "cell_type": "code",
   "execution_count": null,
   "metadata": {},
   "outputs": [],
   "source": [
    "adata.obs['cell_type'].value_counts() "
   ]
  },
  {
   "cell_type": "markdown",
   "metadata": {},
   "source": [
    "##### Result: | Violin (pl)"
   ]
  },
  {
   "cell_type": "code",
   "execution_count": null,
   "metadata": {},
   "outputs": [],
   "source": [
    "sc.pl.violin(\n",
    "    adata,\n",
    "    [\"n_genes_by_counts\", \"total_counts\", \"pct_counts_mt\"],\n",
    "    jitter      = 0.4,\n",
    "    multi_panel = True,\n",
    ") "
   ]
  },
  {
   "cell_type": "code",
   "execution_count": null,
   "metadata": {},
   "outputs": [],
   "source": [
    "sc.pl.violin(\n",
    "    adata,\n",
    "    [\"n_genes_by_counts\", \"total_counts\", \"pct_counts_mt\"],\n",
    "    jitter      = 0.1,\n",
    "    multi_panel = True,\n",
    ") "
   ]
  },
  {
   "cell_type": "code",
   "execution_count": null,
   "metadata": {},
   "outputs": [],
   "source": [
    "sc.pl.violin(\n",
    "    adata,\n",
    "    [\"n_genes_by_counts\", \"total_counts\", \"pct_counts_mt\"],\n",
    "    jitter      = 0.9,\n",
    "    multi_panel = True,\n",
    ") "
   ]
  },
  {
   "cell_type": "markdown",
   "metadata": {},
   "source": [
    "## 5-) `Outlier`"
   ]
  },
  {
   "cell_type": "markdown",
   "metadata": {},
   "source": [
    "##### Result: | Scatter (pl)"
   ]
  },
  {
   "cell_type": "code",
   "execution_count": null,
   "metadata": {},
   "outputs": [],
   "source": [
    "sc.pl.scatter(adata, x=\"total_counts\", y=\"pct_counts_mt\")\n",
    "sc.pl.scatter(adata, x=\"total_counts\", y=\"n_genes_by_counts\") "
   ]
  },
  {
   "cell_type": "markdown",
   "metadata": {},
   "source": [
    "##### Operation "
   ]
  },
  {
   "cell_type": "code",
   "execution_count": null,
   "metadata": {},
   "outputs": [],
   "source": [
    "if pipeline_Outlier             == True:\n",
    "    %memit adata = adata[adata.obs.n_genes_by_counts < 2500, :].copy()\n",
    "    %memit adata = adata[adata.obs.total_counts < 3000, :].copy()\n",
    "    %memit adata = adata[adata.obs.total_counts > 1000, :].copy()\n",
    "    %memit adata = adata[adata.obs.pct_counts_mt < 4, :].copy()"
   ]
  },
  {
   "cell_type": "code",
   "execution_count": null,
   "metadata": {},
   "outputs": [],
   "source": [
    "adata.obs['cell_type'].value_counts() "
   ]
  },
  {
   "cell_type": "markdown",
   "metadata": {},
   "source": [
    "##### Result: | Scatter (pl)"
   ]
  },
  {
   "cell_type": "code",
   "execution_count": null,
   "metadata": {},
   "outputs": [],
   "source": [
    "sc.pl.scatter(adata, x=\"total_counts\", y=\"pct_counts_mt\")\n",
    "sc.pl.scatter(adata, x=\"total_counts\", y=\"n_genes_by_counts\") "
   ]
  },
  {
   "cell_type": "markdown",
   "metadata": {},
   "source": [
    "## 4-) `Doublet Detection`"
   ]
  },
  {
   "cell_type": "code",
   "execution_count": null,
   "metadata": {},
   "outputs": [],
   "source": [
    "# Step 4: Doublet Detection\n",
    "if pipeline_doublet_detection:\n",
    "    sc.pp.scrublet(adata, batch_key=\"scRNASeq_sample_ID\") \n"
   ]
  },
  {
   "cell_type": "code",
   "execution_count": null,
   "metadata": {},
   "outputs": [],
   "source": [
    "pd.concat([adata.obs[['doublet_score', 'predicted_doublet']].head(10), adata.obs[['doublet_score', 'predicted_doublet']].tail(10)])  "
   ]
  },
  {
   "cell_type": "code",
   "execution_count": null,
   "metadata": {},
   "outputs": [],
   "source": [
    "print(\"Detected Doublet:\", adata.obs['predicted_doublet'].value_counts())\n",
    "print(\"Detected Doublets:\", adata[adata.obs['predicted_doublet'] == True] ) "
   ]
  },
  {
   "cell_type": "code",
   "execution_count": null,
   "metadata": {},
   "outputs": [],
   "source": [
    "# Filtering doublets\n",
    "adata = adata[adata.obs['predicted_doublet'] == False]  "
   ]
  },
  {
   "cell_type": "code",
   "execution_count": null,
   "metadata": {},
   "outputs": [],
   "source": [
    "adata "
   ]
  },
  {
   "cell_type": "markdown",
   "metadata": {},
   "source": [
    "## 5- `Normalization`  "
   ]
  },
  {
   "cell_type": "markdown",
   "metadata": {},
   "source": [
    "##### Operation: Calculate (pp)"
   ]
  },
  {
   "cell_type": "code",
   "execution_count": null,
   "metadata": {},
   "outputs": [],
   "source": [
    "if pipeline_Normalization         == True:\n",
    "    %memit sc.pp.normalize_total(adata, target_sum=1e4)"
   ]
  },
  {
   "cell_type": "markdown",
   "metadata": {},
   "source": [
    "## 6- `Log Transformation ` "
   ]
  },
  {
   "cell_type": "markdown",
   "metadata": {},
   "source": [
    "##### Operation: Calculate (pp)"
   ]
  },
  {
   "cell_type": "code",
   "execution_count": null,
   "metadata": {},
   "outputs": [],
   "source": [
    "if pipeline_Log_Transformation         == True:\n",
    "    %memit sc.pp.log1p(adata) "
   ]
  },
  {
   "cell_type": "code",
   "execution_count": null,
   "metadata": {},
   "outputs": [],
   "source": [
    "adata.obs['cell_type'].value_counts() "
   ]
  },
  {
   "cell_type": "markdown",
   "metadata": {},
   "source": [
    "## 7-) `Highly Variable Genes`"
   ]
  },
  {
   "cell_type": "markdown",
   "metadata": {},
   "source": [
    "##### Operation: Calculate (pp)"
   ]
  },
  {
   "cell_type": "code",
   "execution_count": null,
   "metadata": {},
   "outputs": [],
   "source": [
    "if pipeline_Highly_variable_genes         == True:\n",
    "    %memit sc.pp.highly_variable_genes(adata, min_mean=0.0125, max_mean=3, min_disp=0.5)"
   ]
  },
  {
   "cell_type": "code",
   "execution_count": null,
   "metadata": {},
   "outputs": [],
   "source": [
    "adata.obs['cell_type'].value_counts() "
   ]
  },
  {
   "cell_type": "markdown",
   "metadata": {},
   "source": [
    "##### Result (pl) | Scatter "
   ]
  },
  {
   "cell_type": "code",
   "execution_count": null,
   "metadata": {},
   "outputs": [],
   "source": [
    "%memit sc.pl.highly_variable_genes(adata) # Now you can plot the highly variable genes "
   ]
  },
  {
   "cell_type": "markdown",
   "metadata": {},
   "source": [
    "##### Operation: Save Raw "
   ]
  },
  {
   "cell_type": "code",
   "execution_count": null,
   "metadata": {},
   "outputs": [],
   "source": [
    "adata.raw = adata"
   ]
  },
  {
   "cell_type": "markdown",
   "metadata": {},
   "source": [
    "##### Operation: Apply "
   ]
  },
  {
   "cell_type": "code",
   "execution_count": null,
   "metadata": {},
   "outputs": [],
   "source": [
    "adata = adata[:, adata.var.highly_variable]"
   ]
  },
  {
   "cell_type": "markdown",
   "metadata": {},
   "source": [
    "## 8-) `Regress Out `"
   ]
  },
  {
   "cell_type": "markdown",
   "metadata": {},
   "source": [
    "Regress out effects of total counts per cell and the percentage of mitochondrial genes expressed. Scale the data to unit variance."
   ]
  },
  {
   "cell_type": "markdown",
   "metadata": {},
   "source": [
    "##### Operation: Regress Out (pp)"
   ]
  },
  {
   "cell_type": "code",
   "execution_count": null,
   "metadata": {},
   "outputs": [],
   "source": [
    "if pipeline_Regress_Out == True:\n",
    "    %memit sc.pp.regress_out(adata, [\"total_counts\", \"pct_counts_mt\"]) "
   ]
  },
  {
   "cell_type": "code",
   "execution_count": null,
   "metadata": {},
   "outputs": [],
   "source": [
    "adata.obs['cell_type'].value_counts() "
   ]
  },
  {
   "cell_type": "markdown",
   "metadata": {},
   "source": [
    "## 9-) `Scaling `"
   ]
  },
  {
   "cell_type": "markdown",
   "metadata": {},
   "source": [
    "##### Result "
   ]
  },
  {
   "cell_type": "code",
   "execution_count": null,
   "metadata": {},
   "outputs": [],
   "source": [
    "sc.pl.scatter(adata, x=\"total_counts\", y=\"pct_counts_mt\")\n",
    "sc.pl.scatter(adata, x=\"total_counts\", y=\"n_genes_by_counts\")"
   ]
  },
  {
   "cell_type": "markdown",
   "metadata": {},
   "source": [
    "##### Operation: Calculate (pp)"
   ]
  },
  {
   "cell_type": "code",
   "execution_count": null,
   "metadata": {},
   "outputs": [],
   "source": [
    "if pipeline_Scaling == True:\n",
    "    sc.pp.scale(adata, max_value=10)  "
   ]
  },
  {
   "cell_type": "code",
   "execution_count": null,
   "metadata": {},
   "outputs": [],
   "source": [
    "adata.obs['cell_type'].value_counts() "
   ]
  },
  {
   "cell_type": "markdown",
   "metadata": {},
   "source": [
    "##### Result "
   ]
  },
  {
   "cell_type": "code",
   "execution_count": null,
   "metadata": {},
   "outputs": [],
   "source": [
    "sc.pl.scatter(adata, x=\"total_counts\", y=\"pct_counts_mt\")\n",
    "sc.pl.scatter(adata, x=\"total_counts\", y=\"n_genes_by_counts\")"
   ]
  },
  {
   "cell_type": "markdown",
   "metadata": {},
   "source": [
    "# `Step 2: Checkpoint` "
   ]
  },
  {
   "cell_type": "markdown",
   "metadata": {},
   "source": [
    "#### Operation: Checkpoint (Save) \n",
    "Save the result."
   ]
  },
  {
   "cell_type": "code",
   "execution_count": null,
   "metadata": {},
   "outputs": [],
   "source": [
    "adata.write(check_point_s2)"
   ]
  },
  {
   "cell_type": "code",
   "execution_count": null,
   "metadata": {},
   "outputs": [],
   "source": [
    "adata"
   ]
  },
  {
   "cell_type": "code",
   "execution_count": null,
   "metadata": {},
   "outputs": [],
   "source": [
    "#stop "
   ]
  },
  {
   "cell_type": "markdown",
   "metadata": {},
   "source": [
    "---\n",
    "# `Step 3: Dimension Reduction | Embedding`\n",
    "- 1-) PCA \n",
    "- 2-) Detection of Neighbours\n",
    "- 3-) UMAP \n",
    "- 4-) T-SNE"
   ]
  },
  {
   "cell_type": "markdown",
   "metadata": {},
   "source": [
    "## 1-) `PCA` "
   ]
  },
  {
   "cell_type": "markdown",
   "metadata": {},
   "source": [
    "#### Operation: Calculate (tl)"
   ]
  },
  {
   "cell_type": "code",
   "execution_count": null,
   "metadata": {},
   "outputs": [],
   "source": [
    "%memit sc.tl.pca(adata, svd_solver='arpack') \n",
    "#%memit sc.tl.pca(adata, svd_solver='randomized') "
   ]
  },
  {
   "cell_type": "code",
   "execution_count": null,
   "metadata": {},
   "outputs": [],
   "source": [
    "#sc.pl.pca(adata, color=\"CST3\")"
   ]
  },
  {
   "cell_type": "code",
   "execution_count": null,
   "metadata": {},
   "outputs": [],
   "source": [
    "adata.obs['cell_type'].value_counts() "
   ]
  },
  {
   "cell_type": "markdown",
   "metadata": {},
   "source": [
    "#### Result & Operation (pl)\n",
    "- TO DO: Select Parameters\n",
    "- Parameter 1: n_neighbors\n",
    "- Parameter 2: n_pcs "
   ]
  },
  {
   "cell_type": "code",
   "execution_count": null,
   "metadata": {},
   "outputs": [],
   "source": [
    "%memit sc.pl.pca_variance_ratio(adata, log=True)"
   ]
  },
  {
   "cell_type": "markdown",
   "metadata": {},
   "source": [
    "## 2-) `Detection of Neighbours`"
   ]
  },
  {
   "cell_type": "markdown",
   "metadata": {},
   "source": [
    "#### Operation: Calculate (pp)"
   ]
  },
  {
   "cell_type": "code",
   "execution_count": null,
   "metadata": {},
   "outputs": [],
   "source": [
    "\"\"\"from joblib import parallel_backend\n",
    "with parallel_backend('threading', n_jobs=16):\n",
    "        sc.pp.neighbors(adata, n_neighbors=10, n_pcs=40) \"\"\""
   ]
  },
  {
   "cell_type": "code",
   "execution_count": null,
   "metadata": {},
   "outputs": [],
   "source": [
    "sc.pp.neighbors(adata, n_neighbors=15, n_pcs=44)"
   ]
  },
  {
   "cell_type": "code",
   "execution_count": null,
   "metadata": {},
   "outputs": [],
   "source": [
    "adata.obs['cell_type'].value_counts() "
   ]
  },
  {
   "cell_type": "markdown",
   "metadata": {},
   "source": [
    "## 3-) `UMAP`"
   ]
  },
  {
   "cell_type": "markdown",
   "metadata": {},
   "source": [
    "#### Operation: Calculate (tl)"
   ]
  },
  {
   "cell_type": "code",
   "execution_count": null,
   "metadata": {},
   "outputs": [],
   "source": [
    "sc.tl.umap(adata)"
   ]
  },
  {
   "cell_type": "code",
   "execution_count": null,
   "metadata": {},
   "outputs": [],
   "source": [
    "adata.obs['cell_type'].value_counts() "
   ]
  },
  {
   "cell_type": "markdown",
   "metadata": {},
   "source": [
    "#### Results"
   ]
  },
  {
   "cell_type": "code",
   "execution_count": null,
   "metadata": {},
   "outputs": [],
   "source": [
    "try:\n",
    "    sc.pl.umap(adata, color=[\"ISG15\", \"FNDC10\", \"MT-CYB\"], use_raw=True)\n",
    "except: \n",
    "    pass "
   ]
  },
  {
   "cell_type": "code",
   "execution_count": null,
   "metadata": {},
   "outputs": [],
   "source": [
    "try:\n",
    "    sc.pl.umap(adata, color=[\"ISG15\", \"FNDC10\", \"MT-CYB\"], use_raw=False)\n",
    "except: \n",
    "    pass "
   ]
  },
  {
   "cell_type": "markdown",
   "metadata": {},
   "source": [
    "## 4-) `T-SNE`"
   ]
  },
  {
   "cell_type": "code",
   "execution_count": null,
   "metadata": {},
   "outputs": [],
   "source": [
    "sc.tl.tsne(adata)  "
   ]
  },
  {
   "cell_type": "code",
   "execution_count": null,
   "metadata": {},
   "outputs": [],
   "source": [
    "adata.obs['cell_type'].value_counts() "
   ]
  },
  {
   "cell_type": "code",
   "execution_count": null,
   "metadata": {},
   "outputs": [],
   "source": [
    "try: \n",
    "    try: \n",
    "        sc.pl.tsne(adata, color=[\"ISG15\", \"FNDC10\", \"MT-CYB\"], use_raw=False)  \n",
    "    except:\n",
    "        sc.pl.tsne(adata, color=[\"ISG15\", \"FNDC10\", \"MT-CYB\"], use_raw=True)  \n",
    "except:\n",
    "    pass "
   ]
  },
  {
   "cell_type": "markdown",
   "metadata": {},
   "source": [
    "# `Step 3: Checkpoint` "
   ]
  },
  {
   "cell_type": "markdown",
   "metadata": {},
   "source": [
    "#### Operation: Checkpoint (Save) \n",
    "Save the result."
   ]
  },
  {
   "cell_type": "code",
   "execution_count": null,
   "metadata": {},
   "outputs": [],
   "source": [
    "try:\n",
    "    adata.write(check_point_s3)\n",
    "except Exception as e:\n",
    "    print(\"Error\",e)"
   ]
  },
  {
   "cell_type": "code",
   "execution_count": null,
   "metadata": {},
   "outputs": [],
   "source": [
    "adata"
   ]
  },
  {
   "cell_type": "markdown",
   "metadata": {},
   "source": [
    "---\n",
    "# `Step 4: Clustering | Trajectory Inference`\n",
    "- 1-) Leiden \n",
    "- 2-) Dendogram\n",
    "- 3-) PAGA"
   ]
  },
  {
   "cell_type": "markdown",
   "metadata": {},
   "source": [
    "## 1-) `Leiden `"
   ]
  },
  {
   "cell_type": "code",
   "execution_count": null,
   "metadata": {},
   "outputs": [],
   "source": [
    "import scanpy as sc\n",
    "import matplotlib.pyplot as plt\n",
    "import numpy as np\n",
    "\n",
    "\n",
    "resolutions = np.arange(0.16, 1.0, 0.001)\n",
    "cluster_counts = []\n",
    "res_cluster_dict = {}\n",
    "\n",
    "for res in resolutions:\n",
    "    res_key = str(res)\n",
    "    print(\"res_key:\",res_key)\n",
    "    sc.tl.leiden(\n",
    "        adata,    \n",
    "        key_added=res_key,  \n",
    "        resolution=res,\n",
    "        random_state=0,\n",
    "        flavor=\"igraph\",\n",
    "        n_iterations=-1,  # Try with unlimited iterations\n",
    "        directed=False,\n",
    "    ) \n",
    "    # Retrieving the number of unique clusters\n",
    "    res_cluster_dict[str(res)] = adata.obs[str(res)].nunique() \n",
    "    cluster_counts.append(adata.obs[str(res)].nunique()) \n"
   ]
  },
  {
   "cell_type": "code",
   "execution_count": null,
   "metadata": {},
   "outputs": [],
   "source": [
    "fig, ax = plt.subplots(figsize=(6, 6))\n",
    "ax.plot(resolutions, cluster_counts, marker='o')\n",
    "ax.set_xlabel('Leiden Resolution')\n",
    "ax.set_ylabel('Number of Clusters')\n",
    "ax.set_title('Cluster Count vs. Leiden Resolution')\n",
    "ax.grid(True)\n",
    "plt.show()\n",
    "res_cluster_dict "
   ]
  },
  {
   "cell_type": "code",
   "execution_count": null,
   "metadata": {},
   "outputs": [],
   "source": [
    "adata.obs['cell_type_short'] = adata.obs['cell_type'].str[:8]"
   ]
  },
  {
   "cell_type": "code",
   "execution_count": null,
   "metadata": {},
   "outputs": [],
   "source": [
    "# Plot UMAP for selected resolutions\n",
    "optimal_resolutions = [res for res, count in res_cluster_dict.items() if count == 17]\n",
    "print(f\"Optimal Resolutions: {optimal_resolutions}\")\n",
    "\n",
    "for res in optimal_resolutions:\n",
    "    sc.pl.umap(\n",
    "        adata, \n",
    "        color=[str(res), 'cell_type_short'], \n",
    "        legend_loc=\"on data\", \n",
    "        title=[f'Leiden Resolution: {res}', 'cell_type_short'], \n",
    "        frameon=True,\n",
    "        size=10  # Adjust this value to control the dot size\n",
    "    )"
   ]
  },
  {
   "cell_type": "code",
   "execution_count": null,
   "metadata": {},
   "outputs": [],
   "source": [
    "print(\"Number of resolutions:\", len(resolutions)) \n",
    "print(\"Number of unique cell types: \", len(adata.obs[\"cell_type\"].value_counts()))  \n",
    "print(res_cluster_dict) "
   ]
  },
  {
   "cell_type": "code",
   "execution_count": null,
   "metadata": {},
   "outputs": [],
   "source": [
    "best_resolution = 0.2670000000000001"
   ]
  },
  {
   "cell_type": "markdown",
   "metadata": {},
   "source": [
    "## 1-) `Leiden ` (Selection)"
   ]
  },
  {
   "cell_type": "code",
   "execution_count": null,
   "metadata": {},
   "outputs": [],
   "source": [
    "selected_obs_cluster_key   = f\"leiden_{best_resolution}\"\n",
    "selected_leiden_resolution = best_resolution \n",
    "print(f\"Selected Resolution: {selected_leiden_resolution}\")\n",
    "print(f\"Selected Key: {selected_obs_cluster_key}\")"
   ]
  },
  {
   "cell_type": "markdown",
   "metadata": {},
   "source": [
    "#### Operation: Calculate (tl)"
   ]
  },
  {
   "cell_type": "code",
   "execution_count": null,
   "metadata": {},
   "outputs": [],
   "source": [
    "current = 0\n",
    "current_key         = selected_obs_cluster_key\n",
    "current_resolution  = selected_leiden_resolution \n",
    "\n",
    "print(f\"Key: {current_key}\") \n",
    "print(f\"Resolution: {current_resolution}\")\n",
    "\n",
    "\n",
    "sc.tl.leiden(\n",
    "    adata,    \n",
    "    key_added    = current_key, \n",
    "    resolution   = current_resolution,\n",
    "    random_state = 0,\n",
    "    flavor       = \"igraph\",\n",
    "    n_iterations = 2,\n",
    "    directed     = False,\n",
    ") \n",
    "# Retrieve the number of unique clusters\n",
    "current_Clusters = adata.obs[current_key].nunique() \n",
    "\n",
    "print(f\"Number of clusters for {current_key}: {current_Clusters}\") \n",
    "print(\"Number of True Clusters:\", len(pd.unique(adata.obs[\"cell_type\"])))\n",
    "list(pd.unique(adata.obs[\"cell_type\"]) ) "
   ]
  },
  {
   "cell_type": "code",
   "execution_count": null,
   "metadata": {},
   "outputs": [],
   "source": [
    "sc.pl.umap(\n",
    "    adata, \n",
    "    color       = [current_key,  \"cell_type_short\", #'majority_voting_best_match', 'majority_voting_prob_match',\n",
    "                   ], \n",
    "    legend_loc  = \"on data\", \n",
    "    title       = [current_key,  \"cell_type_short\",#'majority_voting_best_match', 'majority_voting_prob_match',\n",
    "                   ], \n",
    "    frameon     = True, \n",
    "    #save=\".pdf\"\n",
    ")\n",
    "print(f\"Number of CLusters inselected cluster key: {selected_obs_cluster_key} is :{adata.obs[selected_obs_cluster_key].nunique()}\") "
   ]
  },
  {
   "cell_type": "markdown",
   "metadata": {},
   "source": [
    "## 2-) `PAGA `"
   ]
  },
  {
   "cell_type": "markdown",
   "metadata": {},
   "source": [
    "#### Operation: Calculate (tl)"
   ]
  },
  {
   "cell_type": "code",
   "execution_count": null,
   "metadata": {},
   "outputs": [],
   "source": [
    "sc.tl.paga(adata, groups = selected_obs_cluster_key)\n",
    "sc.pl.paga(adata, plot=False)  # remove `plot=False` if one wants to see the coarse-grained graph\n",
    "sc.tl.umap(adata, init_pos='paga')"
   ]
  },
  {
   "cell_type": "code",
   "execution_count": null,
   "metadata": {},
   "outputs": [],
   "source": [
    "adata.obs['cell_type'].value_counts() "
   ]
  },
  {
   "cell_type": "markdown",
   "metadata": {},
   "source": [
    "# `Step 4: Checkpoint` "
   ]
  },
  {
   "cell_type": "markdown",
   "metadata": {},
   "source": [
    "#### Operation: Checkpoint (Save) \n",
    "Save the result."
   ]
  },
  {
   "cell_type": "code",
   "execution_count": null,
   "metadata": {},
   "outputs": [],
   "source": [
    "try:\n",
    "    adata.write(check_point_s4)\n",
    "except Exception as e:\n",
    "    print(\"Error:\",e) "
   ]
  },
  {
   "cell_type": "code",
   "execution_count": null,
   "metadata": {},
   "outputs": [],
   "source": [
    "adata"
   ]
  },
  {
   "cell_type": "markdown",
   "metadata": {},
   "source": [
    "---\n",
    "# `Step 5: Ranked Genes`\n",
    "- 1-) Leiden | t-test \n",
    "- 2-) Leiden | Wilcoxon\n",
    "- 3-) Leiden | Logreg "
   ]
  },
  {
   "cell_type": "code",
   "execution_count": null,
   "metadata": {},
   "outputs": [],
   "source": [
    "# One can select other methods too. Wilcoxon is advised so we continue with it. \n",
    "switch_Leiden_ttest    = 0 \n",
    "switch_Leiden_Wilcoxon = 1 \n",
    "switch_Leiden_Logreg   = 0 "
   ]
  },
  {
   "cell_type": "markdown",
   "metadata": {},
   "source": [
    "## 1-) `Leiden | t-test`"
   ]
  },
  {
   "cell_type": "markdown",
   "metadata": {},
   "source": [
    "    Grouping: Uses the 'leiden' clustering results to define groups of cells.\n",
    "    Method: Employs the Wilcoxon rank-sum test to identify differentially expressed genes between the groups.\n",
    "    Default Settings: Other parameters are set to their default values, which means it compares all groups against the rest, does not correct for multiple testing explicitly (though p-values are adjusted), and does not filter genes based on variance or other criteria unless specified in adata."
   ]
  },
  {
   "cell_type": "code",
   "execution_count": null,
   "metadata": {},
   "outputs": [],
   "source": [
    "point_start()\n",
    "\n",
    "if switch_Leiden_ttest == 1: \n",
    "    ranked_key_leiden_ttest = f'rank_genes_leiden_ttest'  \n",
    "\n",
    "    #%memit sc.tl.rank_genes_groups(adata, groupby = 'leiden', method=\"t-test\", key_added='rank_genes_leiden', reference='rest', n_genes=100)  # Adjust n_genes as needed \n",
    "    %memit sc.tl.rank_genes_groups(adata, groupby = selected_obs_cluster_key, method = \"t-test\", key_added = ranked_key_leiden_ttest, reference = 'rest', n_genes = 100)  # Adjust n_genes as needed \n",
    "\n",
    "    #sc.pl.rank_genes_groups(adata, n_genes=25, sharey=False)\n",
    "    sc.pl.rank_genes_groups(adata, key = ranked_key_leiden_ttest, n_genes = 25, sharey = False)\n",
    "\n",
    "point_end() "
   ]
  },
  {
   "cell_type": "code",
   "execution_count": null,
   "metadata": {},
   "outputs": [],
   "source": [
    "adata.obs['cell_type'].value_counts() "
   ]
  },
  {
   "cell_type": "code",
   "execution_count": null,
   "metadata": {},
   "outputs": [],
   "source": [
    "sc.settings.verbosity = 2  # reduce the verbosity"
   ]
  },
  {
   "cell_type": "markdown",
   "metadata": {},
   "source": [
    "## 2-) `Leiden | Wilcoxon`"
   ]
  },
  {
   "cell_type": "code",
   "execution_count": null,
   "metadata": {},
   "outputs": [],
   "source": [
    "point_start()\n",
    "\n",
    "if switch_Leiden_Wilcoxon == 1: \n",
    "\n",
    "    ranked_key_leiden_wilcoxon = f'rank_genes_leiden_wilcoxon'  \n",
    "\n",
    "    #%memit sc.tl.rank_genes_groups(adata, groupby = 'leiden', method=\"t-test\", key_added='rank_genes_leiden', reference='rest', n_genes=100)  # Adjust n_genes as needed \n",
    "    %memit sc.tl.rank_genes_groups(adata, groupby = selected_obs_cluster_key, method = \"wilcoxon\", key_added = ranked_key_leiden_wilcoxon, reference = 'rest', n_genes = 100)  # Adjust n_genes as needed \n",
    "\n",
    "    #sc.pl.rank_genes_groups(adata, n_genes=25, sharey=False)\n",
    "    sc.pl.rank_genes_groups(adata, key = ranked_key_leiden_wilcoxon, n_genes = 25, sharey = False)\n",
    "\n",
    "    selected_uns_ranked_key = ranked_key_leiden_wilcoxon  # It is for future usage \n",
    "\n",
    "point_end() \n",
    "\n",
    "    "
   ]
  },
  {
   "cell_type": "code",
   "execution_count": null,
   "metadata": {},
   "outputs": [],
   "source": [
    "adata.obs['cell_type'].value_counts() "
   ]
  },
  {
   "cell_type": "code",
   "execution_count": null,
   "metadata": {},
   "outputs": [],
   "source": [
    "sc.pl.rank_genes_groups(adata, key = ranked_key_leiden_wilcoxon, n_genes = 100, sharey = False) "
   ]
  },
  {
   "cell_type": "markdown",
   "metadata": {},
   "source": [
    "## 3-) `Leiden | Logreg`"
   ]
  },
  {
   "cell_type": "code",
   "execution_count": null,
   "metadata": {},
   "outputs": [],
   "source": [
    "point_start()\n",
    "\n",
    "if switch_Leiden_Logreg == 1: \n",
    "\n",
    "    ranked_key_leiden_logreg = f'rank_genes_leiden_logreg'  \n",
    "\n",
    "    #%memit sc.tl.rank_genes_groups(adata, groupby = 'leiden', method=\"t-test\", key_added='rank_genes_leiden', reference='rest', n_genes=100)  # Adjust n_genes as needed \n",
    "    %memit sc.tl.rank_genes_groups(adata, groupby = selected_obs_cluster_key, method = \"logreg\", key_added = ranked_key_leiden_logreg, reference = 'rest', n_genes = 100)  # Adjust n_genes as needed \n",
    "\n",
    "    #sc.pl.rank_genes_groups(adata, n_genes=25, sharey=False)\n",
    "    sc.pl.rank_genes_groups(adata, key = ranked_key_leiden_logreg, n_genes = 25, sharey = False)\n",
    "\n",
    "point_end() \n"
   ]
  },
  {
   "cell_type": "code",
   "execution_count": null,
   "metadata": {},
   "outputs": [],
   "source": [
    "adata.obs['cell_type'].value_counts() "
   ]
  },
  {
   "cell_type": "markdown",
   "metadata": {},
   "source": [
    "## 4-) `True Label | Wilcoxon`"
   ]
  },
  {
   "cell_type": "code",
   "execution_count": null,
   "metadata": {},
   "outputs": [],
   "source": [
    "#temp_adata = adata.copy() \n",
    "#adata = temp_adata[temp_adata.obs[\"cell_type\"] != \"mast cell\"]"
   ]
  },
  {
   "cell_type": "code",
   "execution_count": null,
   "metadata": {},
   "outputs": [],
   "source": [
    "point_start()\n",
    "\n",
    "sc.settings.verbosity = 3\n",
    "sc.logging.print_header()\n",
    "sc.settings.set_figure_params(dpi=200, facecolor=\"white\", figsize=(14, 14)) \n",
    "\n",
    "if switch_Leiden_Wilcoxon == 1: \n",
    "\n",
    "    true_label_obs_cluster_key = true_label_column\n",
    "    true_label_uns_ranked_key  = f'rank_genes_true_label'  \n",
    "    \n",
    "\n",
    "    #%memit sc.tl.rank_genes_groups(adata, groupby = 'leiden', method=\"t-test\", key_added='rank_genes_leiden', reference='rest', n_genes=100)  # Adjust n_genes as needed \n",
    "    %memit sc.tl.rank_genes_groups(adata, groupby = true_label_obs_cluster_key, method = \"wilcoxon\", key_added = true_label_uns_ranked_key, reference = 'rest', n_genes = 100)  # Adjust n_genes as needed \n",
    "\n",
    "    #sc.pl.rank_genes_groups(adata, n_genes=25, sharey=False)\n",
    "    sc.pl.rank_genes_groups(adata, key = true_label_uns_ranked_key, n_genes = 100, sharey = False)\n",
    "\n",
    "\n",
    "point_end() \n",
    "\n",
    "    "
   ]
  },
  {
   "cell_type": "code",
   "execution_count": null,
   "metadata": {},
   "outputs": [],
   "source": [
    "adata.obs['cell_type'].value_counts() "
   ]
  },
  {
   "cell_type": "markdown",
   "metadata": {},
   "source": [
    "# `Step 5: Checkpoint` "
   ]
  },
  {
   "cell_type": "markdown",
   "metadata": {},
   "source": [
    "#### Operation: Checkpoint (Save) \n",
    "Save the result."
   ]
  },
  {
   "cell_type": "code",
   "execution_count": null,
   "metadata": {},
   "outputs": [],
   "source": [
    "print(f\"Number of unique cell types in true labels: {len(pd.unique(adata.obs['cell_type']))}\")\n",
    "adata.obs['cell_type'].value_counts() "
   ]
  },
  {
   "cell_type": "code",
   "execution_count": null,
   "metadata": {},
   "outputs": [],
   "source": [
    "try:\n",
    "    adata.write(check_point_s5)\n",
    "except Exception as e:\n",
    "    print(\"Error:\",e) "
   ]
  },
  {
   "cell_type": "code",
   "execution_count": null,
   "metadata": {},
   "outputs": [],
   "source": [
    "adata"
   ]
  },
  {
   "cell_type": "code",
   "execution_count": null,
   "metadata": {},
   "outputs": [],
   "source": [
    "target_gene_number = 25 "
   ]
  },
  {
   "cell_type": "code",
   "execution_count": null,
   "metadata": {},
   "outputs": [],
   "source": [
    "df_1 = pd.DataFrame(adata.obs[selected_obs_cluster_key].value_counts())  \n",
    "df_1 = df_1.reset_index(drop=False)\n",
    "df_2 = pd.DataFrame(adata.obs[\"cell_type\"].value_counts()  ) \n",
    "df_2 = df_2.reset_index(drop=False)\n",
    "df_concat = pd.concat([df_1,df_2], axis=1) \n",
    "df_concat   "
   ]
  },
  {
   "cell_type": "code",
   "execution_count": null,
   "metadata": {},
   "outputs": [],
   "source": [
    "# Set the verbosity and figure parameters\n",
    "sc.settings.verbosity = 3  # verbosity: errors (0), warnings (1), info (2), hints (3)\n",
    "sc.logging.print_header()\n",
    "sc.settings.set_figure_params(dpi=200, facecolor=\"white\", figsize=(10, 10))\n",
    "\n",
    "# Plot the UMAP with larger dots\n",
    "sc.pl.umap(\n",
    "    adata, \n",
    "    color=[selected_obs_cluster_key, true_label_obs_cluster_key], \n",
    "    legend_loc=\"on data\", \n",
    "    title=[selected_obs_cluster_key, true_label_obs_cluster_key], \n",
    "    frameon=True,\n",
    "    size=50  # Adjust this value to control the dot size\n",
    ")\n",
    "\n",
    "# Print the number of clusters\n",
    "print(f\"Number of Clusters in selected cluster key: {selected_obs_cluster_key} is :{adata.obs[selected_obs_cluster_key].nunique()}\")\n"
   ]
  },
  {
   "cell_type": "code",
   "execution_count": null,
   "metadata": {},
   "outputs": [],
   "source": [
    "Variables_Dict_s5 ={\"target_gene_number\"      : target_gene_number, \n",
    "                    \n",
    "                    \"selected_obs_cluster_key\"           : selected_obs_cluster_key,\n",
    "                    \"selected_uns_ranked_key\"            : selected_uns_ranked_key,\n",
    "                    \"selected_cluster_names\"             : list(pd.unique(adata.obs[selected_obs_cluster_key])), \n",
    "                    \"selected_sample_cluster_barcode\"    : list(pd.unique(adata.obs[selected_obs_cluster_key]))[0], \n",
    "                    \n",
    "\n",
    "                    \"true_label_obs_cluster_key\"           : true_label_obs_cluster_key,\n",
    "                    \"true_label_uns_ranked_key\"            : true_label_uns_ranked_key,\n",
    "                    \"true_label_cluster_names\"             : list(pd.unique(adata.obs[true_label_obs_cluster_key])), \n",
    "                    \"true_label_sample_cluster_barcode\"    : list(pd.unique(adata.obs[true_label_obs_cluster_key]))[0], \n",
    "                     }\n",
    "\n",
    "export_name = check_point_s5_variables\n",
    "\n",
    "with open( access_data_path(target_folder = f\"process_0/checkpoint\", target_file = export_name + \".pkl\" )  , 'wb') as file:\n",
    "    pickle.dump(Variables_Dict_s5, file)\n"
   ]
  }
 ],
 "metadata": {
  "kernelspec": {
   "display_name": "Python 3 (ipykernel)",
   "language": "python",
   "name": "python3"
  },
  "language_info": {
   "codemirror_mode": {
    "name": "ipython",
    "version": 3
   },
   "file_extension": ".py",
   "mimetype": "text/x-python",
   "name": "python",
   "nbconvert_exporter": "python",
   "pygments_lexer": "ipython3",
   "version": "3.12.3"
  }
 },
 "nbformat": 4,
 "nbformat_minor": 2
}
