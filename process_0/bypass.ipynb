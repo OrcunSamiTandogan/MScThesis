{
 "cells": [
  {
   "cell_type": "code",
   "execution_count": 1,
   "metadata": {},
   "outputs": [
    {
     "name": "stderr",
     "output_type": "stream",
     "text": [
      "/root/iThesis/miniconda/envs/bilimnn/lib/python3.11/site-packages/tqdm/auto.py:21: TqdmWarning: IProgress not found. Please update jupyter and ipywidgets. See https://ipywidgets.readthedocs.io/en/stable/user_install.html\n",
      "  from .autonotebook import tqdm as notebook_tqdm\n",
      "2024-04-13 22:05:48.990005: I tensorflow/core/platform/cpu_feature_guard.cc:182] This TensorFlow binary is optimized to use available CPU instructions in performance-critical operations.\n",
      "To enable the following instructions: SSE4.1 SSE4.2 AVX AVX2 FMA, in other operations, rebuild TensorFlow with the appropriate compiler flags.\n"
     ]
    },
    {
     "name": "stdout",
     "output_type": "stream",
     "text": [
      "scanpy==1.10.1 anndata==0.10.7 umap==0.5.5 numpy==1.26.4 scipy==1.13.0 pandas==2.2.2 scikit-learn==1.4.2 statsmodels==0.14.1 igraph==0.11.4 pynndescent==0.5.12\n"
     ]
    }
   ],
   "source": [
    "%run s0_config.ipynb"
   ]
  },
  {
   "cell_type": "markdown",
   "metadata": {},
   "source": [
    "#### From "
   ]
  },
  {
   "cell_type": "code",
   "execution_count": 2,
   "metadata": {},
   "outputs": [],
   "source": [
    "import_name = check_point_s5_variables\n",
    "\n",
    "with open( access_data_path(target_folder = f\"process_0/checkpoint\", target_file = import_name + \".pkl\" ) , 'rb') as file:\n",
    "    Variables_Dict_s5 = pickle.load(file)   \n"
   ]
  },
  {
   "cell_type": "markdown",
   "metadata": {},
   "source": [
    "#### To"
   ]
  },
  {
   "cell_type": "code",
   "execution_count": 5,
   "metadata": {},
   "outputs": [],
   "source": [
    "Variables_Dict_s5 = Variables_Dict_s5 \n",
    "\n",
    "export_name = check_point_s6_variables\n",
    "\n",
    "with open( access_data_path(target_folder = f\"process_0/checkpoint\", target_file = export_name + \".pkl\" )  , 'wb') as file:\n",
    "    pickle.dump(Variables_Dict_s5, file)\n"
   ]
  },
  {
   "cell_type": "markdown",
   "metadata": {},
   "source": [
    "#### From "
   ]
  },
  {
   "cell_type": "code",
   "execution_count": 6,
   "metadata": {},
   "outputs": [],
   "source": [
    "import_name = check_point_s6_variables\n",
    "\n",
    "with open( access_data_path(target_folder = f\"process_0/checkpoint\", target_file = import_name + \".pkl\" ) , 'rb') as file:\n",
    "    Variables_Dict_s6 = pickle.load(file)   \n"
   ]
  },
  {
   "cell_type": "markdown",
   "metadata": {},
   "source": [
    "#### To"
   ]
  },
  {
   "cell_type": "code",
   "execution_count": 8,
   "metadata": {},
   "outputs": [],
   "source": [
    "Variables_Dict_s6 = Variables_Dict_s6 \n",
    "\n",
    "export_name = check_point_s7_variables\n",
    "\n",
    "with open( access_data_path(target_folder = f\"process_0/checkpoint\", target_file = export_name + \".pkl\" )  , 'wb') as file:\n",
    "    pickle.dump(Variables_Dict_s6, file)\n"
   ]
  },
  {
   "cell_type": "markdown",
   "metadata": {},
   "source": [
    "#### From "
   ]
  },
  {
   "cell_type": "code",
   "execution_count": 10,
   "metadata": {},
   "outputs": [],
   "source": [
    "import_name = check_point_s7_variables\n",
    "\n",
    "with open( access_data_path(target_folder = f\"process_0/checkpoint\", target_file = import_name + \".pkl\" ) , 'rb') as file:\n",
    "    Variables_Dict_s7 = pickle.load(file)   \n"
   ]
  },
  {
   "cell_type": "markdown",
   "metadata": {},
   "source": [
    "#### To"
   ]
  },
  {
   "cell_type": "code",
   "execution_count": 11,
   "metadata": {},
   "outputs": [],
   "source": [
    "Variables_Dict_s7 = Variables_Dict_s7 \n",
    "\n",
    "export_name = check_point_s7_variables\n",
    "\n",
    "with open( access_data_path(target_folder = f\"process_0/checkpoint\", target_file = export_name + \".pkl\" )  , 'wb') as file:\n",
    "    pickle.dump(Variables_Dict_s7, file)\n"
   ]
  },
  {
   "cell_type": "markdown",
   "metadata": {},
   "source": [
    "#### From "
   ]
  },
  {
   "cell_type": "code",
   "execution_count": 13,
   "metadata": {},
   "outputs": [],
   "source": [
    "import_name = check_point_s7_variables\n",
    "\n",
    "with open( access_data_path(target_folder = f\"process_0/checkpoint\", target_file = import_name + \".pkl\" ) , 'rb') as file:\n",
    "    Variables_Dict_s8 = pickle.load(file)   \n"
   ]
  },
  {
   "cell_type": "markdown",
   "metadata": {},
   "source": [
    "#### To"
   ]
  },
  {
   "cell_type": "code",
   "execution_count": 14,
   "metadata": {},
   "outputs": [],
   "source": [
    "Variables_Dict_s8 = Variables_Dict_s8 \n",
    "\n",
    "export_name = check_point_s8_variables\n",
    "\n",
    "with open( access_data_path(target_folder = f\"process_0/checkpoint\", target_file = export_name + \".pkl\" )  , 'wb') as file:\n",
    "    pickle.dump(Variables_Dict_s8, file)\n"
   ]
  }
 ],
 "metadata": {
  "kernelspec": {
   "display_name": "bilimsc5",
   "language": "python",
   "name": "python3"
  },
  "language_info": {
   "codemirror_mode": {
    "name": "ipython",
    "version": 3
   },
   "file_extension": ".py",
   "mimetype": "text/x-python",
   "name": "python",
   "nbconvert_exporter": "python",
   "pygments_lexer": "ipython3",
   "version": "3.11.8"
  }
 },
 "nbformat": 4,
 "nbformat_minor": 2
}
