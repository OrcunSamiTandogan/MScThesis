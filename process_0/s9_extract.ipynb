{
 "cells": [
  {
   "cell_type": "markdown",
   "metadata": {},
   "source": [
    "# `Step 9: Extraction of Cell Type  & Gene Marker with Gene Expression Level | ` \n",
    "- 1-) `True Labels`"
   ]
  },
  {
   "cell_type": "markdown",
   "metadata": {},
   "source": [
    "# 0- `Config`\n"
   ]
  },
  {
   "cell_type": "code",
   "execution_count": null,
   "metadata": {},
   "outputs": [],
   "source": [
    "try: \n",
    "    if manager == 1: \n",
    "        print(\"Manager Mode: ON\")\n",
    "except:\n",
    "    print(\"Manager Mode: OFF\")\n",
    "    %run s0_config.ipynb "
   ]
  },
  {
   "cell_type": "markdown",
   "metadata": {},
   "source": [
    "# 1- `Load` "
   ]
  },
  {
   "cell_type": "markdown",
   "metadata": {},
   "source": [
    "## 1-) `Data`"
   ]
  },
  {
   "cell_type": "code",
   "execution_count": null,
   "metadata": {},
   "outputs": [],
   "source": [
    "#check_point_s1    = \"checkpoint/session_s1.h5ad\"\n",
    "#check_point_s2    = \"checkpoint/session_s2.h5ad\"\n",
    "#check_point_s3    = \"checkpoint/session_s3.h5ad\"\n",
    "#check_point_s4    = \"checkpoint/session_s4.h5ad\"\n",
    "#check_point_s5    = \"checkpoint/session_s5.h5ad\"\n",
    "#check_point_s6    = \"checkpoint/session_s6.h5ad\"\n",
    "#check_point_s7    = \"checkpoint/session_s7.h5ad\"\n",
    "#check_point_s8    = \"checkpoint/session_s8.h5ad\"\n",
    "#check_point_s9    = \"checkpoint/session_s9.h5ad\"\n",
    "\n",
    "adata = sc.read(check_point_s8)   "
   ]
  },
  {
   "cell_type": "code",
   "execution_count": null,
   "metadata": {},
   "outputs": [],
   "source": [
    "pd.DataFrame(adata.obs[\"cell_type\"].value_counts() )"
   ]
  },
  {
   "cell_type": "markdown",
   "metadata": {},
   "source": [
    "## 2-) `Variables`\n",
    "- None"
   ]
  },
  {
   "cell_type": "code",
   "execution_count": null,
   "metadata": {},
   "outputs": [],
   "source": [
    "import_name = check_point_s8_variables\n",
    "\n",
    "with open( access_data_path(target_folder = f\"process_0/checkpoint\", target_file = import_name + \".pkl\" ) , 'rb') as file:\n",
    "    Variables_Dict_s8 = pickle.load(file)   \n",
    "\n",
    "target_gene_number      = Variables_Dict_s8['target_gene_number']\n",
    "\n",
    "selected_obs_cluster_key          = Variables_Dict_s8['selected_obs_cluster_key'] \n",
    "selected_uns_ranked_key           = Variables_Dict_s8['selected_uns_ranked_key']\n",
    "selected_cluster_names            = Variables_Dict_s8['selected_cluster_names'] \n",
    "selected_sample_cluster_barcode   = Variables_Dict_s8['selected_sample_cluster_barcode'] \n",
    "\n",
    "true_label_obs_cluster_key          = Variables_Dict_s8['true_label_obs_cluster_key'] \n",
    "true_label_uns_ranked_key           = Variables_Dict_s8['true_label_uns_ranked_key']\n",
    "true_label_cluster_names            = Variables_Dict_s8['true_label_cluster_names'] \n",
    "true_label_sample_cluster_barcode   = Variables_Dict_s8['true_label_sample_cluster_barcode'] "
   ]
  },
  {
   "cell_type": "code",
   "execution_count": null,
   "metadata": {},
   "outputs": [],
   "source": [
    "Variables_Dict_s8['target_gene_number']"
   ]
  },
  {
   "cell_type": "code",
   "execution_count": null,
   "metadata": {},
   "outputs": [],
   "source": [
    "true_label_cluster_names"
   ]
  },
  {
   "cell_type": "markdown",
   "metadata": {},
   "source": [
    "## 3-) `Functions`\n",
    "- Expression\n",
    "- Profile"
   ]
  },
  {
   "cell_type": "code",
   "execution_count": null,
   "metadata": {},
   "outputs": [],
   "source": [
    "def top_marker_genes(adata, subject_obs_cluster_key, subject_uns_ranked_key, target_gene_number): \n",
    "    # Collect top markers for each cell type\n",
    "    subject_topmarker_genes = {}\n",
    "    for cell_type in adata.obs[subject_obs_cluster_key].unique():\n",
    "        markers = adata.uns[subject_uns_ranked_key]['names'][cell_type][:target_gene_number]  # Adjust the number as needed\n",
    "        subject_topmarker_genes[cell_type] = markers\n",
    "    subject_topmarker_genes_DF = pd.DataFrame(subject_topmarker_genes)\n",
    "    return subject_topmarker_genes_DF "
   ]
  },
  {
   "cell_type": "code",
   "execution_count": null,
   "metadata": {},
   "outputs": [],
   "source": [
    "def create_Cluster_Dicts_Calculations(target_gene_number, subject_cluster_names, subject_obs_cluster_key, subject_uns_ranked_key, report): \n",
    "    \n",
    "    subject_Total_DF = pd.DataFrame() \n",
    "    for i in subject_cluster_names:\n",
    "        [print(f\"Cluster: {i}\") if report else None] \n",
    "        [print(\"-----------------\") if report else None] \n",
    "        Cell_type_Gene_Gene_expression_Dict, Full_Profile_Dict, Cell_Gene_DF = create_Cluster_Dicts( \n",
    "                                                                            target_gene_number      = target_gene_number,\n",
    "                                                                            current_cluster_barcode = str(i), # subject_sample_cluster_barcode,\n",
    "                                                                            selected_cluster_key    = subject_obs_cluster_key,\n",
    "                                                                            selected_ranked_key     = subject_uns_ranked_key,\n",
    "                                                                            report = report )\n",
    "\n",
    "        subject_Total_DF = pd.concat([subject_Total_DF, Cell_Gene_DF]) \n",
    "\n",
    "    # Modification \n",
    "    subject_Total_DF['Expression_Gene'] = subject_Total_DF.apply(lambda row: [row['Expression'], row['Gene']], axis=1)\n",
    "\n",
    "    return subject_Total_DF, Cell_type_Gene_Gene_expression_Dict, Full_Profile_Dict "
   ]
  },
  {
   "cell_type": "code",
   "execution_count": null,
   "metadata": {},
   "outputs": [],
   "source": [
    "def create_combination_DF( subject_Total_DF ): \n",
    "    new_column_names = pd.unique(subject_Total_DF[\"Cluster\"])  \n",
    "    new_gene_dict = {} \n",
    "    for i in range(len(subject_Total_DF)) :\n",
    "        current_cluster    = subject_Total_DF[\"Cluster\"].iloc[i] \n",
    "        current_gene       = subject_Total_DF[\"Gene\"].iloc[i] \n",
    "        current_expression = subject_Total_DF[\"Expression\"].iloc[i] \n",
    "        new_gene_dict[current_cluster] = new_gene_dict.get(current_cluster, []) + [[current_expression, current_gene ]] \n",
    "\n",
    "    true_label_Gene_Expression_DF = pd.DataFrame(new_gene_dict) \n",
    "    # Return \n",
    "    return true_label_Gene_Expression_DF "
   ]
  },
  {
   "cell_type": "code",
   "execution_count": null,
   "metadata": {},
   "outputs": [],
   "source": [
    "operation = access_data_path(target_folder = f\"process_0/functions/{folder_s9_extract}\", target_file = \"tool.ipynb\")     \n",
    "%run $operation "
   ]
  },
  {
   "cell_type": "markdown",
   "metadata": {},
   "source": [
    "---\n",
    "# 3- `Bench`"
   ]
  },
  {
   "cell_type": "markdown",
   "metadata": {},
   "source": [
    "## 0- `Overview`"
   ]
  },
  {
   "cell_type": "code",
   "execution_count": null,
   "metadata": {},
   "outputs": [],
   "source": [
    "adata"
   ]
  },
  {
   "cell_type": "markdown",
   "metadata": {},
   "source": [
    "#### 1- `Operation`"
   ]
  },
  {
   "cell_type": "code",
   "execution_count": null,
   "metadata": {},
   "outputs": [],
   "source": [
    "true_data             = access_data_path(\"process_0/data\", \"rna_single_cell_type.tsv\") \n",
    "ensembl_to_symbol     = pd.read_csv( true_data, sep='\\t' ) \n",
    "\n",
    "unique_ensembl_to_symbol = ensembl_to_symbol[['Gene', 'Gene name']].drop_duplicates('Gene')\n",
    "unique_ensembl_to_symbol['Gene'] = unique_ensembl_to_symbol['Gene'].str.strip()\n",
    "unique_ensembl_to_symbol['Gene name'] = unique_ensembl_to_symbol['Gene name'].str.strip()\n",
    "unique_ensembl_to_symbol.set_index('Gene', inplace=True) \n",
    "\n",
    "unique_ensembl_to_symbol_DF = unique_ensembl_to_symbol.reset_index() \n",
    "unique_ensembl_to_symbol_DF.columns = [\"ensembl_id\", \"gene_symbol\"]\n",
    "\n",
    "ensembl_to_symbol_map = unique_ensembl_to_symbol_DF.set_index('ensembl_id')['gene_symbol'].to_dict()\n",
    "ensembl_to_symbol_map"
   ]
  },
  {
   "cell_type": "markdown",
   "metadata": {},
   "source": [
    "#### 1-) `Selected`\n"
   ]
  },
  {
   "cell_type": "code",
   "execution_count": null,
   "metadata": {},
   "outputs": [],
   "source": [
    "selected_uns_ranked_key"
   ]
  },
  {
   "cell_type": "code",
   "execution_count": null,
   "metadata": {},
   "outputs": [],
   "source": [
    "selected_top_marker_genes_DF = top_marker_genes( adata = adata, \n",
    "                 subject_obs_cluster_key = selected_obs_cluster_key, \n",
    "                 subject_uns_ranked_key  = selected_uns_ranked_key, \n",
    "                 target_gene_number      = target_gene_number) \n",
    "\n",
    "selected_top_marker_genes_DF"
   ]
  },
  {
   "cell_type": "code",
   "execution_count": null,
   "metadata": {},
   "outputs": [],
   "source": [
    "for col in selected_top_marker_genes_DF.columns:\n",
    "    selected_top_marker_genes_DF[col] = selected_top_marker_genes_DF[col].map(\n",
    "        lambda x: ensembl_to_symbol_map.get(x, x)\n",
    "    )\n",
    "\n",
    "selected_top_marker_genes_DF"
   ]
  },
  {
   "cell_type": "markdown",
   "metadata": {},
   "source": [
    "##### 2- `Advanced`\n"
   ]
  },
  {
   "cell_type": "code",
   "execution_count": null,
   "metadata": {},
   "outputs": [],
   "source": [
    "adata.var"
   ]
  },
  {
   "cell_type": "code",
   "execution_count": null,
   "metadata": {},
   "outputs": [],
   "source": [
    "selected_Total_DF, selected_Dict, selected_Profile_Dict  = create_Cluster_Dicts_Calculations(\n",
    "                                                        target_gene_number = target_gene_number, \n",
    "                                                        subject_cluster_names = selected_cluster_names, \n",
    "                                                        subject_obs_cluster_key = selected_obs_cluster_key, \n",
    "                                                        subject_uns_ranked_key = selected_uns_ranked_key,\n",
    "                                                        report = False) \n",
    "selected_Total_DF"
   ]
  },
  {
   "cell_type": "code",
   "execution_count": null,
   "metadata": {},
   "outputs": [],
   "source": [
    "selected_Total_DF['Gene'] = selected_Total_DF['Gene'].map(ensembl_to_symbol_map)\n",
    "selected_Total_DF"
   ]
  },
  {
   "cell_type": "code",
   "execution_count": null,
   "metadata": {},
   "outputs": [],
   "source": [
    "selected_Combination_DF = create_combination_DF( subject_Total_DF = selected_Total_DF)\n",
    "selected_Combination_DF.head(5)"
   ]
  },
  {
   "cell_type": "markdown",
   "metadata": {},
   "source": [
    "#### 2-) `True Label`\n"
   ]
  },
  {
   "cell_type": "markdown",
   "metadata": {},
   "source": [
    "##### 1- `Basic`\n"
   ]
  },
  {
   "cell_type": "code",
   "execution_count": null,
   "metadata": {},
   "outputs": [],
   "source": [
    "adata.obs[\"cell_type\"]"
   ]
  },
  {
   "cell_type": "code",
   "execution_count": null,
   "metadata": {},
   "outputs": [],
   "source": [
    "true_label_top_marker_genes_DF = top_marker_genes( adata = adata, \n",
    "                 subject_obs_cluster_key = true_label_obs_cluster_key, \n",
    "                 subject_uns_ranked_key  = true_label_uns_ranked_key, \n",
    "                 target_gene_number      = target_gene_number) \n",
    "\n",
    "true_label_top_marker_genes_DF "
   ]
  },
  {
   "cell_type": "code",
   "execution_count": null,
   "metadata": {},
   "outputs": [],
   "source": [
    "for col in true_label_top_marker_genes_DF.columns:\n",
    "    true_label_top_marker_genes_DF[col] = true_label_top_marker_genes_DF[col].map(\n",
    "        lambda x: ensembl_to_symbol_map.get(x, x)\n",
    ")\n",
    "true_label_top_marker_genes_DF"
   ]
  },
  {
   "cell_type": "markdown",
   "metadata": {},
   "source": [
    "##### 2- `Advanced`\n"
   ]
  },
  {
   "cell_type": "code",
   "execution_count": null,
   "metadata": {},
   "outputs": [],
   "source": [
    "true_label_Total_DF, true_label_Dict, true_label_Profile_Dict  = create_Cluster_Dicts_Calculations(\n",
    "                                                        target_gene_number = target_gene_number, \n",
    "                                                        subject_cluster_names = true_label_cluster_names, \n",
    "                                                        subject_obs_cluster_key = true_label_obs_cluster_key, \n",
    "                                                        subject_uns_ranked_key = true_label_uns_ranked_key,\n",
    "                                                        report = False) \n",
    "true_label_Total_DF"
   ]
  },
  {
   "cell_type": "code",
   "execution_count": null,
   "metadata": {},
   "outputs": [],
   "source": [
    "true_label_Total_DF.to_excel(\"true_label_Total_DF.xlsx\", engine='xlsxwriter') "
   ]
  },
  {
   "cell_type": "code",
   "execution_count": null,
   "metadata": {},
   "outputs": [],
   "source": [
    "true_label_Total_DF['Gene'] = true_label_Total_DF['Gene'].map( lambda x: ensembl_to_symbol_map.get(x, x) ) \n",
    "true_label_Total_DF"
   ]
  },
  {
   "cell_type": "code",
   "execution_count": null,
   "metadata": {},
   "outputs": [],
   "source": [
    "import numpy as np \n",
    "true_label_Total_DF[\"Expression\"] = np.round(true_label_Total_DF[\"Expression\"] , 3)"
   ]
  },
  {
   "cell_type": "markdown",
   "metadata": {},
   "source": [
    "##### 3- `Combination`\n"
   ]
  },
  {
   "cell_type": "code",
   "execution_count": null,
   "metadata": {},
   "outputs": [],
   "source": [
    "true_label_Combination_DF = create_combination_DF( subject_Total_DF = true_label_Total_DF)\n",
    "true_label_Combination_DF"
   ]
  },
  {
   "cell_type": "code",
   "execution_count": null,
   "metadata": {},
   "outputs": [],
   "source": [
    "true_label_Combination_DF.to_excel(\"true_label_Combination_DF.xlsx\", engine='xlsxwriter')\n"
   ]
  },
  {
   "cell_type": "markdown",
   "metadata": {},
   "source": [
    "## 4-) `Send Extracted Ranked Genes`\n"
   ]
  },
  {
   "cell_type": "markdown",
   "metadata": {},
   "source": [
    "#### 1-) `True Label`\n"
   ]
  },
  {
   "cell_type": "code",
   "execution_count": null,
   "metadata": {},
   "outputs": [],
   "source": [
    "true_label_cell_type_gene_profile      = \"true_label_cell_type_gene_profile\"\n",
    "true_label_cell_type_gene_profile_path = access_data_path(target_folder = f\"process_0/data\", target_file = true_label_cell_type_gene_profile + \".csv\" ) \n",
    "true_label_cell_type_gene_profile_path "
   ]
  },
  {
   "cell_type": "code",
   "execution_count": null,
   "metadata": {},
   "outputs": [],
   "source": [
    "true_label_Total_DF.to_csv(true_label_cell_type_gene_profile_path) \n"
   ]
  },
  {
   "cell_type": "code",
   "execution_count": null,
   "metadata": {},
   "outputs": [],
   "source": [
    "export_name = \"true_label_Total_DF\" \n",
    "with open(os.path.join(access_data_path(f\"{process_barcode}/data/{folder_s9_extract}\", f\"{export_name}\" + \".pkl\"))  , 'wb') as file: \n",
    "    pickle.dump(true_label_Total_DF, file)   "
   ]
  },
  {
   "cell_type": "code",
   "execution_count": null,
   "metadata": {},
   "outputs": [],
   "source": [
    "export_name = \"true_label_top_marker_genes_DF\"  \n",
    "with open(os.path.join(access_data_path(f\"{process_barcode}/data/{folder_s9_extract}\", f\"{export_name}\" + \".pkl\"))  , 'wb') as file: \n",
    "    pickle.dump(true_label_top_marker_genes_DF, file)   "
   ]
  },
  {
   "cell_type": "code",
   "execution_count": null,
   "metadata": {},
   "outputs": [],
   "source": [
    "export_name = \"true_label_Combination_DF\"  \n",
    "with open(os.path.join(access_data_path(f\"{process_barcode}/data/{folder_s9_extract}\", f\"{export_name}\" + \".pkl\"))  , 'wb') as file: \n",
    "    pickle.dump(true_label_Combination_DF, file)    "
   ]
  },
  {
   "cell_type": "markdown",
   "metadata": {},
   "source": [
    "#### 2-) `Selected`\n"
   ]
  },
  {
   "cell_type": "code",
   "execution_count": null,
   "metadata": {},
   "outputs": [],
   "source": [
    "selected_cell_type_gene_profile      = \"selected_cell_type_gene_profile\"\n",
    "selected_cell_type_gene_profile_path = access_data_path(target_folder = f\"process_0/data\", target_file = selected_cell_type_gene_profile + \".csv\" ) \n",
    "selected_cell_type_gene_profile_path "
   ]
  },
  {
   "cell_type": "code",
   "execution_count": null,
   "metadata": {},
   "outputs": [],
   "source": [
    "selected_Total_DF.to_csv(selected_cell_type_gene_profile_path)  "
   ]
  },
  {
   "cell_type": "code",
   "execution_count": null,
   "metadata": {},
   "outputs": [],
   "source": [
    "export_name = \"selected_Total_DF\" \n",
    "with open(os.path.join(access_data_path(f\"{process_barcode}/data/{folder_s9_extract}\", f\"{export_name}\" + \".pkl\"))  , 'wb') as file: \n",
    "    pickle.dump(selected_Total_DF, file)   "
   ]
  },
  {
   "cell_type": "code",
   "execution_count": null,
   "metadata": {},
   "outputs": [],
   "source": [
    "export_name = \"selected_top_marker_genes_DF\" \n",
    "with open(os.path.join(access_data_path(f\"{process_barcode}/data/{folder_s9_extract}\", f\"{export_name}\" + \".pkl\"))  , 'wb') as file: \n",
    "    pickle.dump(selected_top_marker_genes_DF, file)   "
   ]
  },
  {
   "cell_type": "code",
   "execution_count": null,
   "metadata": {},
   "outputs": [],
   "source": [
    "export_name = \"selected_Combination_DF\"  \n",
    "with open(os.path.join(access_data_path(f\"{process_barcode}/data/{folder_s9_extract}\", f\"{export_name}\" + \".pkl\"))  , 'wb') as file: \n",
    "    pickle.dump(selected_Combination_DF, file)    "
   ]
  },
  {
   "cell_type": "markdown",
   "metadata": {},
   "source": [
    "---"
   ]
  },
  {
   "cell_type": "markdown",
   "metadata": {},
   "source": [
    "---\n",
    "# `Step 9: Checkpoint` "
   ]
  },
  {
   "cell_type": "markdown",
   "metadata": {},
   "source": [
    "#### Operation: Checkpoint (Save) \n",
    "Save the result."
   ]
  },
  {
   "cell_type": "code",
   "execution_count": null,
   "metadata": {},
   "outputs": [],
   "source": [
    "adata.write(check_point_s9)"
   ]
  },
  {
   "cell_type": "code",
   "execution_count": null,
   "metadata": {},
   "outputs": [],
   "source": [
    "adata"
   ]
  },
  {
   "cell_type": "code",
   "execution_count": null,
   "metadata": {},
   "outputs": [],
   "source": [
    "Variables_Dict_s9 ={\"target_gene_number\"      : target_gene_number, \n",
    "                    \n",
    "                    \"selected_obs_cluster_key\"           : selected_obs_cluster_key,\n",
    "                    \"selected_uns_ranked_key\"            : selected_uns_ranked_key,\n",
    "                    \"selected_cluster_names\"             : list(pd.unique(adata.obs[selected_obs_cluster_key])), \n",
    "                    \"selected_sample_cluster_barcode\"    : list(pd.unique(adata.obs[selected_obs_cluster_key]))[0], \n",
    "                    \n",
    "\n",
    "                    \"true_label_obs_cluster_key\"           : true_label_obs_cluster_key,\n",
    "                    \"true_label_uns_ranked_key\"            : true_label_uns_ranked_key,\n",
    "                    \"true_label_cluster_names\"             : list(pd.unique(adata.obs[true_label_obs_cluster_key])), \n",
    "                    \"true_label_sample_cluster_barcode\"    : list(pd.unique(adata.obs[true_label_obs_cluster_key]))[0], \n",
    "                     }\n",
    "\n",
    "export_name = check_point_s9_variables\n",
    "\n",
    "with open( access_data_path(target_folder = f\"process_0/checkpoint\", target_file = export_name + \".pkl\" )  , 'wb') as file:\n",
    "    pickle.dump(Variables_Dict_s9, file)\n"
   ]
  }
 ],
 "metadata": {
  "kernelspec": {
   "display_name": "Python 3",
   "language": "python",
   "name": "python3"
  },
  "language_info": {
   "codemirror_mode": {
    "name": "ipython",
    "version": 3
   },
   "file_extension": ".py",
   "mimetype": "text/x-python",
   "name": "python",
   "nbconvert_exporter": "python",
   "pygments_lexer": "ipython3",
   "version": "3.12.3"
  }
 },
 "nbformat": 4,
 "nbformat_minor": 2
}
