{
 "cells": [
  {
   "cell_type": "markdown",
   "metadata": {},
   "source": [
    "# `Step 0: Config` \n",
    "- 1-) Memory Usage \n",
    "- 2-) Path Management \n",
    "- 3-) Bench Modules "
   ]
  },
  {
   "cell_type": "markdown",
   "metadata": {},
   "source": [
    "## Memory Usage "
   ]
  },
  {
   "cell_type": "code",
   "execution_count": 1,
   "metadata": {},
   "outputs": [],
   "source": [
    "%load_ext memory_profiler "
   ]
  },
  {
   "cell_type": "code",
   "execution_count": 2,
   "metadata": {},
   "outputs": [],
   "source": [
    "import psutil\n",
    "import time  # To measure execution time\n",
    "\n",
    "# Function to print CPU and memory usage\n",
    "def print_system_usage():\n",
    "    cpu_usage = psutil.cpu_percent()\n",
    "    memory_usage = psutil.virtual_memory().percent\n",
    "    print(f\"CPU usage: {cpu_usage}%\")\n",
    "    print(f\"Memory usage: {memory_usage}%\")\n",
    "\n",
    "def point_start():\n",
    "    global start_time \n",
    "    # Monitor before loading the data\n",
    "    print(\"Before loading data:\")\n",
    "    print_system_usage()\n",
    "\n",
    "    start_time = time.time()  # Start time\n",
    "\n",
    "def point_end():\n",
    "\n",
    "    end_time = time.time()  # End time\n",
    "\n",
    "    # Monitor after loading the data\n",
    "    print(\"\\nAfter loading data:\")\n",
    "    print_system_usage()\n",
    "\n",
    "    # Print execution time\n",
    "    print(f\"\\nExecution time: {end_time - start_time} seconds\")\n",
    "\n"
   ]
  },
  {
   "cell_type": "markdown",
   "metadata": {},
   "source": [
    "## Scanpy Management "
   ]
  },
  {
   "cell_type": "markdown",
   "metadata": {},
   "source": [
    "### 1-) Modules"
   ]
  },
  {
   "cell_type": "code",
   "execution_count": 3,
   "metadata": {},
   "outputs": [
    {
     "name": "stderr",
     "output_type": "stream",
     "text": [
      "Matplotlib is building the font cache; this may take a moment.\n"
     ]
    }
   ],
   "source": [
    "import pandas as pd\n",
    "import scanpy as sc \n",
    "import pickle "
   ]
  },
  {
   "cell_type": "markdown",
   "metadata": {},
   "source": [
    "### 2-) Settings "
   ]
  },
  {
   "cell_type": "code",
   "execution_count": 4,
   "metadata": {},
   "outputs": [
    {
     "name": "stderr",
     "output_type": "stream",
     "text": [
      "/Users/mac/Documents/Thesis/exp1/bilimnn/lib/python3.12/site-packages/tqdm/auto.py:21: TqdmWarning: IProgress not found. Please update jupyter and ipywidgets. See https://ipywidgets.readthedocs.io/en/stable/user_install.html\n",
      "  from .autonotebook import tqdm as notebook_tqdm\n"
     ]
    },
    {
     "name": "stdout",
     "output_type": "stream",
     "text": [
      "scanpy==1.10.1 anndata==0.10.7 umap==0.5.6 numpy==1.26.4 scipy==1.13.1 pandas==2.2.2 scikit-learn==1.5.0 statsmodels==0.14.2 pynndescent==0.5.12\n"
     ]
    }
   ],
   "source": [
    "sc.settings.verbosity = 3  # verbosity: errors (0), warnings (1), info (2), hints (3)\n",
    "sc.logging.print_header()\n",
    "sc.settings.set_figure_params(dpi=80, facecolor=\"white\")"
   ]
  },
  {
   "cell_type": "markdown",
   "metadata": {},
   "source": [
    "### 3-) Path Management"
   ]
  },
  {
   "cell_type": "code",
   "execution_count": 5,
   "metadata": {},
   "outputs": [],
   "source": [
    "check_point_s1    = \"checkpoint/session_s1.h5ad\"\n",
    "check_point_s2    = \"checkpoint/session_s2.h5ad\"\n",
    "check_point_s3    = \"checkpoint/session_s3.h5ad\"\n",
    "check_point_s4    = \"checkpoint/session_s4.h5ad\"\n",
    "check_point_s5    = \"checkpoint/session_s5.h5ad\"\n",
    "check_point_s6    = \"checkpoint/session_s6.h5ad\"\n",
    "check_point_s7    = \"checkpoint/session_s7.h5ad\"\n",
    "check_point_s8    = \"checkpoint/session_s8.h5ad\"\n",
    "check_point_s9    = \"checkpoint/session_s9.h5ad\"\n",
    "\n",
    "check_point_s5_variables = \"session_s5_variables\" \n",
    "check_point_s6_variables = \"session_s6_variables\"\n",
    "check_point_s7_variables = \"session_s7_variables\"\n",
    "check_point_s8_variables = \"session_s8_variables\"\n",
    "check_point_s9_variables = \"session_s9_variables\"\n",
    "\n",
    "\n",
    "folder_class      = \"class\"\n",
    "folder_data       = \"data\"\n",
    "folder_checkpoint = \"checkpoint\"\n",
    "folder_progress   = \"progress\"\n",
    "\n",
    "\n",
    "folder_s9_extract = \"s9_extract\"\n",
    "\n",
    "process_barcode = \"process_0\""
   ]
  },
  {
   "cell_type": "code",
   "execution_count": 6,
   "metadata": {},
   "outputs": [],
   "source": [
    "import os \n",
    "current_Folder      = os.getcwd() \n",
    "project_Folder_Name = \"main\"\n",
    "project_Folder      = os.path.join(current_Folder.split(project_Folder_Name)[0], project_Folder_Name) \n",
    "\n",
    "access_data_path = lambda target_folder, target_file: os.path.join(project_Folder, target_folder, target_file)\n",
    "\n",
    "# Eg: access_data_path(\"process_0/data\", \"raw_data.h5ad\")\n",
    "# '/Volumes/yeniwd/github/iThesis/backend/modules/experiments/exp1/process_0/data/raw_data.h5ad' "
   ]
  }
 ],
 "metadata": {
  "kernelspec": {
   "display_name": "bilim",
   "language": "python",
   "name": "python3"
  },
  "language_info": {
   "codemirror_mode": {
    "name": "ipython",
    "version": 3
   },
   "file_extension": ".py",
   "mimetype": "text/x-python",
   "name": "python",
   "nbconvert_exporter": "python",
   "pygments_lexer": "ipython3",
   "version": "3.12.3"
  }
 },
 "nbformat": 4,
 "nbformat_minor": 2
}
