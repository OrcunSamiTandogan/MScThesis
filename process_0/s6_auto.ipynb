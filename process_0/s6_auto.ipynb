{
 "cells": [
  {
   "cell_type": "markdown",
   "metadata": {},
   "source": [
    "# `Step 6: Automatic Annotation | Optional`"
   ]
  },
  {
   "cell_type": "markdown",
   "metadata": {},
   "source": [
    "# 0- `Config`\n"
   ]
  },
  {
   "cell_type": "code",
   "execution_count": 1,
   "metadata": {},
   "outputs": [
    {
     "name": "stdout",
     "output_type": "stream",
     "text": [
      "Manager Mode: OFF\n"
     ]
    },
    {
     "name": "stderr",
     "output_type": "stream",
     "text": [
      "/Users/mac/Documents/Thesis/exp1/bilimnn/lib/python3.12/site-packages/tqdm/auto.py:21: TqdmWarning: IProgress not found. Please update jupyter and ipywidgets. See https://ipywidgets.readthedocs.io/en/stable/user_install.html\n",
      "  from .autonotebook import tqdm as notebook_tqdm\n"
     ]
    },
    {
     "name": "stdout",
     "output_type": "stream",
     "text": [
      "scanpy==1.10.1 anndata==0.10.7 umap==0.5.6 numpy==1.26.4 scipy==1.13.1 pandas==2.2.2 scikit-learn==1.5.0 statsmodels==0.14.2 igraph==0.11.5 pynndescent==0.5.12\n"
     ]
    }
   ],
   "source": [
    "try: \n",
    "    if manager == 1: \n",
    "        print(\"Manager Mode: ON\")\n",
    "except:\n",
    "    print(\"Manager Mode: OFF\")\n",
    "    %run s0_config.ipynb "
   ]
  },
  {
   "cell_type": "markdown",
   "metadata": {},
   "source": [
    "# 1- `Load` "
   ]
  },
  {
   "cell_type": "markdown",
   "metadata": {},
   "source": [
    "## 1-) `Data`"
   ]
  },
  {
   "cell_type": "code",
   "execution_count": 3,
   "metadata": {},
   "outputs": [],
   "source": [
    "#check_point_s1    = \"checkpoint/session_s1.h5ad\"\n",
    "#check_point_s2    = \"checkpoint/session_s2.h5ad\"\n",
    "#check_point_s3    = \"checkpoint/session_s3.h5ad\"\n",
    "#check_point_s4    = \"checkpoint/session_s4.h5ad\"\n",
    "#check_point_s5    = \"checkpoint/session_s5.h5ad\"\n",
    "#check_point_s6    = \"checkpoint/session_s6.h5ad\"\n",
    "#check_point_s7    = \"checkpoint/session_s7.h5ad\"\n",
    "#check_point_s8    = \"checkpoint/session_s8.h5ad\"\n",
    "#check_point_s9    = \"checkpoint/session_s9.h5ad\"\n",
    "\n",
    "adata = sc.read(check_point_s5)   "
   ]
  },
  {
   "cell_type": "code",
   "execution_count": 4,
   "metadata": {},
   "outputs": [
    {
     "data": {
      "text/plain": [
       "AnnData object with n_obs × n_vars = 24072 × 2262\n",
       "    obs: 'Source', 'GEX_region', 'cluster', 'cluster_source', 'minor_subset', 'minor_subset_source', 'major_subset', 'major_subset_source', 'cell_type_source', 'donor_id', 'scRNASeq_sample_ID', 'Age', 'Hospitalstay', 'TimeSinceOnset', 'QC_ngenes', 'QC_total_UMI', 'QC_pct_mitochondrial', 'QC_scrub_doublet_scores', 'TCR_clone_count', 'TCR_clone_proportion', 'BCR_total_mut_HC', 'BCR_clonal_abundance_HC', 'BCR_total_mut_LC', 'assay_ontology_term_id', 'self_reported_ethnicity_ontology_term_id', 'disease_ontology_term_id', 'tissue_ontology_term_id', 'cell_type_ontology_term_id', 'cell_type_original', 'development_stage_ontology_term_id', 'sex_ontology_term_id', 'organism_ontology_term_id', 'is_primary_data', 'suspension_type', 'cell_type', 'assay', 'disease', 'organism', 'sex', 'tissue', 'self_reported_ethnicity', 'development_stage', 'n_genes', 'n_counts', 'n_genes_by_counts', 'total_counts', 'total_counts_mt', 'pct_counts_mt', 'doublet_score', 'predicted_doublet', '0.16', '0.161', '0.162', '0.163', '0.164', '0.165', '0.166', '0.167', '0.168', '0.169', '0.17', '0.171', '0.17200000000000001', '0.17300000000000001', '0.17400000000000002', '0.17500000000000002', '0.17600000000000002', '0.17700000000000002', '0.17800000000000002', '0.17900000000000002', '0.18000000000000002', '0.18100000000000002', '0.18200000000000002', '0.18300000000000002', '0.18400000000000002', '0.18500000000000003', '0.18600000000000003', '0.18700000000000003', '0.18800000000000003', '0.18900000000000003', '0.19000000000000003', '0.19100000000000003', '0.19200000000000003', '0.19300000000000003', '0.19400000000000003', '0.19500000000000003', '0.19600000000000004', '0.19700000000000004', '0.19800000000000004', '0.19900000000000004', '0.20000000000000004', '0.20100000000000004', '0.20200000000000004', '0.20300000000000004', '0.20400000000000004', '0.20500000000000004', '0.20600000000000004', '0.20700000000000005', '0.20800000000000005', '0.20900000000000005', '0.21000000000000005', '0.21100000000000005', '0.21200000000000005', '0.21300000000000005', '0.21400000000000005', '0.21500000000000005', '0.21600000000000005', '0.21700000000000005', '0.21800000000000005', '0.21900000000000006', '0.22000000000000006', '0.22100000000000006', '0.22200000000000006', '0.22300000000000006', '0.22400000000000006', '0.22500000000000006', '0.22600000000000006', '0.22700000000000006', '0.22800000000000006', '0.22900000000000006', '0.23000000000000007', '0.23100000000000007', '0.23200000000000007', '0.23300000000000007', '0.23400000000000007', '0.23500000000000007', '0.23600000000000007', '0.23700000000000007', '0.23800000000000007', '0.23900000000000007', '0.24000000000000007', '0.24100000000000008', '0.24200000000000008', '0.24300000000000008', '0.24400000000000008', '0.24500000000000008', '0.24600000000000008', '0.24700000000000008', '0.24800000000000008', '0.24900000000000008', '0.2500000000000001', '0.2510000000000001', '0.2520000000000001', '0.2530000000000001', '0.2540000000000001', '0.2550000000000001', '0.2560000000000001', '0.2570000000000001', '0.2580000000000001', '0.2590000000000001', '0.2600000000000001', '0.2610000000000001', '0.2620000000000001', '0.2630000000000001', '0.2640000000000001', '0.2650000000000001', '0.2660000000000001', '0.2670000000000001', '0.2680000000000001', '0.26900000000000013', '0.27000000000000013', '0.27100000000000013', '0.27200000000000013', '0.27300000000000013', '0.27400000000000013', '0.27500000000000013', '0.27600000000000013', '0.27700000000000014', '0.27800000000000014', '0.27900000000000014', '0.28000000000000014', '0.28100000000000014', '0.28200000000000014', '0.28300000000000014', '0.28400000000000014', '0.28500000000000014', '0.28600000000000014', '0.28700000000000014', '0.28800000000000014', '0.28900000000000015', '0.29000000000000015', '0.29100000000000015', '0.29200000000000015', '0.29300000000000015', '0.29400000000000015', '0.29500000000000015', '0.29600000000000015', '0.29700000000000015', '0.29800000000000015', '0.29900000000000015', 'cell_type_short', 'leiden_0.285'\n",
       "    var: 'feature_id', 'feature_is_filtered', 'feature_name', 'feature_reference', 'feature_biotype', 'n_cells', 'mt', 'n_cells_by_counts', 'mean_counts', 'pct_dropout_by_counts', 'total_counts', 'highly_variable', 'means', 'dispersions', 'dispersions_norm', 'mean', 'std'\n",
       "    uns: '0.16', '0.161', '0.162', '0.163', '0.164', '0.165', '0.165_colors', '0.166', '0.166_colors', '0.167', '0.167_colors', '0.168', '0.168_colors', '0.169', '0.17', '0.171', '0.171_colors', '0.17200000000000001', '0.17200000000000001_colors', '0.17300000000000001', '0.17400000000000002', '0.17500000000000002', '0.17600000000000002', '0.17700000000000002', '0.17700000000000002_colors', '0.17800000000000002', '0.17800000000000002_colors', '0.17900000000000002', '0.17900000000000002_colors', '0.17_colors', '0.18000000000000002', '0.18000000000000002_colors', '0.18100000000000002', '0.18100000000000002_colors', '0.18200000000000002', '0.18300000000000002', '0.18400000000000002', '0.18500000000000003', '0.18500000000000003_colors', '0.18600000000000003', '0.18700000000000003', '0.18700000000000003_colors', '0.18800000000000003', '0.18900000000000003', '0.19000000000000003', '0.19000000000000003_colors', '0.19100000000000003', '0.19100000000000003_colors', '0.19200000000000003', '0.19300000000000003', '0.19400000000000003', '0.19400000000000003_colors', '0.19500000000000003', '0.19600000000000004', '0.19600000000000004_colors', '0.19700000000000004', '0.19800000000000004', '0.19800000000000004_colors', '0.19900000000000004', '0.19900000000000004_colors', '0.20000000000000004', '0.20100000000000004', '0.20200000000000004', '0.20200000000000004_colors', '0.20300000000000004', '0.20400000000000004', '0.20500000000000004', '0.20600000000000004', '0.20700000000000005', '0.20700000000000005_colors', '0.20800000000000005', '0.20800000000000005_colors', '0.20900000000000005', '0.20900000000000005_colors', '0.21000000000000005', '0.21000000000000005_colors', '0.21100000000000005', '0.21100000000000005_colors', '0.21200000000000005', '0.21200000000000005_colors', '0.21300000000000005', '0.21400000000000005', '0.21500000000000005', '0.21600000000000005', '0.21700000000000005', '0.21800000000000005', '0.21900000000000006', '0.22000000000000006', '0.22100000000000006', '0.22200000000000006', '0.22300000000000006', '0.22400000000000006', '0.22500000000000006', '0.22600000000000006', '0.22700000000000006', '0.22800000000000006', '0.22800000000000006_colors', '0.22900000000000006', '0.23000000000000007', '0.23000000000000007_colors', '0.23100000000000007', '0.23200000000000007', '0.23300000000000007', '0.23400000000000007', '0.23500000000000007', '0.23500000000000007_colors', '0.23600000000000007', '0.23600000000000007_colors', '0.23700000000000007', '0.23800000000000007', '0.23900000000000007', '0.23900000000000007_colors', '0.24000000000000007', '0.24000000000000007_colors', '0.24100000000000008', '0.24100000000000008_colors', '0.24200000000000008', '0.24200000000000008_colors', '0.24300000000000008', '0.24400000000000008', '0.24500000000000008', '0.24600000000000008', '0.24700000000000008', '0.24800000000000008', '0.24900000000000008', '0.2500000000000001', '0.2510000000000001', '0.2520000000000001', '0.2530000000000001', '0.2540000000000001', '0.2550000000000001', '0.2560000000000001', '0.2570000000000001', '0.2580000000000001', '0.2590000000000001', '0.2600000000000001', '0.2610000000000001', '0.2620000000000001', '0.2630000000000001', '0.2640000000000001', '0.2650000000000001', '0.2650000000000001_colors', '0.2660000000000001', '0.2670000000000001', '0.2680000000000001', '0.26900000000000013', '0.27000000000000013', '0.27100000000000013', '0.27200000000000013', '0.27300000000000013', '0.27400000000000013', '0.27500000000000013', '0.27600000000000013', '0.27700000000000014', '0.27800000000000014', '0.27900000000000014', '0.28000000000000014', '0.28100000000000014', '0.28200000000000014', '0.28300000000000014', '0.28400000000000014', '0.28500000000000014', '0.28500000000000014_colors', '0.28600000000000014', '0.28700000000000014', '0.28800000000000014', '0.28900000000000015', '0.29000000000000015', '0.29100000000000015', '0.29200000000000015', '0.29300000000000015', '0.29400000000000015', '0.29400000000000015_colors', '0.29500000000000015', '0.29600000000000015', '0.29700000000000015', '0.29800000000000015', '0.29900000000000015', 'Institute', 'ObjectCreateDate', 'Source_colors', 'cell_type_ontology_term_id_colors', 'cell_type_short_colors', 'dendrogram_1', 'dendrogram_2', 'genome_annotation_version', 'hvg', 'leiden_0.285', 'leiden_0.285_colors', 'leiden_0.285_sizes', 'log1p', 'neighbors', 'paga', 'pca', 'rank_genes_leiden_wilcoxon', 'rank_genes_true_label', 'schema_version', 'scrublet', 'title', 'tsne', 'umap'\n",
       "    obsm: 'X_pca', 'X_tsne', 'X_umap', 'X_umap_source'\n",
       "    varm: 'PCs'\n",
       "    obsp: 'connectivities', 'distances'"
      ]
     },
     "execution_count": 4,
     "metadata": {},
     "output_type": "execute_result"
    }
   ],
   "source": [
    "adata "
   ]
  },
  {
   "cell_type": "markdown",
   "metadata": {},
   "source": [
    "## 2-) `Variables`\n",
    "- None"
   ]
  },
  {
   "cell_type": "code",
   "execution_count": 5,
   "metadata": {},
   "outputs": [],
   "source": [
    "import_name = check_point_s5_variables\n",
    "\n",
    "with open( access_data_path(target_folder = f\"process_0/checkpoint\", target_file = import_name + \".pkl\" ) , 'rb') as file:\n",
    "    Variables_Dict_s5 = pickle.load(file)   \n",
    "\n",
    "target_gene_number      = Variables_Dict_s5['target_gene_number']\n",
    "\n",
    "selected_obs_cluster_key          = Variables_Dict_s5['selected_obs_cluster_key'] \n",
    "selected_uns_ranked_key           = Variables_Dict_s5['selected_uns_ranked_key']\n",
    "selected_cluster_names            = Variables_Dict_s5['selected_cluster_names'] \n",
    "selected_sample_cluster_barcode   = Variables_Dict_s5['selected_sample_cluster_barcode'] \n",
    "\n",
    "true_label_obs_cluster_key          = Variables_Dict_s5['true_label_obs_cluster_key'] \n",
    "true_label_uns_ranked_key           = Variables_Dict_s5['true_label_uns_ranked_key']\n",
    "true_label_cluster_names            = Variables_Dict_s5['true_label_cluster_names'] \n",
    "true_label_sample_cluster_barcode   = Variables_Dict_s5['true_label_sample_cluster_barcode'] "
   ]
  },
  {
   "cell_type": "markdown",
   "metadata": {},
   "source": [
    "## 3-) `Functions`"
   ]
  },
  {
   "cell_type": "code",
   "execution_count": null,
   "metadata": {},
   "outputs": [],
   "source": []
  },
  {
   "cell_type": "markdown",
   "metadata": {},
   "source": [
    "## 4-) `Model`"
   ]
  },
  {
   "cell_type": "markdown",
   "metadata": {},
   "source": [
    "### 1-) `Setup`"
   ]
  },
  {
   "cell_type": "code",
   "execution_count": 6,
   "metadata": {},
   "outputs": [
    {
     "name": "stderr",
     "output_type": "stream",
     "text": [
      "📂 Storing models in /Users/mac/.celltypist/data/models\n",
      "⏩ Skipping [1/48]: Immune_All_Low.pkl (file exists)\n",
      "⏩ Skipping [2/48]: Immune_All_High.pkl (file exists)\n",
      "⏩ Skipping [3/48]: Adult_CynomolgusMacaque_Hippocampus.pkl (file exists)\n",
      "⏩ Skipping [4/48]: Adult_Human_PancreaticIslet.pkl (file exists)\n",
      "⏩ Skipping [5/48]: Adult_Human_Skin.pkl (file exists)\n",
      "⏩ Skipping [6/48]: Adult_Mouse_Gut.pkl (file exists)\n",
      "⏩ Skipping [7/48]: Adult_Mouse_OlfactoryBulb.pkl (file exists)\n",
      "⏩ Skipping [8/48]: Adult_Pig_Hippocampus.pkl (file exists)\n",
      "⏩ Skipping [9/48]: Adult_RhesusMacaque_Hippocampus.pkl (file exists)\n",
      "⏩ Skipping [10/48]: Autopsy_COVID19_Lung.pkl (file exists)\n",
      "⏩ Skipping [11/48]: COVID19_HumanChallenge_Blood.pkl (file exists)\n",
      "⏩ Skipping [12/48]: COVID19_Immune_Landscape.pkl (file exists)\n",
      "⏩ Skipping [13/48]: Cells_Adult_Breast.pkl (file exists)\n",
      "⏩ Skipping [14/48]: Cells_Fetal_Lung.pkl (file exists)\n",
      "⏩ Skipping [15/48]: Cells_Human_Tonsil.pkl (file exists)\n",
      "⏩ Skipping [16/48]: Cells_Intestinal_Tract.pkl (file exists)\n",
      "⏩ Skipping [17/48]: Cells_Lung_Airway.pkl (file exists)\n",
      "⏩ Skipping [18/48]: Developing_Human_Brain.pkl (file exists)\n",
      "⏩ Skipping [19/48]: Developing_Human_Gonads.pkl (file exists)\n",
      "⏩ Skipping [20/48]: Developing_Human_Hippocampus.pkl (file exists)\n",
      "⏩ Skipping [21/48]: Developing_Human_Organs.pkl (file exists)\n",
      "⏩ Skipping [22/48]: Developing_Human_Thymus.pkl (file exists)\n",
      "⏩ Skipping [23/48]: Developing_Mouse_Brain.pkl (file exists)\n",
      "⏩ Skipping [24/48]: Developing_Mouse_Hippocampus.pkl (file exists)\n",
      "⏩ Skipping [25/48]: Fetal_Human_AdrenalGlands.pkl (file exists)\n",
      "⏩ Skipping [26/48]: Fetal_Human_Pancreas.pkl (file exists)\n",
      "⏩ Skipping [27/48]: Fetal_Human_Pituitary.pkl (file exists)\n",
      "⏩ Skipping [28/48]: Fetal_Human_Retina.pkl (file exists)\n",
      "⏩ Skipping [29/48]: Fetal_Human_Skin.pkl (file exists)\n",
      "⏩ Skipping [30/48]: Healthy_Adult_Heart.pkl (file exists)\n",
      "⏩ Skipping [31/48]: Healthy_COVID19_PBMC.pkl (file exists)\n",
      "⏩ Skipping [32/48]: Healthy_Human_Liver.pkl (file exists)\n",
      "⏩ Skipping [33/48]: Healthy_Mouse_Liver.pkl (file exists)\n",
      "⏩ Skipping [34/48]: Human_AdultAged_Hippocampus.pkl (file exists)\n",
      "⏩ Skipping [35/48]: Human_Colorectal_Cancer.pkl (file exists)\n",
      "⏩ Skipping [36/48]: Human_Developmental_Retina.pkl (file exists)\n",
      "⏩ Skipping [37/48]: Human_Embryonic_YolkSac.pkl (file exists)\n",
      "⏩ Skipping [38/48]: Human_IPF_Lung.pkl (file exists)\n",
      "⏩ Skipping [39/48]: Human_Longitudinal_Hippocampus.pkl (file exists)\n",
      "⏩ Skipping [40/48]: Human_Lung_Atlas.pkl (file exists)\n",
      "⏩ Skipping [41/48]: Human_PF_Lung.pkl (file exists)\n",
      "⏩ Skipping [42/48]: Lethal_COVID19_Lung.pkl (file exists)\n",
      "⏩ Skipping [43/48]: Mouse_Dentate_Gyrus.pkl (file exists)\n",
      "⏩ Skipping [44/48]: Mouse_Isocortex_Hippocampus.pkl (file exists)\n",
      "⏩ Skipping [45/48]: Mouse_Postnatal_DentateGyrus.pkl (file exists)\n",
      "⏩ Skipping [46/48]: Mouse_Whole_Brain.pkl (file exists)\n",
      "⏩ Skipping [47/48]: Nuclei_Lung_Airway.pkl (file exists)\n",
      "⏩ Skipping [48/48]: Pan_Fetal_Human.pkl (file exists)\n",
      "👉 Detailed model information can be found at `https://www.celltypist.org/models`\n"
     ]
    },
    {
     "data": {
      "text/html": [
       "<div>\n",
       "<style scoped>\n",
       "    .dataframe tbody tr th:only-of-type {\n",
       "        vertical-align: middle;\n",
       "    }\n",
       "\n",
       "    .dataframe tbody tr th {\n",
       "        vertical-align: top;\n",
       "    }\n",
       "\n",
       "    .dataframe thead th {\n",
       "        text-align: right;\n",
       "    }\n",
       "</style>\n",
       "<table border=\"1\" class=\"dataframe\">\n",
       "  <thead>\n",
       "    <tr style=\"text-align: right;\">\n",
       "      <th></th>\n",
       "      <th>model</th>\n",
       "      <th>description</th>\n",
       "    </tr>\n",
       "  </thead>\n",
       "  <tbody>\n",
       "    <tr>\n",
       "      <th>0</th>\n",
       "      <td>Immune_All_Low.pkl</td>\n",
       "      <td>immune sub-populations combined from 20 tissue...</td>\n",
       "    </tr>\n",
       "    <tr>\n",
       "      <th>1</th>\n",
       "      <td>Immune_All_High.pkl</td>\n",
       "      <td>immune populations combined from 20 tissues of...</td>\n",
       "    </tr>\n",
       "    <tr>\n",
       "      <th>2</th>\n",
       "      <td>Adult_CynomolgusMacaque_Hippocampus.pkl</td>\n",
       "      <td>cell types from the hippocampus of adult cynom...</td>\n",
       "    </tr>\n",
       "    <tr>\n",
       "      <th>3</th>\n",
       "      <td>Adult_Human_PancreaticIslet.pkl</td>\n",
       "      <td>cell types from pancreatic islets of healthy a...</td>\n",
       "    </tr>\n",
       "    <tr>\n",
       "      <th>4</th>\n",
       "      <td>Adult_Human_Skin.pkl</td>\n",
       "      <td>cell types from human healthy adult skin</td>\n",
       "    </tr>\n",
       "    <tr>\n",
       "      <th>5</th>\n",
       "      <td>Adult_Mouse_Gut.pkl</td>\n",
       "      <td>cell types in the adult mouse gut combined fro...</td>\n",
       "    </tr>\n",
       "    <tr>\n",
       "      <th>6</th>\n",
       "      <td>Adult_Mouse_OlfactoryBulb.pkl</td>\n",
       "      <td>cell types from the olfactory bulb of adult mice</td>\n",
       "    </tr>\n",
       "    <tr>\n",
       "      <th>7</th>\n",
       "      <td>Adult_Pig_Hippocampus.pkl</td>\n",
       "      <td>cell types from the adult pig hippocampus</td>\n",
       "    </tr>\n",
       "    <tr>\n",
       "      <th>8</th>\n",
       "      <td>Adult_RhesusMacaque_Hippocampus.pkl</td>\n",
       "      <td>cell types from the hippocampus of adult rhesu...</td>\n",
       "    </tr>\n",
       "    <tr>\n",
       "      <th>9</th>\n",
       "      <td>Autopsy_COVID19_Lung.pkl</td>\n",
       "      <td>cell types from the lungs of 16 SARS-CoV-2 inf...</td>\n",
       "    </tr>\n",
       "    <tr>\n",
       "      <th>10</th>\n",
       "      <td>COVID19_HumanChallenge_Blood.pkl</td>\n",
       "      <td>detailed blood cell states from 16 individuals...</td>\n",
       "    </tr>\n",
       "    <tr>\n",
       "      <th>11</th>\n",
       "      <td>COVID19_Immune_Landscape.pkl</td>\n",
       "      <td>immune subtypes from lung and blood of COVID-1...</td>\n",
       "    </tr>\n",
       "    <tr>\n",
       "      <th>12</th>\n",
       "      <td>Cells_Adult_Breast.pkl</td>\n",
       "      <td>cell types from the adult human breast</td>\n",
       "    </tr>\n",
       "    <tr>\n",
       "      <th>13</th>\n",
       "      <td>Cells_Fetal_Lung.pkl</td>\n",
       "      <td>cell types from human embryonic and fetal lungs</td>\n",
       "    </tr>\n",
       "    <tr>\n",
       "      <th>14</th>\n",
       "      <td>Cells_Human_Tonsil.pkl</td>\n",
       "      <td>tonsillar cell types from humans (3-65 years)</td>\n",
       "    </tr>\n",
       "    <tr>\n",
       "      <th>15</th>\n",
       "      <td>Cells_Intestinal_Tract.pkl</td>\n",
       "      <td>intestinal cells from fetal, pediatric (health...</td>\n",
       "    </tr>\n",
       "    <tr>\n",
       "      <th>16</th>\n",
       "      <td>Cells_Lung_Airway.pkl</td>\n",
       "      <td>cell populations from scRNA-seq of five locati...</td>\n",
       "    </tr>\n",
       "    <tr>\n",
       "      <th>17</th>\n",
       "      <td>Developing_Human_Brain.pkl</td>\n",
       "      <td>cell types from the first-trimester developing...</td>\n",
       "    </tr>\n",
       "    <tr>\n",
       "      <th>18</th>\n",
       "      <td>Developing_Human_Gonads.pkl</td>\n",
       "      <td>cell types of human gonadal and adjacent extra...</td>\n",
       "    </tr>\n",
       "    <tr>\n",
       "      <th>19</th>\n",
       "      <td>Developing_Human_Hippocampus.pkl</td>\n",
       "      <td>cell types from the developing human hippocampus</td>\n",
       "    </tr>\n",
       "    <tr>\n",
       "      <th>20</th>\n",
       "      <td>Developing_Human_Organs.pkl</td>\n",
       "      <td>cell types of five endoderm-derived organs in ...</td>\n",
       "    </tr>\n",
       "    <tr>\n",
       "      <th>21</th>\n",
       "      <td>Developing_Human_Thymus.pkl</td>\n",
       "      <td>cell populations in embryonic, fetal, pediatri...</td>\n",
       "    </tr>\n",
       "    <tr>\n",
       "      <th>22</th>\n",
       "      <td>Developing_Mouse_Brain.pkl</td>\n",
       "      <td>cell types from the embryonic mouse brain betw...</td>\n",
       "    </tr>\n",
       "    <tr>\n",
       "      <th>23</th>\n",
       "      <td>Developing_Mouse_Hippocampus.pkl</td>\n",
       "      <td>cell types from the mouse hippocampus at postn...</td>\n",
       "    </tr>\n",
       "    <tr>\n",
       "      <th>24</th>\n",
       "      <td>Fetal_Human_AdrenalGlands.pkl</td>\n",
       "      <td>cell types of human fetal adrenal glands from ...</td>\n",
       "    </tr>\n",
       "    <tr>\n",
       "      <th>25</th>\n",
       "      <td>Fetal_Human_Pancreas.pkl</td>\n",
       "      <td>pancreatic cell types from human embryos at 9-...</td>\n",
       "    </tr>\n",
       "    <tr>\n",
       "      <th>26</th>\n",
       "      <td>Fetal_Human_Pituitary.pkl</td>\n",
       "      <td>cell types of human fetal pituitaries from 7 t...</td>\n",
       "    </tr>\n",
       "    <tr>\n",
       "      <th>27</th>\n",
       "      <td>Fetal_Human_Retina.pkl</td>\n",
       "      <td>cell types from human fetal neural retina and ...</td>\n",
       "    </tr>\n",
       "    <tr>\n",
       "      <th>28</th>\n",
       "      <td>Fetal_Human_Skin.pkl</td>\n",
       "      <td>cell types from developing human fetal skin</td>\n",
       "    </tr>\n",
       "    <tr>\n",
       "      <th>29</th>\n",
       "      <td>Healthy_Adult_Heart.pkl</td>\n",
       "      <td>cell types from eight anatomical regions of th...</td>\n",
       "    </tr>\n",
       "    <tr>\n",
       "      <th>30</th>\n",
       "      <td>Healthy_COVID19_PBMC.pkl</td>\n",
       "      <td>peripheral blood mononuclear cell types from h...</td>\n",
       "    </tr>\n",
       "    <tr>\n",
       "      <th>31</th>\n",
       "      <td>Healthy_Human_Liver.pkl</td>\n",
       "      <td>cell types from scRNA-seq and snRNA-seq of the...</td>\n",
       "    </tr>\n",
       "    <tr>\n",
       "      <th>32</th>\n",
       "      <td>Healthy_Mouse_Liver.pkl</td>\n",
       "      <td>cell types from scRNA-seq and snRNA-seq of the...</td>\n",
       "    </tr>\n",
       "    <tr>\n",
       "      <th>33</th>\n",
       "      <td>Human_AdultAged_Hippocampus.pkl</td>\n",
       "      <td>cell types from the hippocampus of adult and a...</td>\n",
       "    </tr>\n",
       "    <tr>\n",
       "      <th>34</th>\n",
       "      <td>Human_Colorectal_Cancer.pkl</td>\n",
       "      <td>cell types of colon tissues from patients with...</td>\n",
       "    </tr>\n",
       "    <tr>\n",
       "      <th>35</th>\n",
       "      <td>Human_Developmental_Retina.pkl</td>\n",
       "      <td>cell types from human fetal retina</td>\n",
       "    </tr>\n",
       "    <tr>\n",
       "      <th>36</th>\n",
       "      <td>Human_Embryonic_YolkSac.pkl</td>\n",
       "      <td>cell types of the human yolk sac from 4-8 post...</td>\n",
       "    </tr>\n",
       "    <tr>\n",
       "      <th>37</th>\n",
       "      <td>Human_IPF_Lung.pkl</td>\n",
       "      <td>cell types from idiopathic pulmonary fibrosis,...</td>\n",
       "    </tr>\n",
       "    <tr>\n",
       "      <th>38</th>\n",
       "      <td>Human_Longitudinal_Hippocampus.pkl</td>\n",
       "      <td>cell types from the adult human anterior and p...</td>\n",
       "    </tr>\n",
       "    <tr>\n",
       "      <th>39</th>\n",
       "      <td>Human_Lung_Atlas.pkl</td>\n",
       "      <td>integrated Human Lung Cell Atlas (HLCA) combin...</td>\n",
       "    </tr>\n",
       "    <tr>\n",
       "      <th>40</th>\n",
       "      <td>Human_PF_Lung.pkl</td>\n",
       "      <td>cell types from different forms of pulmonary f...</td>\n",
       "    </tr>\n",
       "    <tr>\n",
       "      <th>41</th>\n",
       "      <td>Lethal_COVID19_Lung.pkl</td>\n",
       "      <td>cell types from the lungs of individuals who d...</td>\n",
       "    </tr>\n",
       "    <tr>\n",
       "      <th>42</th>\n",
       "      <td>Mouse_Dentate_Gyrus.pkl</td>\n",
       "      <td>cell types from the dentate gyrus in perinatal...</td>\n",
       "    </tr>\n",
       "    <tr>\n",
       "      <th>43</th>\n",
       "      <td>Mouse_Isocortex_Hippocampus.pkl</td>\n",
       "      <td>cell types from the adult mouse isocortex (neo...</td>\n",
       "    </tr>\n",
       "    <tr>\n",
       "      <th>44</th>\n",
       "      <td>Mouse_Postnatal_DentateGyrus.pkl</td>\n",
       "      <td>cell types from the mouse dentate gyrus in pos...</td>\n",
       "    </tr>\n",
       "    <tr>\n",
       "      <th>45</th>\n",
       "      <td>Mouse_Whole_Brain.pkl</td>\n",
       "      <td>cell types from the whole adult mouse brain</td>\n",
       "    </tr>\n",
       "    <tr>\n",
       "      <th>46</th>\n",
       "      <td>Nuclei_Lung_Airway.pkl</td>\n",
       "      <td>cell populations from snRNA-seq of five locati...</td>\n",
       "    </tr>\n",
       "    <tr>\n",
       "      <th>47</th>\n",
       "      <td>Pan_Fetal_Human.pkl</td>\n",
       "      <td>stromal and immune populations from the human ...</td>\n",
       "    </tr>\n",
       "  </tbody>\n",
       "</table>\n",
       "</div>"
      ],
      "text/plain": [
       "                                      model  \\\n",
       "0                        Immune_All_Low.pkl   \n",
       "1                       Immune_All_High.pkl   \n",
       "2   Adult_CynomolgusMacaque_Hippocampus.pkl   \n",
       "3           Adult_Human_PancreaticIslet.pkl   \n",
       "4                      Adult_Human_Skin.pkl   \n",
       "5                       Adult_Mouse_Gut.pkl   \n",
       "6             Adult_Mouse_OlfactoryBulb.pkl   \n",
       "7                 Adult_Pig_Hippocampus.pkl   \n",
       "8       Adult_RhesusMacaque_Hippocampus.pkl   \n",
       "9                  Autopsy_COVID19_Lung.pkl   \n",
       "10         COVID19_HumanChallenge_Blood.pkl   \n",
       "11             COVID19_Immune_Landscape.pkl   \n",
       "12                   Cells_Adult_Breast.pkl   \n",
       "13                     Cells_Fetal_Lung.pkl   \n",
       "14                   Cells_Human_Tonsil.pkl   \n",
       "15               Cells_Intestinal_Tract.pkl   \n",
       "16                    Cells_Lung_Airway.pkl   \n",
       "17               Developing_Human_Brain.pkl   \n",
       "18              Developing_Human_Gonads.pkl   \n",
       "19         Developing_Human_Hippocampus.pkl   \n",
       "20              Developing_Human_Organs.pkl   \n",
       "21              Developing_Human_Thymus.pkl   \n",
       "22               Developing_Mouse_Brain.pkl   \n",
       "23         Developing_Mouse_Hippocampus.pkl   \n",
       "24            Fetal_Human_AdrenalGlands.pkl   \n",
       "25                 Fetal_Human_Pancreas.pkl   \n",
       "26                Fetal_Human_Pituitary.pkl   \n",
       "27                   Fetal_Human_Retina.pkl   \n",
       "28                     Fetal_Human_Skin.pkl   \n",
       "29                  Healthy_Adult_Heart.pkl   \n",
       "30                 Healthy_COVID19_PBMC.pkl   \n",
       "31                  Healthy_Human_Liver.pkl   \n",
       "32                  Healthy_Mouse_Liver.pkl   \n",
       "33          Human_AdultAged_Hippocampus.pkl   \n",
       "34              Human_Colorectal_Cancer.pkl   \n",
       "35           Human_Developmental_Retina.pkl   \n",
       "36              Human_Embryonic_YolkSac.pkl   \n",
       "37                       Human_IPF_Lung.pkl   \n",
       "38       Human_Longitudinal_Hippocampus.pkl   \n",
       "39                     Human_Lung_Atlas.pkl   \n",
       "40                        Human_PF_Lung.pkl   \n",
       "41                  Lethal_COVID19_Lung.pkl   \n",
       "42                  Mouse_Dentate_Gyrus.pkl   \n",
       "43          Mouse_Isocortex_Hippocampus.pkl   \n",
       "44         Mouse_Postnatal_DentateGyrus.pkl   \n",
       "45                    Mouse_Whole_Brain.pkl   \n",
       "46                   Nuclei_Lung_Airway.pkl   \n",
       "47                      Pan_Fetal_Human.pkl   \n",
       "\n",
       "                                          description  \n",
       "0   immune sub-populations combined from 20 tissue...  \n",
       "1   immune populations combined from 20 tissues of...  \n",
       "2   cell types from the hippocampus of adult cynom...  \n",
       "3   cell types from pancreatic islets of healthy a...  \n",
       "4            cell types from human healthy adult skin  \n",
       "5   cell types in the adult mouse gut combined fro...  \n",
       "6    cell types from the olfactory bulb of adult mice  \n",
       "7           cell types from the adult pig hippocampus  \n",
       "8   cell types from the hippocampus of adult rhesu...  \n",
       "9   cell types from the lungs of 16 SARS-CoV-2 inf...  \n",
       "10  detailed blood cell states from 16 individuals...  \n",
       "11  immune subtypes from lung and blood of COVID-1...  \n",
       "12             cell types from the adult human breast  \n",
       "13    cell types from human embryonic and fetal lungs  \n",
       "14      tonsillar cell types from humans (3-65 years)  \n",
       "15  intestinal cells from fetal, pediatric (health...  \n",
       "16  cell populations from scRNA-seq of five locati...  \n",
       "17  cell types from the first-trimester developing...  \n",
       "18  cell types of human gonadal and adjacent extra...  \n",
       "19   cell types from the developing human hippocampus  \n",
       "20  cell types of five endoderm-derived organs in ...  \n",
       "21  cell populations in embryonic, fetal, pediatri...  \n",
       "22  cell types from the embryonic mouse brain betw...  \n",
       "23  cell types from the mouse hippocampus at postn...  \n",
       "24  cell types of human fetal adrenal glands from ...  \n",
       "25  pancreatic cell types from human embryos at 9-...  \n",
       "26  cell types of human fetal pituitaries from 7 t...  \n",
       "27  cell types from human fetal neural retina and ...  \n",
       "28        cell types from developing human fetal skin  \n",
       "29  cell types from eight anatomical regions of th...  \n",
       "30  peripheral blood mononuclear cell types from h...  \n",
       "31  cell types from scRNA-seq and snRNA-seq of the...  \n",
       "32  cell types from scRNA-seq and snRNA-seq of the...  \n",
       "33  cell types from the hippocampus of adult and a...  \n",
       "34  cell types of colon tissues from patients with...  \n",
       "35                 cell types from human fetal retina  \n",
       "36  cell types of the human yolk sac from 4-8 post...  \n",
       "37  cell types from idiopathic pulmonary fibrosis,...  \n",
       "38  cell types from the adult human anterior and p...  \n",
       "39  integrated Human Lung Cell Atlas (HLCA) combin...  \n",
       "40  cell types from different forms of pulmonary f...  \n",
       "41  cell types from the lungs of individuals who d...  \n",
       "42  cell types from the dentate gyrus in perinatal...  \n",
       "43  cell types from the adult mouse isocortex (neo...  \n",
       "44  cell types from the mouse dentate gyrus in pos...  \n",
       "45        cell types from the whole adult mouse brain  \n",
       "46  cell populations from snRNA-seq of five locati...  \n",
       "47  stromal and immune populations from the human ...  "
      ]
     },
     "execution_count": 6,
     "metadata": {},
     "output_type": "execute_result"
    }
   ],
   "source": [
    "models.download_models() # Enabling `force_update = True` will overwrite existing (old) models. \n",
    "models.models_description() "
   ]
  },
  {
   "cell_type": "markdown",
   "metadata": {},
   "source": [
    "### 2-) `Select`"
   ]
  },
  {
   "cell_type": "code",
   "execution_count": 7,
   "metadata": {},
   "outputs": [],
   "source": [
    "model       = models.Model.load(model = 'Immune_All_Low.pkl') "
   ]
  },
  {
   "cell_type": "markdown",
   "metadata": {},
   "source": [
    "### 3-) `Overview`"
   ]
  },
  {
   "cell_type": "code",
   "execution_count": 8,
   "metadata": {},
   "outputs": [
    {
     "data": {
      "text/plain": [
       "AnnData object with n_obs × n_vars = 24072 × 2262\n",
       "    obs: 'Source', 'GEX_region', 'cluster', 'cluster_source', 'minor_subset', 'minor_subset_source', 'major_subset', 'major_subset_source', 'cell_type_source', 'donor_id', 'scRNASeq_sample_ID', 'Age', 'Hospitalstay', 'TimeSinceOnset', 'QC_ngenes', 'QC_total_UMI', 'QC_pct_mitochondrial', 'QC_scrub_doublet_scores', 'TCR_clone_count', 'TCR_clone_proportion', 'BCR_total_mut_HC', 'BCR_clonal_abundance_HC', 'BCR_total_mut_LC', 'assay_ontology_term_id', 'self_reported_ethnicity_ontology_term_id', 'disease_ontology_term_id', 'tissue_ontology_term_id', 'cell_type_ontology_term_id', 'cell_type_original', 'development_stage_ontology_term_id', 'sex_ontology_term_id', 'organism_ontology_term_id', 'is_primary_data', 'suspension_type', 'cell_type', 'assay', 'disease', 'organism', 'sex', 'tissue', 'self_reported_ethnicity', 'development_stage', 'n_genes', 'n_counts', 'n_genes_by_counts', 'total_counts', 'total_counts_mt', 'pct_counts_mt', 'doublet_score', 'predicted_doublet', '0.16', '0.161', '0.162', '0.163', '0.164', '0.165', '0.166', '0.167', '0.168', '0.169', '0.17', '0.171', '0.17200000000000001', '0.17300000000000001', '0.17400000000000002', '0.17500000000000002', '0.17600000000000002', '0.17700000000000002', '0.17800000000000002', '0.17900000000000002', '0.18000000000000002', '0.18100000000000002', '0.18200000000000002', '0.18300000000000002', '0.18400000000000002', '0.18500000000000003', '0.18600000000000003', '0.18700000000000003', '0.18800000000000003', '0.18900000000000003', '0.19000000000000003', '0.19100000000000003', '0.19200000000000003', '0.19300000000000003', '0.19400000000000003', '0.19500000000000003', '0.19600000000000004', '0.19700000000000004', '0.19800000000000004', '0.19900000000000004', '0.20000000000000004', '0.20100000000000004', '0.20200000000000004', '0.20300000000000004', '0.20400000000000004', '0.20500000000000004', '0.20600000000000004', '0.20700000000000005', '0.20800000000000005', '0.20900000000000005', '0.21000000000000005', '0.21100000000000005', '0.21200000000000005', '0.21300000000000005', '0.21400000000000005', '0.21500000000000005', '0.21600000000000005', '0.21700000000000005', '0.21800000000000005', '0.21900000000000006', '0.22000000000000006', '0.22100000000000006', '0.22200000000000006', '0.22300000000000006', '0.22400000000000006', '0.22500000000000006', '0.22600000000000006', '0.22700000000000006', '0.22800000000000006', '0.22900000000000006', '0.23000000000000007', '0.23100000000000007', '0.23200000000000007', '0.23300000000000007', '0.23400000000000007', '0.23500000000000007', '0.23600000000000007', '0.23700000000000007', '0.23800000000000007', '0.23900000000000007', '0.24000000000000007', '0.24100000000000008', '0.24200000000000008', '0.24300000000000008', '0.24400000000000008', '0.24500000000000008', '0.24600000000000008', '0.24700000000000008', '0.24800000000000008', '0.24900000000000008', '0.2500000000000001', '0.2510000000000001', '0.2520000000000001', '0.2530000000000001', '0.2540000000000001', '0.2550000000000001', '0.2560000000000001', '0.2570000000000001', '0.2580000000000001', '0.2590000000000001', '0.2600000000000001', '0.2610000000000001', '0.2620000000000001', '0.2630000000000001', '0.2640000000000001', '0.2650000000000001', '0.2660000000000001', '0.2670000000000001', '0.2680000000000001', '0.26900000000000013', '0.27000000000000013', '0.27100000000000013', '0.27200000000000013', '0.27300000000000013', '0.27400000000000013', '0.27500000000000013', '0.27600000000000013', '0.27700000000000014', '0.27800000000000014', '0.27900000000000014', '0.28000000000000014', '0.28100000000000014', '0.28200000000000014', '0.28300000000000014', '0.28400000000000014', '0.28500000000000014', '0.28600000000000014', '0.28700000000000014', '0.28800000000000014', '0.28900000000000015', '0.29000000000000015', '0.29100000000000015', '0.29200000000000015', '0.29300000000000015', '0.29400000000000015', '0.29500000000000015', '0.29600000000000015', '0.29700000000000015', '0.29800000000000015', '0.29900000000000015', 'cell_type_short', 'leiden_0.285'\n",
       "    var: 'feature_id', 'feature_is_filtered', 'feature_name', 'feature_reference', 'feature_biotype', 'n_cells', 'mt', 'n_cells_by_counts', 'mean_counts', 'pct_dropout_by_counts', 'total_counts', 'highly_variable', 'means', 'dispersions', 'dispersions_norm', 'mean', 'std'\n",
       "    uns: '0.16', '0.161', '0.162', '0.163', '0.164', '0.165', '0.165_colors', '0.166', '0.166_colors', '0.167', '0.167_colors', '0.168', '0.168_colors', '0.169', '0.17', '0.171', '0.171_colors', '0.17200000000000001', '0.17200000000000001_colors', '0.17300000000000001', '0.17400000000000002', '0.17500000000000002', '0.17600000000000002', '0.17700000000000002', '0.17700000000000002_colors', '0.17800000000000002', '0.17800000000000002_colors', '0.17900000000000002', '0.17900000000000002_colors', '0.17_colors', '0.18000000000000002', '0.18000000000000002_colors', '0.18100000000000002', '0.18100000000000002_colors', '0.18200000000000002', '0.18300000000000002', '0.18400000000000002', '0.18500000000000003', '0.18500000000000003_colors', '0.18600000000000003', '0.18700000000000003', '0.18700000000000003_colors', '0.18800000000000003', '0.18900000000000003', '0.19000000000000003', '0.19000000000000003_colors', '0.19100000000000003', '0.19100000000000003_colors', '0.19200000000000003', '0.19300000000000003', '0.19400000000000003', '0.19400000000000003_colors', '0.19500000000000003', '0.19600000000000004', '0.19600000000000004_colors', '0.19700000000000004', '0.19800000000000004', '0.19800000000000004_colors', '0.19900000000000004', '0.19900000000000004_colors', '0.20000000000000004', '0.20100000000000004', '0.20200000000000004', '0.20200000000000004_colors', '0.20300000000000004', '0.20400000000000004', '0.20500000000000004', '0.20600000000000004', '0.20700000000000005', '0.20700000000000005_colors', '0.20800000000000005', '0.20800000000000005_colors', '0.20900000000000005', '0.20900000000000005_colors', '0.21000000000000005', '0.21000000000000005_colors', '0.21100000000000005', '0.21100000000000005_colors', '0.21200000000000005', '0.21200000000000005_colors', '0.21300000000000005', '0.21400000000000005', '0.21500000000000005', '0.21600000000000005', '0.21700000000000005', '0.21800000000000005', '0.21900000000000006', '0.22000000000000006', '0.22100000000000006', '0.22200000000000006', '0.22300000000000006', '0.22400000000000006', '0.22500000000000006', '0.22600000000000006', '0.22700000000000006', '0.22800000000000006', '0.22800000000000006_colors', '0.22900000000000006', '0.23000000000000007', '0.23000000000000007_colors', '0.23100000000000007', '0.23200000000000007', '0.23300000000000007', '0.23400000000000007', '0.23500000000000007', '0.23500000000000007_colors', '0.23600000000000007', '0.23600000000000007_colors', '0.23700000000000007', '0.23800000000000007', '0.23900000000000007', '0.23900000000000007_colors', '0.24000000000000007', '0.24000000000000007_colors', '0.24100000000000008', '0.24100000000000008_colors', '0.24200000000000008', '0.24200000000000008_colors', '0.24300000000000008', '0.24400000000000008', '0.24500000000000008', '0.24600000000000008', '0.24700000000000008', '0.24800000000000008', '0.24900000000000008', '0.2500000000000001', '0.2510000000000001', '0.2520000000000001', '0.2530000000000001', '0.2540000000000001', '0.2550000000000001', '0.2560000000000001', '0.2570000000000001', '0.2580000000000001', '0.2590000000000001', '0.2600000000000001', '0.2610000000000001', '0.2620000000000001', '0.2630000000000001', '0.2640000000000001', '0.2650000000000001', '0.2650000000000001_colors', '0.2660000000000001', '0.2670000000000001', '0.2680000000000001', '0.26900000000000013', '0.27000000000000013', '0.27100000000000013', '0.27200000000000013', '0.27300000000000013', '0.27400000000000013', '0.27500000000000013', '0.27600000000000013', '0.27700000000000014', '0.27800000000000014', '0.27900000000000014', '0.28000000000000014', '0.28100000000000014', '0.28200000000000014', '0.28300000000000014', '0.28400000000000014', '0.28500000000000014', '0.28500000000000014_colors', '0.28600000000000014', '0.28700000000000014', '0.28800000000000014', '0.28900000000000015', '0.29000000000000015', '0.29100000000000015', '0.29200000000000015', '0.29300000000000015', '0.29400000000000015', '0.29400000000000015_colors', '0.29500000000000015', '0.29600000000000015', '0.29700000000000015', '0.29800000000000015', '0.29900000000000015', 'Institute', 'ObjectCreateDate', 'Source_colors', 'cell_type_ontology_term_id_colors', 'cell_type_short_colors', 'dendrogram_1', 'dendrogram_2', 'genome_annotation_version', 'hvg', 'leiden_0.285', 'leiden_0.285_colors', 'leiden_0.285_sizes', 'log1p', 'neighbors', 'paga', 'pca', 'rank_genes_leiden_wilcoxon', 'rank_genes_true_label', 'schema_version', 'scrublet', 'title', 'tsne', 'umap'\n",
       "    obsm: 'X_pca', 'X_tsne', 'X_umap', 'X_umap_source'\n",
       "    varm: 'PCs'\n",
       "    obsp: 'connectivities', 'distances'"
      ]
     },
     "execution_count": 8,
     "metadata": {},
     "output_type": "execute_result"
    }
   ],
   "source": [
    "adata"
   ]
  },
  {
   "cell_type": "markdown",
   "metadata": {},
   "source": [
    "---\n",
    "# 2- `Automatic Annotation`\n",
    "- One can try automatic annotation tools in here. "
   ]
  },
  {
   "cell_type": "markdown",
   "metadata": {},
   "source": [
    "# `Step 6: Checkpoint` "
   ]
  },
  {
   "cell_type": "markdown",
   "metadata": {},
   "source": [
    "#### Operation: Checkpoint (Save) \n",
    "Save the result."
   ]
  },
  {
   "cell_type": "code",
   "execution_count": 25,
   "metadata": {},
   "outputs": [],
   "source": [
    "adata.write(check_point_s6) # If you would like to use it in next session, you want to change loading parts in the next session."
   ]
  },
  {
   "cell_type": "code",
   "execution_count": 26,
   "metadata": {},
   "outputs": [
    {
     "data": {
      "text/plain": [
       "AnnData object with n_obs × n_vars = 24072 × 2262\n",
       "    obs: 'Source', 'GEX_region', 'cluster', 'cluster_source', 'minor_subset', 'minor_subset_source', 'major_subset', 'major_subset_source', 'cell_type_source', 'donor_id', 'scRNASeq_sample_ID', 'Age', 'Hospitalstay', 'TimeSinceOnset', 'QC_ngenes', 'QC_total_UMI', 'QC_pct_mitochondrial', 'QC_scrub_doublet_scores', 'TCR_clone_count', 'TCR_clone_proportion', 'BCR_total_mut_HC', 'BCR_clonal_abundance_HC', 'BCR_total_mut_LC', 'assay_ontology_term_id', 'self_reported_ethnicity_ontology_term_id', 'disease_ontology_term_id', 'tissue_ontology_term_id', 'cell_type_ontology_term_id', 'cell_type_original', 'development_stage_ontology_term_id', 'sex_ontology_term_id', 'organism_ontology_term_id', 'is_primary_data', 'suspension_type', 'cell_type', 'assay', 'disease', 'organism', 'sex', 'tissue', 'self_reported_ethnicity', 'development_stage', 'n_genes', 'n_counts', 'n_genes_by_counts', 'total_counts', 'total_counts_mt', 'pct_counts_mt', 'doublet_score', 'predicted_doublet', '0.16', '0.161', '0.162', '0.163', '0.164', '0.165', '0.166', '0.167', '0.168', '0.169', '0.17', '0.171', '0.17200000000000001', '0.17300000000000001', '0.17400000000000002', '0.17500000000000002', '0.17600000000000002', '0.17700000000000002', '0.17800000000000002', '0.17900000000000002', '0.18000000000000002', '0.18100000000000002', '0.18200000000000002', '0.18300000000000002', '0.18400000000000002', '0.18500000000000003', '0.18600000000000003', '0.18700000000000003', '0.18800000000000003', '0.18900000000000003', '0.19000000000000003', '0.19100000000000003', '0.19200000000000003', '0.19300000000000003', '0.19400000000000003', '0.19500000000000003', '0.19600000000000004', '0.19700000000000004', '0.19800000000000004', '0.19900000000000004', '0.20000000000000004', '0.20100000000000004', '0.20200000000000004', '0.20300000000000004', '0.20400000000000004', '0.20500000000000004', '0.20600000000000004', '0.20700000000000005', '0.20800000000000005', '0.20900000000000005', '0.21000000000000005', '0.21100000000000005', '0.21200000000000005', '0.21300000000000005', '0.21400000000000005', '0.21500000000000005', '0.21600000000000005', '0.21700000000000005', '0.21800000000000005', '0.21900000000000006', '0.22000000000000006', '0.22100000000000006', '0.22200000000000006', '0.22300000000000006', '0.22400000000000006', '0.22500000000000006', '0.22600000000000006', '0.22700000000000006', '0.22800000000000006', '0.22900000000000006', '0.23000000000000007', '0.23100000000000007', '0.23200000000000007', '0.23300000000000007', '0.23400000000000007', '0.23500000000000007', '0.23600000000000007', '0.23700000000000007', '0.23800000000000007', '0.23900000000000007', '0.24000000000000007', '0.24100000000000008', '0.24200000000000008', '0.24300000000000008', '0.24400000000000008', '0.24500000000000008', '0.24600000000000008', '0.24700000000000008', '0.24800000000000008', '0.24900000000000008', '0.2500000000000001', '0.2510000000000001', '0.2520000000000001', '0.2530000000000001', '0.2540000000000001', '0.2550000000000001', '0.2560000000000001', '0.2570000000000001', '0.2580000000000001', '0.2590000000000001', '0.2600000000000001', '0.2610000000000001', '0.2620000000000001', '0.2630000000000001', '0.2640000000000001', '0.2650000000000001', '0.2660000000000001', '0.2670000000000001', '0.2680000000000001', '0.26900000000000013', '0.27000000000000013', '0.27100000000000013', '0.27200000000000013', '0.27300000000000013', '0.27400000000000013', '0.27500000000000013', '0.27600000000000013', '0.27700000000000014', '0.27800000000000014', '0.27900000000000014', '0.28000000000000014', '0.28100000000000014', '0.28200000000000014', '0.28300000000000014', '0.28400000000000014', '0.28500000000000014', '0.28600000000000014', '0.28700000000000014', '0.28800000000000014', '0.28900000000000015', '0.29000000000000015', '0.29100000000000015', '0.29200000000000015', '0.29300000000000015', '0.29400000000000015', '0.29500000000000015', '0.29600000000000015', '0.29700000000000015', '0.29800000000000015', '0.29900000000000015', 'cell_type_short', 'leiden_0.285', 'predicted_labels', 'majority_voting', 'conf_score', 'majority_voting_best_match', 'predicted_labels_best_match', 'over_clustering'\n",
       "    var: 'feature_id', 'feature_is_filtered', 'feature_name', 'feature_reference', 'feature_biotype', 'n_cells', 'mt', 'n_cells_by_counts', 'mean_counts', 'pct_dropout_by_counts', 'total_counts', 'highly_variable', 'means', 'dispersions', 'dispersions_norm', 'mean', 'std'\n",
       "    uns: '0.16', '0.161', '0.162', '0.163', '0.164', '0.165', '0.165_colors', '0.166', '0.166_colors', '0.167', '0.167_colors', '0.168', '0.168_colors', '0.169', '0.17', '0.171', '0.171_colors', '0.17200000000000001', '0.17200000000000001_colors', '0.17300000000000001', '0.17400000000000002', '0.17500000000000002', '0.17600000000000002', '0.17700000000000002', '0.17700000000000002_colors', '0.17800000000000002', '0.17800000000000002_colors', '0.17900000000000002', '0.17900000000000002_colors', '0.17_colors', '0.18000000000000002', '0.18000000000000002_colors', '0.18100000000000002', '0.18100000000000002_colors', '0.18200000000000002', '0.18300000000000002', '0.18400000000000002', '0.18500000000000003', '0.18500000000000003_colors', '0.18600000000000003', '0.18700000000000003', '0.18700000000000003_colors', '0.18800000000000003', '0.18900000000000003', '0.19000000000000003', '0.19000000000000003_colors', '0.19100000000000003', '0.19100000000000003_colors', '0.19200000000000003', '0.19300000000000003', '0.19400000000000003', '0.19400000000000003_colors', '0.19500000000000003', '0.19600000000000004', '0.19600000000000004_colors', '0.19700000000000004', '0.19800000000000004', '0.19800000000000004_colors', '0.19900000000000004', '0.19900000000000004_colors', '0.20000000000000004', '0.20100000000000004', '0.20200000000000004', '0.20200000000000004_colors', '0.20300000000000004', '0.20400000000000004', '0.20500000000000004', '0.20600000000000004', '0.20700000000000005', '0.20700000000000005_colors', '0.20800000000000005', '0.20800000000000005_colors', '0.20900000000000005', '0.20900000000000005_colors', '0.21000000000000005', '0.21000000000000005_colors', '0.21100000000000005', '0.21100000000000005_colors', '0.21200000000000005', '0.21200000000000005_colors', '0.21300000000000005', '0.21400000000000005', '0.21500000000000005', '0.21600000000000005', '0.21700000000000005', '0.21800000000000005', '0.21900000000000006', '0.22000000000000006', '0.22100000000000006', '0.22200000000000006', '0.22300000000000006', '0.22400000000000006', '0.22500000000000006', '0.22600000000000006', '0.22700000000000006', '0.22800000000000006', '0.22800000000000006_colors', '0.22900000000000006', '0.23000000000000007', '0.23000000000000007_colors', '0.23100000000000007', '0.23200000000000007', '0.23300000000000007', '0.23400000000000007', '0.23500000000000007', '0.23500000000000007_colors', '0.23600000000000007', '0.23600000000000007_colors', '0.23700000000000007', '0.23800000000000007', '0.23900000000000007', '0.23900000000000007_colors', '0.24000000000000007', '0.24000000000000007_colors', '0.24100000000000008', '0.24100000000000008_colors', '0.24200000000000008', '0.24200000000000008_colors', '0.24300000000000008', '0.24400000000000008', '0.24500000000000008', '0.24600000000000008', '0.24700000000000008', '0.24800000000000008', '0.24900000000000008', '0.2500000000000001', '0.2510000000000001', '0.2520000000000001', '0.2530000000000001', '0.2540000000000001', '0.2550000000000001', '0.2560000000000001', '0.2570000000000001', '0.2580000000000001', '0.2590000000000001', '0.2600000000000001', '0.2610000000000001', '0.2620000000000001', '0.2630000000000001', '0.2640000000000001', '0.2650000000000001', '0.2650000000000001_colors', '0.2660000000000001', '0.2670000000000001', '0.2680000000000001', '0.26900000000000013', '0.27000000000000013', '0.27100000000000013', '0.27200000000000013', '0.27300000000000013', '0.27400000000000013', '0.27500000000000013', '0.27600000000000013', '0.27700000000000014', '0.27800000000000014', '0.27900000000000014', '0.28000000000000014', '0.28100000000000014', '0.28200000000000014', '0.28300000000000014', '0.28400000000000014', '0.28500000000000014', '0.28500000000000014_colors', '0.28600000000000014', '0.28700000000000014', '0.28800000000000014', '0.28900000000000015', '0.29000000000000015', '0.29100000000000015', '0.29200000000000015', '0.29300000000000015', '0.29400000000000015', '0.29400000000000015_colors', '0.29500000000000015', '0.29600000000000015', '0.29700000000000015', '0.29800000000000015', '0.29900000000000015', 'Institute', 'ObjectCreateDate', 'Source_colors', 'cell_type_ontology_term_id_colors', 'cell_type_short_colors', 'dendrogram_1', 'dendrogram_2', 'genome_annotation_version', 'hvg', 'leiden_0.285', 'leiden_0.285_colors', 'leiden_0.285_sizes', 'log1p', 'neighbors', 'paga', 'pca', 'rank_genes_leiden_wilcoxon', 'rank_genes_true_label', 'schema_version', 'scrublet', 'title', 'tsne', 'umap', 'over_clustering'\n",
       "    obsm: 'X_pca', 'X_tsne', 'X_umap', 'X_umap_source'\n",
       "    varm: 'PCs'\n",
       "    obsp: 'connectivities', 'distances'"
      ]
     },
     "execution_count": 26,
     "metadata": {},
     "output_type": "execute_result"
    }
   ],
   "source": [
    "adata"
   ]
  },
  {
   "cell_type": "code",
   "execution_count": 29,
   "metadata": {},
   "outputs": [],
   "source": [
    "target_gene_number = 100"
   ]
  },
  {
   "cell_type": "code",
   "execution_count": 30,
   "metadata": {},
   "outputs": [],
   "source": [
    "Variables_Dict_s6 ={\"target_gene_number\"      : target_gene_number, \n",
    "                    \n",
    "                    \"selected_obs_cluster_key\"           : selected_obs_cluster_key,\n",
    "                    \"selected_uns_ranked_key\"            : selected_uns_ranked_key,\n",
    "                    \"selected_cluster_names\"             : list(pd.unique(adata.obs[selected_obs_cluster_key])), \n",
    "                    \"selected_sample_cluster_barcode\"    : list(pd.unique(adata.obs[selected_obs_cluster_key]))[0], \n",
    "                    \n",
    "\n",
    "                    \"true_label_obs_cluster_key\"           : true_label_obs_cluster_key,\n",
    "                    \"true_label_uns_ranked_key\"            : true_label_uns_ranked_key,\n",
    "                    \"true_label_cluster_names\"             : list(pd.unique(adata.obs[true_label_obs_cluster_key])), \n",
    "                    \"true_label_sample_cluster_barcode\"    : list(pd.unique(adata.obs[true_label_obs_cluster_key]))[0], \n",
    "                     }\n",
    "\n",
    "export_name = check_point_s6_variables\n",
    "\n",
    "with open( access_data_path(target_folder = f\"process_0/checkpoint\", target_file = export_name + \".pkl\" )  , 'wb') as file:\n",
    "    pickle.dump(Variables_Dict_s6, file)\n"
   ]
  }
 ],
 "metadata": {
  "kernelspec": {
   "display_name": "bilimsc5",
   "language": "python",
   "name": "python3"
  },
  "language_info": {
   "codemirror_mode": {
    "name": "ipython",
    "version": 3
   },
   "file_extension": ".py",
   "mimetype": "text/x-python",
   "name": "python",
   "nbconvert_exporter": "python",
   "pygments_lexer": "ipython3",
   "version": "3.12.3"
  }
 },
 "nbformat": 4,
 "nbformat_minor": 2
}
