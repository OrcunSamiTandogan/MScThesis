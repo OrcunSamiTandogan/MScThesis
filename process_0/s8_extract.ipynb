{
 "cells": [
  {
   "cell_type": "markdown",
   "metadata": {},
   "source": [
    "# `Step 8: Extraction of Cell Type & Gene Marker | ` \n",
    "- 1-) `True Labels`\n",
    "- 2-) `Best Match`\n",
    "- 3-) `Send Extracted Ranked Genes`"
   ]
  },
  {
   "cell_type": "markdown",
   "metadata": {},
   "source": [
    "# 0- `Config`\n"
   ]
  },
  {
   "cell_type": "code",
   "execution_count": null,
   "metadata": {},
   "outputs": [],
   "source": [
    "try: \n",
    "    if manager == 1: \n",
    "        print(\"Manager Mode: ON\")\n",
    "except:\n",
    "    print(\"Manager Mode: OFF\")\n",
    "    %run s0_config.ipynb "
   ]
  },
  {
   "cell_type": "markdown",
   "metadata": {},
   "source": [
    "# 1- `Load` "
   ]
  },
  {
   "cell_type": "markdown",
   "metadata": {},
   "source": [
    "## 1-) `Data`"
   ]
  },
  {
   "cell_type": "code",
   "execution_count": null,
   "metadata": {},
   "outputs": [],
   "source": [
    "#check_point_s1    = \"checkpoint/session_s1.h5ad\"\n",
    "#check_point_s2    = \"checkpoint/session_s2.h5ad\"\n",
    "#check_point_s3    = \"checkpoint/session_s3.h5ad\"\n",
    "#check_point_s4    = \"checkpoint/session_s4.h5ad\"\n",
    "#check_point_s5    = \"checkpoint/session_s5.h5ad\"\n",
    "#check_point_s6    = \"checkpoint/session_s6.h5ad\"\n",
    "#check_point_s7    = \"checkpoint/session_s7.h5ad\"\n",
    "#check_point_s8    = \"checkpoint/session_s8.h5ad\"\n",
    "#check_point_s9    = \"checkpoint/session_s9.h5ad\"\n",
    "\n",
    "adata = sc.read(check_point_s7)   "
   ]
  },
  {
   "cell_type": "code",
   "execution_count": null,
   "metadata": {},
   "outputs": [],
   "source": [
    "adata "
   ]
  },
  {
   "cell_type": "markdown",
   "metadata": {},
   "source": [
    "## 2-) `Variables`\n",
    "- None"
   ]
  },
  {
   "cell_type": "code",
   "execution_count": null,
   "metadata": {},
   "outputs": [],
   "source": [
    "import_name = check_point_s7_variables\n",
    "\n",
    "with open( access_data_path(target_folder = f\"process_0/checkpoint\", target_file = import_name + \".pkl\" ) , 'rb') as file:\n",
    "    Variables_Dict_s7 = pickle.load(file)   \n",
    "\n",
    "target_gene_number      = Variables_Dict_s7['target_gene_number']\n",
    "\n",
    "selected_obs_cluster_key          = Variables_Dict_s7['selected_obs_cluster_key'] \n",
    "selected_uns_ranked_key           = Variables_Dict_s7['selected_uns_ranked_key']\n",
    "selected_cluster_names            = Variables_Dict_s7['selected_cluster_names'] \n",
    "selected_sample_cluster_barcode   = Variables_Dict_s7['selected_sample_cluster_barcode'] \n",
    "\n",
    "true_label_obs_cluster_key          = Variables_Dict_s7['true_label_obs_cluster_key'] \n",
    "true_label_uns_ranked_key           = Variables_Dict_s7['true_label_uns_ranked_key']\n",
    "true_label_cluster_names            = Variables_Dict_s7['true_label_cluster_names'] \n",
    "true_label_sample_cluster_barcode   = Variables_Dict_s7['true_label_sample_cluster_barcode'] "
   ]
  },
  {
   "cell_type": "markdown",
   "metadata": {},
   "source": [
    "## 3-) `Functions`"
   ]
  },
  {
   "cell_type": "code",
   "execution_count": null,
   "metadata": {},
   "outputs": [],
   "source": [
    "adata.obs.T"
   ]
  },
  {
   "cell_type": "markdown",
   "metadata": {},
   "source": [
    "---\n",
    "# 3- `Bench`"
   ]
  },
  {
   "cell_type": "code",
   "execution_count": null,
   "metadata": {},
   "outputs": [],
   "source": [
    "subject_n_gene_marker = target_gene_number "
   ]
  },
  {
   "cell_type": "code",
   "execution_count": null,
   "metadata": {},
   "outputs": [],
   "source": [
    "len(adata.var)"
   ]
  },
  {
   "cell_type": "markdown",
   "metadata": {},
   "source": [
    "## 1-) `True Labels`"
   ]
  },
  {
   "cell_type": "code",
   "execution_count": null,
   "metadata": {},
   "outputs": [],
   "source": [
    "adata.obs['cell_type'].value_counts() "
   ]
  },
  {
   "cell_type": "code",
   "execution_count": null,
   "metadata": {},
   "outputs": [],
   "source": [
    "temp      = pd.DataFrame(adata.obs['cell_type'].value_counts()) \n",
    "temp_name = temp.index.name \n",
    "temp.reset_index(inplace = True) \n",
    "# find the cell tpyes which has count 1 \n",
    "discards = temp[temp[\"count\"] == 1] \n",
    "discards_list = list(discards[temp_name].values)\n",
    "discards_list "
   ]
  },
  {
   "cell_type": "code",
   "execution_count": null,
   "metadata": {},
   "outputs": [],
   "source": [
    "adata_filtered = adata[~adata.obs['cell_type'].isin(discards_list)].copy() "
   ]
  },
  {
   "cell_type": "code",
   "execution_count": null,
   "metadata": {},
   "outputs": [],
   "source": [
    "adata_filtered.obs['cell_type']"
   ]
  },
  {
   "cell_type": "markdown",
   "metadata": {},
   "source": [
    "### 2-) `Change the ENSG names with gene markers`"
   ]
  },
  {
   "cell_type": "code",
   "execution_count": null,
   "metadata": {},
   "outputs": [],
   "source": [
    "\"\"\"\n",
    "true_data             = access_data_path(\"process_0/data\", \"rna_single_cell_type.tsv\") \n",
    "ensembl_to_symbol     = pd.read_csv( true_data, sep='\\t' ) \n",
    "\n",
    "unique_ensembl_to_symbol = ensembl_to_symbol[['Gene', 'Gene name']].drop_duplicates('Gene')\n",
    "unique_ensembl_to_symbol['Gene'] = unique_ensembl_to_symbol['Gene'].str.strip()\n",
    "unique_ensembl_to_symbol['Gene name'] = unique_ensembl_to_symbol['Gene name'].str.strip()\n",
    "unique_ensembl_to_symbol.set_index('Gene', inplace=True) \n",
    "adata.var.index = adata.var.index.map(unique_ensembl_to_symbol['Gene name'].get)\n",
    "adata.var\n",
    "\"\"\""
   ]
  },
  {
   "cell_type": "code",
   "execution_count": null,
   "metadata": {},
   "outputs": [],
   "source": [
    "\"\"\"\n",
    "unique_ensembl_to_symbol_DF = unique_ensembl_to_symbol.reset_index() \n",
    "unique_ensembl_to_symbol_DF.columns = [\"ensembl_id\", \"gene_symbol\"]\n",
    "\"\"\""
   ]
  },
  {
   "cell_type": "markdown",
   "metadata": {},
   "source": [
    "## 1-) `True Labels`"
   ]
  },
  {
   "cell_type": "code",
   "execution_count": null,
   "metadata": {},
   "outputs": [],
   "source": [
    "\"\"\"\n",
    "# Create a dictionary mapping ENSG IDs to gene symbols\n",
    "ensembl_to_symbol_dict = pd.Series(unique_ensembl_to_symbol_DF.gene_symbol.values, index=unique_ensembl_to_symbol_DF.ensembl_id).to_dict()\n",
    "\n",
    "# Now, when you collect top markers for each cell type, you can use this dictionary to convert the ENSG IDs to gene symbols\n",
    "top_markers_true_labels = {} \n",
    "for cell_type in adata.obs['cell_type'].unique(): \n",
    "    # This fetches ENSG identifiers \n",
    "    markers = adata.uns[true_label_uns_ranked_key]['names'][cell_type][:subject_n_gene_marker]\n",
    "    # Convert each ENSG ID to its corresponding gene symbol using the mapping dictionary\n",
    "    gene_symbols = [ensembl_to_symbol_dict.get(ensg_id, \"Unknown\") for ensg_id in markers]\n",
    "    top_markers_true_labels[cell_type] = gene_symbols\n",
    "\"\"\""
   ]
  },
  {
   "cell_type": "code",
   "execution_count": null,
   "metadata": {},
   "outputs": [],
   "source": [
    "top_markers_true_labels = {} \n",
    "for cell_type in adata.obs['cell_type'].unique(): \n",
    "    markers = adata.uns[true_label_uns_ranked_key]['names'][cell_type][:subject_n_gene_marker]\n",
    "    top_markers_true_labels[cell_type] = markers "
   ]
  },
  {
   "cell_type": "code",
   "execution_count": null,
   "metadata": {},
   "outputs": [],
   "source": [
    "pd.DataFrame(top_markers_true_labels) "
   ]
  },
  {
   "cell_type": "markdown",
   "metadata": {},
   "source": [
    "## 2-) `Best Match`"
   ]
  },
  {
   "cell_type": "code",
   "execution_count": null,
   "metadata": {},
   "outputs": [],
   "source": [
    "try:\n",
    "    adata.obs['majority_voting_best_match'].value_counts() \n",
    "except: \n",
    "    pass "
   ]
  },
  {
   "cell_type": "code",
   "execution_count": null,
   "metadata": {},
   "outputs": [],
   "source": [
    "try:\n",
    "    temp      = pd.DataFrame(adata.obs['majority_voting_best_match'].value_counts()) \n",
    "    temp_name = temp.index.name \n",
    "    temp.reset_index(inplace = True) \n",
    "    # find the cell tpyes which has count 1 \n",
    "    discards = temp[temp[\"count\"] == 1] \n",
    "    discards_list = list(discards[temp_name].values)\n",
    "    discards_list \n",
    "except: \n",
    "    pass  "
   ]
  },
  {
   "cell_type": "code",
   "execution_count": null,
   "metadata": {},
   "outputs": [],
   "source": [
    "try:\n",
    "    adata_filtered = adata[~adata.obs['majority_voting_best_match'].isin(discards_list)].copy() \n",
    "except:\n",
    "    pass "
   ]
  },
  {
   "cell_type": "code",
   "execution_count": null,
   "metadata": {},
   "outputs": [],
   "source": [
    "try:\n",
    "    adata_filtered.obs['majority_voting_best_match']\n",
    "except:\n",
    "    pass "
   ]
  },
  {
   "cell_type": "code",
   "execution_count": null,
   "metadata": {},
   "outputs": [],
   "source": [
    "try: \n",
    "    current_ranked_key = \"ranked_majority_voting_best_match\" \n",
    "\n",
    "\n",
    "    %memit sc.tl.rank_genes_groups(adata_filtered, groupby = \"majority_voting_best_match\", method = \"wilcoxon\", key_added = current_ranked_key, reference = 'rest', n_genes = 100)  # Adjust n_genes as needed \n",
    "\n",
    "    # Collect top markers for each cell type\n",
    "    top_markers_majority_vote = {}\n",
    "    for cell_type in adata_filtered.obs['majority_voting_best_match'].unique():\n",
    "        markers = adata_filtered.uns[current_ranked_key]['names'][cell_type][:subject_n_gene_marker]  # Adjust the number as needed\n",
    "        top_markers_majority_vote[cell_type] = markers\n",
    "except:\n",
    "    pass \n"
   ]
  },
  {
   "cell_type": "code",
   "execution_count": null,
   "metadata": {},
   "outputs": [],
   "source": [
    "try:\n",
    "    pd.DataFrame(top_markers_majority_vote)\n",
    "except:\n",
    "    pass "
   ]
  },
  {
   "cell_type": "markdown",
   "metadata": {},
   "source": [
    "## 3-) `Fix Strings`\n"
   ]
  },
  {
   "cell_type": "code",
   "execution_count": null,
   "metadata": {},
   "outputs": [],
   "source": [
    "adata.obs[\"cell_type\"]"
   ]
  },
  {
   "cell_type": "code",
   "execution_count": null,
   "metadata": {},
   "outputs": [],
   "source": [
    "\"\"\"adata.obs[\"cell_type\"] = adata.obs[\"cell_type\"].str.replace(\"cell\", \"\", regex=False).str.strip()\n",
    "adata.obs[\"cell_type\"] = adata.obs[\"cell_type\"].str.replace(\"cells\", \"\", regex=False).str.strip()\n",
    "adata.obs[\"cell_type\"]\"\"\""
   ]
  },
  {
   "cell_type": "markdown",
   "metadata": {},
   "source": [
    "## 4-) `Send Extracted Ranked Genes`\n"
   ]
  },
  {
   "cell_type": "code",
   "execution_count": null,
   "metadata": {},
   "outputs": [],
   "source": [
    "data_1_name = \"top_markers_true_labels\"\n",
    "data_1_target_path = access_data_path(target_folder = f\"process_0/data\", target_file = data_1_name + \".csv\" ) \n",
    "data_1_target_path \n",
    "\n",
    "try:\n",
    "    data_2_name = \"top_markers_majority_vote\"\n",
    "    data_2_target_path = access_data_path(target_folder = f\"process_0/data\", target_file = data_2_name + \".csv\" ) \n",
    "    data_2_target_path  \n",
    "except:\n",
    "    data_2_target_path =  data_1_target_path"
   ]
  },
  {
   "cell_type": "code",
   "execution_count": null,
   "metadata": {},
   "outputs": [],
   "source": [
    "data_1_target_path"
   ]
  },
  {
   "cell_type": "code",
   "execution_count": null,
   "metadata": {},
   "outputs": [],
   "source": [
    "data_2_target_path"
   ]
  },
  {
   "cell_type": "code",
   "execution_count": null,
   "metadata": {},
   "outputs": [],
   "source": [
    "pd.DataFrame(top_markers_true_labels).to_csv(data_1_target_path) \n",
    "try:\n",
    "    pd.DataFrame(top_markers_majority_vote).to_csv(data_2_target_path)  \n",
    "except:\n",
    "    top_markers_majority_vote = top_markers_true_labels \n",
    "    pd.DataFrame(top_markers_majority_vote).to_csv(data_2_target_path)  "
   ]
  },
  {
   "cell_type": "markdown",
   "metadata": {},
   "source": [
    "---"
   ]
  },
  {
   "cell_type": "markdown",
   "metadata": {},
   "source": [
    "# `Step 8: Checkpoint` "
   ]
  },
  {
   "cell_type": "markdown",
   "metadata": {},
   "source": [
    "#### Operation: Checkpoint (Save) \n",
    "Save the result."
   ]
  },
  {
   "cell_type": "code",
   "execution_count": null,
   "metadata": {},
   "outputs": [],
   "source": [
    "adata.var"
   ]
  },
  {
   "cell_type": "code",
   "execution_count": null,
   "metadata": {},
   "outputs": [],
   "source": [
    "columns_to_convert = ['feature_name', 'feature_reference', 'feature_biotype']\n",
    "for col in columns_to_convert:\n",
    "    if col in adata.var.columns:\n",
    "        adata.var[col] = adata.var[col].astype(str)\n",
    "\n",
    "adata.var.index = adata.var.index.astype(str)\n",
    "\n"
   ]
  },
  {
   "cell_type": "code",
   "execution_count": null,
   "metadata": {},
   "outputs": [],
   "source": [
    "adata.write(check_point_s8)"
   ]
  },
  {
   "cell_type": "code",
   "execution_count": null,
   "metadata": {},
   "outputs": [],
   "source": [
    "adata"
   ]
  },
  {
   "cell_type": "code",
   "execution_count": null,
   "metadata": {},
   "outputs": [],
   "source": [
    "Variables_Dict_s8 ={\"target_gene_number\"      : target_gene_number, \n",
    "                    \n",
    "                    \"selected_obs_cluster_key\"           : selected_obs_cluster_key,\n",
    "                    \"selected_uns_ranked_key\"            : selected_uns_ranked_key,\n",
    "                    \"selected_cluster_names\"             : list(pd.unique(adata.obs[selected_obs_cluster_key])), \n",
    "                    \"selected_sample_cluster_barcode\"    : list(pd.unique(adata.obs[selected_obs_cluster_key]))[0], \n",
    "                    \n",
    "\n",
    "                    \"true_label_obs_cluster_key\"           : true_label_obs_cluster_key,\n",
    "                    \"true_label_uns_ranked_key\"            : true_label_uns_ranked_key,\n",
    "                    \"true_label_cluster_names\"             : list(pd.unique(adata.obs[true_label_obs_cluster_key])), \n",
    "                    \"true_label_sample_cluster_barcode\"    : list(pd.unique(adata.obs[true_label_obs_cluster_key]))[0], \n",
    "                     }\n",
    "\n",
    "export_name = check_point_s8_variables\n",
    "\n",
    "with open( access_data_path(target_folder = f\"process_0/checkpoint\", target_file = export_name + \".pkl\" )  , 'wb') as file:\n",
    "    pickle.dump(Variables_Dict_s8, file)\n"
   ]
  }
 ],
 "metadata": {
  "kernelspec": {
   "display_name": "bilimsc5",
   "language": "python",
   "name": "python3"
  },
  "language_info": {
   "codemirror_mode": {
    "name": "ipython",
    "version": 3
   },
   "file_extension": ".py",
   "mimetype": "text/x-python",
   "name": "python",
   "nbconvert_exporter": "python",
   "pygments_lexer": "ipython3",
   "version": "3.12.3"
  }
 },
 "nbformat": 4,
 "nbformat_minor": 2
}
