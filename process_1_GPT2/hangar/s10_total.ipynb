{
 "cells": [
  {
   "cell_type": "markdown",
   "metadata": {},
   "source": [
    "# `Step 8: Total`"
   ]
  },
  {
   "cell_type": "markdown",
   "metadata": {},
   "source": [
    "# 0- `Config`"
   ]
  },
  {
   "cell_type": "code",
   "execution_count": 1,
   "metadata": {},
   "outputs": [],
   "source": [
    "import pandas as pd \n",
    "import numpy as np \n",
    "import pickle "
   ]
  },
  {
   "cell_type": "code",
   "execution_count": 2,
   "metadata": {},
   "outputs": [
    {
     "name": "stdout",
     "output_type": "stream",
     "text": [
      "s0_config.ipynb | Started\n",
      "s0_config.ipynb | Finished\n"
     ]
    }
   ],
   "source": [
    "try: \n",
    "    if manager == 1:\n",
    "        print(\"s1_load.ipynb running from MANAGER\")\n",
    "except: \n",
    "    %run s0_config.ipynb \n",
    " "
   ]
  },
  {
   "cell_type": "markdown",
   "metadata": {},
   "source": [
    "# 1-) `Load`\n",
    "- 0-) Default\n",
    "- 1-) SVM\n",
    "- 2-) SGD\n",
    "- 3-) Decision Tree\n",
    "- 4-) Random Forest\n",
    "- 5- Gradient Boosting"
   ]
  },
  {
   "cell_type": "markdown",
   "metadata": {},
   "source": [
    "## 0-) `Default`"
   ]
  },
  {
   "cell_type": "code",
   "execution_count": 3,
   "metadata": {},
   "outputs": [],
   "source": [
    "# Basic \n",
    "import_name = \"subject_outlier\"\n",
    "with open(os.path.join(access_data_path(f\"{process_barcode}/data/{folder_prediction}\", f\"{import_name}\" + \".pkl\"))  , 'rb') as file: \n",
    "    subject_outlier = pickle.load(file)   \n",
    "\n",
    "import_name = \"subject_autoencoder\"\n",
    "with open(os.path.join(access_data_path(f\"{process_barcode}/data/{folder_prediction}\", f\"{import_name}\" + \".pkl\"))  , 'rb') as file: \n",
    "    subject_autoencoder = pickle.load(file)  \n",
    "     \n",
    "import_name = \"subject_dimension\" \n",
    "with open(os.path.join(access_data_path(f\"{process_barcode}/data/{folder_prediction}\", f\"{import_name}\" + \".pkl\"))  , 'rb') as file: \n",
    "    subject_dimension = pickle.load(file)   "
   ]
  },
  {
   "cell_type": "markdown",
   "metadata": {},
   "source": [
    "## 0-) `NN`"
   ]
  },
  {
   "cell_type": "code",
   "execution_count": 4,
   "metadata": {},
   "outputs": [
    {
     "name": "stdout",
     "output_type": "stream",
     "text": [
      "No NN Best Total Statistics Data\n",
      "NN Total Statistics Data is created\n"
     ]
    }
   ],
   "source": [
    "# Subject\n",
    "import_name = \"NN_All\"\n",
    "with open(os.path.join(access_data_path(f\"{process_barcode}/data/{folder_prediction}\", f\"{import_name}.pkl\")), 'rb') as file: \n",
    "    NN_All = pickle.load(file)   \n",
    "\n",
    "# SVM Total Statistics \n",
    "try:\n",
    "    import_name = \"NN_Total\"\n",
    "    with open(os.path.join(access_data_path(f\"{process_barcode}/data/{folder_total}\", f\"{import_name}\" + \".pkl\"))  , 'rb') as file: \n",
    "        NN_Total = pickle.load(file)   \n",
    "    print(\"NN Total Data is loaded\")\n",
    "except:\n",
    "    print(\"No NN Best Total Statistics Data\") \n",
    "    NN_Total = pd.DataFrame() \n",
    "    print(\"NN Total Statistics Data is created\") "
   ]
  },
  {
   "cell_type": "code",
   "execution_count": 5,
   "metadata": {},
   "outputs": [],
   "source": [
    "import_name = \"NN_All\"\n",
    "with open(os.path.join(access_data_path(f\"{process_barcode}/data/{folder_prediction}\", f\"{import_name}.pkl\")), 'rb') as file: \n",
    "    NN_All = pickle.load(file)   "
   ]
  },
  {
   "cell_type": "code",
   "execution_count": 6,
   "metadata": {},
   "outputs": [
    {
     "data": {
      "text/html": [
       "<div>\n",
       "<style scoped>\n",
       "    .dataframe tbody tr th:only-of-type {\n",
       "        vertical-align: middle;\n",
       "    }\n",
       "\n",
       "    .dataframe tbody tr th {\n",
       "        vertical-align: top;\n",
       "    }\n",
       "\n",
       "    .dataframe thead th {\n",
       "        text-align: right;\n",
       "    }\n",
       "</style>\n",
       "<table border=\"1\" class=\"dataframe\">\n",
       "  <thead>\n",
       "    <tr style=\"text-align: right;\">\n",
       "      <th></th>\n",
       "      <th>Applications</th>\n",
       "      <th>Applications_Condition</th>\n",
       "      <th>Model</th>\n",
       "      <th>Parameters</th>\n",
       "      <th>Accuracy</th>\n",
       "      <th>Precision</th>\n",
       "      <th>Recall</th>\n",
       "      <th>F1</th>\n",
       "    </tr>\n",
       "  </thead>\n",
       "  <tbody>\n",
       "    <tr>\n",
       "      <th>0</th>\n",
       "      <td>Free_v0_Free_v0_StandardScaler_Free_v0</td>\n",
       "      <td>Out_1_Nor_0_Aut_0_DR_0_NeNe</td>\n",
       "      <td>NeNe</td>\n",
       "      <td>exp_p0: {'GaussianNoise': 0.1}, exp_p1: {'Dens...</td>\n",
       "      <td>0.954545</td>\n",
       "      <td>0.969529</td>\n",
       "      <td>0.954545</td>\n",
       "      <td>0.955651</td>\n",
       "    </tr>\n",
       "    <tr>\n",
       "      <th>0</th>\n",
       "      <td>Free_v0_Free_v0_StandardScaler_Free_v0</td>\n",
       "      <td>Out_1_Nor_1_Aut_0_DR_0_NeNe</td>\n",
       "      <td>NeNe</td>\n",
       "      <td>exp_p0: {'GaussianNoise': 0.1}, exp_p1: {'Dens...</td>\n",
       "      <td>0.983957</td>\n",
       "      <td>0.986631</td>\n",
       "      <td>0.983957</td>\n",
       "      <td>0.983910</td>\n",
       "    </tr>\n",
       "    <tr>\n",
       "      <th>0</th>\n",
       "      <td>Free_v0_Free_v0_StandardScaler_Free_v0</td>\n",
       "      <td>Out_1_Nor_1_Aut_1_DR_0_NeNe</td>\n",
       "      <td>NeNe</td>\n",
       "      <td>exp_p0: {'GaussianNoise': 0.1}, exp_p1: {'Dens...</td>\n",
       "      <td>0.967914</td>\n",
       "      <td>0.975892</td>\n",
       "      <td>0.967914</td>\n",
       "      <td>0.968274</td>\n",
       "    </tr>\n",
       "    <tr>\n",
       "      <th>0</th>\n",
       "      <td>Free_v0_Free_v0_StandardScaler_Free_v0</td>\n",
       "      <td>Out_1_Nor_1_Aut_1_DR_1_NeNe</td>\n",
       "      <td>NeNe</td>\n",
       "      <td>exp_p0: {'GaussianNoise': 0.1}, exp_p1: {'Dens...</td>\n",
       "      <td>0.951872</td>\n",
       "      <td>0.966941</td>\n",
       "      <td>0.951872</td>\n",
       "      <td>0.952049</td>\n",
       "    </tr>\n",
       "  </tbody>\n",
       "</table>\n",
       "</div>"
      ],
      "text/plain": [
       "                             Applications       Applications_Condition Model  \\\n",
       "0  Free_v0_Free_v0_StandardScaler_Free_v0  Out_1_Nor_0_Aut_0_DR_0_NeNe  NeNe   \n",
       "0  Free_v0_Free_v0_StandardScaler_Free_v0  Out_1_Nor_1_Aut_0_DR_0_NeNe  NeNe   \n",
       "0  Free_v0_Free_v0_StandardScaler_Free_v0  Out_1_Nor_1_Aut_1_DR_0_NeNe  NeNe   \n",
       "0  Free_v0_Free_v0_StandardScaler_Free_v0  Out_1_Nor_1_Aut_1_DR_1_NeNe  NeNe   \n",
       "\n",
       "                                          Parameters  Accuracy  Precision  \\\n",
       "0  exp_p0: {'GaussianNoise': 0.1}, exp_p1: {'Dens...  0.954545   0.969529   \n",
       "0  exp_p0: {'GaussianNoise': 0.1}, exp_p1: {'Dens...  0.983957   0.986631   \n",
       "0  exp_p0: {'GaussianNoise': 0.1}, exp_p1: {'Dens...  0.967914   0.975892   \n",
       "0  exp_p0: {'GaussianNoise': 0.1}, exp_p1: {'Dens...  0.951872   0.966941   \n",
       "\n",
       "     Recall        F1  \n",
       "0  0.954545  0.955651  \n",
       "0  0.983957  0.983910  \n",
       "0  0.967914  0.968274  \n",
       "0  0.951872  0.952049  "
      ]
     },
     "execution_count": 6,
     "metadata": {},
     "output_type": "execute_result"
    }
   ],
   "source": [
    "NN_All"
   ]
  },
  {
   "cell_type": "code",
   "execution_count": 7,
   "metadata": {},
   "outputs": [
    {
     "data": {
      "text/html": [
       "<div>\n",
       "<style scoped>\n",
       "    .dataframe tbody tr th:only-of-type {\n",
       "        vertical-align: middle;\n",
       "    }\n",
       "\n",
       "    .dataframe tbody tr th {\n",
       "        vertical-align: top;\n",
       "    }\n",
       "\n",
       "    .dataframe thead th {\n",
       "        text-align: right;\n",
       "    }\n",
       "</style>\n",
       "<table border=\"1\" class=\"dataframe\">\n",
       "  <thead>\n",
       "    <tr style=\"text-align: right;\">\n",
       "      <th></th>\n",
       "    </tr>\n",
       "  </thead>\n",
       "  <tbody>\n",
       "  </tbody>\n",
       "</table>\n",
       "</div>"
      ],
      "text/plain": [
       "Empty DataFrame\n",
       "Columns: []\n",
       "Index: []"
      ]
     },
     "execution_count": 7,
     "metadata": {},
     "output_type": "execute_result"
    }
   ],
   "source": [
    "NN_Total"
   ]
  },
  {
   "cell_type": "markdown",
   "metadata": {},
   "source": [
    "## 1-) `SVM`"
   ]
  },
  {
   "cell_type": "code",
   "execution_count": 8,
   "metadata": {},
   "outputs": [
    {
     "name": "stdout",
     "output_type": "stream",
     "text": [
      "No SVM Best Total Statistics Data\n",
      "SVM Total Statistics Data is created\n"
     ]
    }
   ],
   "source": [
    "# Subject\n",
    "import_name = \"SVM_All\"\n",
    "with open(os.path.join(access_data_path(f\"{process_barcode}/data/{folder_prediction}\", f\"{import_name}.pkl\")), 'rb') as file: \n",
    "    SVM_All = pickle.load(file)   \n",
    "\n",
    "# SVM Total Statistics \n",
    "try:\n",
    "    import_name = \"SVM_Total\"\n",
    "    with open(os.path.join(access_data_path(f\"{process_barcode}/data/{folder_total}\", f\"{import_name}\" + \".pkl\"))  , 'rb') as file: \n",
    "        SVM_Total = pickle.load(file)   \n",
    "    print(\"SVM Total Data is loaded\")\n",
    "except:\n",
    "    print(\"No SVM Best Total Statistics Data\") \n",
    "    SVM_Total = pd.DataFrame() \n",
    "    print(\"SVM Total Statistics Data is created\") "
   ]
  },
  {
   "cell_type": "markdown",
   "metadata": {},
   "source": [
    "## 2-) `SGD`"
   ]
  },
  {
   "cell_type": "code",
   "execution_count": 9,
   "metadata": {},
   "outputs": [
    {
     "name": "stdout",
     "output_type": "stream",
     "text": [
      "No SGD Best Total Statistics Data\n",
      "SGD Total Statistics Data is created\n"
     ]
    }
   ],
   "source": [
    "# Subject\n",
    "import_name = \"SGD_All\"\n",
    "with open(os.path.join(access_data_path(f\"{process_barcode}/data/{folder_prediction}\", f\"{import_name}.pkl\")), 'rb') as file: \n",
    "    SGD_All = pickle.load(file)   \n",
    "\n",
    "# SGD Total Statistics \n",
    "try:\n",
    "    import_name = \"SGD_Total\"\n",
    "    with open(os.path.join(access_data_path(f\"{process_barcode}/data/{folder_total}\", f\"{import_name}.pkl\")), 'rb') as file: \n",
    "        SGD_Total = pickle.load(file)   \n",
    "    print(\"SGD Total Data is loaded\")\n",
    "except:\n",
    "    print(\"No SGD Best Total Statistics Data\") \n",
    "    SGD_Total = pd.DataFrame() \n",
    "    print(\"SGD Total Statistics Data is created\") "
   ]
  },
  {
   "cell_type": "markdown",
   "metadata": {},
   "source": [
    "## 3-) `Decision Tree`"
   ]
  },
  {
   "cell_type": "code",
   "execution_count": 10,
   "metadata": {},
   "outputs": [
    {
     "name": "stdout",
     "output_type": "stream",
     "text": [
      "No DT Best Total Statistics Data\n",
      "DT Total Statistics Data is created\n"
     ]
    }
   ],
   "source": [
    "# Subject\n",
    "import_name = \"DT_All\"\n",
    "with open(os.path.join(access_data_path(f\"{process_barcode}/data/{folder_prediction}\", f\"{import_name}.pkl\")), 'rb') as file: \n",
    "    DT_All = pickle.load(file)   \n",
    "\n",
    "# DT Total Statistics \n",
    "try:\n",
    "    import_name = \"DT_Total\"\n",
    "    with open(os.path.join(access_data_path(f\"{process_barcode}/data/{folder_total}\", f\"{import_name}.pkl\")), 'rb') as file: \n",
    "        DT_Total = pickle.load(file)   \n",
    "    print(\"DT Total Data is loaded\")\n",
    "except:\n",
    "    print(\"No DT Best Total Statistics Data\") \n",
    "    DT_Total = pd.DataFrame() \n",
    "    print(\"DT Total Statistics Data is created\") "
   ]
  },
  {
   "cell_type": "markdown",
   "metadata": {},
   "source": [
    "## 4-) `Random Forest`"
   ]
  },
  {
   "cell_type": "code",
   "execution_count": 11,
   "metadata": {},
   "outputs": [
    {
     "name": "stdout",
     "output_type": "stream",
     "text": [
      "No RF Best Total Statistics Data\n",
      "RF Total Statistics Data is created\n"
     ]
    }
   ],
   "source": [
    "# Subject\n",
    "import_name = \"RF_All\"\n",
    "with open(os.path.join(access_data_path(f\"{process_barcode}/data/{folder_prediction}\", f\"{import_name}.pkl\")), 'rb') as file: \n",
    "    RF_All = pickle.load(file)   \n",
    "\n",
    "# RF Total Statistics \n",
    "try:\n",
    "    import_name = \"RF_Total\"\n",
    "    with open(os.path.join(access_data_path(f\"{process_barcode}/data/{folder_total}\", f\"{import_name}.pkl\")), 'rb') as file: \n",
    "        RF_Total = pickle.load(file)   \n",
    "    print(\"RF Total Data is loaded\")\n",
    "except:\n",
    "    print(\"No RF Best Total Statistics Data\") \n",
    "    RF_Total = pd.DataFrame() \n",
    "    print(\"RF Total Statistics Data is created\") "
   ]
  },
  {
   "cell_type": "markdown",
   "metadata": {},
   "source": [
    "## 5-) `Gradient Boosting`"
   ]
  },
  {
   "cell_type": "code",
   "execution_count": 12,
   "metadata": {},
   "outputs": [
    {
     "name": "stdout",
     "output_type": "stream",
     "text": [
      "No GB Best Total Statistics Data\n",
      "GB Total Statistics Data is created\n"
     ]
    }
   ],
   "source": [
    "# Subject\n",
    "import_name = \"GB_All\"\n",
    "with open(os.path.join(access_data_path(f\"{process_barcode}/data/{folder_prediction}\", f\"{import_name}.pkl\")), 'rb') as file: \n",
    "    GB_All = pickle.load(file)   \n",
    "\n",
    "# GB Total Statistics \n",
    "try:\n",
    "    import_name = \"GB_Total\"\n",
    "    with open(os.path.join(access_data_path(f\"{process_barcode}/data/{folder_prediction}\", f\"{import_name}.pkl\")), 'rb') as file: \n",
    "        GB_Total = pickle.load(file)   \n",
    "    print(\"GB Total Data is loaded\")\n",
    "except:\n",
    "    print(\"No GB Best Total Statistics Data\") \n",
    "    GB_Total = pd.DataFrame() \n",
    "    print(\"GB Total Statistics Data is created\") "
   ]
  },
  {
   "cell_type": "markdown",
   "metadata": {},
   "source": [
    "---\n",
    "# 2-) `Bench`\n",
    "- 1-) SVM\n",
    "- 2-) SGD\n",
    "- 3-) Decision Tree\n",
    "- 4-) Random Forest\n",
    "- 5- Gradient Boosting"
   ]
  },
  {
   "cell_type": "markdown",
   "metadata": {},
   "source": [
    "## 0-) `NN`"
   ]
  },
  {
   "cell_type": "markdown",
   "metadata": {},
   "source": [
    "### A-) `NN Total`"
   ]
  },
  {
   "cell_type": "code",
   "execution_count": 13,
   "metadata": {},
   "outputs": [
    {
     "data": {
      "text/html": [
       "<div>\n",
       "<style scoped>\n",
       "    .dataframe tbody tr th:only-of-type {\n",
       "        vertical-align: middle;\n",
       "    }\n",
       "\n",
       "    .dataframe tbody tr th {\n",
       "        vertical-align: top;\n",
       "    }\n",
       "\n",
       "    .dataframe thead th {\n",
       "        text-align: right;\n",
       "    }\n",
       "</style>\n",
       "<table border=\"1\" class=\"dataframe\">\n",
       "  <thead>\n",
       "    <tr style=\"text-align: right;\">\n",
       "      <th></th>\n",
       "      <th>Applications</th>\n",
       "      <th>Applications_Condition</th>\n",
       "      <th>Model</th>\n",
       "      <th>Parameters</th>\n",
       "      <th>Accuracy</th>\n",
       "      <th>Precision</th>\n",
       "      <th>Recall</th>\n",
       "      <th>F1</th>\n",
       "    </tr>\n",
       "  </thead>\n",
       "  <tbody>\n",
       "    <tr>\n",
       "      <th>0</th>\n",
       "      <td>Free_v0_Free_v0_StandardScaler_Free_v0</td>\n",
       "      <td>Out_1_Nor_0_Aut_0_DR_0_NeNe</td>\n",
       "      <td>NeNe</td>\n",
       "      <td>exp_p0: {'GaussianNoise': 0.1}, exp_p1: {'Dens...</td>\n",
       "      <td>0.954545</td>\n",
       "      <td>0.969529</td>\n",
       "      <td>0.954545</td>\n",
       "      <td>0.955651</td>\n",
       "    </tr>\n",
       "    <tr>\n",
       "      <th>0</th>\n",
       "      <td>Free_v0_Free_v0_StandardScaler_Free_v0</td>\n",
       "      <td>Out_1_Nor_1_Aut_0_DR_0_NeNe</td>\n",
       "      <td>NeNe</td>\n",
       "      <td>exp_p0: {'GaussianNoise': 0.1}, exp_p1: {'Dens...</td>\n",
       "      <td>0.983957</td>\n",
       "      <td>0.986631</td>\n",
       "      <td>0.983957</td>\n",
       "      <td>0.983910</td>\n",
       "    </tr>\n",
       "    <tr>\n",
       "      <th>0</th>\n",
       "      <td>Free_v0_Free_v0_StandardScaler_Free_v0</td>\n",
       "      <td>Out_1_Nor_1_Aut_1_DR_0_NeNe</td>\n",
       "      <td>NeNe</td>\n",
       "      <td>exp_p0: {'GaussianNoise': 0.1}, exp_p1: {'Dens...</td>\n",
       "      <td>0.967914</td>\n",
       "      <td>0.975892</td>\n",
       "      <td>0.967914</td>\n",
       "      <td>0.968274</td>\n",
       "    </tr>\n",
       "    <tr>\n",
       "      <th>0</th>\n",
       "      <td>Free_v0_Free_v0_StandardScaler_Free_v0</td>\n",
       "      <td>Out_1_Nor_1_Aut_1_DR_1_NeNe</td>\n",
       "      <td>NeNe</td>\n",
       "      <td>exp_p0: {'GaussianNoise': 0.1}, exp_p1: {'Dens...</td>\n",
       "      <td>0.951872</td>\n",
       "      <td>0.966941</td>\n",
       "      <td>0.951872</td>\n",
       "      <td>0.952049</td>\n",
       "    </tr>\n",
       "  </tbody>\n",
       "</table>\n",
       "</div>"
      ],
      "text/plain": [
       "                             Applications       Applications_Condition Model  \\\n",
       "0  Free_v0_Free_v0_StandardScaler_Free_v0  Out_1_Nor_0_Aut_0_DR_0_NeNe  NeNe   \n",
       "0  Free_v0_Free_v0_StandardScaler_Free_v0  Out_1_Nor_1_Aut_0_DR_0_NeNe  NeNe   \n",
       "0  Free_v0_Free_v0_StandardScaler_Free_v0  Out_1_Nor_1_Aut_1_DR_0_NeNe  NeNe   \n",
       "0  Free_v0_Free_v0_StandardScaler_Free_v0  Out_1_Nor_1_Aut_1_DR_1_NeNe  NeNe   \n",
       "\n",
       "                                          Parameters  Accuracy  Precision  \\\n",
       "0  exp_p0: {'GaussianNoise': 0.1}, exp_p1: {'Dens...  0.954545   0.969529   \n",
       "0  exp_p0: {'GaussianNoise': 0.1}, exp_p1: {'Dens...  0.983957   0.986631   \n",
       "0  exp_p0: {'GaussianNoise': 0.1}, exp_p1: {'Dens...  0.967914   0.975892   \n",
       "0  exp_p0: {'GaussianNoise': 0.1}, exp_p1: {'Dens...  0.951872   0.966941   \n",
       "\n",
       "     Recall        F1  \n",
       "0  0.954545  0.955651  \n",
       "0  0.983957  0.983910  \n",
       "0  0.967914  0.968274  \n",
       "0  0.951872  0.952049  "
      ]
     },
     "execution_count": 13,
     "metadata": {},
     "output_type": "execute_result"
    }
   ],
   "source": [
    "NN_All"
   ]
  },
  {
   "cell_type": "code",
   "execution_count": 14,
   "metadata": {},
   "outputs": [
    {
     "name": "stdout",
     "output_type": "stream",
     "text": [
      "New data is inserted into NN Total Statistics\n"
     ]
    }
   ],
   "source": [
    "try: \n",
    "    NN_Total = pd.concat([NN_Total, NN_All], axis=0) \n",
    "    # Keep Last Update One \n",
    "    NN_Total = NN_Total.drop_duplicates( subset = [\"Applications\",\"Applications_Condition\", \"Model\"], keep = \"last\")   \n",
    "    print(\"New data is inserted into NN Total Statistics\")\n",
    "except:\n",
    "    NN_Total = NN_All\n",
    "    print(\"First data is inserted into NN Total Statistics\")"
   ]
  },
  {
   "cell_type": "code",
   "execution_count": 15,
   "metadata": {},
   "outputs": [
    {
     "data": {
      "text/html": [
       "<div>\n",
       "<style scoped>\n",
       "    .dataframe tbody tr th:only-of-type {\n",
       "        vertical-align: middle;\n",
       "    }\n",
       "\n",
       "    .dataframe tbody tr th {\n",
       "        vertical-align: top;\n",
       "    }\n",
       "\n",
       "    .dataframe thead th {\n",
       "        text-align: right;\n",
       "    }\n",
       "</style>\n",
       "<table border=\"1\" class=\"dataframe\">\n",
       "  <thead>\n",
       "    <tr style=\"text-align: right;\">\n",
       "      <th></th>\n",
       "      <th>Applications</th>\n",
       "      <th>Applications_Condition</th>\n",
       "      <th>Model</th>\n",
       "      <th>Parameters</th>\n",
       "      <th>Accuracy</th>\n",
       "      <th>Precision</th>\n",
       "      <th>Recall</th>\n",
       "      <th>F1</th>\n",
       "    </tr>\n",
       "  </thead>\n",
       "  <tbody>\n",
       "    <tr>\n",
       "      <th>0</th>\n",
       "      <td>Free_v0_Free_v0_StandardScaler_Free_v0</td>\n",
       "      <td>Out_1_Nor_0_Aut_0_DR_0_NeNe</td>\n",
       "      <td>NeNe</td>\n",
       "      <td>exp_p0: {'GaussianNoise': 0.1}, exp_p1: {'Dens...</td>\n",
       "      <td>0.954545</td>\n",
       "      <td>0.969529</td>\n",
       "      <td>0.954545</td>\n",
       "      <td>0.955651</td>\n",
       "    </tr>\n",
       "    <tr>\n",
       "      <th>0</th>\n",
       "      <td>Free_v0_Free_v0_StandardScaler_Free_v0</td>\n",
       "      <td>Out_1_Nor_1_Aut_0_DR_0_NeNe</td>\n",
       "      <td>NeNe</td>\n",
       "      <td>exp_p0: {'GaussianNoise': 0.1}, exp_p1: {'Dens...</td>\n",
       "      <td>0.983957</td>\n",
       "      <td>0.986631</td>\n",
       "      <td>0.983957</td>\n",
       "      <td>0.983910</td>\n",
       "    </tr>\n",
       "    <tr>\n",
       "      <th>0</th>\n",
       "      <td>Free_v0_Free_v0_StandardScaler_Free_v0</td>\n",
       "      <td>Out_1_Nor_1_Aut_1_DR_0_NeNe</td>\n",
       "      <td>NeNe</td>\n",
       "      <td>exp_p0: {'GaussianNoise': 0.1}, exp_p1: {'Dens...</td>\n",
       "      <td>0.967914</td>\n",
       "      <td>0.975892</td>\n",
       "      <td>0.967914</td>\n",
       "      <td>0.968274</td>\n",
       "    </tr>\n",
       "    <tr>\n",
       "      <th>0</th>\n",
       "      <td>Free_v0_Free_v0_StandardScaler_Free_v0</td>\n",
       "      <td>Out_1_Nor_1_Aut_1_DR_1_NeNe</td>\n",
       "      <td>NeNe</td>\n",
       "      <td>exp_p0: {'GaussianNoise': 0.1}, exp_p1: {'Dens...</td>\n",
       "      <td>0.951872</td>\n",
       "      <td>0.966941</td>\n",
       "      <td>0.951872</td>\n",
       "      <td>0.952049</td>\n",
       "    </tr>\n",
       "  </tbody>\n",
       "</table>\n",
       "</div>"
      ],
      "text/plain": [
       "                             Applications       Applications_Condition Model  \\\n",
       "0  Free_v0_Free_v0_StandardScaler_Free_v0  Out_1_Nor_0_Aut_0_DR_0_NeNe  NeNe   \n",
       "0  Free_v0_Free_v0_StandardScaler_Free_v0  Out_1_Nor_1_Aut_0_DR_0_NeNe  NeNe   \n",
       "0  Free_v0_Free_v0_StandardScaler_Free_v0  Out_1_Nor_1_Aut_1_DR_0_NeNe  NeNe   \n",
       "0  Free_v0_Free_v0_StandardScaler_Free_v0  Out_1_Nor_1_Aut_1_DR_1_NeNe  NeNe   \n",
       "\n",
       "                                          Parameters  Accuracy  Precision  \\\n",
       "0  exp_p0: {'GaussianNoise': 0.1}, exp_p1: {'Dens...  0.954545   0.969529   \n",
       "0  exp_p0: {'GaussianNoise': 0.1}, exp_p1: {'Dens...  0.983957   0.986631   \n",
       "0  exp_p0: {'GaussianNoise': 0.1}, exp_p1: {'Dens...  0.967914   0.975892   \n",
       "0  exp_p0: {'GaussianNoise': 0.1}, exp_p1: {'Dens...  0.951872   0.966941   \n",
       "\n",
       "     Recall        F1  \n",
       "0  0.954545  0.955651  \n",
       "0  0.983957  0.983910  \n",
       "0  0.967914  0.968274  \n",
       "0  0.951872  0.952049  "
      ]
     },
     "execution_count": 15,
     "metadata": {},
     "output_type": "execute_result"
    }
   ],
   "source": [
    "NN_Total"
   ]
  },
  {
   "cell_type": "markdown",
   "metadata": {},
   "source": [
    "## 1-) `SVM`"
   ]
  },
  {
   "cell_type": "markdown",
   "metadata": {},
   "source": [
    "### A-) `SVM Total`"
   ]
  },
  {
   "cell_type": "code",
   "execution_count": 16,
   "metadata": {},
   "outputs": [
    {
     "data": {
      "text/html": [
       "<div>\n",
       "<style scoped>\n",
       "    .dataframe tbody tr th:only-of-type {\n",
       "        vertical-align: middle;\n",
       "    }\n",
       "\n",
       "    .dataframe tbody tr th {\n",
       "        vertical-align: top;\n",
       "    }\n",
       "\n",
       "    .dataframe thead th {\n",
       "        text-align: right;\n",
       "    }\n",
       "</style>\n",
       "<table border=\"1\" class=\"dataframe\">\n",
       "  <thead>\n",
       "    <tr style=\"text-align: right;\">\n",
       "      <th></th>\n",
       "      <th>Applications</th>\n",
       "      <th>Applications_Condition</th>\n",
       "      <th>Model</th>\n",
       "      <th>Parameters</th>\n",
       "      <th>Accuracy</th>\n",
       "      <th>Precision</th>\n",
       "      <th>Recall</th>\n",
       "      <th>F1</th>\n",
       "    </tr>\n",
       "  </thead>\n",
       "  <tbody>\n",
       "    <tr>\n",
       "      <th>0</th>\n",
       "      <td>Free_v0_Free_v0_StandardScaler_Free_v0</td>\n",
       "      <td>Out_1_Nor_0_Aut_0_DR_0</td>\n",
       "      <td>SVM</td>\n",
       "      <td>kernel_poly_degree_2_coef0_0.5_C_1_gamma_scale</td>\n",
       "      <td>0.48</td>\n",
       "      <td>0.588382</td>\n",
       "      <td>0.48</td>\n",
       "      <td>0.437347</td>\n",
       "    </tr>\n",
       "    <tr>\n",
       "      <th>0</th>\n",
       "      <td>Free_v0_Free_v0_StandardScaler_Free_v0</td>\n",
       "      <td>Out_1_Nor_1_Aut_0_DR_0</td>\n",
       "      <td>SVM</td>\n",
       "      <td>kernel_poly_degree_2_coef0_0.5_C_1_gamma_scale</td>\n",
       "      <td>1.00</td>\n",
       "      <td>1.000000</td>\n",
       "      <td>1.00</td>\n",
       "      <td>1.000000</td>\n",
       "    </tr>\n",
       "    <tr>\n",
       "      <th>0</th>\n",
       "      <td>Free_v0_Free_v0_StandardScaler_Free_v0</td>\n",
       "      <td>Out_1_Nor_1_Aut_1_DR_0</td>\n",
       "      <td>SVM</td>\n",
       "      <td>kernel_poly_degree_2_coef0_0.5_C_1_gamma_scale</td>\n",
       "      <td>0.48</td>\n",
       "      <td>0.588382</td>\n",
       "      <td>0.48</td>\n",
       "      <td>0.437347</td>\n",
       "    </tr>\n",
       "    <tr>\n",
       "      <th>0</th>\n",
       "      <td>Free_v0_Free_v0_StandardScaler_Free_v0</td>\n",
       "      <td>Out_1_Nor_1_Aut_1_DR_1</td>\n",
       "      <td>SVM</td>\n",
       "      <td>kernel_poly_degree_2_coef0_0.5_C_1_gamma_scale</td>\n",
       "      <td>0.48</td>\n",
       "      <td>0.588382</td>\n",
       "      <td>0.48</td>\n",
       "      <td>0.437347</td>\n",
       "    </tr>\n",
       "  </tbody>\n",
       "</table>\n",
       "</div>"
      ],
      "text/plain": [
       "                             Applications  Applications_Condition Model  \\\n",
       "0  Free_v0_Free_v0_StandardScaler_Free_v0  Out_1_Nor_0_Aut_0_DR_0   SVM   \n",
       "0  Free_v0_Free_v0_StandardScaler_Free_v0  Out_1_Nor_1_Aut_0_DR_0   SVM   \n",
       "0  Free_v0_Free_v0_StandardScaler_Free_v0  Out_1_Nor_1_Aut_1_DR_0   SVM   \n",
       "0  Free_v0_Free_v0_StandardScaler_Free_v0  Out_1_Nor_1_Aut_1_DR_1   SVM   \n",
       "\n",
       "                                       Parameters  Accuracy  Precision  \\\n",
       "0  kernel_poly_degree_2_coef0_0.5_C_1_gamma_scale      0.48   0.588382   \n",
       "0  kernel_poly_degree_2_coef0_0.5_C_1_gamma_scale      1.00   1.000000   \n",
       "0  kernel_poly_degree_2_coef0_0.5_C_1_gamma_scale      0.48   0.588382   \n",
       "0  kernel_poly_degree_2_coef0_0.5_C_1_gamma_scale      0.48   0.588382   \n",
       "\n",
       "   Recall        F1  \n",
       "0    0.48  0.437347  \n",
       "0    1.00  1.000000  \n",
       "0    0.48  0.437347  \n",
       "0    0.48  0.437347  "
      ]
     },
     "execution_count": 16,
     "metadata": {},
     "output_type": "execute_result"
    }
   ],
   "source": [
    "SVM_All"
   ]
  },
  {
   "cell_type": "code",
   "execution_count": 17,
   "metadata": {},
   "outputs": [
    {
     "name": "stdout",
     "output_type": "stream",
     "text": [
      "New data is inserted into SVM Total Statistics\n"
     ]
    }
   ],
   "source": [
    "try: \n",
    "    SVM_Total = pd.concat([SVM_Total, SVM_All], axis=0) \n",
    "    # Keep Last Update One \n",
    "    SVM_Total = SVM_Total.drop_duplicates( subset = [\"Applications\",\"Applications_Condition\", \"Model\"], keep = \"last\")   \n",
    "    print(\"New data is inserted into SVM Total Statistics\")\n",
    "except:\n",
    "    SVM_Total = SVM_All\n",
    "    print(\"First data is inserted into SVM Total Statistics\")"
   ]
  },
  {
   "cell_type": "markdown",
   "metadata": {},
   "source": [
    "## 2-) `Decision Tree`"
   ]
  },
  {
   "cell_type": "code",
   "execution_count": 18,
   "metadata": {},
   "outputs": [
    {
     "data": {
      "text/html": [
       "<div>\n",
       "<style scoped>\n",
       "    .dataframe tbody tr th:only-of-type {\n",
       "        vertical-align: middle;\n",
       "    }\n",
       "\n",
       "    .dataframe tbody tr th {\n",
       "        vertical-align: top;\n",
       "    }\n",
       "\n",
       "    .dataframe thead th {\n",
       "        text-align: right;\n",
       "    }\n",
       "</style>\n",
       "<table border=\"1\" class=\"dataframe\">\n",
       "  <thead>\n",
       "    <tr style=\"text-align: right;\">\n",
       "      <th></th>\n",
       "    </tr>\n",
       "  </thead>\n",
       "  <tbody>\n",
       "  </tbody>\n",
       "</table>\n",
       "</div>"
      ],
      "text/plain": [
       "Empty DataFrame\n",
       "Columns: []\n",
       "Index: []"
      ]
     },
     "execution_count": 18,
     "metadata": {},
     "output_type": "execute_result"
    }
   ],
   "source": [
    "DT_Total"
   ]
  },
  {
   "cell_type": "code",
   "execution_count": 19,
   "metadata": {},
   "outputs": [
    {
     "name": "stdout",
     "output_type": "stream",
     "text": [
      "New data is inserted into DT Total Statistics\n"
     ]
    }
   ],
   "source": [
    "try: \n",
    "    DT_Total = pd.concat([DT_Total, DT_All], axis=0) \n",
    "    # Keep Last Update One \n",
    "    DT_Total = DT_Total.drop_duplicates( subset = [\"Applications\",\"Applications_Condition\", \"Model\"], keep = \"last\")   \n",
    "    print(\"New data is inserted into DT Total Statistics\")\n",
    "except:\n",
    "    DT_Total = DT_All\n",
    "    print(\"First data is inserted into DT Total Statistics\")"
   ]
  },
  {
   "cell_type": "markdown",
   "metadata": {},
   "source": [
    "## 3-) `Random Forest`"
   ]
  },
  {
   "cell_type": "code",
   "execution_count": 20,
   "metadata": {},
   "outputs": [
    {
     "data": {
      "text/html": [
       "<div>\n",
       "<style scoped>\n",
       "    .dataframe tbody tr th:only-of-type {\n",
       "        vertical-align: middle;\n",
       "    }\n",
       "\n",
       "    .dataframe tbody tr th {\n",
       "        vertical-align: top;\n",
       "    }\n",
       "\n",
       "    .dataframe thead th {\n",
       "        text-align: right;\n",
       "    }\n",
       "</style>\n",
       "<table border=\"1\" class=\"dataframe\">\n",
       "  <thead>\n",
       "    <tr style=\"text-align: right;\">\n",
       "      <th></th>\n",
       "    </tr>\n",
       "  </thead>\n",
       "  <tbody>\n",
       "  </tbody>\n",
       "</table>\n",
       "</div>"
      ],
      "text/plain": [
       "Empty DataFrame\n",
       "Columns: []\n",
       "Index: []"
      ]
     },
     "execution_count": 20,
     "metadata": {},
     "output_type": "execute_result"
    }
   ],
   "source": [
    "RF_Total"
   ]
  },
  {
   "cell_type": "code",
   "execution_count": 21,
   "metadata": {},
   "outputs": [
    {
     "name": "stdout",
     "output_type": "stream",
     "text": [
      "New data is inserted into RF Total Statistics\n"
     ]
    }
   ],
   "source": [
    "try: \n",
    "    RF_Total = pd.concat([RF_Total, RF_All], axis=0) \n",
    "    # Keep Last Update One \n",
    "    RF_Total = RF_Total.drop_duplicates( subset = [\"Applications\",\"Applications_Condition\", \"Model\"], keep = \"last\")   \n",
    "    print(\"New data is inserted into RF Total Statistics\")\n",
    "except:\n",
    "    RF_Total = RF_All\n",
    "    print(\"First data is inserted into RF Total Statistics\")"
   ]
  },
  {
   "cell_type": "markdown",
   "metadata": {},
   "source": [
    "## 4-) `Gradient Boosting`"
   ]
  },
  {
   "cell_type": "code",
   "execution_count": 22,
   "metadata": {},
   "outputs": [
    {
     "name": "stdout",
     "output_type": "stream",
     "text": [
      "New data is inserted into GB Total Statistics\n"
     ]
    }
   ],
   "source": [
    "try: \n",
    "    GB_Total = pd.concat([GB_Total, GB_All], axis=0) \n",
    "    # Keep Last Update One \n",
    "    GB_Total = GB_Total.drop_duplicates( subset = [\"Applications\",\"Applications_Condition\", \"Model\"], keep = \"last\")   \n",
    "    print(\"New data is inserted into GB Total Statistics\")\n",
    "except:\n",
    "    GB_Total = GB_All\n",
    "    print(\"First data is inserted into GB Total Statistics\")"
   ]
  },
  {
   "cell_type": "markdown",
   "metadata": {},
   "source": [
    "## 5-) `SGD`"
   ]
  },
  {
   "cell_type": "code",
   "execution_count": 23,
   "metadata": {},
   "outputs": [
    {
     "data": {
      "text/html": [
       "<div>\n",
       "<style scoped>\n",
       "    .dataframe tbody tr th:only-of-type {\n",
       "        vertical-align: middle;\n",
       "    }\n",
       "\n",
       "    .dataframe tbody tr th {\n",
       "        vertical-align: top;\n",
       "    }\n",
       "\n",
       "    .dataframe thead th {\n",
       "        text-align: right;\n",
       "    }\n",
       "</style>\n",
       "<table border=\"1\" class=\"dataframe\">\n",
       "  <thead>\n",
       "    <tr style=\"text-align: right;\">\n",
       "      <th></th>\n",
       "    </tr>\n",
       "  </thead>\n",
       "  <tbody>\n",
       "  </tbody>\n",
       "</table>\n",
       "</div>"
      ],
      "text/plain": [
       "Empty DataFrame\n",
       "Columns: []\n",
       "Index: []"
      ]
     },
     "execution_count": 23,
     "metadata": {},
     "output_type": "execute_result"
    }
   ],
   "source": [
    "SGD_Total"
   ]
  },
  {
   "cell_type": "code",
   "execution_count": 24,
   "metadata": {},
   "outputs": [
    {
     "name": "stdout",
     "output_type": "stream",
     "text": [
      "New data is inserted into SGD Total Statistics\n"
     ]
    }
   ],
   "source": [
    "try: \n",
    "    SGD_Total = pd.concat([SGD_Total, SGD_All], axis=0) \n",
    "    # Keep Last Update One \n",
    "    SGD_Total = SGD_Total.drop_duplicates( subset = [\"Applications\",\"Applications_Condition\", \"Model\"], keep = \"last\")   \n",
    "    print(\"New data is inserted into SGD Total Statistics\")\n",
    "except:\n",
    "    SGD_Total = SGD_All\n",
    "    print(\"First data is inserted into SGD Total Statistics\")"
   ]
  },
  {
   "cell_type": "markdown",
   "metadata": {},
   "source": [
    "# 3-) `All In One`\n",
    "- 1-) SVM\n",
    "- 2-) SGD\n",
    "- 3-) Decision Tree\n",
    "- 4-) Random Forest\n",
    "- 5- Gradient Boosting"
   ]
  },
  {
   "cell_type": "code",
   "execution_count": 25,
   "metadata": {},
   "outputs": [
    {
     "data": {
      "text/html": [
       "<div>\n",
       "<style scoped>\n",
       "    .dataframe tbody tr th:only-of-type {\n",
       "        vertical-align: middle;\n",
       "    }\n",
       "\n",
       "    .dataframe tbody tr th {\n",
       "        vertical-align: top;\n",
       "    }\n",
       "\n",
       "    .dataframe thead th {\n",
       "        text-align: right;\n",
       "    }\n",
       "</style>\n",
       "<table border=\"1\" class=\"dataframe\">\n",
       "  <thead>\n",
       "    <tr style=\"text-align: right;\">\n",
       "      <th></th>\n",
       "      <th>Applications</th>\n",
       "      <th>Applications_Condition</th>\n",
       "      <th>Model</th>\n",
       "      <th>Parameters</th>\n",
       "      <th>Accuracy</th>\n",
       "      <th>Precision</th>\n",
       "      <th>Recall</th>\n",
       "      <th>F1</th>\n",
       "    </tr>\n",
       "  </thead>\n",
       "  <tbody>\n",
       "    <tr>\n",
       "      <th>0</th>\n",
       "      <td>Free_v0_Free_v0_StandardScaler_Free_v0</td>\n",
       "      <td>Out_1_Nor_0_Aut_0_DR_0_NeNe</td>\n",
       "      <td>NeNe</td>\n",
       "      <td>exp_p0: {'GaussianNoise': 0.1}, exp_p1: {'Dens...</td>\n",
       "      <td>0.954545</td>\n",
       "      <td>0.969529</td>\n",
       "      <td>0.954545</td>\n",
       "      <td>0.955651</td>\n",
       "    </tr>\n",
       "    <tr>\n",
       "      <th>0</th>\n",
       "      <td>Free_v0_Free_v0_StandardScaler_Free_v0</td>\n",
       "      <td>Out_1_Nor_1_Aut_0_DR_0_NeNe</td>\n",
       "      <td>NeNe</td>\n",
       "      <td>exp_p0: {'GaussianNoise': 0.1}, exp_p1: {'Dens...</td>\n",
       "      <td>0.983957</td>\n",
       "      <td>0.986631</td>\n",
       "      <td>0.983957</td>\n",
       "      <td>0.983910</td>\n",
       "    </tr>\n",
       "    <tr>\n",
       "      <th>0</th>\n",
       "      <td>Free_v0_Free_v0_StandardScaler_Free_v0</td>\n",
       "      <td>Out_1_Nor_1_Aut_1_DR_0_NeNe</td>\n",
       "      <td>NeNe</td>\n",
       "      <td>exp_p0: {'GaussianNoise': 0.1}, exp_p1: {'Dens...</td>\n",
       "      <td>0.967914</td>\n",
       "      <td>0.975892</td>\n",
       "      <td>0.967914</td>\n",
       "      <td>0.968274</td>\n",
       "    </tr>\n",
       "    <tr>\n",
       "      <th>0</th>\n",
       "      <td>Free_v0_Free_v0_StandardScaler_Free_v0</td>\n",
       "      <td>Out_1_Nor_1_Aut_1_DR_1_NeNe</td>\n",
       "      <td>NeNe</td>\n",
       "      <td>exp_p0: {'GaussianNoise': 0.1}, exp_p1: {'Dens...</td>\n",
       "      <td>0.951872</td>\n",
       "      <td>0.966941</td>\n",
       "      <td>0.951872</td>\n",
       "      <td>0.952049</td>\n",
       "    </tr>\n",
       "  </tbody>\n",
       "</table>\n",
       "</div>"
      ],
      "text/plain": [
       "                             Applications       Applications_Condition Model  \\\n",
       "0  Free_v0_Free_v0_StandardScaler_Free_v0  Out_1_Nor_0_Aut_0_DR_0_NeNe  NeNe   \n",
       "0  Free_v0_Free_v0_StandardScaler_Free_v0  Out_1_Nor_1_Aut_0_DR_0_NeNe  NeNe   \n",
       "0  Free_v0_Free_v0_StandardScaler_Free_v0  Out_1_Nor_1_Aut_1_DR_0_NeNe  NeNe   \n",
       "0  Free_v0_Free_v0_StandardScaler_Free_v0  Out_1_Nor_1_Aut_1_DR_1_NeNe  NeNe   \n",
       "\n",
       "                                          Parameters  Accuracy  Precision  \\\n",
       "0  exp_p0: {'GaussianNoise': 0.1}, exp_p1: {'Dens...  0.954545   0.969529   \n",
       "0  exp_p0: {'GaussianNoise': 0.1}, exp_p1: {'Dens...  0.983957   0.986631   \n",
       "0  exp_p0: {'GaussianNoise': 0.1}, exp_p1: {'Dens...  0.967914   0.975892   \n",
       "0  exp_p0: {'GaussianNoise': 0.1}, exp_p1: {'Dens...  0.951872   0.966941   \n",
       "\n",
       "     Recall        F1  \n",
       "0  0.954545  0.955651  \n",
       "0  0.983957  0.983910  \n",
       "0  0.967914  0.968274  \n",
       "0  0.951872  0.952049  "
      ]
     },
     "execution_count": 25,
     "metadata": {},
     "output_type": "execute_result"
    }
   ],
   "source": [
    "NN_Total"
   ]
  },
  {
   "cell_type": "code",
   "execution_count": 26,
   "metadata": {},
   "outputs": [
    {
     "data": {
      "text/html": [
       "<div>\n",
       "<style scoped>\n",
       "    .dataframe tbody tr th:only-of-type {\n",
       "        vertical-align: middle;\n",
       "    }\n",
       "\n",
       "    .dataframe tbody tr th {\n",
       "        vertical-align: top;\n",
       "    }\n",
       "\n",
       "    .dataframe thead th {\n",
       "        text-align: right;\n",
       "    }\n",
       "</style>\n",
       "<table border=\"1\" class=\"dataframe\">\n",
       "  <thead>\n",
       "    <tr style=\"text-align: right;\">\n",
       "      <th></th>\n",
       "      <th>Applications</th>\n",
       "      <th>Applications_Condition</th>\n",
       "      <th>Model</th>\n",
       "      <th>Parameters</th>\n",
       "      <th>Accuracy</th>\n",
       "      <th>Precision</th>\n",
       "      <th>Recall</th>\n",
       "      <th>F1</th>\n",
       "    </tr>\n",
       "  </thead>\n",
       "  <tbody>\n",
       "    <tr>\n",
       "      <th>0</th>\n",
       "      <td>Free_v0_Free_v0_StandardScaler_Free_v0</td>\n",
       "      <td>Out_1_Nor_1_Aut_0_DR_0</td>\n",
       "      <td>SGD</td>\n",
       "      <td>alpha_0.01_max_iter_1000_penalty_l2_tol_0.0001</td>\n",
       "      <td>1.000000</td>\n",
       "      <td>1.000000</td>\n",
       "      <td>1.000000</td>\n",
       "      <td>1.000000</td>\n",
       "    </tr>\n",
       "    <tr>\n",
       "      <th>0</th>\n",
       "      <td>Free_v0_Free_v0_StandardScaler_Free_v0</td>\n",
       "      <td>Out_1_Nor_1_Aut_0_DR_0</td>\n",
       "      <td>SVM</td>\n",
       "      <td>kernel_poly_degree_2_coef0_0.5_C_1_gamma_scale</td>\n",
       "      <td>1.000000</td>\n",
       "      <td>1.000000</td>\n",
       "      <td>1.000000</td>\n",
       "      <td>1.000000</td>\n",
       "    </tr>\n",
       "    <tr>\n",
       "      <th>0</th>\n",
       "      <td>Free_v0_Free_v0_StandardScaler_Free_v0</td>\n",
       "      <td>Out_1_Nor_1_Aut_1_DR_1</td>\n",
       "      <td>RF</td>\n",
       "      <td>Basic</td>\n",
       "      <td>1.000000</td>\n",
       "      <td>1.000000</td>\n",
       "      <td>1.000000</td>\n",
       "      <td>1.000000</td>\n",
       "    </tr>\n",
       "    <tr>\n",
       "      <th>0</th>\n",
       "      <td>Free_v0_Free_v0_StandardScaler_Free_v0</td>\n",
       "      <td>Out_1_Nor_1_Aut_1_DR_0</td>\n",
       "      <td>RF</td>\n",
       "      <td>Basic</td>\n",
       "      <td>1.000000</td>\n",
       "      <td>1.000000</td>\n",
       "      <td>1.000000</td>\n",
       "      <td>1.000000</td>\n",
       "    </tr>\n",
       "    <tr>\n",
       "      <th>0</th>\n",
       "      <td>Free_v0_Free_v0_StandardScaler_Free_v0</td>\n",
       "      <td>Out_1_Nor_1_Aut_0_DR_0</td>\n",
       "      <td>RF</td>\n",
       "      <td>Basic</td>\n",
       "      <td>1.000000</td>\n",
       "      <td>1.000000</td>\n",
       "      <td>1.000000</td>\n",
       "      <td>1.000000</td>\n",
       "    </tr>\n",
       "    <tr>\n",
       "      <th>0</th>\n",
       "      <td>Free_v0_Free_v0_StandardScaler_Free_v0</td>\n",
       "      <td>Out_1_Nor_0_Aut_0_DR_0</td>\n",
       "      <td>RF</td>\n",
       "      <td>Basic</td>\n",
       "      <td>1.000000</td>\n",
       "      <td>1.000000</td>\n",
       "      <td>1.000000</td>\n",
       "      <td>1.000000</td>\n",
       "    </tr>\n",
       "    <tr>\n",
       "      <th>0</th>\n",
       "      <td>Free_v0_Free_v0_StandardScaler_Free_v0</td>\n",
       "      <td>Out_1_Nor_1_Aut_0_DR_0_NeNe</td>\n",
       "      <td>NeNe</td>\n",
       "      <td>exp_p0: {'GaussianNoise': 0.1}, exp_p1: {'Dens...</td>\n",
       "      <td>0.983957</td>\n",
       "      <td>0.986631</td>\n",
       "      <td>0.983957</td>\n",
       "      <td>0.983910</td>\n",
       "    </tr>\n",
       "    <tr>\n",
       "      <th>0</th>\n",
       "      <td>Free_v0_Free_v0_StandardScaler_Free_v0</td>\n",
       "      <td>Out_1_Nor_1_Aut_1_DR_0_NeNe</td>\n",
       "      <td>NeNe</td>\n",
       "      <td>exp_p0: {'GaussianNoise': 0.1}, exp_p1: {'Dens...</td>\n",
       "      <td>0.967914</td>\n",
       "      <td>0.975892</td>\n",
       "      <td>0.967914</td>\n",
       "      <td>0.968274</td>\n",
       "    </tr>\n",
       "    <tr>\n",
       "      <th>0</th>\n",
       "      <td>Free_v0_Free_v0_StandardScaler_Free_v0</td>\n",
       "      <td>Out_1_Nor_0_Aut_0_DR_0_NeNe</td>\n",
       "      <td>NeNe</td>\n",
       "      <td>exp_p0: {'GaussianNoise': 0.1}, exp_p1: {'Dens...</td>\n",
       "      <td>0.954545</td>\n",
       "      <td>0.969529</td>\n",
       "      <td>0.954545</td>\n",
       "      <td>0.955651</td>\n",
       "    </tr>\n",
       "    <tr>\n",
       "      <th>0</th>\n",
       "      <td>Free_v0_Free_v0_StandardScaler_Free_v0</td>\n",
       "      <td>Out_1_Nor_1_Aut_1_DR_1_NeNe</td>\n",
       "      <td>NeNe</td>\n",
       "      <td>exp_p0: {'GaussianNoise': 0.1}, exp_p1: {'Dens...</td>\n",
       "      <td>0.951872</td>\n",
       "      <td>0.966941</td>\n",
       "      <td>0.951872</td>\n",
       "      <td>0.952049</td>\n",
       "    </tr>\n",
       "    <tr>\n",
       "      <th>0</th>\n",
       "      <td>Free_v0_Free_v0_StandardScaler_Free_v0</td>\n",
       "      <td>Out_1_Nor_1_Aut_1_DR_1</td>\n",
       "      <td>DT</td>\n",
       "      <td>Basic</td>\n",
       "      <td>0.928000</td>\n",
       "      <td>0.933154</td>\n",
       "      <td>0.928000</td>\n",
       "      <td>0.928680</td>\n",
       "    </tr>\n",
       "    <tr>\n",
       "      <th>0</th>\n",
       "      <td>Free_v0_Free_v0_StandardScaler_Free_v0</td>\n",
       "      <td>Out_1_Nor_1_Aut_1_DR_0</td>\n",
       "      <td>DT</td>\n",
       "      <td>Basic</td>\n",
       "      <td>0.928000</td>\n",
       "      <td>0.933154</td>\n",
       "      <td>0.928000</td>\n",
       "      <td>0.928680</td>\n",
       "    </tr>\n",
       "    <tr>\n",
       "      <th>0</th>\n",
       "      <td>Free_v0_Free_v0_StandardScaler_Free_v0</td>\n",
       "      <td>Out_1_Nor_1_Aut_0_DR_0</td>\n",
       "      <td>DT</td>\n",
       "      <td>Basic</td>\n",
       "      <td>0.928000</td>\n",
       "      <td>0.933154</td>\n",
       "      <td>0.928000</td>\n",
       "      <td>0.928680</td>\n",
       "    </tr>\n",
       "    <tr>\n",
       "      <th>0</th>\n",
       "      <td>Free_v0_Free_v0_StandardScaler_Free_v0</td>\n",
       "      <td>Out_1_Nor_0_Aut_0_DR_0</td>\n",
       "      <td>DT</td>\n",
       "      <td>Basic</td>\n",
       "      <td>0.928000</td>\n",
       "      <td>0.933154</td>\n",
       "      <td>0.928000</td>\n",
       "      <td>0.928680</td>\n",
       "    </tr>\n",
       "    <tr>\n",
       "      <th>0</th>\n",
       "      <td>Free_v0_Free_v0_StandardScaler_Free_v0</td>\n",
       "      <td>Out_1_Nor_0_Aut_0_DR_0</td>\n",
       "      <td>SGD</td>\n",
       "      <td>alpha_0.01_max_iter_1000_penalty_l2_tol_0.0001</td>\n",
       "      <td>0.925333</td>\n",
       "      <td>0.942284</td>\n",
       "      <td>0.925333</td>\n",
       "      <td>0.926168</td>\n",
       "    </tr>\n",
       "    <tr>\n",
       "      <th>0</th>\n",
       "      <td>Free_v0_Free_v0_StandardScaler_Free_v0</td>\n",
       "      <td>Out_1_Nor_1_Aut_1_DR_0</td>\n",
       "      <td>SGD</td>\n",
       "      <td>alpha_0.01_max_iter_1000_penalty_l2_tol_0.0001</td>\n",
       "      <td>0.925333</td>\n",
       "      <td>0.942284</td>\n",
       "      <td>0.925333</td>\n",
       "      <td>0.926168</td>\n",
       "    </tr>\n",
       "    <tr>\n",
       "      <th>0</th>\n",
       "      <td>Free_v0_Free_v0_StandardScaler_Free_v0</td>\n",
       "      <td>Out_1_Nor_1_Aut_1_DR_1</td>\n",
       "      <td>SGD</td>\n",
       "      <td>alpha_0.01_max_iter_1000_penalty_l2_tol_0.0001</td>\n",
       "      <td>0.925333</td>\n",
       "      <td>0.942284</td>\n",
       "      <td>0.925333</td>\n",
       "      <td>0.926168</td>\n",
       "    </tr>\n",
       "    <tr>\n",
       "      <th>0</th>\n",
       "      <td>Free_v0_Free_v0_StandardScaler_Free_v0</td>\n",
       "      <td>Out_1_Nor_1_Aut_1_DR_1</td>\n",
       "      <td>SVM</td>\n",
       "      <td>kernel_poly_degree_2_coef0_0.5_C_1_gamma_scale</td>\n",
       "      <td>0.480000</td>\n",
       "      <td>0.588382</td>\n",
       "      <td>0.480000</td>\n",
       "      <td>0.437347</td>\n",
       "    </tr>\n",
       "    <tr>\n",
       "      <th>0</th>\n",
       "      <td>Free_v0_Free_v0_StandardScaler_Free_v0</td>\n",
       "      <td>Out_1_Nor_1_Aut_1_DR_0</td>\n",
       "      <td>SVM</td>\n",
       "      <td>kernel_poly_degree_2_coef0_0.5_C_1_gamma_scale</td>\n",
       "      <td>0.480000</td>\n",
       "      <td>0.588382</td>\n",
       "      <td>0.480000</td>\n",
       "      <td>0.437347</td>\n",
       "    </tr>\n",
       "    <tr>\n",
       "      <th>0</th>\n",
       "      <td>Free_v0_Free_v0_StandardScaler_Free_v0</td>\n",
       "      <td>Out_1_Nor_0_Aut_0_DR_0</td>\n",
       "      <td>SVM</td>\n",
       "      <td>kernel_poly_degree_2_coef0_0.5_C_1_gamma_scale</td>\n",
       "      <td>0.480000</td>\n",
       "      <td>0.588382</td>\n",
       "      <td>0.480000</td>\n",
       "      <td>0.437347</td>\n",
       "    </tr>\n",
       "  </tbody>\n",
       "</table>\n",
       "</div>"
      ],
      "text/plain": [
       "                             Applications       Applications_Condition Model  \\\n",
       "0  Free_v0_Free_v0_StandardScaler_Free_v0       Out_1_Nor_1_Aut_0_DR_0   SGD   \n",
       "0  Free_v0_Free_v0_StandardScaler_Free_v0       Out_1_Nor_1_Aut_0_DR_0   SVM   \n",
       "0  Free_v0_Free_v0_StandardScaler_Free_v0       Out_1_Nor_1_Aut_1_DR_1    RF   \n",
       "0  Free_v0_Free_v0_StandardScaler_Free_v0       Out_1_Nor_1_Aut_1_DR_0    RF   \n",
       "0  Free_v0_Free_v0_StandardScaler_Free_v0       Out_1_Nor_1_Aut_0_DR_0    RF   \n",
       "0  Free_v0_Free_v0_StandardScaler_Free_v0       Out_1_Nor_0_Aut_0_DR_0    RF   \n",
       "0  Free_v0_Free_v0_StandardScaler_Free_v0  Out_1_Nor_1_Aut_0_DR_0_NeNe  NeNe   \n",
       "0  Free_v0_Free_v0_StandardScaler_Free_v0  Out_1_Nor_1_Aut_1_DR_0_NeNe  NeNe   \n",
       "0  Free_v0_Free_v0_StandardScaler_Free_v0  Out_1_Nor_0_Aut_0_DR_0_NeNe  NeNe   \n",
       "0  Free_v0_Free_v0_StandardScaler_Free_v0  Out_1_Nor_1_Aut_1_DR_1_NeNe  NeNe   \n",
       "0  Free_v0_Free_v0_StandardScaler_Free_v0       Out_1_Nor_1_Aut_1_DR_1    DT   \n",
       "0  Free_v0_Free_v0_StandardScaler_Free_v0       Out_1_Nor_1_Aut_1_DR_0    DT   \n",
       "0  Free_v0_Free_v0_StandardScaler_Free_v0       Out_1_Nor_1_Aut_0_DR_0    DT   \n",
       "0  Free_v0_Free_v0_StandardScaler_Free_v0       Out_1_Nor_0_Aut_0_DR_0    DT   \n",
       "0  Free_v0_Free_v0_StandardScaler_Free_v0       Out_1_Nor_0_Aut_0_DR_0   SGD   \n",
       "0  Free_v0_Free_v0_StandardScaler_Free_v0       Out_1_Nor_1_Aut_1_DR_0   SGD   \n",
       "0  Free_v0_Free_v0_StandardScaler_Free_v0       Out_1_Nor_1_Aut_1_DR_1   SGD   \n",
       "0  Free_v0_Free_v0_StandardScaler_Free_v0       Out_1_Nor_1_Aut_1_DR_1   SVM   \n",
       "0  Free_v0_Free_v0_StandardScaler_Free_v0       Out_1_Nor_1_Aut_1_DR_0   SVM   \n",
       "0  Free_v0_Free_v0_StandardScaler_Free_v0       Out_1_Nor_0_Aut_0_DR_0   SVM   \n",
       "\n",
       "                                          Parameters  Accuracy  Precision  \\\n",
       "0     alpha_0.01_max_iter_1000_penalty_l2_tol_0.0001  1.000000   1.000000   \n",
       "0     kernel_poly_degree_2_coef0_0.5_C_1_gamma_scale  1.000000   1.000000   \n",
       "0                                              Basic  1.000000   1.000000   \n",
       "0                                              Basic  1.000000   1.000000   \n",
       "0                                              Basic  1.000000   1.000000   \n",
       "0                                              Basic  1.000000   1.000000   \n",
       "0  exp_p0: {'GaussianNoise': 0.1}, exp_p1: {'Dens...  0.983957   0.986631   \n",
       "0  exp_p0: {'GaussianNoise': 0.1}, exp_p1: {'Dens...  0.967914   0.975892   \n",
       "0  exp_p0: {'GaussianNoise': 0.1}, exp_p1: {'Dens...  0.954545   0.969529   \n",
       "0  exp_p0: {'GaussianNoise': 0.1}, exp_p1: {'Dens...  0.951872   0.966941   \n",
       "0                                              Basic  0.928000   0.933154   \n",
       "0                                              Basic  0.928000   0.933154   \n",
       "0                                              Basic  0.928000   0.933154   \n",
       "0                                              Basic  0.928000   0.933154   \n",
       "0     alpha_0.01_max_iter_1000_penalty_l2_tol_0.0001  0.925333   0.942284   \n",
       "0     alpha_0.01_max_iter_1000_penalty_l2_tol_0.0001  0.925333   0.942284   \n",
       "0     alpha_0.01_max_iter_1000_penalty_l2_tol_0.0001  0.925333   0.942284   \n",
       "0     kernel_poly_degree_2_coef0_0.5_C_1_gamma_scale  0.480000   0.588382   \n",
       "0     kernel_poly_degree_2_coef0_0.5_C_1_gamma_scale  0.480000   0.588382   \n",
       "0     kernel_poly_degree_2_coef0_0.5_C_1_gamma_scale  0.480000   0.588382   \n",
       "\n",
       "     Recall        F1  \n",
       "0  1.000000  1.000000  \n",
       "0  1.000000  1.000000  \n",
       "0  1.000000  1.000000  \n",
       "0  1.000000  1.000000  \n",
       "0  1.000000  1.000000  \n",
       "0  1.000000  1.000000  \n",
       "0  0.983957  0.983910  \n",
       "0  0.967914  0.968274  \n",
       "0  0.954545  0.955651  \n",
       "0  0.951872  0.952049  \n",
       "0  0.928000  0.928680  \n",
       "0  0.928000  0.928680  \n",
       "0  0.928000  0.928680  \n",
       "0  0.928000  0.928680  \n",
       "0  0.925333  0.926168  \n",
       "0  0.925333  0.926168  \n",
       "0  0.925333  0.926168  \n",
       "0  0.480000  0.437347  \n",
       "0  0.480000  0.437347  \n",
       "0  0.480000  0.437347  "
      ]
     },
     "execution_count": 26,
     "metadata": {},
     "output_type": "execute_result"
    }
   ],
   "source": [
    "All_Data = pd.concat([NN_Total, SVM_Total, DT_Total, RF_Total, GB_Total, SGD_Total], axis=0) \n",
    "All_Data.sort_values(by = [\"F1\"], ascending= False )"
   ]
  },
  {
   "cell_type": "markdown",
   "metadata": {},
   "source": [
    "---\n",
    "# `End`\n",
    "- 1-) SVM\n",
    "- 2-) SGD\n",
    "- 3-) Decision Tree\n",
    "- 4-) Random Forest\n",
    "- 5- Gradient Boosting"
   ]
  },
  {
   "cell_type": "code",
   "execution_count": 27,
   "metadata": {},
   "outputs": [],
   "source": [
    "export_name = \"NN_Total\"\n",
    "with open(os.path.join(access_data_path(f\"{process_barcode}/data/{folder_total}\", f\"{export_name}\" + \".pkl\"))  , 'wb') as file: \n",
    "    pickle.dump(NN_Total, file)   "
   ]
  },
  {
   "cell_type": "code",
   "execution_count": 28,
   "metadata": {},
   "outputs": [],
   "source": [
    "export_name = \"SVM_Total\"\n",
    "with open(os.path.join(access_data_path(f\"{process_barcode}/data/{folder_total}\", f\"{export_name}\" + \".pkl\"))  , 'wb') as file: \n",
    "    pickle.dump(SVM_Total, file)   "
   ]
  },
  {
   "cell_type": "code",
   "execution_count": 29,
   "metadata": {},
   "outputs": [],
   "source": [
    "export_name = \"DT_Total\"\n",
    "with open(os.path.join(access_data_path(f\"{process_barcode}/data/{folder_total}\", f\"{export_name}\" + \".pkl\"))  , 'wb') as file: \n",
    "    pickle.dump(DT_Total, file)  \n"
   ]
  },
  {
   "cell_type": "code",
   "execution_count": 30,
   "metadata": {},
   "outputs": [],
   "source": [
    "export_name = \"RF_Total\"\n",
    "with open(os.path.join(access_data_path(f\"{process_barcode}/data/{folder_total}\", f\"{export_name}\" + \".pkl\"))  , 'wb') as file: \n",
    "    pickle.dump(RF_Total, file)  \n"
   ]
  },
  {
   "cell_type": "code",
   "execution_count": 31,
   "metadata": {},
   "outputs": [],
   "source": [
    "export_name = \"GB_Total\"\n",
    "with open(os.path.join(access_data_path(f\"{process_barcode}/data/{folder_total}\", f\"{export_name}\" + \".pkl\"))  , 'wb') as file: \n",
    "    pickle.dump(GB_Total, file)  \n"
   ]
  },
  {
   "cell_type": "code",
   "execution_count": 32,
   "metadata": {},
   "outputs": [],
   "source": [
    "export_name = \"SGD_Total\"\n",
    "with open(os.path.join(access_data_path(f\"{process_barcode}/data/{folder_total}\", f\"{export_name}\" + \".pkl\"))  , 'wb') as file: \n",
    "    pickle.dump(SGD_Total, file)  \n"
   ]
  }
 ],
 "metadata": {
  "kernelspec": {
   "display_name": "Python 3",
   "language": "python",
   "name": "python3"
  },
  "language_info": {
   "codemirror_mode": {
    "name": "ipython",
    "version": 3
   },
   "file_extension": ".py",
   "mimetype": "text/x-python",
   "name": "python",
   "nbconvert_exporter": "python",
   "pygments_lexer": "ipython3",
   "version": "3.11.8"
  }
 },
 "nbformat": 4,
 "nbformat_minor": 2
}
