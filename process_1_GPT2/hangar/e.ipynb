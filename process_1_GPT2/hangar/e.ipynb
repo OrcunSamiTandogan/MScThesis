{
 "cells": [
  {
   "cell_type": "code",
   "execution_count": null,
   "metadata": {},
   "outputs": [],
   "source": [
    "import numpy as np\n",
    "import pandas as pd\n",
    "\n",
    "# Assuming 'subject_data_full' is your DataFrame\n",
    "\n",
    "# Extract embeddings as lists of NumPy arrays\n",
    "cell_type_embeddings = subject_data_full[\"Cell_Type_Embeddings_Outlier\"].apply(np.array).tolist()\n",
    "gene_marker_embeddings = subject_data_full[\"Gene_Marker_Embeddings_Outlier\"].apply(np.array).tolist()\n",
    "\n",
    "# Verify that all embeddings have the expected shape, e.g., (768,) for cell type and (768,) for gene marker\n",
    "# This step is crucial and you might need to adjust depending on your actual data shape\n",
    "\n",
    "# Concatenate embeddings row-wise\n",
    "concat_embeddings = [np.concatenate([cell_emb, gene_emb]) for cell_emb, gene_emb in zip(cell_type_embeddings, gene_marker_embeddings)]\n",
    "\n",
    "# Correct approach, already in your code\n",
    "concat_embeddings_matrix = np.stack(concat_embeddings)\n",
    "concat_embeddings_tensor = torch.tensor(concat_embeddings_matrix).float()  # This should not trigger the warning\n"
   ]
  },
  {
   "cell_type": "code",
   "execution_count": null,
   "metadata": {},
   "outputs": [],
   "source": [
    "\n",
    "    @staticmethod\n",
    "    def combined_dropout(target_matrix, \n",
    "                        model_type         = 'combined_dropout',\n",
    "                        variable_lr        = [1e-3, 1e-4] ,\n",
    "                        batch_size         = 128,\n",
    "                        num_epochs         = 5,\n",
    "                        noise_factor       = [0.3,0.4],\n",
    "                        dropout_rate       = [0.1,0.2],\n",
    "                        input_outer_layer  = 1536,\n",
    "                        inner_layer        = 64 ,\n",
    "                        output_outer_layer = 100, \n",
    "                         ):\n",
    "        # variables: learning rate, noise_factor, dropout_rate \n",
    "\n",
    "        # Outputs B4_a, B4_b, B4_c, B4_d, B4_e, B4_f, B4_g, B4_h \n",
    "        print(\"Control Point | staticmethod combined_dropout | 4.0\") \n",
    "        X0_a_manager = AutoencoderManager(  model_type   = model_type,\n",
    "                                    lr           = variable_lr[0], \n",
    "                                    batch_size   = batch_size, \n",
    "                                    num_epochs   = num_epochs, \n",
    "                                    noise_factor = noise_factor[0],\n",
    "                                    dropout_rate = dropout_rate[0], \n",
    "                                    outer_layer         = input_outer_layer, \n",
    "                                    inner_layer         = inner_layer,\n",
    "                                    output_outer_layer  = output_outer_layer ,\n",
    "                                    ) \n",
    "        print(\"Control Point | staticmethod combined_dropout | 4.1\") \n",
    "        X0_a_manager.load_data( data_matrix = target_matrix ) \n",
    "        print(\"Control Point | staticmethod combined_dropout | 4.2\") \n",
    "        X0_a_manager.train_combined_dropout() \n",
    "        print(\"Control Point | staticmethod combined_dropout | 4.3\") \n",
    "        X0_a_reconstructed_data = X0_a_manager.get_reconstructed_data_combined_dropout(target_matrix) \n",
    "        print(\"Control Point | staticmethod combined_dropout | 4.4\") \n",
    "\n",
    "        B4_List = X0_a_reconstructed_data \n",
    "        return B4_List "
   ]
  }
 ],
 "metadata": {
  "language_info": {
   "name": "python"
  }
 },
 "nbformat": 4,
 "nbformat_minor": 2
}
