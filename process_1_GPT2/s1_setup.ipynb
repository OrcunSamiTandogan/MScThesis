{
 "cells": [
  {
   "cell_type": "markdown",
   "metadata": {},
   "source": [
    "# `Step 1: Setup`"
   ]
  },
  {
   "cell_type": "markdown",
   "metadata": {},
   "source": [
    "# `Config`"
   ]
  },
  {
   "cell_type": "code",
   "execution_count": null,
   "metadata": {},
   "outputs": [],
   "source": [
    "import pandas as pd \n",
    "import pickle   \n",
    "from itertools import combinations\n",
    "from IPython.display import HTML  "
   ]
  },
  {
   "cell_type": "code",
   "execution_count": null,
   "metadata": {},
   "outputs": [],
   "source": [
    "try:\n",
    "    if manager == 1:\n",
    "        print(\"Jupyter has been running from Manager\") \n",
    "except: \n",
    "    %run s0_config.ipynb  \n"
   ]
  },
  {
   "cell_type": "markdown",
   "metadata": {},
   "source": [
    "# `Load`"
   ]
  },
  {
   "cell_type": "code",
   "execution_count": null,
   "metadata": {},
   "outputs": [],
   "source": [
    "data_true     = pd.read_csv( true_data ) \n",
    "data_selected = pd.read_csv( selected_data )  "
   ]
  },
  {
   "cell_type": "markdown",
   "metadata": {},
   "source": [
    "# `Operation`"
   ]
  },
  {
   "cell_type": "markdown",
   "metadata": {},
   "source": [
    "## 1-) `True Labels`"
   ]
  },
  {
   "cell_type": "markdown",
   "metadata": {},
   "source": [
    "### A-) `Overview`"
   ]
  },
  {
   "cell_type": "code",
   "execution_count": null,
   "metadata": {},
   "outputs": [],
   "source": [
    "data_true"
   ]
  },
  {
   "cell_type": "markdown",
   "metadata": {},
   "source": [
    "### B-) `Preprocessing`"
   ]
  },
  {
   "cell_type": "markdown",
   "metadata": {},
   "source": [
    "#### 1-) `Drop`"
   ]
  },
  {
   "cell_type": "code",
   "execution_count": null,
   "metadata": {},
   "outputs": [],
   "source": [
    "try:\n",
    "    data_true = data_true.drop(columns = \"Unnamed: 0\") \n",
    "except:\n",
    "    data_true = data_true\n",
    "data_true"
   ]
  },
  {
   "cell_type": "markdown",
   "metadata": {},
   "source": [
    "#### 2-) `Melt`"
   ]
  },
  {
   "cell_type": "code",
   "execution_count": null,
   "metadata": {},
   "outputs": [],
   "source": [
    "data_melted = data_true.melt(var_name=\"Cell_Type\", value_name=\"Gene_Marker\")\n",
    "data_melted"
   ]
  },
  {
   "cell_type": "markdown",
   "metadata": {},
   "source": [
    "#### 3-) `Strip`"
   ]
  },
  {
   "cell_type": "code",
   "execution_count": null,
   "metadata": {},
   "outputs": [],
   "source": [
    "\"\"\"new_cell_type_names = [] \n",
    "for i in data_melted[\"Cell_Type\"]:\n",
    "    new_cell_type_names.append(i.replace(\"cells\", \"\").strip() )\n",
    "\n",
    "data_melted[\"Cell_Type\"] = new_cell_type_names\n",
    "data_melted[\"Cell_Type\"]\"\"\""
   ]
  },
  {
   "cell_type": "markdown",
   "metadata": {},
   "source": [
    "#### 4-) `Augmentation`"
   ]
  },
  {
   "cell_type": "code",
   "execution_count": null,
   "metadata": {},
   "outputs": [],
   "source": [
    "\"\"\"print(\"Lenght Before: \", len(data_true))\n",
    "data_true = data_true.dropna(subset=[\"Gene_Marker\"]) \n",
    "print(\"Lenght After: \", len(data_true))  \"\"\""
   ]
  },
  {
   "cell_type": "code",
   "execution_count": null,
   "metadata": {},
   "outputs": [],
   "source": [
    "for i in pd.unique(data_melted[\"Cell_Type\"]): \n",
    "    current_cell_type = i\n",
    "    print(\"Current Cell Type: \", current_cell_type )\n",
    "    genes20 = data_melted[ data_melted[\"Cell_Type\"] == current_cell_type ]\n",
    "    genes20 = genes20[\"Gene_Marker\"][:6].tolist() \n",
    "\n",
    "    # Initialize an empty list to hold all combinations\n",
    "    all_gene_combinations = []\n",
    "\n",
    "    # Generate combinations for lengths 2 through 20\n",
    "    for r in range(2, 6):  # Starting from 2 up to 20\n",
    "        gene_combinations_r = list(combinations(genes20, r))\n",
    "        # Convert each combination tuple to a string with \"_\" joining the elements\n",
    "        gene_combinations_r = [\",\".join(comb) for comb in gene_combinations_r]\n",
    "        all_gene_combinations.extend(gene_combinations_r)\n",
    "\n",
    "    # Create new DF \n",
    "    new_pairs_DF = pd.DataFrame(all_gene_combinations, columns=[\"Gene_Marker\"]) \n",
    "    new_pairs_DF[\"Cell_Type\"] = current_cell_type \n",
    "    # Fix the columns \n",
    "    new_pairs_DF = new_pairs_DF[[\"Cell_Type\", \"Gene_Marker\"]] \n",
    "    # Append to the main DF \n",
    "    data_melted = pd.concat([data_melted, new_pairs_DF], axis = 0) \n",
    "    "
   ]
  },
  {
   "cell_type": "markdown",
   "metadata": {},
   "source": [
    "### C-) `Result`"
   ]
  },
  {
   "cell_type": "code",
   "execution_count": null,
   "metadata": {},
   "outputs": [],
   "source": [
    "data_melted"
   ]
  },
  {
   "cell_type": "markdown",
   "metadata": {},
   "source": [
    "## 2-) `Cell Typist `"
   ]
  },
  {
   "cell_type": "markdown",
   "metadata": {},
   "source": [
    "### A-) `Overview`"
   ]
  },
  {
   "cell_type": "code",
   "execution_count": null,
   "metadata": {},
   "outputs": [],
   "source": [
    "try:\n",
    "    data_selected = data_selected.drop(columns = \"Unnamed: 0\") \n",
    "except:\n",
    "    data_selected = data_selected\n",
    "data_selected"
   ]
  },
  {
   "cell_type": "markdown",
   "metadata": {},
   "source": [
    "### B-) `Result`"
   ]
  },
  {
   "cell_type": "code",
   "execution_count": null,
   "metadata": {},
   "outputs": [],
   "source": [
    "data_selected_melted = data_selected.melt(var_name=\"Cell_Type\", value_name=\"Gene_Marker\")\n",
    "data_selected_melted"
   ]
  },
  {
   "cell_type": "markdown",
   "metadata": {},
   "source": [
    "## 3-) `Concatenation`"
   ]
  },
  {
   "cell_type": "markdown",
   "metadata": {},
   "source": [
    "### 1-) `Concat`"
   ]
  },
  {
   "cell_type": "code",
   "execution_count": null,
   "metadata": {},
   "outputs": [],
   "source": [
    "data_combined = pd.concat([data_melted, data_selected_melted], axis=0)  "
   ]
  },
  {
   "cell_type": "markdown",
   "metadata": {},
   "source": [
    "### 2-) `Result`"
   ]
  },
  {
   "cell_type": "code",
   "execution_count": null,
   "metadata": {},
   "outputs": [],
   "source": [
    "#data_HTML = data_combined.to_html(index=False)\n",
    "\n",
    "try:\n",
    "    if manager == 1:\n",
    "        print(\"Jupyter has been running from Manager\") \n",
    "        #display(HTML(data_HTML))   \n",
    "except: \n",
    "    for i in pd.unique(data_melted[\"Cell_Type\"]):\n",
    "        print(i)  \n",
    "\n",
    "data_combined  "
   ]
  },
  {
   "cell_type": "markdown",
   "metadata": {},
   "source": [
    "# `End`"
   ]
  },
  {
   "cell_type": "code",
   "execution_count": null,
   "metadata": {},
   "outputs": [],
   "source": [
    "subject_data = data_melted "
   ]
  },
  {
   "cell_type": "code",
   "execution_count": null,
   "metadata": {},
   "outputs": [],
   "source": [
    "try:\n",
    "    print(\"s1_setup.ipynb | Progress 1.2\") \n",
    "\n",
    "    export_name = \"subject_data\" \n",
    "    with open(os.path.join(access_data_path(f\"{process_barcode}/data/{folder_setup}\", f\"{export_name}\" + \".pkl\"))  , 'wb') as file: \n",
    "        pickle.dump(subject_data, file)   \n",
    "\n",
    "except Exception as e: \n",
    "    print(\"s1_setup.ipynb | Error: \", e) "
   ]
  }
 ],
 "metadata": {
  "kernelspec": {
   "display_name": "bilim",
   "language": "python",
   "name": "python3"
  },
  "language_info": {
   "codemirror_mode": {
    "name": "ipython",
    "version": 3
   },
   "file_extension": ".py",
   "mimetype": "text/x-python",
   "name": "python",
   "nbconvert_exporter": "python",
   "pygments_lexer": "ipython3",
   "version": "3.12.3"
  }
 },
 "nbformat": 4,
 "nbformat_minor": 2
}
