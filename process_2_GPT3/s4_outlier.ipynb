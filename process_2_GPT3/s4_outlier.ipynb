{
 "cells": [
  {
   "cell_type": "markdown",
   "metadata": {},
   "source": [
    "# `Step 4: Outlier`\n",
    "- Free\n",
    "- Z Score\n",
    "- ISO\n",
    "- LOF "
   ]
  },
  {
   "cell_type": "markdown",
   "metadata": {},
   "source": [
    "# 0- `Config`"
   ]
  },
  {
   "cell_type": "code",
   "execution_count": null,
   "metadata": {},
   "outputs": [],
   "source": [
    "import pandas as pd \n",
    "import numpy as np \n",
    "import pickle "
   ]
  },
  {
   "cell_type": "code",
   "execution_count": null,
   "metadata": {},
   "outputs": [],
   "source": [
    "try: \n",
    "    if manager == 1:\n",
    "        print(\"s1_load.ipynb running from MANAGER\")\n",
    "except: \n",
    "    %run s0_config.ipynb \n",
    "    subject_outlier_0 = \"ZScore_v0\"  \n",
    "    subject_outlier_1 = \"LOF_v0\" "
   ]
  },
  {
   "cell_type": "markdown",
   "metadata": {},
   "source": [
    "# 1- `Load`"
   ]
  },
  {
   "cell_type": "code",
   "execution_count": null,
   "metadata": {},
   "outputs": [],
   "source": [
    "import_name = \"data_raw\"\n",
    "with open(os.path.join(access_data_path(f\"{process_barcode}/data/{folder_load}\", f\"{import_name}\" + \".pkl\")) , 'rb') as file:\n",
    "    data_raw = pickle.load(file) \n",
    "\n",
    "import_name = \"data_full\"\n",
    "with open(os.path.join(access_data_path(f\"{process_barcode}/data/{folder_load}\", f\"{import_name}\" + \".pkl\")) , 'rb') as file:\n",
    "    data_full = pickle.load(file) "
   ]
  },
  {
   "cell_type": "markdown",
   "metadata": {},
   "source": [
    "---\n",
    "# 2- `Preprocessing`"
   ]
  },
  {
   "cell_type": "markdown",
   "metadata": {},
   "source": [
    "### 0-) `Overview`"
   ]
  },
  {
   "cell_type": "code",
   "execution_count": null,
   "metadata": {},
   "outputs": [],
   "source": [
    "print(f\"Subject Outlier of Embeddings: {subject_outlier_0}\")\n",
    "print(f\"Subject Outlier of Expression: {subject_outlier_1}\") \n",
    "print(f\"Shape: {data_full.shape}\") \n",
    "print(f\"Number of unique cell types: {len(pd.unique(data_full['Cell_Type']))}\")  \n",
    "print(f\"Unique cell types: {pd.unique(data_full['Cell_Type'])}\")  \n",
    "pd.concat([data_full.head(2), data_full.tail(2)], axis=0) "
   ]
  },
  {
   "cell_type": "markdown",
   "metadata": {},
   "source": [
    "### 1-) `Tool Setup`"
   ]
  },
  {
   "cell_type": "code",
   "execution_count": null,
   "metadata": {},
   "outputs": [],
   "source": [
    "outlier_tool = access_data_path(f\"{process_barcode}/class/{folder_outlier}\", \"tool\" + \".ipynb\") \n",
    "%run $outlier_tool "
   ]
  },
  {
   "cell_type": "markdown",
   "metadata": {},
   "source": [
    "### 2-) `Convert`"
   ]
  },
  {
   "cell_type": "code",
   "execution_count": null,
   "metadata": {},
   "outputs": [],
   "source": [
    "# We need to convert the data to numpy arrays\n",
    "Embeddings       = np.stack(data_full['Embeddings'].values) \n",
    "# However, as there will be subject_data_full after the first process, this expression sample is just for demonstration. Besides it needs to be reshaped in future. \n",
    "#Expression_Matrix                             = data_full['Expression'].values \n",
    "# BERT does not have second matrix \n",
    "#label_embeddings_matrix        = np.stack(data_full['Cell_Type_Embeddings'].values)   "
   ]
  },
  {
   "cell_type": "code",
   "execution_count": null,
   "metadata": {},
   "outputs": [],
   "source": [
    "data_full"
   ]
  },
  {
   "cell_type": "markdown",
   "metadata": {},
   "source": [
    "---\n",
    "# 3- `Bench`"
   ]
  },
  {
   "cell_type": "markdown",
   "metadata": {},
   "source": [
    "### 1-) `Embeddings`"
   ]
  },
  {
   "cell_type": "markdown",
   "metadata": {},
   "source": [
    "#### 0-) `Oveview`"
   ]
  },
  {
   "cell_type": "code",
   "execution_count": null,
   "metadata": {},
   "outputs": [],
   "source": [
    "data_full"
   ]
  },
  {
   "cell_type": "markdown",
   "metadata": {},
   "source": [
    "#### 1-) `Operation`"
   ]
  },
  {
   "cell_type": "code",
   "execution_count": null,
   "metadata": {},
   "outputs": [],
   "source": [
    "# Temporarly for operation \n",
    "target_embeddings_matrix = Embeddings.copy() \n",
    "subject_outlier          = subject_outlier_0\n",
    "\n",
    "# Input data: data_full\n",
    "data_embedded = data_full.copy() \n",
    "outlier_operation = access_data_path(f\"{process_barcode}/class/{folder_outlier}\", \"operation\" + \".ipynb\") \n",
    "%run $outlier_operation \n",
    "data_full = data_embedded.copy() \n",
    "# Output: subject_data_full "
   ]
  },
  {
   "cell_type": "markdown",
   "metadata": {},
   "source": [
    "#### 3-) `Report`"
   ]
  },
  {
   "cell_type": "code",
   "execution_count": null,
   "metadata": {},
   "outputs": [],
   "source": [
    "print(f\"Shape (Before): {data_full.shape}\") \n",
    "print(f\"Shape (After): {subject_data_full.shape}\")  \n",
    "print(f\"Discarded rows: {data_full.shape[0] - subject_data_full.shape[0]}\")  \n",
    "\n",
    "print(f\"Number of unique cell types: {len(pd.unique(data_full['Cell_Type']))}\")  \n",
    "print(f\"Number of unique cell types: {len(pd.unique(subject_data_full['Cell_Type']))}\")  \n",
    "print(f\"Lost cell types: {set(pd.unique(data_full['Cell_Type'])) - set(pd.unique(subject_data_full['Cell_Type']))}\") \n"
   ]
  },
  {
   "cell_type": "markdown",
   "metadata": {},
   "source": [
    "### 2-) `Cell_Type_Gene_Marker_Embeddings`"
   ]
  },
  {
   "cell_type": "markdown",
   "metadata": {},
   "source": [
    "#### 0-) `Oveview`"
   ]
  },
  {
   "cell_type": "code",
   "execution_count": null,
   "metadata": {},
   "outputs": [],
   "source": [
    "data_full"
   ]
  },
  {
   "cell_type": "markdown",
   "metadata": {},
   "source": [
    "#### 1-) `Operation`"
   ]
  },
  {
   "cell_type": "code",
   "execution_count": null,
   "metadata": {},
   "outputs": [],
   "source": [
    "Expression_Matrix          = subject_data_full['Expression'].values \n",
    "\n",
    "Expression_Matrix_Reshaped = Expression_Matrix.reshape(-1, 1) # Necessary for the pipeline  "
   ]
  },
  {
   "cell_type": "code",
   "execution_count": null,
   "metadata": {},
   "outputs": [],
   "source": [
    "# Temporarly for operation \n",
    "target_embeddings_matrix = Expression_Matrix_Reshaped.copy() \n",
    "subject_outlier          = subject_outlier_1\n",
    "\n",
    "# Input data: data_full\n",
    "data_embedded = subject_data_full.copy() \n",
    "outlier_operation = access_data_path(f\"{process_barcode}/class/{folder_outlier}\", \"operation\" + \".ipynb\") \n",
    "%run $outlier_operation \n",
    "data_full = data_embedded.copy() \n",
    "# Output: subject_data_full "
   ]
  },
  {
   "cell_type": "markdown",
   "metadata": {},
   "source": [
    "#### 2-) `Report`"
   ]
  },
  {
   "cell_type": "code",
   "execution_count": null,
   "metadata": {},
   "outputs": [],
   "source": [
    "print(f\"Shape (Before): {data_embedded.shape}\") \n",
    "print(f\"Shape (After): {subject_data_full.shape}\")  \n",
    "print(f\"Discarded rows: {data_embedded.shape[0] - subject_data_full.shape[0]}\")  \n",
    "\n",
    "print(f\"Number of unique cell types: {len(pd.unique(data_embedded['Cell_Type']))}\")  \n",
    "print(f\"Number of unique cell types: {len(pd.unique(subject_data_full['Cell_Type']))}\")  \n",
    "print(f\"Lost cell types: {set(pd.unique(data_embedded['Cell_Type'])) - set(pd.unique(subject_data_full['Cell_Type']))}\") \n"
   ]
  },
  {
   "cell_type": "code",
   "execution_count": null,
   "metadata": {},
   "outputs": [],
   "source": [
    "subject_data_full"
   ]
  },
  {
   "cell_type": "markdown",
   "metadata": {},
   "source": [
    "---\n",
    "# 4- `End`"
   ]
  },
  {
   "cell_type": "code",
   "execution_count": null,
   "metadata": {},
   "outputs": [],
   "source": [
    "print(f\"Subject Outlier 0 (Embedding): {subject_outlier_0}\")\n",
    "print(f\"Subject Outlier 1 (Expression): {subject_outlier_1}\")"
   ]
  },
  {
   "cell_type": "code",
   "execution_count": null,
   "metadata": {},
   "outputs": [],
   "source": [
    "export_name = \"data_raw\" \n",
    "with open(os.path.join(access_data_path(f\"{process_barcode}/data/{folder_outlier}\", f\"{export_name}\" + \".pkl\"))  , 'wb') as file: \n",
    "    pickle.dump(data_raw, file)   \n",
    "\n",
    "export_name = \"subject_data_full\" \n",
    "with open(os.path.join(access_data_path(f\"{process_barcode}/data/{folder_outlier}\", f\"{export_name}\" + \".pkl\"))  , 'wb') as file: \n",
    "    pickle.dump(subject_data_full, file)   \n",
    "    \n",
    "export_name = \"subject_outlier_0\" \n",
    "with open(os.path.join(access_data_path(f\"{process_barcode}/data/{folder_outlier}\", f\"{export_name}\" + \".pkl\"))  , 'wb') as file: \n",
    "    pickle.dump(subject_outlier_0, file)   \n",
    "\n",
    "export_name = \"subject_outlier_1\" \n",
    "with open(os.path.join(access_data_path(f\"{process_barcode}/data/{folder_outlier}\", f\"{export_name}\" + \".pkl\"))  , 'wb') as file: \n",
    "    pickle.dump(subject_outlier_1, file)   "
   ]
  }
 ],
 "metadata": {
  "kernelspec": {
   "display_name": "Python 3",
   "language": "python",
   "name": "python3"
  },
  "language_info": {
   "codemirror_mode": {
    "name": "ipython",
    "version": 3
   },
   "file_extension": ".py",
   "mimetype": "text/x-python",
   "name": "python",
   "nbconvert_exporter": "python",
   "pygments_lexer": "ipython3",
   "version": "3.11.8"
  }
 },
 "nbformat": 4,
 "nbformat_minor": 2
}
