{
 "cells": [
  {
   "cell_type": "code",
   "execution_count": 1,
   "metadata": {},
   "outputs": [
    {
     "name": "stdout",
     "output_type": "stream",
     "text": [
      "Number of .ipynb files: 419\n",
      "Number of .py files: 97423\n"
     ]
    }
   ],
   "source": [
    "import os\n",
    "import glob\n",
    "\n",
    "def count_files(directory, extension):\n",
    "    \"\"\"Count files with the given extension in directory and subdirectories.\"\"\"\n",
    "    return len(glob.glob(os.path.join(directory, '**', f'*.{extension}'), recursive=True))\n",
    "\n",
    "# Set your directory path\n",
    "directory_path = os.getcwd() \n",
    "\n",
    "# Count files\n",
    "num_ipynb = count_files(directory_path, 'ipynb')\n",
    "num_py = count_files(directory_path, 'py')\n",
    "\n",
    "print(f\"Number of .ipynb files: {num_ipynb}\")\n",
    "print(f\"Number of .py files: {num_py}\")\n"
   ]
  },
  {
   "cell_type": "code",
   "execution_count": 2,
   "metadata": {},
   "outputs": [
    {
     "data": {
      "text/plain": [
       "'/Users/mac/Documents/Thesis/main'"
      ]
     },
     "execution_count": 2,
     "metadata": {},
     "output_type": "execute_result"
    }
   ],
   "source": [
    "directory_path"
   ]
  }
 ],
 "metadata": {
  "kernelspec": {
   "display_name": "bilimnn",
   "language": "python",
   "name": "python3"
  },
  "language_info": {
   "codemirror_mode": {
    "name": "ipython",
    "version": 3
   },
   "file_extension": ".py",
   "mimetype": "text/x-python",
   "name": "python",
   "nbconvert_exporter": "python",
   "pygments_lexer": "ipython3",
   "version": "3.12.3"
  }
 },
 "nbformat": 4,
 "nbformat_minor": 2
}
