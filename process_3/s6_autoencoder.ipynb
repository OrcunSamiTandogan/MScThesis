{
 "cells": [
  {
   "cell_type": "markdown",
   "metadata": {},
   "source": [
    "# `Step 5: Autoencoder`\n",
    "- Free\n",
    "- Basic\n",
    "- Denoising\n",
    "- Dropout\n",
    "- Combined \n"
   ]
  },
  {
   "cell_type": "markdown",
   "metadata": {},
   "source": [
    "# 0- `Config`"
   ]
  },
  {
   "cell_type": "code",
   "execution_count": null,
   "metadata": {},
   "outputs": [],
   "source": [
    "import pandas as pd \n",
    "import numpy as np \n",
    "import pickle "
   ]
  },
  {
   "cell_type": "code",
   "execution_count": null,
   "metadata": {},
   "outputs": [],
   "source": [
    "try: \n",
    "    if manager == 1:\n",
    "        print(\"s1_load.ipynb running from MANAGER\")\n",
    "except: \n",
    "    %run s0_config.ipynb \n",
    "    subject_autoencoder_0 = \"Free_v0\"\n",
    "    subject_autoencoder_1 = \"Free_v0\""
   ]
  },
  {
   "cell_type": "markdown",
   "metadata": {},
   "source": [
    "# 1- `Load`"
   ]
  },
  {
   "cell_type": "code",
   "execution_count": null,
   "metadata": {},
   "outputs": [],
   "source": [
    "import_name = \"data_raw\"\n",
    "with open(os.path.join(access_data_path(f\"{process_barcode}/data/{folder_normalization}\", f\"{import_name}\" + \".pkl\")) , 'rb') as file:\n",
    "    data_raw = pickle.load(file) \n",
    "\n",
    "import_name = \"subject_data_full\"\n",
    "with open(os.path.join(access_data_path(f\"{process_barcode}/data/{folder_normalization}\", f\"{import_name}\" + \".pkl\")) , 'rb') as file:\n",
    "    subject_data_full = pickle.load(file) \n",
    "\n",
    "\n",
    "import_name = \"subject_outlier_0\"\n",
    "with open(os.path.join(access_data_path(f\"{process_barcode}/data/{folder_normalization}\", f\"{import_name}\" + \".pkl\")) , 'rb') as file:\n",
    "    subject_outlier_0 = pickle.load(file) \n",
    "\n",
    "\n",
    "import_name = \"subject_outlier_1\"\n",
    "with open(os.path.join(access_data_path(f\"{process_barcode}/data/{folder_normalization}\", f\"{import_name}\" + \".pkl\")) , 'rb') as file:\n",
    "    subject_outlier_1 = pickle.load(file) \n",
    "    \n",
    "import_name = \"subject_normalization_0\"\n",
    "with open(os.path.join(access_data_path(f\"{process_barcode}/data/{folder_normalization}\", f\"{import_name}\" + \".pkl\")) , 'rb') as file:\n",
    "    subject_normalization_0 = pickle.load(file) \n",
    "\n",
    "\n",
    "import_name = \"subject_normalization_1\"\n",
    "with open(os.path.join(access_data_path(f\"{process_barcode}/data/{folder_normalization}\", f\"{import_name}\" + \".pkl\")) , 'rb') as file:\n",
    "    subject_normalization_1 = pickle.load(file) \n"
   ]
  },
  {
   "cell_type": "code",
   "execution_count": null,
   "metadata": {},
   "outputs": [],
   "source": [
    "print(f\"Subject Outlier 0 (Embedding): {subject_outlier_0}\")\n",
    "print(f\"Subject Outlier 1 (Expression): {subject_outlier_1}\")\n",
    "print(f\"Subject normalization 0 (Embedding): {subject_normalization_0}\")\n",
    "print(f\"Subject normalization 1 (Expression): {subject_normalization_1}\")"
   ]
  },
  {
   "cell_type": "markdown",
   "metadata": {},
   "source": [
    "---\n",
    "# 2- `Preprocessing`"
   ]
  },
  {
   "cell_type": "markdown",
   "metadata": {},
   "source": [
    "## 0-) `Overview`"
   ]
  },
  {
   "cell_type": "code",
   "execution_count": null,
   "metadata": {},
   "outputs": [],
   "source": [
    "print(f\"Subject Outlier 0 (Embedding): {subject_outlier_0}\")\n",
    "print(f\"Subject Outlier 1 (Expression): {subject_outlier_1}\")\n",
    "print(f\"Subject normalization 0 (Embedding): {subject_normalization_0}\")\n",
    "print(f\"Subject normalization 1 (Expression): {subject_normalization_1}\")\n",
    "print(f\"Subject Autoencoder 0 (Embedding): {subject_autoencoder_0}\")\n",
    "print(f\"Subject Autoencoder 1 (Expression): {subject_autoencoder_1}\")"
   ]
  },
  {
   "cell_type": "markdown",
   "metadata": {},
   "source": [
    "## 1-) `Tool Setup`"
   ]
  },
  {
   "cell_type": "markdown",
   "metadata": {},
   "source": [
    "---\n",
    "# 3- `Bench`"
   ]
  },
  {
   "cell_type": "markdown",
   "metadata": {},
   "source": [
    "### 1-) `Embeddings`"
   ]
  },
  {
   "cell_type": "markdown",
   "metadata": {},
   "source": [
    "#### 0-) `Overview`"
   ]
  },
  {
   "cell_type": "code",
   "execution_count": null,
   "metadata": {},
   "outputs": [],
   "source": [
    "subject_data_full.iloc[:3,:]"
   ]
  },
  {
   "cell_type": "code",
   "execution_count": null,
   "metadata": {},
   "outputs": [],
   "source": [
    "print(f\"Current Shape {subject_data_full.shape}\")\n",
    "\n"
   ]
  },
  {
   "cell_type": "markdown",
   "metadata": {},
   "source": [
    "---\n",
    "# 4- `End`"
   ]
  },
  {
   "cell_type": "code",
   "execution_count": null,
   "metadata": {},
   "outputs": [],
   "source": [
    "export_name = \"data_raw\" \n",
    "with open(os.path.join(access_data_path(f\"{process_barcode}/data/{folder_autoencoder}\", f\"{export_name}\" + \".pkl\"))  , 'wb') as file: \n",
    "    pickle.dump(data_raw, file)   \n",
    "\n",
    "export_name = \"subject_data_full\" \n",
    "with open(os.path.join(access_data_path(f\"{process_barcode}/data/{folder_autoencoder}\", f\"{export_name}\" + \".pkl\"))  , 'wb') as file: \n",
    "    pickle.dump(subject_data_full, file)   \n",
    "\n",
    "    \n",
    "export_name = \"subject_outlier_0\" \n",
    "with open(os.path.join(access_data_path(f\"{process_barcode}/data/{folder_autoencoder}\", f\"{export_name}\" + \".pkl\"))  , 'wb') as file: \n",
    "    pickle.dump(subject_outlier_0, file)   \n",
    "\n",
    "export_name = \"subject_outlier_1\" \n",
    "with open(os.path.join(access_data_path(f\"{process_barcode}/data/{folder_autoencoder}\", f\"{export_name}\" + \".pkl\"))  , 'wb') as file: \n",
    "    pickle.dump(subject_outlier_1, file)   \n",
    "\n",
    "\n",
    "\n",
    "export_name = \"subject_normalization_0\" \n",
    "with open(os.path.join(access_data_path(f\"{process_barcode}/data/{folder_autoencoder}\", f\"{export_name}\" + \".pkl\"))  , 'wb') as file: \n",
    "    pickle.dump(subject_normalization_0, file)   \n",
    "\n",
    "export_name = \"subject_normalization_1\" \n",
    "with open(os.path.join(access_data_path(f\"{process_barcode}/data/{folder_autoencoder}\", f\"{export_name}\" + \".pkl\"))  , 'wb') as file: \n",
    "    pickle.dump(subject_normalization_1, file)   \n",
    "\n",
    "\n",
    "\n",
    "export_name = \"subject_autoencoder_0\" \n",
    "with open(os.path.join(access_data_path(f\"{process_barcode}/data/{folder_autoencoder}\", f\"{export_name}\" + \".pkl\"))  , 'wb') as file: \n",
    "    pickle.dump(subject_autoencoder_0, file)   \n",
    "\n",
    "export_name = \"subject_autoencoder_1\" \n",
    "with open(os.path.join(access_data_path(f\"{process_barcode}/data/{folder_autoencoder}\", f\"{export_name}\" + \".pkl\"))  , 'wb') as file: \n",
    "    pickle.dump(subject_autoencoder_1, file)   \n",
    "    "
   ]
  }
 ],
 "metadata": {
  "kernelspec": {
   "display_name": "Python 3",
   "language": "python",
   "name": "python3"
  },
  "language_info": {
   "codemirror_mode": {
    "name": "ipython",
    "version": 3
   },
   "file_extension": ".py",
   "mimetype": "text/x-python",
   "name": "python",
   "nbconvert_exporter": "python",
   "pygments_lexer": "ipython3",
   "version": "3.11.8"
  }
 },
 "nbformat": 4,
 "nbformat_minor": 2
}
