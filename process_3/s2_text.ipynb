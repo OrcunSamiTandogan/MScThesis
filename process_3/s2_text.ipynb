{
 "cells": [
  {
   "cell_type": "markdown",
   "metadata": {},
   "source": [
    "# `Step 2: Text Embeddings`"
   ]
  },
  {
   "cell_type": "markdown",
   "metadata": {},
   "source": [
    "# 0- `Config`"
   ]
  },
  {
   "cell_type": "code",
   "execution_count": null,
   "metadata": {},
   "outputs": [],
   "source": [
    "# Path Management\n",
    "import pickle\n",
    "import os\n",
    "# Data Handling \n",
    "import pandas as pd\n",
    "import numpy as np\n",
    "# Transformers \n",
    "from transformers import GPT2Model, GPT2Tokenizer\n",
    "# Tokenization\n",
    "import torch\n",
    "from tqdm import tqdm"
   ]
  },
  {
   "cell_type": "code",
   "execution_count": null,
   "metadata": {},
   "outputs": [],
   "source": [
    "try:\n",
    "    if manager == 1:\n",
    "        print(\"Jupyter has been running from Manager\") \n",
    "except:\n",
    "    temp  = \"temp\"\n",
    "    %run s0_config.ipynb "
   ]
  },
  {
   "cell_type": "markdown",
   "metadata": {},
   "source": [
    "# 1- `Load`"
   ]
  },
  {
   "cell_type": "code",
   "execution_count": null,
   "metadata": {},
   "outputs": [],
   "source": [
    "import_name = \"subject_data\"\n",
    "with open(os.path.join(access_data_path(f\"{process_barcode}/data/{folder_setup}\", f\"{import_name}\" + \".pkl\")) , 'rb') as file:\n",
    "    subject_data = pickle.load(file)   "
   ]
  },
  {
   "cell_type": "markdown",
   "metadata": {},
   "source": [
    "## `Overview`"
   ]
  },
  {
   "cell_type": "code",
   "execution_count": null,
   "metadata": {},
   "outputs": [],
   "source": [
    "#subject_data = subject_data[:50]\n",
    "subject_data"
   ]
  },
  {
   "cell_type": "markdown",
   "metadata": {},
   "source": [
    "# 2- `Operation`"
   ]
  },
  {
   "cell_type": "markdown",
   "metadata": {},
   "source": [
    "### 1-) `Context Construction`"
   ]
  },
  {
   "cell_type": "code",
   "execution_count": null,
   "metadata": {},
   "outputs": [],
   "source": [
    "texts = subject_data['Cell_Type'] + \" \" + subject_data['Gene_Marker']\n",
    "texts = texts.astype(str)\n",
    "texts "
   ]
  },
  {
   "cell_type": "markdown",
   "metadata": {},
   "source": [
    "### 2-) `Transformer Selection`"
   ]
  },
  {
   "cell_type": "code",
   "execution_count": null,
   "metadata": {},
   "outputs": [],
   "source": [
    "tokenizer = GPT2Tokenizer.from_pretrained('gpt2')\n",
    "tokenizer.pad_token = tokenizer.eos_token \n",
    "\n",
    "model = GPT2Model.from_pretrained('gpt2') "
   ]
  },
  {
   "cell_type": "markdown",
   "metadata": {},
   "source": [
    "### 3-) `Tokenization`"
   ]
  },
  {
   "cell_type": "code",
   "execution_count": null,
   "metadata": {},
   "outputs": [],
   "source": [
    "\"\"\"batch_size = 32\n",
    "Combined_Text_Embeddings = []\n",
    "\n",
    "for i in tqdm(range(0, len(texts), batch_size)):\n",
    "    batch_texts = texts[i:i+batch_size].tolist()\n",
    "    inputs = tokenizer(batch_texts, return_tensors=\"pt\", padding=True, truncation=True, max_length=512)\n",
    "\n",
    "    with torch.no_grad():\n",
    "        outputs = model(**inputs)\n",
    "        # Use the mean of the last hidden state as embedding representation\n",
    "        embeddings = outputs.last_hidden_state.mean(dim=1)\n",
    "        Combined_Text_Embeddings.append(embeddings)\n",
    "\n",
    "# Combine all batch embeddings into a single tensor\n",
    "Embeddings_GPT = torch.cat(Combined_Text_Embeddings, dim=0)\"\"\""
   ]
  },
  {
   "cell_type": "code",
   "execution_count": null,
   "metadata": {},
   "outputs": [],
   "source": [
    "\"\"\"Embeddings_GPT.shape\"\"\""
   ]
  },
  {
   "cell_type": "markdown",
   "metadata": {},
   "source": [
    "### 4-) `Main Data Creation`"
   ]
  },
  {
   "cell_type": "code",
   "execution_count": null,
   "metadata": {},
   "outputs": [],
   "source": [
    " # Step 1 \n",
    "data_full = subject_data.copy() \n",
    "# Step 2: \n",
    "#data_full[\"Cell_Type_Embeddings\"] = Embeddings_BERT  \n",
    "#data_full[\"Embeddings\"] = [embedding.tolist() for embedding in Embeddings_GPT] "
   ]
  },
  {
   "cell_type": "code",
   "execution_count": null,
   "metadata": {},
   "outputs": [],
   "source": [
    "#embeddings_list = data_full[\"Cell_Type_Embeddings\"].tolist()  # Get the column as a list of lists\n",
    "#embeddings_tensor = torch.tensor(embeddings_list)             # Convert to a tensor "
   ]
  },
  {
   "cell_type": "markdown",
   "metadata": {},
   "source": [
    "# 3- `End`"
   ]
  },
  {
   "cell_type": "code",
   "execution_count": null,
   "metadata": {},
   "outputs": [],
   "source": [
    "export_name = \"data_full\" \n",
    "with open(os.path.join(access_data_path(f\"{process_barcode}/data/{folder_text}\", f\"{export_name}\" + \".pkl\"))  , 'wb') as file: \n",
    "    pickle.dump(data_full, file)   "
   ]
  }
 ],
 "metadata": {
  "kernelspec": {
   "display_name": "bilimlan",
   "language": "python",
   "name": "python3"
  },
  "language_info": {
   "codemirror_mode": {
    "name": "ipython",
    "version": 3
   },
   "file_extension": ".py",
   "mimetype": "text/x-python",
   "name": "python",
   "nbconvert_exporter": "python",
   "pygments_lexer": "ipython3",
   "version": "3.11.8"
  }
 },
 "nbformat": 4,
 "nbformat_minor": 2
}
