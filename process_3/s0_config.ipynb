{
 "cells": [
  {
   "cell_type": "markdown",
   "metadata": {},
   "source": [
    "# `Step 0: Config`"
   ]
  },
  {
   "cell_type": "code",
   "execution_count": null,
   "metadata": {},
   "outputs": [],
   "source": [
    "print(\"s0_config.ipynb | Started\")"
   ]
  },
  {
   "cell_type": "code",
   "execution_count": null,
   "metadata": {},
   "outputs": [],
   "source": [
    "folder_setup         = \"s1_setup\" \n",
    "folder_text          = \"s2_text\"\n",
    "folder_load          = \"s3_load\"\n",
    "\n",
    "folder_outlier       = \"s4_outlier\"\n",
    "folder_normalization = \"s5_normalization\" \n",
    "folder_autoencoder  = \"s6_autoencoder\"\n",
    "folder_dimension    = \"s7_dimension\"\n",
    "\n",
    "folder_prediction   = \"s9_prediction\" \n",
    "folder_total        = \"s10_total\" \n"
   ]
  },
  {
   "cell_type": "code",
   "execution_count": null,
   "metadata": {},
   "outputs": [],
   "source": [
    "process_barcode = \"process_3\"  "
   ]
  },
  {
   "cell_type": "code",
   "execution_count": null,
   "metadata": {},
   "outputs": [],
   "source": [
    "import os \n",
    "current_Folder      = os.getcwd() \n",
    "project_Folder_Name = \"main\"\n",
    "project_Folder      = os.path.join(current_Folder.split(project_Folder_Name)[0], project_Folder_Name) \n",
    "\n",
    "access_data_path = lambda target_folder, target_file: os.path.join(project_Folder, target_folder, target_file)\n",
    "\n",
    "# Eg: access_data_path(\"process_0/data\", \"raw_data.h5ad\")\n",
    "# '/Volumes/yeniwd/github/iThesis/backend/modules/experiments/exp1/process_0/data/raw_data.h5ad' \n",
    "\n",
    "\n",
    "true_data     = access_data_path(\"process_0/data\", \"true_label_cell_type_gene_profile.csv\") \n",
    "selected_data = access_data_path(\"process_0/data\", \"selected_cell_type_gene_profile.csv\") "
   ]
  },
  {
   "cell_type": "code",
   "execution_count": null,
   "metadata": {},
   "outputs": [],
   "source": [
    "print(\"s0_config.ipynb | Finished\")"
   ]
  }
 ],
 "metadata": {
  "kernelspec": {
   "display_name": "Python 3",
   "language": "python",
   "name": "python3"
  },
  "language_info": {
   "codemirror_mode": {
    "name": "ipython",
    "version": 3
   },
   "file_extension": ".py",
   "mimetype": "text/x-python",
   "name": "python",
   "nbconvert_exporter": "python",
   "pygments_lexer": "ipython3",
   "version": "3.11.8"
  }
 },
 "nbformat": 4,
 "nbformat_minor": 2
}
