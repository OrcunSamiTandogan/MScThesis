{
 "cells": [
  {
   "cell_type": "code",
   "execution_count": null,
   "metadata": {},
   "outputs": [],
   "source": [
    "from sklearn.preprocessing import StandardScaler, MinMaxScaler, RobustScaler, MaxAbsScaler "
   ]
  },
  {
   "cell_type": "code",
   "execution_count": null,
   "metadata": {},
   "outputs": [],
   "source": [
    "\n",
    "try: \n",
    "    # Scale embeddings data\n",
    "    if subject_normalization_1 == \"StandardScaler\":\n",
    "        scaler = StandardScaler()\n",
    "        embeddings_scaled = scaler.fit_transform(embeddings)\n",
    "    elif subject_normalization_1 == \"MinMaxScaler\":\n",
    "        scaler = MinMaxScaler()\n",
    "        embeddings_scaled = scaler.fit_transform(embeddings)\n",
    "    elif subject_normalization_1 == \"RobustScaler\":\n",
    "        scaler = RobustScaler()\n",
    "        embeddings_scaled = scaler.fit_transform(embeddings)\n",
    "    elif subject_normalization_1 == \"MaxAbsScaler\":\n",
    "        scaler = MaxAbsScaler()\n",
    "        embeddings_scaled = scaler.fit_transform(embeddings)\n",
    "    else:\n",
    "        embeddings_scaled = embeddings \n",
    "except Exception as e:  \n",
    "    print(\"Error in embeddings normalization: \", e )\n",
    "\n",
    "try:\n",
    "    # Expressions data\n",
    "    if subject_normalization_0 == \"StandardScaler\":\n",
    "        scaler = StandardScaler()\n",
    "        expressions = subject_data_full[\"Expression\"].values.reshape(-1, 1)\n",
    "        expressions_scaled = scaler.fit_transform(expressions)\n",
    "    elif subject_normalization_0 == \"MinMaxScaler\":\n",
    "        scaler = MinMaxScaler()\n",
    "        expressions_scaled = scaler.fit_transform(expressions.reshape(-1, 1))\n",
    "    elif subject_normalization_0 == \"RobustScaler\":\n",
    "        scaler = RobustScaler()\n",
    "        expressions_scaled = scaler.fit_transform(expressions.reshape(-1, 1))\n",
    "    elif subject_normalization_0 == \"MaxAbsScaler\":\n",
    "        scaler = MaxAbsScaler()\n",
    "        expressions_scaled = scaler.fit_transform(expressions.reshape(-1, 1))\n",
    "    elif subject_normalization_0 == \"LogTransform\":\n",
    "        expressions_scaled = np.log1p(expressions)  # Assuming expressions data is non-negative\n",
    "    else:\n",
    "        expressions_scaled = expressions \n",
    "except Exception as e:\n",
    "    print(\"Error in expressions normalization: \", e) \n",
    "\n",
    "try:\n",
    "    expressions_normalization_process = expressions_scaled\n",
    "except:\n",
    "    print(\"Error in expressions normalization process\")\n",
    "try:\n",
    "    embeddings_normalization_process  = embeddings_scaled \n",
    "except: \n",
    "    print(\"Error in embeddings normalization process\") \n"
   ]
  }
 ],
 "metadata": {
  "language_info": {
   "name": "python"
  }
 },
 "nbformat": 4,
 "nbformat_minor": 2
}
