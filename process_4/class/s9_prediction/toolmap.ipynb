{
 "cells": [
  {
   "cell_type": "code",
   "execution_count": null,
   "metadata": {},
   "outputs": [],
   "source": [
    "def find_closest_cell_types(predicted_embeddings, map_dict):\n",
    "    closest_cell_types = []\n",
    "    for pred_embedding in predicted_embeddings:\n",
    "        # Initialize a dictionary to hold similarity scores for each cell type\n",
    "        similarity_scores = {}\n",
    "        for cell_type, ct_embedding in map_dict.items():\n",
    "            # Calculate similarity; using cosine similarity as an example\n",
    "            similarity = calculate_distance(pred_embedding, ct_embedding, method=\"cosine\")\n",
    "            similarity_scores[cell_type] = similarity\n",
    "        \n",
    "        # Find the cell type with the highest similarity score\n",
    "        closest_cell_type = max(similarity_scores, key=similarity_scores.get)\n",
    "        closest_cell_types.append(closest_cell_type)\n",
    "    \n",
    "    return closest_cell_types\n"
   ]
  },
  {
   "cell_type": "code",
   "execution_count": null,
   "metadata": {},
   "outputs": [],
   "source": [
    "def create_map_dict(true_labels, embeddings):\n",
    "    # Determine the input type for embeddings\n",
    "    if isinstance(embeddings, pd.Series):\n",
    "        # Handling pd.Series of lists or arrays\n",
    "        unique_labels = pd.unique(true_labels)\n",
    "        unique_embeddings = embeddings.drop_duplicates().tolist()\n",
    "    else:\n",
    "        # Assuming embeddings is a numpy array or a list of arrays/lists\n",
    "        if isinstance(embeddings, list):\n",
    "            # Convert list of embeddings to a 2D numpy array\n",
    "            embeddings = np.array(embeddings)\n",
    "        \n",
    "        if embeddings.ndim == 2:\n",
    "            # Handle as a 2D numpy array directly\n",
    "            _, unique_indices = np.unique(embeddings, axis=0, return_index=True)\n",
    "            unique_labels = np.array(true_labels)[unique_indices]\n",
    "            unique_embeddings = embeddings[unique_indices]\n",
    "        else:\n",
    "            # Fallback for other structures\n",
    "            print(\"Unsupported structure for embeddings.\")\n",
    "            return {}\n",
    "\n",
    "    # Create Label Map Dictionary\n",
    "    label_map_dict = {label: embedding for label, embedding in zip(unique_labels, unique_embeddings)}\n",
    "\n",
    "    return label_map_dict\n"
   ]
  },
  {
   "cell_type": "code",
   "execution_count": null,
   "metadata": {},
   "outputs": [],
   "source": [
    "\n",
    "# Map: Outlier \n",
    "Cell_Subject_Out_1_Aut_0_DR_0_Map   = create_map_dict(Cell_Type, subject_data_full[\"Cell_Type_Embeddings_Outlier\"]) \n",
    "Subject_Out_1_Aut_0_DR_0_Map   = create_map_dict(Gene_Marker, subject_data_full[\"Gene_Marker_Embeddings_Outlier\"])  \n",
    "# Map: Autoencoder\n",
    "Cell_Subject_Out_1_Aut_1_DR_0_Map   = create_map_dict(Cell_Type, subject_data_full[\"Cell_Type_Embeddings_Autoencoder\"]) \n",
    "Subject_Out_1_Aut_1_DR_0_Map   = create_map_dict(Gene_Marker, subject_data_full[\"Gene_Markers_Autoencoder\"])  \n",
    "# Map: Dimension Reduction\n",
    "Cell_Subject_Out_1_Aut_1_DR_1_Map   = create_map_dict(Cell_Type, subject_data_full[\"Cell_Types_Dimension\"]) \n",
    "Subject_Out_1_Aut_1_DR_1_Map   = create_map_dict(Gene_Marker, subject_data_full[\"Gene_Markers_Dimension\"])  \n"
   ]
  }
 ],
 "metadata": {
  "language_info": {
   "name": "python"
  }
 },
 "nbformat": 4,
 "nbformat_minor": 2
}
