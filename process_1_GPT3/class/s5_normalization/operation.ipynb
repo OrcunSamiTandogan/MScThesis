{
 "cells": [
  {
   "cell_type": "code",
   "execution_count": null,
   "metadata": {},
   "outputs": [],
   "source": [
    "from sklearn.preprocessing import StandardScaler, MinMaxScaler, RobustScaler, MaxAbsScaler "
   ]
  },
  {
   "cell_type": "code",
   "execution_count": null,
   "metadata": {},
   "outputs": [],
   "source": [
    "try: \n",
    "    # Scale embeddings data\n",
    "    if subject_normalization_0 == \"StandardScaler\":\n",
    "        scaler = StandardScaler()\n",
    "        embeddings_scaled = scaler.fit_transform(embeddings)\n",
    "        print(\"Embeddings | Standard Scaler has been applied\")\n",
    "    elif subject_normalization_0 == \"MinMaxScaler\":\n",
    "        scaler = MinMaxScaler()\n",
    "        embeddings_scaled = scaler.fit_transform(embeddings)\n",
    "        print(\"Embeddings | Min Max Scaler has been applied\")\n",
    "    elif subject_normalization_0 == \"RobustScaler\":\n",
    "        scaler = RobustScaler()\n",
    "        embeddings_scaled = scaler.fit_transform(embeddings)\n",
    "        print(\"Embeddings | Robust Scaler has been applied\")\n",
    "    elif subject_normalization_0 == \"MaxAbsScaler\":\n",
    "        scaler = MaxAbsScaler()\n",
    "        embeddings_scaled = scaler.fit_transform(embeddings)\n",
    "        print(\"Embeddings | Max Abs Scale has been applied\")\n",
    "    else:\n",
    "        embeddings_scaled = embeddings \n",
    "        print(\"Embeddings | No process has been done\")\n",
    "except Exception as e:  \n",
    "    print(\"Error in embeddings normalization: \", e )\n"
   ]
  },
  {
   "cell_type": "code",
   "execution_count": null,
   "metadata": {},
   "outputs": [],
   "source": [
    "try:\n",
    "    # Expressions data\n",
    "    if subject_normalization_1 == \"StandardScaler\":\n",
    "        scaler = StandardScaler()\n",
    "        expressions_scaled = scaler.fit_transform(expressions.reshape(-1, 1))\n",
    "        print(\"Expressions | Standard Scaler has been applied\")\n",
    "    elif subject_normalization_1 == \"MinMaxScaler\":\n",
    "        scaler = MinMaxScaler()\n",
    "        expressions_scaled = scaler.fit_transform(expressions.reshape(-1, 1))\n",
    "        print(\"Expressions | Min Max Scaler has been applied\")\n",
    "    elif subject_normalization_1 == \"RobustScaler\":\n",
    "        scaler = RobustScaler()\n",
    "        expressions_scaled = scaler.fit_transform(expressions.reshape(-1, 1))\n",
    "        print(\"Expressions | Robust Scaler has been applied\")\n",
    "    elif subject_normalization_1 == \"MaxAbsScaler\":\n",
    "        scaler = MaxAbsScaler()\n",
    "        expressions_scaled = scaler.fit_transform(expressions.reshape(-1, 1))\n",
    "        print(\"Expressions | Max Abs Scale has been applied\")\n",
    "    elif subject_normalization_1 == \"LogTransform\":\n",
    "        expressions_scaled = np.log1p(expressions)  # Assuming expressions data is non-negative\n",
    "    else:\n",
    "        expressions_scaled = expressions \n",
    "        print(\"Expressions | No process has been done\")\n",
    "except Exception as e:\n",
    "    print(\"Error in expressions normalization: \", e) \n",
    "\n",
    "try:\n",
    "    expressions_normalization_process = expressions_scaled\n",
    "except:\n",
    "    print(\"Expression data has not been found\")\n",
    "try:\n",
    "    embeddings_normalization_process  = embeddings_scaled \n",
    "except:\n",
    "    print(\"Embedding data has not been found\")\n"
   ]
  }
 ],
 "metadata": {
  "language_info": {
   "name": "python"
  }
 },
 "nbformat": 4,
 "nbformat_minor": 2
}
