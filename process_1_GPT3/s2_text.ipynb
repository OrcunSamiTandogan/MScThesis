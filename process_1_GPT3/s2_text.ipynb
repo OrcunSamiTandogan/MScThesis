{
 "cells": [
  {
   "cell_type": "markdown",
   "metadata": {},
   "source": [
    "# `Step 2: Text Embeddings`"
   ]
  },
  {
   "cell_type": "markdown",
   "metadata": {},
   "source": [
    "# 0- `Config`"
   ]
  },
  {
   "cell_type": "code",
   "execution_count": null,
   "metadata": {},
   "outputs": [],
   "source": [
    "# Path Management\n",
    "import pickle\n",
    "import os\n",
    "# Data Handling \n",
    "import pandas as pd\n",
    "import numpy as np\n",
    "# Transformers \n",
    "from transformers import GPT2Model, GPT2Tokenizer\n",
    "# Tokenization\n",
    "import torch\n",
    "from tqdm import tqdm"
   ]
  },
  {
   "cell_type": "code",
   "execution_count": null,
   "metadata": {},
   "outputs": [],
   "source": [
    "try:\n",
    "    if manager == 1:\n",
    "        print(\"Jupyter has been running from Manager\") \n",
    "except:\n",
    "    temp  = \"temp\"\n",
    "    %run s0_config.ipynb "
   ]
  },
  {
   "cell_type": "code",
   "execution_count": null,
   "metadata": {},
   "outputs": [],
   "source": [
    "import openai \n",
    "from openai.embeddings_utils import get_embeddings  \n",
    "openai.api_key = OPENAI_API_KEY "
   ]
  },
  {
   "cell_type": "markdown",
   "metadata": {},
   "source": [
    "# 1- `Load`"
   ]
  },
  {
   "cell_type": "code",
   "execution_count": null,
   "metadata": {},
   "outputs": [],
   "source": [
    "import_name = \"subject_data\"\n",
    "with open(os.path.join(access_data_path(f\"{process_barcode}/data/{folder_setup}\", f\"{import_name}\" + \".pkl\")) , 'rb') as file:\n",
    "    subject_data = pickle.load(file)   "
   ]
  },
  {
   "cell_type": "markdown",
   "metadata": {},
   "source": [
    "## `Overview`"
   ]
  },
  {
   "cell_type": "code",
   "execution_count": null,
   "metadata": {},
   "outputs": [],
   "source": [
    "#subject_data = subject_data[:200]\n",
    "subject_data"
   ]
  },
  {
   "cell_type": "code",
   "execution_count": null,
   "metadata": {},
   "outputs": [],
   "source": [
    "subject_data = subject_data.iloc[:100]"
   ]
  },
  {
   "cell_type": "markdown",
   "metadata": {},
   "source": [
    "# 2- `Operation`"
   ]
  },
  {
   "cell_type": "markdown",
   "metadata": {},
   "source": [
    "### 1-) `Context Construction`"
   ]
  },
  {
   "cell_type": "code",
   "execution_count": null,
   "metadata": {},
   "outputs": [],
   "source": [
    "texts = subject_data['Cell_Type'] + \" \" + subject_data['Gene_Marker']\n",
    "texts"
   ]
  },
  {
   "cell_type": "markdown",
   "metadata": {},
   "source": [
    "### 2-) `Transformer Selection`"
   ]
  },
  {
   "cell_type": "code",
   "execution_count": null,
   "metadata": {},
   "outputs": [],
   "source": [
    "\"\"\"\n",
    "tokenizer = GPT2Tokenizer.from_pretrained('gpt2')\n",
    "tokenizer.pad_token = tokenizer.eos_token \n",
    "\n",
    "model = GPT2Model.from_pretrained('gpt2') \n",
    "\"\"\""
   ]
  },
  {
   "cell_type": "markdown",
   "metadata": {},
   "source": [
    "### 3-) `Tokenization`"
   ]
  },
  {
   "cell_type": "code",
   "execution_count": null,
   "metadata": {},
   "outputs": [],
   "source": [
    "# Placeholder for embeddings\n",
    "embeddings_list = []\n",
    "\n",
    "for text in tqdm(texts):\n",
    "    response = openai.Embedding.create(\n",
    "      input=text,\n",
    "      engine=\"text-embedding-ada-002\"  # or another suitable GPT-3 model\n",
    "    )\n",
    "    embedding = response['data'][0]['embedding']\n",
    "    embeddings_list.append(embedding)\n",
    "\n",
    "# Convert list of embeddings to a suitable format (e.g., numpy array)\n",
    "Embeddings_GPT = np.array(embeddings_list)"
   ]
  },
  {
   "cell_type": "code",
   "execution_count": null,
   "metadata": {},
   "outputs": [],
   "source": [
    "Embeddings_GPT.shape"
   ]
  },
  {
   "cell_type": "markdown",
   "metadata": {},
   "source": [
    "### 4-) `Main Data Creation`"
   ]
  },
  {
   "cell_type": "code",
   "execution_count": null,
   "metadata": {},
   "outputs": [],
   "source": [
    "# Step 1 \n",
    "data_full = subject_data.copy() \n",
    "# Step 2: \n",
    "#data_full[\"Cell_Type_Embeddings\"] = Embeddings_BERT  \n",
    "data_full[\"Embeddings\"] = [embedding.tolist() for embedding in Embeddings_GPT]"
   ]
  },
  {
   "cell_type": "code",
   "execution_count": null,
   "metadata": {},
   "outputs": [],
   "source": [
    "#embeddings_list = data_full[\"Cell_Type_Embeddings\"].tolist()  # Get the column as a list of lists\n",
    "#embeddings_tensor = torch.tensor(embeddings_list)             # Convert to a tensor "
   ]
  },
  {
   "cell_type": "markdown",
   "metadata": {},
   "source": [
    "# 3- `End`"
   ]
  },
  {
   "cell_type": "code",
   "execution_count": null,
   "metadata": {},
   "outputs": [],
   "source": [
    "export_name = \"data_full\" \n",
    "with open(os.path.join(access_data_path(f\"{process_barcode}/data/{folder_text}\", f\"{export_name}\" + \".pkl\"))  , 'wb') as file: \n",
    "    pickle.dump(data_full, file)   "
   ]
  }
 ],
 "metadata": {
  "kernelspec": {
   "display_name": "bilimlan",
   "language": "python",
   "name": "python3"
  },
  "language_info": {
   "codemirror_mode": {
    "name": "ipython",
    "version": 3
   },
   "file_extension": ".py",
   "mimetype": "text/x-python",
   "name": "python",
   "nbconvert_exporter": "python",
   "pygments_lexer": "ipython3",
   "version": "3.12.3"
  }
 },
 "nbformat": 4,
 "nbformat_minor": 2
}
