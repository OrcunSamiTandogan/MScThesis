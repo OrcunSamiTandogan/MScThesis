{
 "cells": [
  {
   "cell_type": "markdown",
   "metadata": {},
   "source": [
    "# `Step 8: Total`"
   ]
  },
  {
   "cell_type": "markdown",
   "metadata": {},
   "source": [
    "# 0- `Config`"
   ]
  },
  {
   "cell_type": "code",
   "execution_count": null,
   "metadata": {},
   "outputs": [],
   "source": [
    "import pandas as pd \n",
    "import numpy as np \n",
    "import pickle "
   ]
  },
  {
   "cell_type": "code",
   "execution_count": null,
   "metadata": {},
   "outputs": [],
   "source": [
    "try: \n",
    "    if manager == 1:\n",
    "        print(\"s1_load.ipynb running from MANAGER\")\n",
    "except: \n",
    "    %run s0_config.ipynb \n",
    " "
   ]
  },
  {
   "cell_type": "markdown",
   "metadata": {},
   "source": [
    "# 1-) `Load`\n",
    "- 0-) Default\n",
    "- 1-) SVM\n",
    "- 2-) SGD\n",
    "- 3-) Decision Tree\n",
    "- 4-) Random Forest\n",
    "- 5- Gradient Boosting"
   ]
  },
  {
   "cell_type": "markdown",
   "metadata": {},
   "source": [
    "## 0-) `Default`"
   ]
  },
  {
   "cell_type": "code",
   "execution_count": null,
   "metadata": {},
   "outputs": [],
   "source": [
    "# Basic \n",
    "import_name = \"subject_outlier\"\n",
    "with open(os.path.join(access_data_path(f\"{process_barcode}/data/{folder_prediction}\", f\"{import_name}\" + \".pkl\"))  , 'rb') as file: \n",
    "    subject_outlier = pickle.load(file)   \n",
    "\n",
    "import_name = \"subject_autoencoder\"\n",
    "with open(os.path.join(access_data_path(f\"{process_barcode}/data/{folder_prediction}\", f\"{import_name}\" + \".pkl\"))  , 'rb') as file: \n",
    "    subject_autoencoder = pickle.load(file)  \n",
    "     \n",
    "import_name = \"subject_dimension\" \n",
    "with open(os.path.join(access_data_path(f\"{process_barcode}/data/{folder_prediction}\", f\"{import_name}\" + \".pkl\"))  , 'rb') as file: \n",
    "    subject_dimension = pickle.load(file)   "
   ]
  },
  {
   "cell_type": "markdown",
   "metadata": {},
   "source": [
    "## 0-) `NN`"
   ]
  },
  {
   "cell_type": "code",
   "execution_count": null,
   "metadata": {},
   "outputs": [],
   "source": [
    "# Subject\n",
    "import_name = \"NN_All\"\n",
    "with open(os.path.join(access_data_path(f\"{process_barcode}/data/{folder_prediction}\", f\"{import_name}.pkl\")), 'rb') as file: \n",
    "    NN_All = pickle.load(file)   \n",
    "\n",
    "# SVM Total Statistics \n",
    "try:\n",
    "    import_name = \"NN_Total\"\n",
    "    with open(os.path.join(access_data_path(f\"{process_barcode}/data/{folder_total}\", f\"{import_name}\" + \".pkl\"))  , 'rb') as file: \n",
    "        NN_Total = pickle.load(file)   \n",
    "    print(\"NN Total Data is loaded\")\n",
    "except:\n",
    "    print(\"No NN Best Total Statistics Data\") \n",
    "    NN_Total = pd.DataFrame() \n",
    "    print(\"NN Total Statistics Data is created\") "
   ]
  },
  {
   "cell_type": "code",
   "execution_count": null,
   "metadata": {},
   "outputs": [],
   "source": [
    "import_name = \"NN_All\"\n",
    "with open(os.path.join(access_data_path(f\"{process_barcode}/data/{folder_prediction}\", f\"{import_name}.pkl\")), 'rb') as file: \n",
    "    NN_All = pickle.load(file)   "
   ]
  },
  {
   "cell_type": "code",
   "execution_count": null,
   "metadata": {},
   "outputs": [],
   "source": [
    "NN_All"
   ]
  },
  {
   "cell_type": "code",
   "execution_count": null,
   "metadata": {},
   "outputs": [],
   "source": [
    "NN_Total"
   ]
  },
  {
   "cell_type": "markdown",
   "metadata": {},
   "source": [
    "## 1-) `SVM`"
   ]
  },
  {
   "cell_type": "code",
   "execution_count": null,
   "metadata": {},
   "outputs": [],
   "source": [
    "# Subject\n",
    "import_name = \"SVM_All\"\n",
    "with open(os.path.join(access_data_path(f\"{process_barcode}/data/{folder_prediction}\", f\"{import_name}.pkl\")), 'rb') as file: \n",
    "    SVM_All = pickle.load(file)   \n",
    "\n",
    "# SVM Total Statistics \n",
    "try:\n",
    "    import_name = \"SVM_Total\"\n",
    "    with open(os.path.join(access_data_path(f\"{process_barcode}/data/{folder_total}\", f\"{import_name}\" + \".pkl\"))  , 'rb') as file: \n",
    "        SVM_Total = pickle.load(file)   \n",
    "    print(\"SVM Total Data is loaded\")\n",
    "except:\n",
    "    print(\"No SVM Best Total Statistics Data\") \n",
    "    SVM_Total = pd.DataFrame() \n",
    "    print(\"SVM Total Statistics Data is created\") "
   ]
  },
  {
   "cell_type": "markdown",
   "metadata": {},
   "source": [
    "## 2-) `SGD`"
   ]
  },
  {
   "cell_type": "code",
   "execution_count": null,
   "metadata": {},
   "outputs": [],
   "source": [
    "# Subject\n",
    "import_name = \"SGD_All\"\n",
    "with open(os.path.join(access_data_path(f\"{process_barcode}/data/{folder_prediction}\", f\"{import_name}.pkl\")), 'rb') as file: \n",
    "    SGD_All = pickle.load(file)   \n",
    "\n",
    "# SGD Total Statistics \n",
    "try:\n",
    "    import_name = \"SGD_Total\"\n",
    "    with open(os.path.join(access_data_path(f\"{process_barcode}/data/{folder_total}\", f\"{import_name}.pkl\")), 'rb') as file: \n",
    "        SGD_Total = pickle.load(file)   \n",
    "    print(\"SGD Total Data is loaded\")\n",
    "except:\n",
    "    print(\"No SGD Best Total Statistics Data\") \n",
    "    SGD_Total = pd.DataFrame() \n",
    "    print(\"SGD Total Statistics Data is created\") "
   ]
  },
  {
   "cell_type": "markdown",
   "metadata": {},
   "source": [
    "## 3-) `Decision Tree`"
   ]
  },
  {
   "cell_type": "code",
   "execution_count": null,
   "metadata": {},
   "outputs": [],
   "source": [
    "# Subject\n",
    "import_name = \"DT_All\"\n",
    "with open(os.path.join(access_data_path(f\"{process_barcode}/data/{folder_prediction}\", f\"{import_name}.pkl\")), 'rb') as file: \n",
    "    DT_All = pickle.load(file)   \n",
    "\n",
    "# DT Total Statistics \n",
    "try:\n",
    "    import_name = \"DT_Total\"\n",
    "    with open(os.path.join(access_data_path(f\"{process_barcode}/data/{folder_total}\", f\"{import_name}.pkl\")), 'rb') as file: \n",
    "        DT_Total = pickle.load(file)   \n",
    "    print(\"DT Total Data is loaded\")\n",
    "except:\n",
    "    print(\"No DT Best Total Statistics Data\") \n",
    "    DT_Total = pd.DataFrame() \n",
    "    print(\"DT Total Statistics Data is created\") "
   ]
  },
  {
   "cell_type": "markdown",
   "metadata": {},
   "source": [
    "## 4-) `Random Forest`"
   ]
  },
  {
   "cell_type": "code",
   "execution_count": null,
   "metadata": {},
   "outputs": [],
   "source": [
    "# Subject\n",
    "import_name = \"RF_All\"\n",
    "with open(os.path.join(access_data_path(f\"{process_barcode}/data/{folder_prediction}\", f\"{import_name}.pkl\")), 'rb') as file: \n",
    "    RF_All = pickle.load(file)   \n",
    "\n",
    "# RF Total Statistics \n",
    "try:\n",
    "    import_name = \"RF_Total\"\n",
    "    with open(os.path.join(access_data_path(f\"{process_barcode}/data/{folder_total}\", f\"{import_name}.pkl\")), 'rb') as file: \n",
    "        RF_Total = pickle.load(file)   \n",
    "    print(\"RF Total Data is loaded\")\n",
    "except:\n",
    "    print(\"No RF Best Total Statistics Data\") \n",
    "    RF_Total = pd.DataFrame() \n",
    "    print(\"RF Total Statistics Data is created\") "
   ]
  },
  {
   "cell_type": "markdown",
   "metadata": {},
   "source": [
    "## All-) `Model Library`"
   ]
  },
  {
   "cell_type": "code",
   "execution_count": null,
   "metadata": {},
   "outputs": [],
   "source": [
    "# Subject\n",
    "import_name = \"model_Library_Current\"\n",
    "with open(os.path.join(access_data_path(f\"{process_barcode}/model/library\", f\"{import_name}.pkl\")), 'rb') as file: \n",
    "    model_Library_Current = pickle.load(file)   "
   ]
  },
  {
   "cell_type": "code",
   "execution_count": null,
   "metadata": {},
   "outputs": [],
   "source": [
    "try:\n",
    "    import_name = \"model_Library_Total\"\n",
    "    with open(os.path.join(access_data_path(f\"{process_barcode}/model/library\", f\"{import_name}.pkl\")), 'rb') as file: \n",
    "        model_Library_Total = pickle.load(file)   \n",
    "    print(\"model_Library Total Data is loaded\")\n",
    "except:\n",
    "    print(\"No model_Library Best Total Statistics Data\") \n",
    "    model_Library_Total = pd.DataFrame() \n",
    "    print(\"model_Library Total Statistics Data is created\") "
   ]
  },
  {
   "cell_type": "markdown",
   "metadata": {},
   "source": [
    "---\n",
    "# 2-) `Bench`\n",
    "- 1-) SVM\n",
    "- 2-) SGD\n",
    "- 3-) Decision Tree\n",
    "- 4-) Random Forest"
   ]
  },
  {
   "cell_type": "markdown",
   "metadata": {},
   "source": [
    "## 0-) `NN`"
   ]
  },
  {
   "cell_type": "markdown",
   "metadata": {},
   "source": [
    "### A-) `NN Total`"
   ]
  },
  {
   "cell_type": "code",
   "execution_count": null,
   "metadata": {},
   "outputs": [],
   "source": [
    "NN_All"
   ]
  },
  {
   "cell_type": "code",
   "execution_count": null,
   "metadata": {},
   "outputs": [],
   "source": [
    "try: \n",
    "    NN_Total = pd.concat([NN_Total, NN_All], axis=0) \n",
    "    # Keep Last Update One \n",
    "    NN_Total = NN_Total.drop_duplicates( subset = [\"Applications\",\"Applications_Condition\", \"Model\"], keep = \"last\")   \n",
    "    print(\"New data is inserted into NN Total Statistics\")\n",
    "except:\n",
    "    NN_Total = NN_All\n",
    "    print(\"First data is inserted into NN Total Statistics\")"
   ]
  },
  {
   "cell_type": "code",
   "execution_count": null,
   "metadata": {},
   "outputs": [],
   "source": [
    "NN_Total"
   ]
  },
  {
   "cell_type": "markdown",
   "metadata": {},
   "source": [
    "## 1-) `SVM`"
   ]
  },
  {
   "cell_type": "markdown",
   "metadata": {},
   "source": [
    "### A-) `SVM Total`"
   ]
  },
  {
   "cell_type": "code",
   "execution_count": null,
   "metadata": {},
   "outputs": [],
   "source": [
    "SVM_All"
   ]
  },
  {
   "cell_type": "code",
   "execution_count": null,
   "metadata": {},
   "outputs": [],
   "source": [
    "try: \n",
    "    SVM_Total = pd.concat([SVM_Total, SVM_All], axis=0) \n",
    "    # Keep Last Update One \n",
    "    SVM_Total = SVM_Total.drop_duplicates( subset = [\"Applications\",\"Applications_Condition\", \"Model\"], keep = \"last\")   \n",
    "    print(\"New data is inserted into SVM Total Statistics\")\n",
    "except:\n",
    "    SVM_Total = SVM_All\n",
    "    print(\"First data is inserted into SVM Total Statistics\")"
   ]
  },
  {
   "cell_type": "markdown",
   "metadata": {},
   "source": [
    "## 2-) `Decision Tree`"
   ]
  },
  {
   "cell_type": "code",
   "execution_count": null,
   "metadata": {},
   "outputs": [],
   "source": [
    "DT_Total"
   ]
  },
  {
   "cell_type": "code",
   "execution_count": null,
   "metadata": {},
   "outputs": [],
   "source": [
    "try: \n",
    "    DT_Total = pd.concat([DT_Total, DT_All], axis=0) \n",
    "    # Keep Last Update One \n",
    "    DT_Total = DT_Total.drop_duplicates( subset = [\"Applications\",\"Applications_Condition\", \"Model\"], keep = \"last\")   \n",
    "    print(\"New data is inserted into DT Total Statistics\")\n",
    "except:\n",
    "    DT_Total = DT_All\n",
    "    print(\"First data is inserted into DT Total Statistics\")"
   ]
  },
  {
   "cell_type": "markdown",
   "metadata": {},
   "source": [
    "## 3-) `Random Forest`"
   ]
  },
  {
   "cell_type": "code",
   "execution_count": null,
   "metadata": {},
   "outputs": [],
   "source": [
    "RF_Total"
   ]
  },
  {
   "cell_type": "code",
   "execution_count": null,
   "metadata": {},
   "outputs": [],
   "source": [
    "try: \n",
    "    RF_Total = pd.concat([RF_Total, RF_All], axis=0) \n",
    "    # Keep Last Update One \n",
    "    RF_Total = RF_Total.drop_duplicates( subset = [\"Applications\",\"Applications_Condition\", \"Model\"], keep = \"last\")   \n",
    "    print(\"New data is inserted into RF Total Statistics\")\n",
    "except:\n",
    "    RF_Total = RF_All\n",
    "    print(\"First data is inserted into RF Total Statistics\")"
   ]
  },
  {
   "cell_type": "markdown",
   "metadata": {},
   "source": [
    "## 5-) `SGD`"
   ]
  },
  {
   "cell_type": "code",
   "execution_count": null,
   "metadata": {},
   "outputs": [],
   "source": [
    "SGD_Total"
   ]
  },
  {
   "cell_type": "code",
   "execution_count": null,
   "metadata": {},
   "outputs": [],
   "source": [
    "try: \n",
    "    SGD_Total = pd.concat([SGD_Total, SGD_All], axis=0) \n",
    "    # Keep Last Update One \n",
    "    SGD_Total = SGD_Total.drop_duplicates( subset = [\"Applications\",\"Applications_Condition\", \"Model\"], keep = \"last\")   \n",
    "    print(\"New data is inserted into SGD Total Statistics\")\n",
    "except:\n",
    "    SGD_Total = SGD_All\n",
    "    print(\"First data is inserted into SGD Total Statistics\")"
   ]
  },
  {
   "cell_type": "markdown",
   "metadata": {},
   "source": [
    "## 6-) `Model Library`"
   ]
  },
  {
   "cell_type": "code",
   "execution_count": null,
   "metadata": {},
   "outputs": [],
   "source": [
    "try: \n",
    "    model_Library_Total = pd.concat([model_Library_Total, model_Library_Current], axis=0) \n",
    "    # Keep Last Update One \n",
    "    model_Library_Total = model_Library_Total.drop_duplicates( subset = [\"process\",\"model_type\", \"accuracy\", \"model\"], keep = \"last\")   \n",
    "    print(\"New data is inserted into SGD Total Statistics\")\n",
    "except:\n",
    "    model_Library_Total = model_Library_Current\n",
    "    print(\"First data is inserted into SGD Total Statistics\")"
   ]
  },
  {
   "cell_type": "markdown",
   "metadata": {},
   "source": [
    "# 3-) `All In One`\n",
    "- 1-) SVM\n",
    "- 2-) SGD\n",
    "- 3-) Decision Tree\n",
    "- 4-) Random Forest"
   ]
  },
  {
   "cell_type": "code",
   "execution_count": null,
   "metadata": {},
   "outputs": [],
   "source": [
    "NN_Total"
   ]
  },
  {
   "cell_type": "code",
   "execution_count": null,
   "metadata": {},
   "outputs": [],
   "source": [
    "All_Data = pd.concat([NN_Total, SVM_Total, DT_Total, RF_Total,  SGD_Total], axis=0) \n",
    "All_Data.sort_values(by = [\"F1\"], ascending= False )"
   ]
  },
  {
   "cell_type": "markdown",
   "metadata": {},
   "source": [
    "---\n",
    "# `End`\n",
    "- 1-) SVM\n",
    "- 2-) SGD\n",
    "- 3-) Decision Tree\n",
    "- 4-) Random Forest"
   ]
  },
  {
   "cell_type": "code",
   "execution_count": null,
   "metadata": {},
   "outputs": [],
   "source": [
    "export_name = \"NN_Total\"\n",
    "with open(os.path.join(access_data_path(f\"{process_barcode}/data/{folder_total}\", f\"{export_name}\" + \".pkl\"))  , 'wb') as file: \n",
    "    pickle.dump(NN_Total, file)   "
   ]
  },
  {
   "cell_type": "code",
   "execution_count": null,
   "metadata": {},
   "outputs": [],
   "source": [
    "export_name = \"SVM_Total\"\n",
    "with open(os.path.join(access_data_path(f\"{process_barcode}/data/{folder_total}\", f\"{export_name}\" + \".pkl\"))  , 'wb') as file: \n",
    "    pickle.dump(SVM_Total, file)   "
   ]
  },
  {
   "cell_type": "code",
   "execution_count": null,
   "metadata": {},
   "outputs": [],
   "source": [
    "export_name = \"DT_Total\"\n",
    "with open(os.path.join(access_data_path(f\"{process_barcode}/data/{folder_total}\", f\"{export_name}\" + \".pkl\"))  , 'wb') as file: \n",
    "    pickle.dump(DT_Total, file)  \n"
   ]
  },
  {
   "cell_type": "code",
   "execution_count": null,
   "metadata": {},
   "outputs": [],
   "source": [
    "export_name = \"RF_Total\"\n",
    "with open(os.path.join(access_data_path(f\"{process_barcode}/data/{folder_total}\", f\"{export_name}\" + \".pkl\"))  , 'wb') as file: \n",
    "    pickle.dump(RF_Total, file)  \n"
   ]
  },
  {
   "cell_type": "code",
   "execution_count": null,
   "metadata": {},
   "outputs": [],
   "source": [
    "export_name = \"SGD_Total\"\n",
    "with open(os.path.join(access_data_path(f\"{process_barcode}/data/{folder_total}\", f\"{export_name}\" + \".pkl\"))  , 'wb') as file: \n",
    "    pickle.dump(SGD_Total, file)  \n"
   ]
  },
  {
   "cell_type": "code",
   "execution_count": null,
   "metadata": {},
   "outputs": [],
   "source": [
    "export_name = \"model_Library_Total\"\n",
    "with open(os.path.join(access_data_path(f\"{process_barcode}/model/library\", f\"{export_name}\" + \".pkl\"))  , 'wb') as file: \n",
    "    pickle.dump(model_Library_Total, file)  \n"
   ]
  }
 ],
 "metadata": {
  "kernelspec": {
   "display_name": "Python 3",
   "language": "python",
   "name": "python3"
  },
  "language_info": {
   "codemirror_mode": {
    "name": "ipython",
    "version": 3
   },
   "file_extension": ".py",
   "mimetype": "text/x-python",
   "name": "python",
   "nbconvert_exporter": "python",
   "pygments_lexer": "ipython3",
   "version": "3.12.3"
  }
 },
 "nbformat": 4,
 "nbformat_minor": 2
}
