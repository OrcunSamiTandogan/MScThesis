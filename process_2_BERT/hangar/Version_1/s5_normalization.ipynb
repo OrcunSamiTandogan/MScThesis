{
 "cells": [
  {
   "cell_type": "markdown",
   "metadata": {},
   "source": [
    "# `Step 5: normalization`\n",
    "- Free\n",
    "- Basic\n",
    "- Denoising\n",
    "- Dropout\n",
    "- Combined \n"
   ]
  },
  {
   "cell_type": "markdown",
   "metadata": {},
   "source": [
    "# 0- `Config`"
   ]
  },
  {
   "cell_type": "code",
   "execution_count": 1,
   "metadata": {},
   "outputs": [],
   "source": [
    "import pandas as pd \n",
    "import numpy as np \n",
    "import pickle "
   ]
  },
  {
   "cell_type": "code",
   "execution_count": 2,
   "metadata": {},
   "outputs": [
    {
     "name": "stdout",
     "output_type": "stream",
     "text": [
      "s0_config.ipynb | Started\n",
      "s0_config.ipynb | Finished\n"
     ]
    }
   ],
   "source": [
    "try: \n",
    "    if manager == 1:\n",
    "        print(\"s1_load.ipynb running from MANAGER\")\n",
    "except: \n",
    "    %run s0_config.ipynb \n",
    "    subject_normalization_0 = \"StandardScaler\"\n",
    "    subject_normalization_1 = \"StandardScaler\" "
   ]
  },
  {
   "cell_type": "markdown",
   "metadata": {},
   "source": [
    "# 1- `Load`"
   ]
  },
  {
   "cell_type": "code",
   "execution_count": 3,
   "metadata": {},
   "outputs": [],
   "source": [
    "import_name = \"data_raw\"\n",
    "with open(os.path.join(access_data_path(f\"{process_barcode}/data/{folder_outlier}\", f\"{import_name}\" + \".pkl\")) , 'rb') as file:\n",
    "    data_raw = pickle.load(file) \n",
    "\n",
    "import_name = \"subject_data_full\"\n",
    "with open(os.path.join(access_data_path(f\"{process_barcode}/data/{folder_outlier}\", f\"{import_name}\" + \".pkl\")) , 'rb') as file:\n",
    "    subject_data_full = pickle.load(file) \n",
    "\n",
    "\n",
    "import_name = \"subject_outlier_0\"\n",
    "with open(os.path.join(access_data_path(f\"{process_barcode}/data/{folder_outlier}\", f\"{import_name}\" + \".pkl\")) , 'rb') as file:\n",
    "    subject_outlier_0 = pickle.load(file) \n",
    "\n",
    "\n",
    "import_name = \"subject_outlier_1\"\n",
    "with open(os.path.join(access_data_path(f\"{process_barcode}/data/{folder_outlier}\", f\"{import_name}\" + \".pkl\")) , 'rb') as file:\n",
    "    subject_outlier_1 = pickle.load(file) \n"
   ]
  },
  {
   "cell_type": "markdown",
   "metadata": {},
   "source": [
    "---\n",
    "# 2- `Preprocessing`"
   ]
  },
  {
   "cell_type": "markdown",
   "metadata": {},
   "source": [
    "## 0-) `Overview`"
   ]
  },
  {
   "cell_type": "code",
   "execution_count": 4,
   "metadata": {},
   "outputs": [
    {
     "name": "stdout",
     "output_type": "stream",
     "text": [
      "Subject Outlier 0 (Embedding): Free_v0\n",
      "Subject Outlier 1 (Expression): Free_v0\n",
      "Subject normalization 0 (Embedding): StandardScaler\n",
      "Subject normalization 1 (Expression): StandardScaler\n"
     ]
    }
   ],
   "source": [
    "print(f\"Subject Outlier 0 (Embedding): {subject_outlier_0}\")\n",
    "print(f\"Subject Outlier 1 (Expression): {subject_outlier_1}\")\n",
    "print(f\"Subject normalization 0 (Embedding): {subject_normalization_0}\")\n",
    "print(f\"Subject normalization 1 (Expression): {subject_normalization_1}\")"
   ]
  },
  {
   "cell_type": "markdown",
   "metadata": {},
   "source": [
    "## 1-) `Tool Setup`"
   ]
  },
  {
   "cell_type": "code",
   "execution_count": 5,
   "metadata": {},
   "outputs": [],
   "source": [
    "None "
   ]
  },
  {
   "cell_type": "markdown",
   "metadata": {},
   "source": [
    "---\n",
    "# 3- `Bench`"
   ]
  },
  {
   "cell_type": "markdown",
   "metadata": {},
   "source": [
    "#### 1- `Embeddings & Expression`"
   ]
  },
  {
   "cell_type": "code",
   "execution_count": 6,
   "metadata": {},
   "outputs": [
    {
     "data": {
      "text/html": [
       "<div>\n",
       "<style scoped>\n",
       "    .dataframe tbody tr th:only-of-type {\n",
       "        vertical-align: middle;\n",
       "    }\n",
       "\n",
       "    .dataframe tbody tr th {\n",
       "        vertical-align: top;\n",
       "    }\n",
       "\n",
       "    .dataframe thead th {\n",
       "        text-align: right;\n",
       "    }\n",
       "</style>\n",
       "<table border=\"1\" class=\"dataframe\">\n",
       "  <thead>\n",
       "    <tr style=\"text-align: right;\">\n",
       "      <th></th>\n",
       "      <th>Cell_Type</th>\n",
       "      <th>Gene_Marker</th>\n",
       "      <th>Embeddings</th>\n",
       "      <th>Expression</th>\n",
       "    </tr>\n",
       "  </thead>\n",
       "  <tbody>\n",
       "    <tr>\n",
       "      <th>0</th>\n",
       "      <td>hematopoietic stem cell</td>\n",
       "      <td>PRSS57</td>\n",
       "      <td>[-0.9413120746612549, -0.2758517265319824, -0....</td>\n",
       "      <td>1.817915</td>\n",
       "    </tr>\n",
       "    <tr>\n",
       "      <th>1</th>\n",
       "      <td>hematopoietic stem cell</td>\n",
       "      <td>SPINK2</td>\n",
       "      <td>[-0.8997894525527954, -0.25957196950912476, -0...</td>\n",
       "      <td>1.753957</td>\n",
       "    </tr>\n",
       "  </tbody>\n",
       "</table>\n",
       "</div>"
      ],
      "text/plain": [
       "                 Cell_Type Gene_Marker  \\\n",
       "0  hematopoietic stem cell      PRSS57   \n",
       "1  hematopoietic stem cell      SPINK2   \n",
       "\n",
       "                                          Embeddings  Expression  \n",
       "0  [-0.9413120746612549, -0.2758517265319824, -0....    1.817915  \n",
       "1  [-0.8997894525527954, -0.25957196950912476, -0...    1.753957  "
      ]
     },
     "execution_count": 6,
     "metadata": {},
     "output_type": "execute_result"
    }
   ],
   "source": [
    "subject_data_full.head(2)"
   ]
  },
  {
   "cell_type": "code",
   "execution_count": 7,
   "metadata": {},
   "outputs": [],
   "source": [
    "# Convert the 'Embeddings' column which is a list in each row to a 2D array suitable for scaling\n",
    "embeddings = np.stack(subject_data_full[\"Embeddings\"].values)\n",
    "\n",
    "# Convert 'Expressions' Series to a 2D array suitable for scaling\n",
    "expressions = subject_data_full[\"Expression\"].values.reshape(-1, 1)"
   ]
  },
  {
   "cell_type": "code",
   "execution_count": 8,
   "metadata": {},
   "outputs": [],
   "source": [
    "normalization_tool = access_data_path(f\"{process_barcode}/class/{folder_normalization}\", \"operation\" + \".ipynb\") \n",
    "%run $normalization_tool  \n",
    "\n",
    "# Reassign the scaled data back to the DataFrame if needed\n",
    "subject_data_full[\"Embeddings_Normalized\"] = list(embeddings_normalization_process)  # Convert from array back to list if needed\n",
    "subject_data_full[\"Expression_Normalized\"] = expressions_normalization_process.flatten()  # Flatten to convert from 2D back to 1D\n"
   ]
  },
  {
   "cell_type": "code",
   "execution_count": 9,
   "metadata": {},
   "outputs": [
    {
     "data": {
      "text/html": [
       "<div>\n",
       "<style scoped>\n",
       "    .dataframe tbody tr th:only-of-type {\n",
       "        vertical-align: middle;\n",
       "    }\n",
       "\n",
       "    .dataframe tbody tr th {\n",
       "        vertical-align: top;\n",
       "    }\n",
       "\n",
       "    .dataframe thead th {\n",
       "        text-align: right;\n",
       "    }\n",
       "</style>\n",
       "<table border=\"1\" class=\"dataframe\">\n",
       "  <thead>\n",
       "    <tr style=\"text-align: right;\">\n",
       "      <th></th>\n",
       "      <th>Cell_Type</th>\n",
       "      <th>Gene_Marker</th>\n",
       "      <th>Embeddings</th>\n",
       "      <th>Expression</th>\n",
       "      <th>Embeddings_Normalized</th>\n",
       "      <th>Expression_Normalized</th>\n",
       "    </tr>\n",
       "  </thead>\n",
       "  <tbody>\n",
       "    <tr>\n",
       "      <th>0</th>\n",
       "      <td>hematopoietic stem cell</td>\n",
       "      <td>PRSS57</td>\n",
       "      <td>[-0.9413120746612549, -0.2758517265319824, -0....</td>\n",
       "      <td>1.817915</td>\n",
       "      <td>[-2.148015165625836, -0.01283351826954897, 0.9...</td>\n",
       "      <td>-1.358200</td>\n",
       "    </tr>\n",
       "    <tr>\n",
       "      <th>1</th>\n",
       "      <td>hematopoietic stem cell</td>\n",
       "      <td>SPINK2</td>\n",
       "      <td>[-0.8997894525527954, -0.25957196950912476, -0...</td>\n",
       "      <td>1.753957</td>\n",
       "      <td>[-1.2825952040662876, 0.21421283489256354, 2.5...</td>\n",
       "      <td>-1.466524</td>\n",
       "    </tr>\n",
       "    <tr>\n",
       "      <th>2</th>\n",
       "      <td>hematopoietic stem cell</td>\n",
       "      <td>SOX4</td>\n",
       "      <td>[-0.908536970615387, -0.2897249460220337, -0.4...</td>\n",
       "      <td>1.748925</td>\n",
       "      <td>[-1.4649121282165842, -0.20631698902473913, 2....</td>\n",
       "      <td>-1.475045</td>\n",
       "    </tr>\n",
       "    <tr>\n",
       "      <th>3</th>\n",
       "      <td>hematopoietic stem cell</td>\n",
       "      <td>SMIM24</td>\n",
       "      <td>[-0.9258875250816345, -0.41310882568359375, -0...</td>\n",
       "      <td>1.482678</td>\n",
       "      <td>[-1.8265346707428105, -1.927095737553797, 0.06...</td>\n",
       "      <td>-1.925976</td>\n",
       "    </tr>\n",
       "    <tr>\n",
       "      <th>4</th>\n",
       "      <td>hematopoietic stem cell</td>\n",
       "      <td>CD34</td>\n",
       "      <td>[-0.8808498978614807, -0.36328455805778503, -0...</td>\n",
       "      <td>1.431563</td>\n",
       "      <td>[-0.8878545094613282, -1.2322193799073209, -0....</td>\n",
       "      <td>-2.012547</td>\n",
       "    </tr>\n",
       "    <tr>\n",
       "      <th>...</th>\n",
       "      <td>...</td>\n",
       "      <td>...</td>\n",
       "      <td>...</td>\n",
       "      <td>...</td>\n",
       "      <td>...</td>\n",
       "      <td>...</td>\n",
       "    </tr>\n",
       "    <tr>\n",
       "      <th>1943</th>\n",
       "      <td>double negative T regulatory cell</td>\n",
       "      <td>CD3D,CD3E,CST7,GZMA,NKG7</td>\n",
       "      <td>[-0.857280433177948, -0.2793397307395935, -0.9...</td>\n",
       "      <td>2.314170</td>\n",
       "      <td>[-0.39661662069980885, -0.06147912360876107, -...</td>\n",
       "      <td>-0.517718</td>\n",
       "    </tr>\n",
       "    <tr>\n",
       "      <th>1944</th>\n",
       "      <td>double negative T regulatory cell</td>\n",
       "      <td>CD3D,CD3E,CST7,CTSW,NKG7</td>\n",
       "      <td>[-0.860809862613678, -0.2623131573200226, -0.9...</td>\n",
       "      <td>2.328046</td>\n",
       "      <td>[-0.4701774540840351, 0.17598273754387858, -0....</td>\n",
       "      <td>-0.494217</td>\n",
       "    </tr>\n",
       "    <tr>\n",
       "      <th>1945</th>\n",
       "      <td>double negative T regulatory cell</td>\n",
       "      <td>CD3D,CD3E,GZMA,CTSW,NKG7</td>\n",
       "      <td>[-0.8509759306907654, -0.24910901486873627, -0...</td>\n",
       "      <td>2.318757</td>\n",
       "      <td>[-0.26521734909653283, 0.3601348957111231, -0....</td>\n",
       "      <td>-0.509949</td>\n",
       "    </tr>\n",
       "    <tr>\n",
       "      <th>1946</th>\n",
       "      <td>double negative T regulatory cell</td>\n",
       "      <td>CD3D,CST7,GZMA,CTSW,NKG7</td>\n",
       "      <td>[-0.8701770901679993, -0.2781624495983124, -0....</td>\n",
       "      <td>2.256197</td>\n",
       "      <td>[-0.6654104451221591, -0.0450601199713536, -0....</td>\n",
       "      <td>-0.615904</td>\n",
       "    </tr>\n",
       "    <tr>\n",
       "      <th>1947</th>\n",
       "      <td>double negative T regulatory cell</td>\n",
       "      <td>CD3E,CST7,GZMA,CTSW,NKG7</td>\n",
       "      <td>[-0.847166895866394, -0.23981226980686188, -0....</td>\n",
       "      <td>2.314745</td>\n",
       "      <td>[-0.1858289433577045, 0.48979236293331757, -0....</td>\n",
       "      <td>-0.516744</td>\n",
       "    </tr>\n",
       "  </tbody>\n",
       "</table>\n",
       "<p>1948 rows × 6 columns</p>\n",
       "</div>"
      ],
      "text/plain": [
       "                              Cell_Type               Gene_Marker  \\\n",
       "0               hematopoietic stem cell                    PRSS57   \n",
       "1               hematopoietic stem cell                    SPINK2   \n",
       "2               hematopoietic stem cell                      SOX4   \n",
       "3               hematopoietic stem cell                    SMIM24   \n",
       "4               hematopoietic stem cell                      CD34   \n",
       "...                                 ...                       ...   \n",
       "1943  double negative T regulatory cell  CD3D,CD3E,CST7,GZMA,NKG7   \n",
       "1944  double negative T regulatory cell  CD3D,CD3E,CST7,CTSW,NKG7   \n",
       "1945  double negative T regulatory cell  CD3D,CD3E,GZMA,CTSW,NKG7   \n",
       "1946  double negative T regulatory cell  CD3D,CST7,GZMA,CTSW,NKG7   \n",
       "1947  double negative T regulatory cell  CD3E,CST7,GZMA,CTSW,NKG7   \n",
       "\n",
       "                                             Embeddings  Expression  \\\n",
       "0     [-0.9413120746612549, -0.2758517265319824, -0....    1.817915   \n",
       "1     [-0.8997894525527954, -0.25957196950912476, -0...    1.753957   \n",
       "2     [-0.908536970615387, -0.2897249460220337, -0.4...    1.748925   \n",
       "3     [-0.9258875250816345, -0.41310882568359375, -0...    1.482678   \n",
       "4     [-0.8808498978614807, -0.36328455805778503, -0...    1.431563   \n",
       "...                                                 ...         ...   \n",
       "1943  [-0.857280433177948, -0.2793397307395935, -0.9...    2.314170   \n",
       "1944  [-0.860809862613678, -0.2623131573200226, -0.9...    2.328046   \n",
       "1945  [-0.8509759306907654, -0.24910901486873627, -0...    2.318757   \n",
       "1946  [-0.8701770901679993, -0.2781624495983124, -0....    2.256197   \n",
       "1947  [-0.847166895866394, -0.23981226980686188, -0....    2.314745   \n",
       "\n",
       "                                  Embeddings_Normalized  Expression_Normalized  \n",
       "0     [-2.148015165625836, -0.01283351826954897, 0.9...              -1.358200  \n",
       "1     [-1.2825952040662876, 0.21421283489256354, 2.5...              -1.466524  \n",
       "2     [-1.4649121282165842, -0.20631698902473913, 2....              -1.475045  \n",
       "3     [-1.8265346707428105, -1.927095737553797, 0.06...              -1.925976  \n",
       "4     [-0.8878545094613282, -1.2322193799073209, -0....              -2.012547  \n",
       "...                                                 ...                    ...  \n",
       "1943  [-0.39661662069980885, -0.06147912360876107, -...              -0.517718  \n",
       "1944  [-0.4701774540840351, 0.17598273754387858, -0....              -0.494217  \n",
       "1945  [-0.26521734909653283, 0.3601348957111231, -0....              -0.509949  \n",
       "1946  [-0.6654104451221591, -0.0450601199713536, -0....              -0.615904  \n",
       "1947  [-0.1858289433577045, 0.48979236293331757, -0....              -0.516744  \n",
       "\n",
       "[1948 rows x 6 columns]"
      ]
     },
     "execution_count": 9,
     "metadata": {},
     "output_type": "execute_result"
    }
   ],
   "source": [
    "subject_data_full"
   ]
  },
  {
   "cell_type": "markdown",
   "metadata": {},
   "source": [
    "---\n",
    "# 4- `End`"
   ]
  },
  {
   "cell_type": "code",
   "execution_count": 10,
   "metadata": {},
   "outputs": [],
   "source": [
    "export_name = \"data_raw\" \n",
    "with open(os.path.join(access_data_path(f\"{process_barcode}/data/{folder_normalization}\", f\"{export_name}\" + \".pkl\"))  , 'wb') as file: \n",
    "    pickle.dump(data_raw, file)   \n",
    "\n",
    "export_name = \"subject_data_full\" \n",
    "with open(os.path.join(access_data_path(f\"{process_barcode}/data/{folder_normalization}\", f\"{export_name}\" + \".pkl\"))  , 'wb') as file: \n",
    "    pickle.dump(subject_data_full, file)   \n",
    "    \n",
    "\n",
    "export_name = \"subject_outlier_0\" \n",
    "with open(os.path.join(access_data_path(f\"{process_barcode}/data/{folder_normalization}\", f\"{export_name}\" + \".pkl\"))  , 'wb') as file: \n",
    "    pickle.dump(subject_outlier_0, file)   \n",
    "\n",
    "export_name = \"subject_outlier_1\" \n",
    "with open(os.path.join(access_data_path(f\"{process_barcode}/data/{folder_normalization}\", f\"{export_name}\" + \".pkl\"))  , 'wb') as file: \n",
    "    pickle.dump(subject_outlier_1, file)   \n",
    "\n",
    "\n",
    "export_name = \"subject_normalization_0\" \n",
    "with open(os.path.join(access_data_path(f\"{process_barcode}/data/{folder_normalization}\", f\"{export_name}\" + \".pkl\"))  , 'wb') as file: \n",
    "    pickle.dump(subject_normalization_0, file)   \n",
    "\n",
    "export_name = \"subject_normalization_1\" \n",
    "with open(os.path.join(access_data_path(f\"{process_barcode}/data/{folder_normalization}\", f\"{export_name}\" + \".pkl\"))  , 'wb') as file: \n",
    "    pickle.dump(subject_normalization_1, file)   "
   ]
  }
 ],
 "metadata": {
  "kernelspec": {
   "display_name": "Python 3",
   "language": "python",
   "name": "python3"
  },
  "language_info": {
   "codemirror_mode": {
    "name": "ipython",
    "version": 3
   },
   "file_extension": ".py",
   "mimetype": "text/x-python",
   "name": "python",
   "nbconvert_exporter": "python",
   "pygments_lexer": "ipython3",
   "version": "3.11.8"
  }
 },
 "nbformat": 4,
 "nbformat_minor": 2
}
