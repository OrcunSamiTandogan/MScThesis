{
 "cells": [
  {
   "cell_type": "markdown",
   "metadata": {},
   "source": [
    "# `Step 6: Dimension Reduction`\n",
    "- Free\n",
    "- PCA\n",
    "- TSNE\n",
    "- UMAP "
   ]
  },
  {
   "cell_type": "markdown",
   "metadata": {},
   "source": [
    "# 0- `Config`"
   ]
  },
  {
   "cell_type": "code",
   "execution_count": 1,
   "metadata": {},
   "outputs": [],
   "source": [
    "import pandas as pd \n",
    "import numpy as np \n",
    "import pickle "
   ]
  },
  {
   "cell_type": "code",
   "execution_count": 2,
   "metadata": {},
   "outputs": [
    {
     "name": "stdout",
     "output_type": "stream",
     "text": [
      "s0_config.ipynb | Started\n",
      "s0_config.ipynb | Finished\n"
     ]
    }
   ],
   "source": [
    "try: \n",
    "    if manager == 1:\n",
    "        print(\"s1_load.ipynb running from MANAGER\")\n",
    "except: \n",
    "    %run s0_config.ipynb  \n",
    "    subject_dimension_0 = \"UMAP_nc3_nn60_min01\" \n",
    "    subject_dimension_1 = \"Free_v0\" \n",
    "    "
   ]
  },
  {
   "cell_type": "markdown",
   "metadata": {},
   "source": [
    "# 1- `Load`"
   ]
  },
  {
   "cell_type": "code",
   "execution_count": 3,
   "metadata": {},
   "outputs": [],
   "source": [
    "import_name = \"data_raw\"\n",
    "with open(os.path.join(access_data_path(f\"{process_barcode}/data/{folder_autoencoder}\", f\"{import_name}\" + \".pkl\")) , 'rb') as file:\n",
    "    data_raw = pickle.load(file) \n",
    "\n",
    "import_name = \"subject_data_full\"\n",
    "with open(os.path.join(access_data_path(f\"{process_barcode}/data/{folder_autoencoder}\", f\"{import_name}\" + \".pkl\")) , 'rb') as file:\n",
    "    subject_data_full = pickle.load(file) \n",
    "\n",
    "\n",
    "import_name = \"subject_outlier_0\"\n",
    "with open(os.path.join(access_data_path(f\"{process_barcode}/data/{folder_autoencoder}\", f\"{import_name}\" + \".pkl\")) , 'rb') as file:\n",
    "    subject_outlier_0 = pickle.load(file) \n",
    "\n",
    "\n",
    "import_name = \"subject_outlier_1\"\n",
    "with open(os.path.join(access_data_path(f\"{process_barcode}/data/{folder_autoencoder}\", f\"{import_name}\" + \".pkl\")) , 'rb') as file:\n",
    "    subject_outlier_1 = pickle.load(file) \n",
    "\n",
    "\n",
    "    \n",
    "import_name = \"subject_normalization_0\"\n",
    "with open(os.path.join(access_data_path(f\"{process_barcode}/data/{folder_autoencoder}\", f\"{import_name}\" + \".pkl\")) , 'rb') as file:\n",
    "    subject_normalization_0 = pickle.load(file) \n",
    "\n",
    "\n",
    "import_name = \"subject_normalization_1\"\n",
    "with open(os.path.join(access_data_path(f\"{process_barcode}/data/{folder_autoencoder}\", f\"{import_name}\" + \".pkl\")) , 'rb') as file:\n",
    "    subject_normalization_1 = pickle.load(file) \n",
    "\n",
    "\n",
    "\n",
    "    \n",
    "import_name = \"subject_autoencoder_0\"\n",
    "with open(os.path.join(access_data_path(f\"{process_barcode}/data/{folder_autoencoder}\", f\"{import_name}\" + \".pkl\")) , 'rb') as file:\n",
    "    subject_autoencoder_0 = pickle.load(file) \n",
    "\n",
    "\n",
    "import_name = \"subject_autoencoder_1\"\n",
    "with open(os.path.join(access_data_path(f\"{process_barcode}/data/{folder_autoencoder}\", f\"{import_name}\" + \".pkl\")) , 'rb') as file:\n",
    "    subject_autoencoder_1 = pickle.load(file) \n",
    "\n"
   ]
  },
  {
   "cell_type": "markdown",
   "metadata": {},
   "source": [
    "---\n",
    "# 2- `Preprocessing`"
   ]
  },
  {
   "cell_type": "markdown",
   "metadata": {},
   "source": [
    "#### 0- `Overview`"
   ]
  },
  {
   "cell_type": "code",
   "execution_count": 4,
   "metadata": {},
   "outputs": [
    {
     "name": "stdout",
     "output_type": "stream",
     "text": [
      "Subject Outlier 0 (Embedding): ZScore_v0\n",
      "Subject Outlier 1 (Expression): ZScore_v0\n",
      "Subject normalization 0 (Embedding): StandardScaler\n",
      "Subject normalization 1 (Expression): MinMaxScaler\n",
      "Subject Autoencoder 0 (Embedding): Dropout_v1\n",
      "Subject Autoencoder 1 (Expression): Denoising_v0\n",
      "Subject Dimension Reduction 0 (Embedding): UMAP_nc3_nn60_min01\n",
      "Subject Dimension Reduction 1 (Expression): Free_v0\n"
     ]
    }
   ],
   "source": [
    "print(f\"Subject Outlier 0 (Embedding): {subject_outlier_0}\")\n",
    "print(f\"Subject Outlier 1 (Expression): {subject_outlier_1}\")\n",
    "print(f\"Subject normalization 0 (Embedding): {subject_normalization_0}\")\n",
    "print(f\"Subject normalization 1 (Expression): {subject_normalization_1}\")\n",
    "print(f\"Subject Autoencoder 0 (Embedding): {subject_autoencoder_0}\")\n",
    "print(f\"Subject Autoencoder 1 (Expression): {subject_autoencoder_1}\")\n",
    "print(f\"Subject Dimension Reduction 0 (Embedding): {subject_dimension_0}\") \n",
    "print(f\"Subject Dimension Reduction 1 (Expression): {subject_dimension_1}\") "
   ]
  },
  {
   "cell_type": "markdown",
   "metadata": {},
   "source": [
    "#### 1-) `Tool Setup`"
   ]
  },
  {
   "cell_type": "code",
   "execution_count": 5,
   "metadata": {},
   "outputs": [
    {
     "name": "stderr",
     "output_type": "stream",
     "text": [
      "/opt/miniconda3/envs/bilimlan/lib/python3.12/site-packages/tqdm/auto.py:21: TqdmWarning: IProgress not found. Please update jupyter and ipywidgets. See https://ipywidgets.readthedocs.io/en/stable/user_install.html\n",
      "  from .autonotebook import tqdm as notebook_tqdm\n"
     ]
    }
   ],
   "source": [
    "dimension_tool = access_data_path(f\"{process_barcode}/class/{folder_dimension}\", \"tool\" + \".ipynb\") \n",
    "%run $dimension_tool "
   ]
  },
  {
   "cell_type": "markdown",
   "metadata": {},
   "source": [
    "---\n",
    "# 3- `Bench`"
   ]
  },
  {
   "cell_type": "markdown",
   "metadata": {},
   "source": [
    "#### 0-) `Overview`"
   ]
  },
  {
   "cell_type": "code",
   "execution_count": 6,
   "metadata": {},
   "outputs": [
    {
     "data": {
      "text/html": [
       "<div>\n",
       "<style scoped>\n",
       "    .dataframe tbody tr th:only-of-type {\n",
       "        vertical-align: middle;\n",
       "    }\n",
       "\n",
       "    .dataframe tbody tr th {\n",
       "        vertical-align: top;\n",
       "    }\n",
       "\n",
       "    .dataframe thead th {\n",
       "        text-align: right;\n",
       "    }\n",
       "</style>\n",
       "<table border=\"1\" class=\"dataframe\">\n",
       "  <thead>\n",
       "    <tr style=\"text-align: right;\">\n",
       "      <th></th>\n",
       "      <th>Cell_Type</th>\n",
       "      <th>Gene_Marker</th>\n",
       "      <th>Embeddings</th>\n",
       "      <th>Expression</th>\n",
       "      <th>Embeddings_Normalized</th>\n",
       "      <th>Expression_Normalized</th>\n",
       "      <th>Embeddings_Autoencoder</th>\n",
       "      <th>Expression_Autoencoder</th>\n",
       "    </tr>\n",
       "  </thead>\n",
       "  <tbody>\n",
       "    <tr>\n",
       "      <th>2</th>\n",
       "      <td>Plasma</td>\n",
       "      <td>IGHA2</td>\n",
       "      <td>[-0.07128488272428513, -0.27042680978775024, -...</td>\n",
       "      <td>4.820352</td>\n",
       "      <td>[0.4442940868701777, 0.41310783490065883, 0.31...</td>\n",
       "      <td>1.717333</td>\n",
       "      <td>[0.49335673, 0.562194, 0.45308995, 0.48789695,...</td>\n",
       "      <td>-0.108187</td>\n",
       "    </tr>\n",
       "  </tbody>\n",
       "</table>\n",
       "</div>"
      ],
      "text/plain": [
       "  Cell_Type Gene_Marker                                         Embeddings  \\\n",
       "2    Plasma       IGHA2  [-0.07128488272428513, -0.27042680978775024, -...   \n",
       "\n",
       "   Expression                              Embeddings_Normalized  \\\n",
       "2    4.820352  [0.4442940868701777, 0.41310783490065883, 0.31...   \n",
       "\n",
       "   Expression_Normalized                             Embeddings_Autoencoder  \\\n",
       "2               1.717333  [0.49335673, 0.562194, 0.45308995, 0.48789695,...   \n",
       "\n",
       "   Expression_Autoencoder  \n",
       "2               -0.108187  "
      ]
     },
     "execution_count": 6,
     "metadata": {},
     "output_type": "execute_result"
    }
   ],
   "source": [
    "subject_data_full.head(1)"
   ]
  },
  {
   "cell_type": "markdown",
   "metadata": {},
   "source": [
    "#### 1-) `Embeddings`"
   ]
  },
  {
   "cell_type": "code",
   "execution_count": 7,
   "metadata": {},
   "outputs": [
    {
     "name": "stdout",
     "output_type": "stream",
     "text": [
      "UMAP: 3, 60, 0.1\n",
      "UMAP: (726, 3)\n"
     ]
    }
   ],
   "source": [
    "if subject_dimension_0 == \"Free_v0\":\n",
    "    target_embeddings_matrix  = np.stack(subject_data_full['Embeddings_Autoencoder'].values)    \n",
    "else: \n",
    "    target_embeddings_matrix  = np.stack(subject_data_full['Embeddings_Autoencoder'].values)   \n",
    "    \n",
    "    target_embeddings_matrix, label_embeddings_matrix = reduct_dimension(target_embeddings_matrix    = target_embeddings_matrix, \n",
    "                                                                         label_embeddings_matrix     = None , \n",
    "                                                                         subject_dimension_reduction = subject_dimension_0)  \n",
    "    \n",
    "subject_data_full[\"Embeddings_Dimension\"]   = list(target_embeddings_matrix)  "
   ]
  },
  {
   "cell_type": "markdown",
   "metadata": {},
   "source": [
    "#### 2-) `Expression`"
   ]
  },
  {
   "cell_type": "code",
   "execution_count": 8,
   "metadata": {},
   "outputs": [],
   "source": [
    "if subject_dimension_1 == \"Free_v0\":\n",
    "    target_embeddings_matrix  = np.stack(subject_data_full['Expression_Autoencoder'].values)   \n",
    "else: \n",
    "    target_embeddings_matrix  = np.stack(subject_data_full['Expression_Autoencoder'].values)   \n",
    "\n",
    "    target_embeddings_matrix, label_embeddings_matrix = reduct_dimension(target_embeddings_matrix    = target_embeddings_matrix, \n",
    "                                                                         label_embeddings_matrix     = None , \n",
    "                                                                         subject_dimension_reduction = subject_dimension_1)  \n",
    "subject_data_full[\"Expression_Dimension\"]   = list(target_embeddings_matrix)   "
   ]
  },
  {
   "cell_type": "markdown",
   "metadata": {},
   "source": [
    "#### 3-) `Report`"
   ]
  },
  {
   "cell_type": "code",
   "execution_count": 9,
   "metadata": {},
   "outputs": [
    {
     "name": "stdout",
     "output_type": "stream",
     "text": [
      "Target Embeddings Matrix: (726,)\n"
     ]
    },
    {
     "data": {
      "text/plain": [
       "array([-0.1081866 , -0.08865611, -0.07946398, -0.07067077, -0.124389  ,\n",
       "       -0.11126497, -0.07065276, -0.09844488, -0.08483297, -0.07058107],\n",
       "      dtype=float32)"
      ]
     },
     "execution_count": 9,
     "metadata": {},
     "output_type": "execute_result"
    }
   ],
   "source": [
    "print(f\"Target Embeddings Matrix: {target_embeddings_matrix.shape}\")\n",
    "target_embeddings_matrix[:10]"
   ]
  },
  {
   "cell_type": "code",
   "execution_count": 10,
   "metadata": {},
   "outputs": [
    {
     "name": "stdout",
     "output_type": "stream",
     "text": [
      "Shape: (726, 10)\n",
      "Number of unique cell types: 12\n",
      "Unique cell types: ['Plasma' 'gamma-delta T' 'Follicular B' 'DC1' 'Kupffer' 'Macrophages'\n",
      " 'pDC' 'Endothelial' 'Mast' 'Microglia' 'Macro_pDC'\n",
      " 'Neutrophil-myeloid progenitor']\n"
     ]
    },
    {
     "data": {
      "text/html": [
       "<div>\n",
       "<style scoped>\n",
       "    .dataframe tbody tr th:only-of-type {\n",
       "        vertical-align: middle;\n",
       "    }\n",
       "\n",
       "    .dataframe tbody tr th {\n",
       "        vertical-align: top;\n",
       "    }\n",
       "\n",
       "    .dataframe thead th {\n",
       "        text-align: right;\n",
       "    }\n",
       "</style>\n",
       "<table border=\"1\" class=\"dataframe\">\n",
       "  <thead>\n",
       "    <tr style=\"text-align: right;\">\n",
       "      <th></th>\n",
       "      <th>Cell_Type</th>\n",
       "      <th>Gene_Marker</th>\n",
       "      <th>Embeddings</th>\n",
       "      <th>Expression</th>\n",
       "      <th>Embeddings_Normalized</th>\n",
       "      <th>Expression_Normalized</th>\n",
       "      <th>Embeddings_Autoencoder</th>\n",
       "      <th>Expression_Autoencoder</th>\n",
       "      <th>Embeddings_Dimension</th>\n",
       "      <th>Expression_Dimension</th>\n",
       "    </tr>\n",
       "  </thead>\n",
       "  <tbody>\n",
       "    <tr>\n",
       "      <th>2</th>\n",
       "      <td>Plasma</td>\n",
       "      <td>IGHA2</td>\n",
       "      <td>[-0.07128488272428513, -0.27042680978775024, -...</td>\n",
       "      <td>4.820352</td>\n",
       "      <td>[0.4442940868701777, 0.41310783490065883, 0.31...</td>\n",
       "      <td>1.717333</td>\n",
       "      <td>[0.49335673, 0.562194, 0.45308995, 0.48789695,...</td>\n",
       "      <td>-0.108187</td>\n",
       "      <td>[-0.05606589, 5.919796, -0.39911556]</td>\n",
       "      <td>-0.108187</td>\n",
       "    </tr>\n",
       "    <tr>\n",
       "      <th>3</th>\n",
       "      <td>Plasma</td>\n",
       "      <td>SSR4</td>\n",
       "      <td>[-0.1328727751970291, -0.19783622026443481, -0...</td>\n",
       "      <td>3.285065</td>\n",
       "      <td>[0.3384777155200046, 0.5163385127890439, 0.289...</td>\n",
       "      <td>0.072451</td>\n",
       "      <td>[0.487007, 0.5562917, 0.44824585, 0.48244378, ...</td>\n",
       "      <td>-0.088656</td>\n",
       "      <td>[-1.8589077, -1.4397027, 7.162795]</td>\n",
       "      <td>-0.088656</td>\n",
       "    </tr>\n",
       "    <tr>\n",
       "      <th>790</th>\n",
       "      <td>Macro_pDC</td>\n",
       "      <td>TREM1,FBP1,IRF7,PLD4,GPNMB</td>\n",
       "      <td>[0.13350529968738556, -0.4641953706741333, 0.3...</td>\n",
       "      <td>1.628484</td>\n",
       "      <td>[0.7961514588452497, 0.13755063079042884, 0.86...</td>\n",
       "      <td>-1.702383</td>\n",
       "      <td>[0.50591654, 0.5742913, 0.46251822, 0.4986806,...</td>\n",
       "      <td>-0.070324</td>\n",
       "      <td>[13.529112, -0.30811813, 8.837535]</td>\n",
       "      <td>-0.070324</td>\n",
       "    </tr>\n",
       "    <tr>\n",
       "      <th>791</th>\n",
       "      <td>Macro_pDC</td>\n",
       "      <td>SERPINA1,FBP1,IRF7,PLD4,GPNMB</td>\n",
       "      <td>[0.05018649250268936, -0.3949633836746216, 0.2...</td>\n",
       "      <td>1.852231</td>\n",
       "      <td>[0.652998421981534, 0.2360050585124127, 0.7899...</td>\n",
       "      <td>-1.462665</td>\n",
       "      <td>[0.50591993, 0.57433987, 0.46257567, 0.4987982...</td>\n",
       "      <td>-0.070652</td>\n",
       "      <td>[13.578507, -0.26339605, 8.721276]</td>\n",
       "      <td>-0.070652</td>\n",
       "    </tr>\n",
       "  </tbody>\n",
       "</table>\n",
       "</div>"
      ],
      "text/plain": [
       "     Cell_Type                    Gene_Marker  \\\n",
       "2       Plasma                          IGHA2   \n",
       "3       Plasma                           SSR4   \n",
       "790  Macro_pDC     TREM1,FBP1,IRF7,PLD4,GPNMB   \n",
       "791  Macro_pDC  SERPINA1,FBP1,IRF7,PLD4,GPNMB   \n",
       "\n",
       "                                            Embeddings  Expression  \\\n",
       "2    [-0.07128488272428513, -0.27042680978775024, -...    4.820352   \n",
       "3    [-0.1328727751970291, -0.19783622026443481, -0...    3.285065   \n",
       "790  [0.13350529968738556, -0.4641953706741333, 0.3...    1.628484   \n",
       "791  [0.05018649250268936, -0.3949633836746216, 0.2...    1.852231   \n",
       "\n",
       "                                 Embeddings_Normalized  Expression_Normalized  \\\n",
       "2    [0.4442940868701777, 0.41310783490065883, 0.31...               1.717333   \n",
       "3    [0.3384777155200046, 0.5163385127890439, 0.289...               0.072451   \n",
       "790  [0.7961514588452497, 0.13755063079042884, 0.86...              -1.702383   \n",
       "791  [0.652998421981534, 0.2360050585124127, 0.7899...              -1.462665   \n",
       "\n",
       "                                Embeddings_Autoencoder  \\\n",
       "2    [0.49335673, 0.562194, 0.45308995, 0.48789695,...   \n",
       "3    [0.487007, 0.5562917, 0.44824585, 0.48244378, ...   \n",
       "790  [0.50591654, 0.5742913, 0.46251822, 0.4986806,...   \n",
       "791  [0.50591993, 0.57433987, 0.46257567, 0.4987982...   \n",
       "\n",
       "     Expression_Autoencoder                  Embeddings_Dimension  \\\n",
       "2                 -0.108187  [-0.05606589, 5.919796, -0.39911556]   \n",
       "3                 -0.088656    [-1.8589077, -1.4397027, 7.162795]   \n",
       "790               -0.070324    [13.529112, -0.30811813, 8.837535]   \n",
       "791               -0.070652    [13.578507, -0.26339605, 8.721276]   \n",
       "\n",
       "     Expression_Dimension  \n",
       "2               -0.108187  \n",
       "3               -0.088656  \n",
       "790             -0.070324  \n",
       "791             -0.070652  "
      ]
     },
     "execution_count": 10,
     "metadata": {},
     "output_type": "execute_result"
    }
   ],
   "source": [
    "print(f\"Shape: {subject_data_full.shape}\") \n",
    "print(f\"Number of unique cell types: {len(pd.unique(subject_data_full['Cell_Type']))}\")  \n",
    "print(f\"Unique cell types: {pd.unique(subject_data_full['Cell_Type'])}\")  \n",
    "pd.concat([subject_data_full.head(2), subject_data_full.tail(2)], axis=0) "
   ]
  },
  {
   "cell_type": "markdown",
   "metadata": {},
   "source": [
    "---\n",
    "# 4- `End`"
   ]
  },
  {
   "cell_type": "code",
   "execution_count": 11,
   "metadata": {},
   "outputs": [],
   "source": [
    "export_name = \"data_raw\" \n",
    "with open(os.path.join(access_data_path(f\"{process_barcode}/data/{folder_dimension}\", f\"{export_name}\" + \".pkl\"))  , 'wb') as file: \n",
    "    pickle.dump(data_raw, file)   \n",
    "\n",
    "export_name = \"subject_data_full\" \n",
    "with open(os.path.join(access_data_path(f\"{process_barcode}/data/{folder_dimension}\", f\"{export_name}\" + \".pkl\"))  , 'wb') as file: \n",
    "    pickle.dump(subject_data_full, file)   \n",
    "\n",
    "    \n",
    "export_name = \"subject_outlier_0\" \n",
    "with open(os.path.join(access_data_path(f\"{process_barcode}/data/{folder_dimension}\", f\"{export_name}\" + \".pkl\"))  , 'wb') as file: \n",
    "    pickle.dump(subject_outlier_0, file)   \n",
    "\n",
    "export_name = \"subject_outlier_1\" \n",
    "with open(os.path.join(access_data_path(f\"{process_barcode}/data/{folder_dimension}\", f\"{export_name}\" + \".pkl\"))  , 'wb') as file: \n",
    "    pickle.dump(subject_outlier_1, file)   \n",
    "\n",
    "\n",
    "\n",
    "export_name = \"subject_normalization_0\" \n",
    "with open(os.path.join(access_data_path(f\"{process_barcode}/data/{folder_dimension}\", f\"{export_name}\" + \".pkl\"))  , 'wb') as file: \n",
    "    pickle.dump(subject_normalization_0, file)   \n",
    "\n",
    "export_name = \"subject_normalization_1\" \n",
    "with open(os.path.join(access_data_path(f\"{process_barcode}/data/{folder_dimension}\", f\"{export_name}\" + \".pkl\"))  , 'wb') as file: \n",
    "    pickle.dump(subject_normalization_1, file)   \n",
    "\n",
    "\n",
    "\n",
    "export_name = \"subject_autoencoder_0\" \n",
    "with open(os.path.join(access_data_path(f\"{process_barcode}/data/{folder_dimension}\", f\"{export_name}\" + \".pkl\"))  , 'wb') as file: \n",
    "    pickle.dump(subject_autoencoder_0, file)   \n",
    "\n",
    "export_name = \"subject_autoencoder_1\" \n",
    "with open(os.path.join(access_data_path(f\"{process_barcode}/data/{folder_dimension}\", f\"{export_name}\" + \".pkl\"))  , 'wb') as file: \n",
    "    pickle.dump(subject_autoencoder_1, file)   \n",
    "\n",
    "\n",
    "\n",
    "export_name = \"subject_dimension_0\" \n",
    "with open(os.path.join(access_data_path(f\"{process_barcode}/data/{folder_dimension}\", f\"{export_name}\" + \".pkl\"))  , 'wb') as file: \n",
    "    pickle.dump(subject_dimension_0, file)   \n",
    "\n",
    "export_name = \"subject_dimension_1\" \n",
    "with open(os.path.join(access_data_path(f\"{process_barcode}/data/{folder_dimension}\", f\"{export_name}\" + \".pkl\"))  , 'wb') as file: \n",
    "    pickle.dump(subject_dimension_1, file)   \n",
    "\n",
    "    "
   ]
  }
 ],
 "metadata": {
  "kernelspec": {
   "display_name": "Python 3",
   "language": "python",
   "name": "python3"
  },
  "language_info": {
   "codemirror_mode": {
    "name": "ipython",
    "version": 3
   },
   "file_extension": ".py",
   "mimetype": "text/x-python",
   "name": "python",
   "nbconvert_exporter": "python",
   "pygments_lexer": "ipython3",
   "version": "3.12.2"
  }
 },
 "nbformat": 4,
 "nbformat_minor": 2
}
