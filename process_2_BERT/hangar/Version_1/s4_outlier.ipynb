{
 "cells": [
  {
   "cell_type": "markdown",
   "metadata": {},
   "source": [
    "# `Step 4: Outlier`\n",
    "- Free\n",
    "- Z Score\n",
    "- ISO\n",
    "- LOF "
   ]
  },
  {
   "cell_type": "markdown",
   "metadata": {},
   "source": [
    "# 0- `Config`"
   ]
  },
  {
   "cell_type": "code",
   "execution_count": 1,
   "metadata": {},
   "outputs": [],
   "source": [
    "import pandas as pd \n",
    "import numpy as np \n",
    "import pickle "
   ]
  },
  {
   "cell_type": "code",
   "execution_count": 2,
   "metadata": {},
   "outputs": [
    {
     "name": "stdout",
     "output_type": "stream",
     "text": [
      "s0_config.ipynb | Started\n",
      "s0_config.ipynb | Finished\n"
     ]
    }
   ],
   "source": [
    "try: \n",
    "    if manager == 1:\n",
    "        print(\"s1_load.ipynb running from MANAGER\")\n",
    "except: \n",
    "    %run s0_config.ipynb \n",
    "    subject_outlier_0 = \"ZScore_v0\"  \n",
    "    subject_outlier_1 = \"LOF_v0\" "
   ]
  },
  {
   "cell_type": "markdown",
   "metadata": {},
   "source": [
    "# 1- `Load`"
   ]
  },
  {
   "cell_type": "code",
   "execution_count": 3,
   "metadata": {},
   "outputs": [],
   "source": [
    "import_name = \"data_raw\"\n",
    "with open(os.path.join(access_data_path(f\"{process_barcode}/data/{folder_load}\", f\"{import_name}\" + \".pkl\")) , 'rb') as file:\n",
    "    data_raw = pickle.load(file) \n",
    "\n",
    "import_name = \"data_full\"\n",
    "with open(os.path.join(access_data_path(f\"{process_barcode}/data/{folder_load}\", f\"{import_name}\" + \".pkl\")) , 'rb') as file:\n",
    "    data_full = pickle.load(file) "
   ]
  },
  {
   "cell_type": "markdown",
   "metadata": {},
   "source": [
    "---\n",
    "# 2- `Preprocessing`"
   ]
  },
  {
   "cell_type": "markdown",
   "metadata": {},
   "source": [
    "### 0-) `Overview`"
   ]
  },
  {
   "cell_type": "code",
   "execution_count": 4,
   "metadata": {},
   "outputs": [
    {
     "name": "stdout",
     "output_type": "stream",
     "text": [
      "Subject Outlier of Embeddings: ZScore_v0\n",
      "Subject Outlier of Expression: LOF_v0\n",
      "Shape: (792, 4)\n",
      "Number of unique cell types: 12\n",
      "Unique cell types: ['Plasma' 'gamma-delta T' 'Follicular B' 'DC1' 'Kupffer' 'Macrophages'\n",
      " 'pDC' 'Endothelial' 'Mast' 'Neutrophil-myeloid progenitor' 'Microglia'\n",
      " 'Macro_pDC']\n"
     ]
    },
    {
     "data": {
      "text/html": [
       "<div>\n",
       "<style scoped>\n",
       "    .dataframe tbody tr th:only-of-type {\n",
       "        vertical-align: middle;\n",
       "    }\n",
       "\n",
       "    .dataframe tbody tr th {\n",
       "        vertical-align: top;\n",
       "    }\n",
       "\n",
       "    .dataframe thead th {\n",
       "        text-align: right;\n",
       "    }\n",
       "</style>\n",
       "<table border=\"1\" class=\"dataframe\">\n",
       "  <thead>\n",
       "    <tr style=\"text-align: right;\">\n",
       "      <th></th>\n",
       "      <th>Cell_Type</th>\n",
       "      <th>Gene_Marker</th>\n",
       "      <th>Embeddings</th>\n",
       "      <th>Expression</th>\n",
       "    </tr>\n",
       "  </thead>\n",
       "  <tbody>\n",
       "    <tr>\n",
       "      <th>0</th>\n",
       "      <td>Plasma</td>\n",
       "      <td>JCHAIN</td>\n",
       "      <td>[-0.11731923371553421, -0.2009364515542984, -0...</td>\n",
       "      <td>6.496516</td>\n",
       "    </tr>\n",
       "    <tr>\n",
       "      <th>1</th>\n",
       "      <td>Plasma</td>\n",
       "      <td>IGHA1</td>\n",
       "      <td>[-0.04160075634717941, -0.3113042116165161, -0...</td>\n",
       "      <td>7.216112</td>\n",
       "    </tr>\n",
       "    <tr>\n",
       "      <th>790</th>\n",
       "      <td>Macro_pDC</td>\n",
       "      <td>TREM1,FBP1,IRF7,PLD4,GPNMB</td>\n",
       "      <td>[0.13350529968738556, -0.4641953706741333, 0.3...</td>\n",
       "      <td>1.628484</td>\n",
       "    </tr>\n",
       "    <tr>\n",
       "      <th>791</th>\n",
       "      <td>Macro_pDC</td>\n",
       "      <td>SERPINA1,FBP1,IRF7,PLD4,GPNMB</td>\n",
       "      <td>[0.05018649250268936, -0.3949633836746216, 0.2...</td>\n",
       "      <td>1.852231</td>\n",
       "    </tr>\n",
       "  </tbody>\n",
       "</table>\n",
       "</div>"
      ],
      "text/plain": [
       "     Cell_Type                    Gene_Marker  \\\n",
       "0       Plasma                         JCHAIN   \n",
       "1       Plasma                          IGHA1   \n",
       "790  Macro_pDC     TREM1,FBP1,IRF7,PLD4,GPNMB   \n",
       "791  Macro_pDC  SERPINA1,FBP1,IRF7,PLD4,GPNMB   \n",
       "\n",
       "                                            Embeddings  Expression  \n",
       "0    [-0.11731923371553421, -0.2009364515542984, -0...    6.496516  \n",
       "1    [-0.04160075634717941, -0.3113042116165161, -0...    7.216112  \n",
       "790  [0.13350529968738556, -0.4641953706741333, 0.3...    1.628484  \n",
       "791  [0.05018649250268936, -0.3949633836746216, 0.2...    1.852231  "
      ]
     },
     "execution_count": 4,
     "metadata": {},
     "output_type": "execute_result"
    }
   ],
   "source": [
    "print(f\"Subject Outlier of Embeddings: {subject_outlier_0}\")\n",
    "print(f\"Subject Outlier of Expression: {subject_outlier_1}\") \n",
    "print(f\"Shape: {data_full.shape}\") \n",
    "print(f\"Number of unique cell types: {len(pd.unique(data_full['Cell_Type']))}\")  \n",
    "print(f\"Unique cell types: {pd.unique(data_full['Cell_Type'])}\")  \n",
    "pd.concat([data_full.head(2), data_full.tail(2)], axis=0) "
   ]
  },
  {
   "cell_type": "markdown",
   "metadata": {},
   "source": [
    "### 1-) `Tool Setup`"
   ]
  },
  {
   "cell_type": "code",
   "execution_count": 5,
   "metadata": {},
   "outputs": [],
   "source": [
    "outlier_tool = access_data_path(f\"{process_barcode}/class/{folder_outlier}\", \"tool\" + \".ipynb\") \n",
    "%run $outlier_tool "
   ]
  },
  {
   "cell_type": "markdown",
   "metadata": {},
   "source": [
    "### 2-) `Convert`"
   ]
  },
  {
   "cell_type": "code",
   "execution_count": 6,
   "metadata": {},
   "outputs": [],
   "source": [
    "# We need to convert the data to numpy arrays\n",
    "Embeddings       = np.stack(data_full['Embeddings'].values) \n",
    "# However, as there will be subject_data_full after the first process, this expression sample is just for demonstration. Besides it needs to be reshaped in future. \n",
    "#Expression_Matrix                             = data_full['Expression'].values \n",
    "# BERT does not have second matrix \n",
    "#label_embeddings_matrix        = np.stack(data_full['Cell_Type_Embeddings'].values)   "
   ]
  },
  {
   "cell_type": "code",
   "execution_count": 7,
   "metadata": {},
   "outputs": [
    {
     "data": {
      "text/html": [
       "<div>\n",
       "<style scoped>\n",
       "    .dataframe tbody tr th:only-of-type {\n",
       "        vertical-align: middle;\n",
       "    }\n",
       "\n",
       "    .dataframe tbody tr th {\n",
       "        vertical-align: top;\n",
       "    }\n",
       "\n",
       "    .dataframe thead th {\n",
       "        text-align: right;\n",
       "    }\n",
       "</style>\n",
       "<table border=\"1\" class=\"dataframe\">\n",
       "  <thead>\n",
       "    <tr style=\"text-align: right;\">\n",
       "      <th></th>\n",
       "      <th>Cell_Type</th>\n",
       "      <th>Gene_Marker</th>\n",
       "      <th>Embeddings</th>\n",
       "      <th>Expression</th>\n",
       "    </tr>\n",
       "  </thead>\n",
       "  <tbody>\n",
       "    <tr>\n",
       "      <th>0</th>\n",
       "      <td>Plasma</td>\n",
       "      <td>JCHAIN</td>\n",
       "      <td>[-0.11731923371553421, -0.2009364515542984, -0...</td>\n",
       "      <td>6.496516</td>\n",
       "    </tr>\n",
       "    <tr>\n",
       "      <th>1</th>\n",
       "      <td>Plasma</td>\n",
       "      <td>IGHA1</td>\n",
       "      <td>[-0.04160075634717941, -0.3113042116165161, -0...</td>\n",
       "      <td>7.216112</td>\n",
       "    </tr>\n",
       "    <tr>\n",
       "      <th>2</th>\n",
       "      <td>Plasma</td>\n",
       "      <td>IGHA2</td>\n",
       "      <td>[-0.07128488272428513, -0.27042680978775024, -...</td>\n",
       "      <td>4.820352</td>\n",
       "    </tr>\n",
       "    <tr>\n",
       "      <th>3</th>\n",
       "      <td>Plasma</td>\n",
       "      <td>SSR4</td>\n",
       "      <td>[-0.1328727751970291, -0.19783622026443481, -0...</td>\n",
       "      <td>3.285065</td>\n",
       "    </tr>\n",
       "    <tr>\n",
       "      <th>4</th>\n",
       "      <td>Plasma</td>\n",
       "      <td>FKBP11</td>\n",
       "      <td>[-0.3410321772098541, -0.24466830492019653, -0...</td>\n",
       "      <td>2.013909</td>\n",
       "    </tr>\n",
       "    <tr>\n",
       "      <th>...</th>\n",
       "      <td>...</td>\n",
       "      <td>...</td>\n",
       "      <td>...</td>\n",
       "      <td>...</td>\n",
       "    </tr>\n",
       "    <tr>\n",
       "      <th>787</th>\n",
       "      <td>Macro_pDC</td>\n",
       "      <td>TREM1,SERPINA1,FBP1,IRF7,GPNMB</td>\n",
       "      <td>[0.06260330975055695, -0.4410420358181, 0.4309...</td>\n",
       "      <td>1.705674</td>\n",
       "    </tr>\n",
       "    <tr>\n",
       "      <th>788</th>\n",
       "      <td>Macro_pDC</td>\n",
       "      <td>TREM1,SERPINA1,FBP1,PLD4,GPNMB</td>\n",
       "      <td>[0.05649421736598015, -0.3864367604255676, 0.3...</td>\n",
       "      <td>1.612178</td>\n",
       "    </tr>\n",
       "    <tr>\n",
       "      <th>789</th>\n",
       "      <td>Macro_pDC</td>\n",
       "      <td>TREM1,SERPINA1,IRF7,PLD4,GPNMB</td>\n",
       "      <td>[0.03859759122133255, -0.3970209062099457, 0.4...</td>\n",
       "      <td>1.690057</td>\n",
       "    </tr>\n",
       "    <tr>\n",
       "      <th>790</th>\n",
       "      <td>Macro_pDC</td>\n",
       "      <td>TREM1,FBP1,IRF7,PLD4,GPNMB</td>\n",
       "      <td>[0.13350529968738556, -0.4641953706741333, 0.3...</td>\n",
       "      <td>1.628484</td>\n",
       "    </tr>\n",
       "    <tr>\n",
       "      <th>791</th>\n",
       "      <td>Macro_pDC</td>\n",
       "      <td>SERPINA1,FBP1,IRF7,PLD4,GPNMB</td>\n",
       "      <td>[0.05018649250268936, -0.3949633836746216, 0.2...</td>\n",
       "      <td>1.852231</td>\n",
       "    </tr>\n",
       "  </tbody>\n",
       "</table>\n",
       "<p>792 rows × 4 columns</p>\n",
       "</div>"
      ],
      "text/plain": [
       "     Cell_Type                     Gene_Marker  \\\n",
       "0       Plasma                          JCHAIN   \n",
       "1       Plasma                           IGHA1   \n",
       "2       Plasma                           IGHA2   \n",
       "3       Plasma                            SSR4   \n",
       "4       Plasma                          FKBP11   \n",
       "..         ...                             ...   \n",
       "787  Macro_pDC  TREM1,SERPINA1,FBP1,IRF7,GPNMB   \n",
       "788  Macro_pDC  TREM1,SERPINA1,FBP1,PLD4,GPNMB   \n",
       "789  Macro_pDC  TREM1,SERPINA1,IRF7,PLD4,GPNMB   \n",
       "790  Macro_pDC      TREM1,FBP1,IRF7,PLD4,GPNMB   \n",
       "791  Macro_pDC   SERPINA1,FBP1,IRF7,PLD4,GPNMB   \n",
       "\n",
       "                                            Embeddings  Expression  \n",
       "0    [-0.11731923371553421, -0.2009364515542984, -0...    6.496516  \n",
       "1    [-0.04160075634717941, -0.3113042116165161, -0...    7.216112  \n",
       "2    [-0.07128488272428513, -0.27042680978775024, -...    4.820352  \n",
       "3    [-0.1328727751970291, -0.19783622026443481, -0...    3.285065  \n",
       "4    [-0.3410321772098541, -0.24466830492019653, -0...    2.013909  \n",
       "..                                                 ...         ...  \n",
       "787  [0.06260330975055695, -0.4410420358181, 0.4309...    1.705674  \n",
       "788  [0.05649421736598015, -0.3864367604255676, 0.3...    1.612178  \n",
       "789  [0.03859759122133255, -0.3970209062099457, 0.4...    1.690057  \n",
       "790  [0.13350529968738556, -0.4641953706741333, 0.3...    1.628484  \n",
       "791  [0.05018649250268936, -0.3949633836746216, 0.2...    1.852231  \n",
       "\n",
       "[792 rows x 4 columns]"
      ]
     },
     "execution_count": 7,
     "metadata": {},
     "output_type": "execute_result"
    }
   ],
   "source": [
    "data_full"
   ]
  },
  {
   "cell_type": "markdown",
   "metadata": {},
   "source": [
    "---\n",
    "# 3- `Bench`"
   ]
  },
  {
   "cell_type": "markdown",
   "metadata": {},
   "source": [
    "### 1-) `Embeddings`"
   ]
  },
  {
   "cell_type": "markdown",
   "metadata": {},
   "source": [
    "#### 0-) `Oveview`"
   ]
  },
  {
   "cell_type": "code",
   "execution_count": 8,
   "metadata": {},
   "outputs": [
    {
     "data": {
      "text/html": [
       "<div>\n",
       "<style scoped>\n",
       "    .dataframe tbody tr th:only-of-type {\n",
       "        vertical-align: middle;\n",
       "    }\n",
       "\n",
       "    .dataframe tbody tr th {\n",
       "        vertical-align: top;\n",
       "    }\n",
       "\n",
       "    .dataframe thead th {\n",
       "        text-align: right;\n",
       "    }\n",
       "</style>\n",
       "<table border=\"1\" class=\"dataframe\">\n",
       "  <thead>\n",
       "    <tr style=\"text-align: right;\">\n",
       "      <th></th>\n",
       "      <th>Cell_Type</th>\n",
       "      <th>Gene_Marker</th>\n",
       "      <th>Embeddings</th>\n",
       "      <th>Expression</th>\n",
       "    </tr>\n",
       "  </thead>\n",
       "  <tbody>\n",
       "    <tr>\n",
       "      <th>0</th>\n",
       "      <td>Plasma</td>\n",
       "      <td>JCHAIN</td>\n",
       "      <td>[-0.11731923371553421, -0.2009364515542984, -0...</td>\n",
       "      <td>6.496516</td>\n",
       "    </tr>\n",
       "    <tr>\n",
       "      <th>1</th>\n",
       "      <td>Plasma</td>\n",
       "      <td>IGHA1</td>\n",
       "      <td>[-0.04160075634717941, -0.3113042116165161, -0...</td>\n",
       "      <td>7.216112</td>\n",
       "    </tr>\n",
       "    <tr>\n",
       "      <th>2</th>\n",
       "      <td>Plasma</td>\n",
       "      <td>IGHA2</td>\n",
       "      <td>[-0.07128488272428513, -0.27042680978775024, -...</td>\n",
       "      <td>4.820352</td>\n",
       "    </tr>\n",
       "    <tr>\n",
       "      <th>3</th>\n",
       "      <td>Plasma</td>\n",
       "      <td>SSR4</td>\n",
       "      <td>[-0.1328727751970291, -0.19783622026443481, -0...</td>\n",
       "      <td>3.285065</td>\n",
       "    </tr>\n",
       "    <tr>\n",
       "      <th>4</th>\n",
       "      <td>Plasma</td>\n",
       "      <td>FKBP11</td>\n",
       "      <td>[-0.3410321772098541, -0.24466830492019653, -0...</td>\n",
       "      <td>2.013909</td>\n",
       "    </tr>\n",
       "    <tr>\n",
       "      <th>...</th>\n",
       "      <td>...</td>\n",
       "      <td>...</td>\n",
       "      <td>...</td>\n",
       "      <td>...</td>\n",
       "    </tr>\n",
       "    <tr>\n",
       "      <th>787</th>\n",
       "      <td>Macro_pDC</td>\n",
       "      <td>TREM1,SERPINA1,FBP1,IRF7,GPNMB</td>\n",
       "      <td>[0.06260330975055695, -0.4410420358181, 0.4309...</td>\n",
       "      <td>1.705674</td>\n",
       "    </tr>\n",
       "    <tr>\n",
       "      <th>788</th>\n",
       "      <td>Macro_pDC</td>\n",
       "      <td>TREM1,SERPINA1,FBP1,PLD4,GPNMB</td>\n",
       "      <td>[0.05649421736598015, -0.3864367604255676, 0.3...</td>\n",
       "      <td>1.612178</td>\n",
       "    </tr>\n",
       "    <tr>\n",
       "      <th>789</th>\n",
       "      <td>Macro_pDC</td>\n",
       "      <td>TREM1,SERPINA1,IRF7,PLD4,GPNMB</td>\n",
       "      <td>[0.03859759122133255, -0.3970209062099457, 0.4...</td>\n",
       "      <td>1.690057</td>\n",
       "    </tr>\n",
       "    <tr>\n",
       "      <th>790</th>\n",
       "      <td>Macro_pDC</td>\n",
       "      <td>TREM1,FBP1,IRF7,PLD4,GPNMB</td>\n",
       "      <td>[0.13350529968738556, -0.4641953706741333, 0.3...</td>\n",
       "      <td>1.628484</td>\n",
       "    </tr>\n",
       "    <tr>\n",
       "      <th>791</th>\n",
       "      <td>Macro_pDC</td>\n",
       "      <td>SERPINA1,FBP1,IRF7,PLD4,GPNMB</td>\n",
       "      <td>[0.05018649250268936, -0.3949633836746216, 0.2...</td>\n",
       "      <td>1.852231</td>\n",
       "    </tr>\n",
       "  </tbody>\n",
       "</table>\n",
       "<p>792 rows × 4 columns</p>\n",
       "</div>"
      ],
      "text/plain": [
       "     Cell_Type                     Gene_Marker  \\\n",
       "0       Plasma                          JCHAIN   \n",
       "1       Plasma                           IGHA1   \n",
       "2       Plasma                           IGHA2   \n",
       "3       Plasma                            SSR4   \n",
       "4       Plasma                          FKBP11   \n",
       "..         ...                             ...   \n",
       "787  Macro_pDC  TREM1,SERPINA1,FBP1,IRF7,GPNMB   \n",
       "788  Macro_pDC  TREM1,SERPINA1,FBP1,PLD4,GPNMB   \n",
       "789  Macro_pDC  TREM1,SERPINA1,IRF7,PLD4,GPNMB   \n",
       "790  Macro_pDC      TREM1,FBP1,IRF7,PLD4,GPNMB   \n",
       "791  Macro_pDC   SERPINA1,FBP1,IRF7,PLD4,GPNMB   \n",
       "\n",
       "                                            Embeddings  Expression  \n",
       "0    [-0.11731923371553421, -0.2009364515542984, -0...    6.496516  \n",
       "1    [-0.04160075634717941, -0.3113042116165161, -0...    7.216112  \n",
       "2    [-0.07128488272428513, -0.27042680978775024, -...    4.820352  \n",
       "3    [-0.1328727751970291, -0.19783622026443481, -0...    3.285065  \n",
       "4    [-0.3410321772098541, -0.24466830492019653, -0...    2.013909  \n",
       "..                                                 ...         ...  \n",
       "787  [0.06260330975055695, -0.4410420358181, 0.4309...    1.705674  \n",
       "788  [0.05649421736598015, -0.3864367604255676, 0.3...    1.612178  \n",
       "789  [0.03859759122133255, -0.3970209062099457, 0.4...    1.690057  \n",
       "790  [0.13350529968738556, -0.4641953706741333, 0.3...    1.628484  \n",
       "791  [0.05018649250268936, -0.3949633836746216, 0.2...    1.852231  \n",
       "\n",
       "[792 rows x 4 columns]"
      ]
     },
     "execution_count": 8,
     "metadata": {},
     "output_type": "execute_result"
    }
   ],
   "source": [
    "data_full"
   ]
  },
  {
   "cell_type": "markdown",
   "metadata": {},
   "source": [
    "#### 1-) `Operation`"
   ]
  },
  {
   "cell_type": "code",
   "execution_count": 9,
   "metadata": {},
   "outputs": [
    {
     "name": "stdout",
     "output_type": "stream",
     "text": [
      "Calculation of ZScore_v0 Started\n",
      "Calculation of ZScore_v0 Finished\n"
     ]
    }
   ],
   "source": [
    "# Temporarly for operation \n",
    "target_embeddings_matrix = Embeddings.copy() \n",
    "subject_outlier          = subject_outlier_0\n",
    "\n",
    "# Input data: data_full\n",
    "data_embedded = data_full.copy() \n",
    "outlier_operation = access_data_path(f\"{process_barcode}/class/{folder_outlier}\", \"operation\" + \".ipynb\") \n",
    "%run $outlier_operation \n",
    "data_full = data_embedded.copy() \n",
    "# Output: subject_data_full "
   ]
  },
  {
   "cell_type": "markdown",
   "metadata": {},
   "source": [
    "#### 3-) `Report`"
   ]
  },
  {
   "cell_type": "code",
   "execution_count": 10,
   "metadata": {},
   "outputs": [
    {
     "name": "stdout",
     "output_type": "stream",
     "text": [
      "Shape (Before): (792, 4)\n",
      "Shape (After): (727, 4)\n",
      "Discarded rows: 65\n",
      "Number of unique cell types: 12\n",
      "Number of unique cell types: 12\n",
      "Lost cell types: set()\n"
     ]
    }
   ],
   "source": [
    "print(f\"Shape (Before): {data_full.shape}\") \n",
    "print(f\"Shape (After): {subject_data_full.shape}\")  \n",
    "print(f\"Discarded rows: {data_full.shape[0] - subject_data_full.shape[0]}\")  \n",
    "\n",
    "print(f\"Number of unique cell types: {len(pd.unique(data_full['Cell_Type']))}\")  \n",
    "print(f\"Number of unique cell types: {len(pd.unique(subject_data_full['Cell_Type']))}\")  \n",
    "print(f\"Lost cell types: {set(pd.unique(data_full['Cell_Type'])) - set(pd.unique(subject_data_full['Cell_Type']))}\") \n"
   ]
  },
  {
   "cell_type": "markdown",
   "metadata": {},
   "source": [
    "### 2-) `Cell_Type_Gene_Marker_Embeddings`"
   ]
  },
  {
   "cell_type": "markdown",
   "metadata": {},
   "source": [
    "#### 0-) `Oveview`"
   ]
  },
  {
   "cell_type": "code",
   "execution_count": 11,
   "metadata": {},
   "outputs": [
    {
     "data": {
      "text/html": [
       "<div>\n",
       "<style scoped>\n",
       "    .dataframe tbody tr th:only-of-type {\n",
       "        vertical-align: middle;\n",
       "    }\n",
       "\n",
       "    .dataframe tbody tr th {\n",
       "        vertical-align: top;\n",
       "    }\n",
       "\n",
       "    .dataframe thead th {\n",
       "        text-align: right;\n",
       "    }\n",
       "</style>\n",
       "<table border=\"1\" class=\"dataframe\">\n",
       "  <thead>\n",
       "    <tr style=\"text-align: right;\">\n",
       "      <th></th>\n",
       "      <th>Cell_Type</th>\n",
       "      <th>Gene_Marker</th>\n",
       "      <th>Embeddings</th>\n",
       "      <th>Expression</th>\n",
       "    </tr>\n",
       "  </thead>\n",
       "  <tbody>\n",
       "    <tr>\n",
       "      <th>0</th>\n",
       "      <td>Plasma</td>\n",
       "      <td>JCHAIN</td>\n",
       "      <td>[-0.11731923371553421, -0.2009364515542984, -0...</td>\n",
       "      <td>6.496516</td>\n",
       "    </tr>\n",
       "    <tr>\n",
       "      <th>1</th>\n",
       "      <td>Plasma</td>\n",
       "      <td>IGHA1</td>\n",
       "      <td>[-0.04160075634717941, -0.3113042116165161, -0...</td>\n",
       "      <td>7.216112</td>\n",
       "    </tr>\n",
       "    <tr>\n",
       "      <th>2</th>\n",
       "      <td>Plasma</td>\n",
       "      <td>IGHA2</td>\n",
       "      <td>[-0.07128488272428513, -0.27042680978775024, -...</td>\n",
       "      <td>4.820352</td>\n",
       "    </tr>\n",
       "    <tr>\n",
       "      <th>3</th>\n",
       "      <td>Plasma</td>\n",
       "      <td>SSR4</td>\n",
       "      <td>[-0.1328727751970291, -0.19783622026443481, -0...</td>\n",
       "      <td>3.285065</td>\n",
       "    </tr>\n",
       "    <tr>\n",
       "      <th>4</th>\n",
       "      <td>Plasma</td>\n",
       "      <td>FKBP11</td>\n",
       "      <td>[-0.3410321772098541, -0.24466830492019653, -0...</td>\n",
       "      <td>2.013909</td>\n",
       "    </tr>\n",
       "    <tr>\n",
       "      <th>...</th>\n",
       "      <td>...</td>\n",
       "      <td>...</td>\n",
       "      <td>...</td>\n",
       "      <td>...</td>\n",
       "    </tr>\n",
       "    <tr>\n",
       "      <th>787</th>\n",
       "      <td>Macro_pDC</td>\n",
       "      <td>TREM1,SERPINA1,FBP1,IRF7,GPNMB</td>\n",
       "      <td>[0.06260330975055695, -0.4410420358181, 0.4309...</td>\n",
       "      <td>1.705674</td>\n",
       "    </tr>\n",
       "    <tr>\n",
       "      <th>788</th>\n",
       "      <td>Macro_pDC</td>\n",
       "      <td>TREM1,SERPINA1,FBP1,PLD4,GPNMB</td>\n",
       "      <td>[0.05649421736598015, -0.3864367604255676, 0.3...</td>\n",
       "      <td>1.612178</td>\n",
       "    </tr>\n",
       "    <tr>\n",
       "      <th>789</th>\n",
       "      <td>Macro_pDC</td>\n",
       "      <td>TREM1,SERPINA1,IRF7,PLD4,GPNMB</td>\n",
       "      <td>[0.03859759122133255, -0.3970209062099457, 0.4...</td>\n",
       "      <td>1.690057</td>\n",
       "    </tr>\n",
       "    <tr>\n",
       "      <th>790</th>\n",
       "      <td>Macro_pDC</td>\n",
       "      <td>TREM1,FBP1,IRF7,PLD4,GPNMB</td>\n",
       "      <td>[0.13350529968738556, -0.4641953706741333, 0.3...</td>\n",
       "      <td>1.628484</td>\n",
       "    </tr>\n",
       "    <tr>\n",
       "      <th>791</th>\n",
       "      <td>Macro_pDC</td>\n",
       "      <td>SERPINA1,FBP1,IRF7,PLD4,GPNMB</td>\n",
       "      <td>[0.05018649250268936, -0.3949633836746216, 0.2...</td>\n",
       "      <td>1.852231</td>\n",
       "    </tr>\n",
       "  </tbody>\n",
       "</table>\n",
       "<p>792 rows × 4 columns</p>\n",
       "</div>"
      ],
      "text/plain": [
       "     Cell_Type                     Gene_Marker  \\\n",
       "0       Plasma                          JCHAIN   \n",
       "1       Plasma                           IGHA1   \n",
       "2       Plasma                           IGHA2   \n",
       "3       Plasma                            SSR4   \n",
       "4       Plasma                          FKBP11   \n",
       "..         ...                             ...   \n",
       "787  Macro_pDC  TREM1,SERPINA1,FBP1,IRF7,GPNMB   \n",
       "788  Macro_pDC  TREM1,SERPINA1,FBP1,PLD4,GPNMB   \n",
       "789  Macro_pDC  TREM1,SERPINA1,IRF7,PLD4,GPNMB   \n",
       "790  Macro_pDC      TREM1,FBP1,IRF7,PLD4,GPNMB   \n",
       "791  Macro_pDC   SERPINA1,FBP1,IRF7,PLD4,GPNMB   \n",
       "\n",
       "                                            Embeddings  Expression  \n",
       "0    [-0.11731923371553421, -0.2009364515542984, -0...    6.496516  \n",
       "1    [-0.04160075634717941, -0.3113042116165161, -0...    7.216112  \n",
       "2    [-0.07128488272428513, -0.27042680978775024, -...    4.820352  \n",
       "3    [-0.1328727751970291, -0.19783622026443481, -0...    3.285065  \n",
       "4    [-0.3410321772098541, -0.24466830492019653, -0...    2.013909  \n",
       "..                                                 ...         ...  \n",
       "787  [0.06260330975055695, -0.4410420358181, 0.4309...    1.705674  \n",
       "788  [0.05649421736598015, -0.3864367604255676, 0.3...    1.612178  \n",
       "789  [0.03859759122133255, -0.3970209062099457, 0.4...    1.690057  \n",
       "790  [0.13350529968738556, -0.4641953706741333, 0.3...    1.628484  \n",
       "791  [0.05018649250268936, -0.3949633836746216, 0.2...    1.852231  \n",
       "\n",
       "[792 rows x 4 columns]"
      ]
     },
     "execution_count": 11,
     "metadata": {},
     "output_type": "execute_result"
    }
   ],
   "source": [
    "data_full"
   ]
  },
  {
   "cell_type": "markdown",
   "metadata": {},
   "source": [
    "#### 1-) `Operation`"
   ]
  },
  {
   "cell_type": "code",
   "execution_count": 12,
   "metadata": {},
   "outputs": [],
   "source": [
    "Expression_Matrix          = subject_data_full['Expression'].values \n",
    "\n",
    "Expression_Matrix_Reshaped = Expression_Matrix.reshape(-1, 1) # Necessary for the pipeline  "
   ]
  },
  {
   "cell_type": "code",
   "execution_count": 13,
   "metadata": {},
   "outputs": [
    {
     "name": "stdout",
     "output_type": "stream",
     "text": [
      "Calculation of LOF_v0 Started\n",
      "Calculation of LOF_v0 Finished\n"
     ]
    }
   ],
   "source": [
    "# Temporarly for operation \n",
    "target_embeddings_matrix = Expression_Matrix_Reshaped.copy() \n",
    "subject_outlier          = subject_outlier_1\n",
    "\n",
    "# Input data: data_full\n",
    "data_embedded = subject_data_full.copy() \n",
    "outlier_operation = access_data_path(f\"{process_barcode}/class/{folder_outlier}\", \"operation\" + \".ipynb\") \n",
    "%run $outlier_operation \n",
    "data_full = data_embedded.copy() \n",
    "# Output: subject_data_full "
   ]
  },
  {
   "cell_type": "markdown",
   "metadata": {},
   "source": [
    "#### 2-) `Report`"
   ]
  },
  {
   "cell_type": "code",
   "execution_count": 14,
   "metadata": {},
   "outputs": [
    {
     "name": "stdout",
     "output_type": "stream",
     "text": [
      "Shape (Before): (727, 4)\n",
      "Shape (After): (712, 4)\n",
      "Discarded rows: 15\n",
      "Number of unique cell types: 12\n",
      "Number of unique cell types: 12\n",
      "Lost cell types: set()\n"
     ]
    }
   ],
   "source": [
    "print(f\"Shape (Before): {data_embedded.shape}\") \n",
    "print(f\"Shape (After): {subject_data_full.shape}\")  \n",
    "print(f\"Discarded rows: {data_embedded.shape[0] - subject_data_full.shape[0]}\")  \n",
    "\n",
    "print(f\"Number of unique cell types: {len(pd.unique(data_embedded['Cell_Type']))}\")  \n",
    "print(f\"Number of unique cell types: {len(pd.unique(subject_data_full['Cell_Type']))}\")  \n",
    "print(f\"Lost cell types: {set(pd.unique(data_embedded['Cell_Type'])) - set(pd.unique(subject_data_full['Cell_Type']))}\") \n"
   ]
  },
  {
   "cell_type": "code",
   "execution_count": 15,
   "metadata": {},
   "outputs": [
    {
     "data": {
      "text/html": [
       "<div>\n",
       "<style scoped>\n",
       "    .dataframe tbody tr th:only-of-type {\n",
       "        vertical-align: middle;\n",
       "    }\n",
       "\n",
       "    .dataframe tbody tr th {\n",
       "        vertical-align: top;\n",
       "    }\n",
       "\n",
       "    .dataframe thead th {\n",
       "        text-align: right;\n",
       "    }\n",
       "</style>\n",
       "<table border=\"1\" class=\"dataframe\">\n",
       "  <thead>\n",
       "    <tr style=\"text-align: right;\">\n",
       "      <th></th>\n",
       "      <th>Cell_Type</th>\n",
       "      <th>Gene_Marker</th>\n",
       "      <th>Embeddings</th>\n",
       "      <th>Expression</th>\n",
       "    </tr>\n",
       "  </thead>\n",
       "  <tbody>\n",
       "    <tr>\n",
       "      <th>2</th>\n",
       "      <td>Plasma</td>\n",
       "      <td>IGHA2</td>\n",
       "      <td>[-0.07128488272428513, -0.27042680978775024, -...</td>\n",
       "      <td>4.820352</td>\n",
       "    </tr>\n",
       "    <tr>\n",
       "      <th>3</th>\n",
       "      <td>Plasma</td>\n",
       "      <td>SSR4</td>\n",
       "      <td>[-0.1328727751970291, -0.19783622026443481, -0...</td>\n",
       "      <td>3.285065</td>\n",
       "    </tr>\n",
       "    <tr>\n",
       "      <th>5</th>\n",
       "      <td>Plasma</td>\n",
       "      <td>MZB1</td>\n",
       "      <td>[-0.23356671631336212, -0.13921378552913666, -...</td>\n",
       "      <td>2.750777</td>\n",
       "    </tr>\n",
       "    <tr>\n",
       "      <th>6</th>\n",
       "      <td>Plasma</td>\n",
       "      <td>SEC11C</td>\n",
       "      <td>[-0.25503966212272644, -0.08745483309030533, 0...</td>\n",
       "      <td>1.891812</td>\n",
       "    </tr>\n",
       "    <tr>\n",
       "      <th>8</th>\n",
       "      <td>Plasma</td>\n",
       "      <td>IGLC2</td>\n",
       "      <td>[-0.11470400542020798, -0.22403961420059204, -...</td>\n",
       "      <td>5.027541</td>\n",
       "    </tr>\n",
       "    <tr>\n",
       "      <th>...</th>\n",
       "      <td>...</td>\n",
       "      <td>...</td>\n",
       "      <td>...</td>\n",
       "      <td>...</td>\n",
       "    </tr>\n",
       "    <tr>\n",
       "      <th>787</th>\n",
       "      <td>Macro_pDC</td>\n",
       "      <td>TREM1,SERPINA1,FBP1,IRF7,GPNMB</td>\n",
       "      <td>[0.06260330975055695, -0.4410420358181, 0.4309...</td>\n",
       "      <td>1.705674</td>\n",
       "    </tr>\n",
       "    <tr>\n",
       "      <th>788</th>\n",
       "      <td>Macro_pDC</td>\n",
       "      <td>TREM1,SERPINA1,FBP1,PLD4,GPNMB</td>\n",
       "      <td>[0.05649421736598015, -0.3864367604255676, 0.3...</td>\n",
       "      <td>1.612178</td>\n",
       "    </tr>\n",
       "    <tr>\n",
       "      <th>789</th>\n",
       "      <td>Macro_pDC</td>\n",
       "      <td>TREM1,SERPINA1,IRF7,PLD4,GPNMB</td>\n",
       "      <td>[0.03859759122133255, -0.3970209062099457, 0.4...</td>\n",
       "      <td>1.690057</td>\n",
       "    </tr>\n",
       "    <tr>\n",
       "      <th>790</th>\n",
       "      <td>Macro_pDC</td>\n",
       "      <td>TREM1,FBP1,IRF7,PLD4,GPNMB</td>\n",
       "      <td>[0.13350529968738556, -0.4641953706741333, 0.3...</td>\n",
       "      <td>1.628484</td>\n",
       "    </tr>\n",
       "    <tr>\n",
       "      <th>791</th>\n",
       "      <td>Macro_pDC</td>\n",
       "      <td>SERPINA1,FBP1,IRF7,PLD4,GPNMB</td>\n",
       "      <td>[0.05018649250268936, -0.3949633836746216, 0.2...</td>\n",
       "      <td>1.852231</td>\n",
       "    </tr>\n",
       "  </tbody>\n",
       "</table>\n",
       "<p>712 rows × 4 columns</p>\n",
       "</div>"
      ],
      "text/plain": [
       "     Cell_Type                     Gene_Marker  \\\n",
       "2       Plasma                           IGHA2   \n",
       "3       Plasma                            SSR4   \n",
       "5       Plasma                            MZB1   \n",
       "6       Plasma                          SEC11C   \n",
       "8       Plasma                           IGLC2   \n",
       "..         ...                             ...   \n",
       "787  Macro_pDC  TREM1,SERPINA1,FBP1,IRF7,GPNMB   \n",
       "788  Macro_pDC  TREM1,SERPINA1,FBP1,PLD4,GPNMB   \n",
       "789  Macro_pDC  TREM1,SERPINA1,IRF7,PLD4,GPNMB   \n",
       "790  Macro_pDC      TREM1,FBP1,IRF7,PLD4,GPNMB   \n",
       "791  Macro_pDC   SERPINA1,FBP1,IRF7,PLD4,GPNMB   \n",
       "\n",
       "                                            Embeddings  Expression  \n",
       "2    [-0.07128488272428513, -0.27042680978775024, -...    4.820352  \n",
       "3    [-0.1328727751970291, -0.19783622026443481, -0...    3.285065  \n",
       "5    [-0.23356671631336212, -0.13921378552913666, -...    2.750777  \n",
       "6    [-0.25503966212272644, -0.08745483309030533, 0...    1.891812  \n",
       "8    [-0.11470400542020798, -0.22403961420059204, -...    5.027541  \n",
       "..                                                 ...         ...  \n",
       "787  [0.06260330975055695, -0.4410420358181, 0.4309...    1.705674  \n",
       "788  [0.05649421736598015, -0.3864367604255676, 0.3...    1.612178  \n",
       "789  [0.03859759122133255, -0.3970209062099457, 0.4...    1.690057  \n",
       "790  [0.13350529968738556, -0.4641953706741333, 0.3...    1.628484  \n",
       "791  [0.05018649250268936, -0.3949633836746216, 0.2...    1.852231  \n",
       "\n",
       "[712 rows x 4 columns]"
      ]
     },
     "execution_count": 15,
     "metadata": {},
     "output_type": "execute_result"
    }
   ],
   "source": [
    "subject_data_full"
   ]
  },
  {
   "cell_type": "markdown",
   "metadata": {},
   "source": [
    "---\n",
    "# 4- `End`"
   ]
  },
  {
   "cell_type": "code",
   "execution_count": 16,
   "metadata": {},
   "outputs": [],
   "source": [
    "export_name = \"data_raw\" \n",
    "with open(os.path.join(access_data_path(f\"{process_barcode}/data/{folder_outlier}\", f\"{export_name}\" + \".pkl\"))  , 'wb') as file: \n",
    "    pickle.dump(data_raw, file)   \n",
    "\n",
    "export_name = \"subject_data_full\" \n",
    "with open(os.path.join(access_data_path(f\"{process_barcode}/data/{folder_outlier}\", f\"{export_name}\" + \".pkl\"))  , 'wb') as file: \n",
    "    pickle.dump(subject_data_full, file)   \n",
    "    \n",
    "export_name = \"subject_outlier_0\" \n",
    "with open(os.path.join(access_data_path(f\"{process_barcode}/data/{folder_outlier}\", f\"{export_name}\" + \".pkl\"))  , 'wb') as file: \n",
    "    pickle.dump(subject_outlier_0, file)   \n",
    "\n",
    "export_name = \"subject_outlier_1\" \n",
    "with open(os.path.join(access_data_path(f\"{process_barcode}/data/{folder_outlier}\", f\"{export_name}\" + \".pkl\"))  , 'wb') as file: \n",
    "    pickle.dump(subject_outlier_1, file)   "
   ]
  }
 ],
 "metadata": {
  "kernelspec": {
   "display_name": "Python 3",
   "language": "python",
   "name": "python3"
  },
  "language_info": {
   "codemirror_mode": {
    "name": "ipython",
    "version": 3
   },
   "file_extension": ".py",
   "mimetype": "text/x-python",
   "name": "python",
   "nbconvert_exporter": "python",
   "pygments_lexer": "ipython3",
   "version": "3.12.2"
  }
 },
 "nbformat": 4,
 "nbformat_minor": 2
}
