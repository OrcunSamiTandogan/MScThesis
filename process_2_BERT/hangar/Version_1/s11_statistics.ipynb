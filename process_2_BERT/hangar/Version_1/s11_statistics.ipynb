{
 "cells": [
  {
   "cell_type": "markdown",
   "metadata": {},
   "source": [
    "#### "
   ]
  },
  {
   "cell_type": "markdown",
   "metadata": {},
   "source": [
    "# `Step 9: Statistics`"
   ]
  },
  {
   "cell_type": "markdown",
   "metadata": {},
   "source": [
    "# 0- `Config`"
   ]
  },
  {
   "cell_type": "code",
   "execution_count": 1,
   "metadata": {},
   "outputs": [],
   "source": [
    "import pandas as pd \n",
    "import numpy as np  \n",
    "import pickle "
   ]
  },
  {
   "cell_type": "code",
   "execution_count": 2,
   "metadata": {},
   "outputs": [
    {
     "name": "stdout",
     "output_type": "stream",
     "text": [
      "s0_config.ipynb | Started\n",
      "s0_config.ipynb | Finished\n"
     ]
    }
   ],
   "source": [
    "try: \n",
    "    if manager == 1:\n",
    "        print(\"s1_load.ipynb running from MANAGER\")\n",
    "except: \n",
    "    %run s0_config.ipynb  "
   ]
  },
  {
   "cell_type": "markdown",
   "metadata": {},
   "source": [
    "# 1- `Load`"
   ]
  },
  {
   "cell_type": "markdown",
   "metadata": {},
   "source": [
    "## 0-) `NN`"
   ]
  },
  {
   "cell_type": "code",
   "execution_count": 3,
   "metadata": {},
   "outputs": [
    {
     "name": "stdout",
     "output_type": "stream",
     "text": [
      "NN Total Data is loaded\n"
     ]
    }
   ],
   "source": [
    "# SVM Total \n",
    "try:\n",
    "    import_name = \"NN_Total\"\n",
    "    with open(os.path.join(access_data_path(f\"{process_barcode}/data/{folder_total}\", f\"{import_name}\" + \".pkl\"))  , 'rb') as file: \n",
    "        NN_Total = pickle.load(file)   \n",
    "    print(\"NN Total Data is loaded\")\n",
    "except:\n",
    "    print(\"No NN Best Total Data\") \n",
    "\n",
    "    NN_Total = {} \n",
    "    print(\"NN Total Data is created\")"
   ]
  },
  {
   "cell_type": "markdown",
   "metadata": {},
   "source": [
    "## 1-) `SVM`"
   ]
  },
  {
   "cell_type": "code",
   "execution_count": 4,
   "metadata": {},
   "outputs": [
    {
     "name": "stdout",
     "output_type": "stream",
     "text": [
      "SVM Total Data is loaded\n"
     ]
    }
   ],
   "source": [
    "# SVM Total \n",
    "try:\n",
    "    import_name = \"SVM_Total\"\n",
    "    with open(os.path.join(access_data_path(f\"{process_barcode}/data/{folder_total}\", f\"{import_name}\" + \".pkl\"))  , 'rb') as file: \n",
    "        SVM_Total = pickle.load(file)   \n",
    "    print(\"SVM Total Data is loaded\")\n",
    "except:\n",
    "    print(\"No SVM Best Total Data\") \n",
    "\n",
    "    SVM_Total = {} \n",
    "    print(\"SVM Total Data is created\")"
   ]
  },
  {
   "cell_type": "code",
   "execution_count": 5,
   "metadata": {},
   "outputs": [
    {
     "data": {
      "text/html": [
       "<div>\n",
       "<style scoped>\n",
       "    .dataframe tbody tr th:only-of-type {\n",
       "        vertical-align: middle;\n",
       "    }\n",
       "\n",
       "    .dataframe tbody tr th {\n",
       "        vertical-align: top;\n",
       "    }\n",
       "\n",
       "    .dataframe thead th {\n",
       "        text-align: right;\n",
       "    }\n",
       "</style>\n",
       "<table border=\"1\" class=\"dataframe\">\n",
       "  <thead>\n",
       "    <tr style=\"text-align: right;\">\n",
       "      <th></th>\n",
       "      <th>Applications</th>\n",
       "      <th>Applications_Condition</th>\n",
       "      <th>Model</th>\n",
       "      <th>Parameters</th>\n",
       "      <th>Accuracy</th>\n",
       "      <th>Precision</th>\n",
       "      <th>Recall</th>\n",
       "      <th>F1</th>\n",
       "    </tr>\n",
       "  </thead>\n",
       "  <tbody>\n",
       "    <tr>\n",
       "      <th>0</th>\n",
       "      <td>ZScore_v0_ZScore_v0_Basic_v1_Basic_v1_Standard...</td>\n",
       "      <td>Out_1_Nor_0_Aut_0_DR_0</td>\n",
       "      <td>SVM</td>\n",
       "      <td>kernel_poly_degree_2_coef0_0.5_C_1_gamma_scale</td>\n",
       "      <td>0.363014</td>\n",
       "      <td>0.334954</td>\n",
       "      <td>0.363014</td>\n",
       "      <td>0.298778</td>\n",
       "    </tr>\n",
       "    <tr>\n",
       "      <th>0</th>\n",
       "      <td>ZScore_v0_ZScore_v0_Basic_v1_Basic_v1_Standard...</td>\n",
       "      <td>Out_1_Nor_1_Aut_0_DR_0</td>\n",
       "      <td>SVM</td>\n",
       "      <td>kernel_poly_degree_2_coef0_0.5_C_1_gamma_scale</td>\n",
       "      <td>1.000000</td>\n",
       "      <td>1.000000</td>\n",
       "      <td>1.000000</td>\n",
       "      <td>1.000000</td>\n",
       "    </tr>\n",
       "    <tr>\n",
       "      <th>0</th>\n",
       "      <td>ZScore_v0_ZScore_v0_Basic_v1_Basic_v1_Standard...</td>\n",
       "      <td>Out_1_Nor_1_Aut_1_DR_0</td>\n",
       "      <td>SVM</td>\n",
       "      <td>kernel_poly_degree_2_coef0_0.5_C_1_gamma_scale</td>\n",
       "      <td>0.554795</td>\n",
       "      <td>0.592525</td>\n",
       "      <td>0.554795</td>\n",
       "      <td>0.526218</td>\n",
       "    </tr>\n",
       "    <tr>\n",
       "      <th>0</th>\n",
       "      <td>ZScore_v0_ZScore_v0_Basic_v1_Basic_v1_Standard...</td>\n",
       "      <td>Out_1_Nor_1_Aut_1_DR_1</td>\n",
       "      <td>SVM</td>\n",
       "      <td>kernel_poly_degree_2_coef0_0.5_C_1_gamma_scale</td>\n",
       "      <td>0.554795</td>\n",
       "      <td>0.580111</td>\n",
       "      <td>0.554795</td>\n",
       "      <td>0.528342</td>\n",
       "    </tr>\n",
       "    <tr>\n",
       "      <th>0</th>\n",
       "      <td>ZScore_v0_ZScore_v0_Dropout_v1_Denoising_v0_St...</td>\n",
       "      <td>Out_1_Nor_0_Aut_0_DR_0</td>\n",
       "      <td>SVM</td>\n",
       "      <td>kernel_poly_degree_2_coef0_0.5_C_1_gamma_scale</td>\n",
       "      <td>0.363014</td>\n",
       "      <td>0.334954</td>\n",
       "      <td>0.363014</td>\n",
       "      <td>0.298778</td>\n",
       "    </tr>\n",
       "    <tr>\n",
       "      <th>0</th>\n",
       "      <td>ZScore_v0_ZScore_v0_Dropout_v1_Denoising_v0_St...</td>\n",
       "      <td>Out_1_Nor_1_Aut_0_DR_0</td>\n",
       "      <td>SVM</td>\n",
       "      <td>kernel_poly_degree_2_coef0_0.5_C_1_gamma_scale</td>\n",
       "      <td>1.000000</td>\n",
       "      <td>1.000000</td>\n",
       "      <td>1.000000</td>\n",
       "      <td>1.000000</td>\n",
       "    </tr>\n",
       "    <tr>\n",
       "      <th>0</th>\n",
       "      <td>ZScore_v0_ZScore_v0_Dropout_v1_Denoising_v0_St...</td>\n",
       "      <td>Out_1_Nor_1_Aut_1_DR_0</td>\n",
       "      <td>SVM</td>\n",
       "      <td>kernel_poly_degree_2_coef0_0.5_C_1_gamma_scale</td>\n",
       "      <td>0.191781</td>\n",
       "      <td>0.131647</td>\n",
       "      <td>0.191781</td>\n",
       "      <td>0.139114</td>\n",
       "    </tr>\n",
       "    <tr>\n",
       "      <th>0</th>\n",
       "      <td>ZScore_v0_ZScore_v0_Dropout_v1_Denoising_v0_St...</td>\n",
       "      <td>Out_1_Nor_1_Aut_1_DR_1</td>\n",
       "      <td>SVM</td>\n",
       "      <td>kernel_poly_degree_2_coef0_0.5_C_1_gamma_scale</td>\n",
       "      <td>0.157534</td>\n",
       "      <td>0.100393</td>\n",
       "      <td>0.157534</td>\n",
       "      <td>0.121024</td>\n",
       "    </tr>\n",
       "  </tbody>\n",
       "</table>\n",
       "</div>"
      ],
      "text/plain": [
       "                                        Applications  Applications_Condition  \\\n",
       "0  ZScore_v0_ZScore_v0_Basic_v1_Basic_v1_Standard...  Out_1_Nor_0_Aut_0_DR_0   \n",
       "0  ZScore_v0_ZScore_v0_Basic_v1_Basic_v1_Standard...  Out_1_Nor_1_Aut_0_DR_0   \n",
       "0  ZScore_v0_ZScore_v0_Basic_v1_Basic_v1_Standard...  Out_1_Nor_1_Aut_1_DR_0   \n",
       "0  ZScore_v0_ZScore_v0_Basic_v1_Basic_v1_Standard...  Out_1_Nor_1_Aut_1_DR_1   \n",
       "0  ZScore_v0_ZScore_v0_Dropout_v1_Denoising_v0_St...  Out_1_Nor_0_Aut_0_DR_0   \n",
       "0  ZScore_v0_ZScore_v0_Dropout_v1_Denoising_v0_St...  Out_1_Nor_1_Aut_0_DR_0   \n",
       "0  ZScore_v0_ZScore_v0_Dropout_v1_Denoising_v0_St...  Out_1_Nor_1_Aut_1_DR_0   \n",
       "0  ZScore_v0_ZScore_v0_Dropout_v1_Denoising_v0_St...  Out_1_Nor_1_Aut_1_DR_1   \n",
       "\n",
       "  Model                                      Parameters  Accuracy  Precision  \\\n",
       "0   SVM  kernel_poly_degree_2_coef0_0.5_C_1_gamma_scale  0.363014   0.334954   \n",
       "0   SVM  kernel_poly_degree_2_coef0_0.5_C_1_gamma_scale  1.000000   1.000000   \n",
       "0   SVM  kernel_poly_degree_2_coef0_0.5_C_1_gamma_scale  0.554795   0.592525   \n",
       "0   SVM  kernel_poly_degree_2_coef0_0.5_C_1_gamma_scale  0.554795   0.580111   \n",
       "0   SVM  kernel_poly_degree_2_coef0_0.5_C_1_gamma_scale  0.363014   0.334954   \n",
       "0   SVM  kernel_poly_degree_2_coef0_0.5_C_1_gamma_scale  1.000000   1.000000   \n",
       "0   SVM  kernel_poly_degree_2_coef0_0.5_C_1_gamma_scale  0.191781   0.131647   \n",
       "0   SVM  kernel_poly_degree_2_coef0_0.5_C_1_gamma_scale  0.157534   0.100393   \n",
       "\n",
       "     Recall        F1  \n",
       "0  0.363014  0.298778  \n",
       "0  1.000000  1.000000  \n",
       "0  0.554795  0.526218  \n",
       "0  0.554795  0.528342  \n",
       "0  0.363014  0.298778  \n",
       "0  1.000000  1.000000  \n",
       "0  0.191781  0.139114  \n",
       "0  0.157534  0.121024  "
      ]
     },
     "execution_count": 5,
     "metadata": {},
     "output_type": "execute_result"
    }
   ],
   "source": [
    "SVM_Total"
   ]
  },
  {
   "cell_type": "markdown",
   "metadata": {},
   "source": [
    "## 2-) `SGD`"
   ]
  },
  {
   "cell_type": "code",
   "execution_count": 6,
   "metadata": {},
   "outputs": [
    {
     "name": "stdout",
     "output_type": "stream",
     "text": [
      "SGD Total Data is loaded\n"
     ]
    }
   ],
   "source": [
    "# SGD Total \n",
    "try:\n",
    "    import_name = \"SGD_Total\"\n",
    "    with open(os.path.join(access_data_path(f\"{process_barcode}/data/{folder_total}\", f\"{import_name}\" + \".pkl\"))  , 'rb') as file: \n",
    "        SGD_Total = pickle.load(file)   \n",
    "    print(\"SGD Total Data is loaded\")\n",
    "except:\n",
    "    print(\"No SGD Best Total Data\") \n",
    "\n",
    "    SGD_Total = {} \n",
    "    print(\"SGD Total Data is created\")"
   ]
  },
  {
   "cell_type": "markdown",
   "metadata": {},
   "source": [
    "## 3-) `Decision Tree`"
   ]
  },
  {
   "cell_type": "code",
   "execution_count": 7,
   "metadata": {},
   "outputs": [
    {
     "name": "stdout",
     "output_type": "stream",
     "text": [
      "DT Total Data is loaded\n"
     ]
    }
   ],
   "source": [
    "# DT Total \n",
    "try:\n",
    "    import_name = \"DT_Total\"\n",
    "    with open(os.path.join(access_data_path(f\"{process_barcode}/data/{folder_total}\", f\"{import_name}\" + \".pkl\"))  , 'rb') as file: \n",
    "        DT_Total = pickle.load(file)   \n",
    "    print(\"DT Total Data is loaded\")\n",
    "except:\n",
    "    print(\"No DT Best Total Data\") \n",
    "\n",
    "    DT_Total = {} \n",
    "    print(\"DT Total Data is created\")"
   ]
  },
  {
   "cell_type": "markdown",
   "metadata": {},
   "source": [
    "## 4-) `Random Forest`"
   ]
  },
  {
   "cell_type": "code",
   "execution_count": 8,
   "metadata": {},
   "outputs": [
    {
     "name": "stdout",
     "output_type": "stream",
     "text": [
      "RF Total Data is loaded\n"
     ]
    }
   ],
   "source": [
    "# RF Total \n",
    "try:\n",
    "    import_name = \"RF_Total\"\n",
    "    with open(os.path.join(access_data_path(f\"{process_barcode}/data/{folder_total}\", f\"{import_name}\" + \".pkl\"))  , 'rb') as file: \n",
    "        RF_Total = pickle.load(file)   \n",
    "    print(\"RF Total Data is loaded\")\n",
    "except:\n",
    "    print(\"No RF Best Total Data\") \n",
    "\n",
    "    RF_Total = {} \n",
    "    print(\"RF Total Data is created\")"
   ]
  },
  {
   "cell_type": "markdown",
   "metadata": {},
   "source": [
    "## 5-) `Gradient Boosting`"
   ]
  },
  {
   "cell_type": "code",
   "execution_count": 9,
   "metadata": {},
   "outputs": [
    {
     "name": "stdout",
     "output_type": "stream",
     "text": [
      "GB Total Data is loaded\n"
     ]
    }
   ],
   "source": [
    "# GB Total \n",
    "try:\n",
    "    import_name = \"GB_Total\"\n",
    "    with open(os.path.join(access_data_path(f\"{process_barcode}/data/{folder_total}\", f\"{import_name}\" + \".pkl\"))  , 'rb') as file: \n",
    "        GB_Total = pickle.load(file)   \n",
    "    print(\"GB Total Data is loaded\")\n",
    "except:\n",
    "    print(\"No GB Best Total Data\") \n",
    "\n",
    "    GB_Total = {} \n",
    "    print(\"GB Total Data is created\")"
   ]
  },
  {
   "cell_type": "markdown",
   "metadata": {},
   "source": [
    "---\n",
    "# 2- `Results`"
   ]
  },
  {
   "cell_type": "markdown",
   "metadata": {},
   "source": [
    "## 0-) `NN`"
   ]
  },
  {
   "cell_type": "code",
   "execution_count": 10,
   "metadata": {},
   "outputs": [
    {
     "data": {
      "text/html": [
       "<div>\n",
       "<style scoped>\n",
       "    .dataframe tbody tr th:only-of-type {\n",
       "        vertical-align: middle;\n",
       "    }\n",
       "\n",
       "    .dataframe tbody tr th {\n",
       "        vertical-align: top;\n",
       "    }\n",
       "\n",
       "    .dataframe thead th {\n",
       "        text-align: right;\n",
       "    }\n",
       "</style>\n",
       "<table border=\"1\" class=\"dataframe\">\n",
       "  <thead>\n",
       "    <tr style=\"text-align: right;\">\n",
       "      <th></th>\n",
       "      <th>Applications</th>\n",
       "      <th>Applications_Condition</th>\n",
       "      <th>Model</th>\n",
       "      <th>Parameters</th>\n",
       "      <th>Accuracy</th>\n",
       "      <th>Precision</th>\n",
       "      <th>Recall</th>\n",
       "      <th>F1</th>\n",
       "    </tr>\n",
       "  </thead>\n",
       "  <tbody>\n",
       "    <tr>\n",
       "      <th>0</th>\n",
       "      <td>ZScore_v0_ZScore_v0_Basic_v1_Basic_v1_Standard...</td>\n",
       "      <td>Out_1_Nor_0_Aut_0_DR_0_NeNe</td>\n",
       "      <td>NeNe</td>\n",
       "      <td>exp_p0: {'GaussianNoise': 0.1}, exp_p1: {'Dens...</td>\n",
       "      <td>0.920113</td>\n",
       "      <td>0.955464</td>\n",
       "      <td>0.944828</td>\n",
       "      <td>0.938471</td>\n",
       "    </tr>\n",
       "    <tr>\n",
       "      <th>0</th>\n",
       "      <td>ZScore_v0_ZScore_v0_Basic_v1_Basic_v1_Standard...</td>\n",
       "      <td>Out_1_Nor_1_Aut_0_DR_0_NeNe</td>\n",
       "      <td>NeNe</td>\n",
       "      <td>exp_p0: {'GaussianNoise': 0.1}, exp_p1: {'Dens...</td>\n",
       "      <td>0.961455</td>\n",
       "      <td>0.980732</td>\n",
       "      <td>0.979310</td>\n",
       "      <td>0.978543</td>\n",
       "    </tr>\n",
       "    <tr>\n",
       "      <th>0</th>\n",
       "      <td>ZScore_v0_ZScore_v0_Basic_v1_Basic_v1_Standard...</td>\n",
       "      <td>Out_1_Nor_1_Aut_1_DR_0_NeNe</td>\n",
       "      <td>NeNe</td>\n",
       "      <td>exp_p0: {'GaussianNoise': 0.1}, exp_p1: {'Dens...</td>\n",
       "      <td>0.389901</td>\n",
       "      <td>0.392103</td>\n",
       "      <td>0.475862</td>\n",
       "      <td>0.414928</td>\n",
       "    </tr>\n",
       "    <tr>\n",
       "      <th>0</th>\n",
       "      <td>ZScore_v0_ZScore_v0_Basic_v1_Basic_v1_Standard...</td>\n",
       "      <td>Out_1_Nor_1_Aut_1_DR_1_NeNe</td>\n",
       "      <td>NeNe</td>\n",
       "      <td>exp_p0: {'GaussianNoise': 0.1}, exp_p1: {'Dens...</td>\n",
       "      <td>0.394105</td>\n",
       "      <td>0.380501</td>\n",
       "      <td>0.468966</td>\n",
       "      <td>0.403222</td>\n",
       "    </tr>\n",
       "    <tr>\n",
       "      <th>0</th>\n",
       "      <td>ZScore_v0_ZScore_v0_Dropout_v1_Denoising_v0_St...</td>\n",
       "      <td>Out_1_Nor_0_Aut_0_DR_0_NeNe</td>\n",
       "      <td>NeNe</td>\n",
       "      <td>exp_p0: {'GaussianNoise': 0.1}, exp_p1: {'Dens...</td>\n",
       "      <td>0.921502</td>\n",
       "      <td>0.941788</td>\n",
       "      <td>0.917241</td>\n",
       "      <td>0.906983</td>\n",
       "    </tr>\n",
       "    <tr>\n",
       "      <th>0</th>\n",
       "      <td>ZScore_v0_ZScore_v0_Dropout_v1_Denoising_v0_St...</td>\n",
       "      <td>Out_1_Nor_1_Aut_0_DR_0_NeNe</td>\n",
       "      <td>NeNe</td>\n",
       "      <td>exp_p0: {'GaussianNoise': 0.1}, exp_p1: {'Dens...</td>\n",
       "      <td>0.977959</td>\n",
       "      <td>0.987830</td>\n",
       "      <td>0.986207</td>\n",
       "      <td>0.985653</td>\n",
       "    </tr>\n",
       "    <tr>\n",
       "      <th>0</th>\n",
       "      <td>ZScore_v0_ZScore_v0_Dropout_v1_Denoising_v0_St...</td>\n",
       "      <td>Out_1_Nor_1_Aut_1_DR_0_NeNe</td>\n",
       "      <td>NeNe</td>\n",
       "      <td>exp_p0: {'GaussianNoise': 0.1}, exp_p1: {'Dens...</td>\n",
       "      <td>0.082664</td>\n",
       "      <td>0.004756</td>\n",
       "      <td>0.068966</td>\n",
       "      <td>0.008899</td>\n",
       "    </tr>\n",
       "    <tr>\n",
       "      <th>0</th>\n",
       "      <td>ZScore_v0_ZScore_v0_Dropout_v1_Denoising_v0_St...</td>\n",
       "      <td>Out_1_Nor_1_Aut_1_DR_1_NeNe</td>\n",
       "      <td>NeNe</td>\n",
       "      <td>exp_p0: {'GaussianNoise': 0.1}, exp_p1: {'Dens...</td>\n",
       "      <td>0.141842</td>\n",
       "      <td>0.108369</td>\n",
       "      <td>0.144828</td>\n",
       "      <td>0.118488</td>\n",
       "    </tr>\n",
       "  </tbody>\n",
       "</table>\n",
       "</div>"
      ],
      "text/plain": [
       "                                        Applications  \\\n",
       "0  ZScore_v0_ZScore_v0_Basic_v1_Basic_v1_Standard...   \n",
       "0  ZScore_v0_ZScore_v0_Basic_v1_Basic_v1_Standard...   \n",
       "0  ZScore_v0_ZScore_v0_Basic_v1_Basic_v1_Standard...   \n",
       "0  ZScore_v0_ZScore_v0_Basic_v1_Basic_v1_Standard...   \n",
       "0  ZScore_v0_ZScore_v0_Dropout_v1_Denoising_v0_St...   \n",
       "0  ZScore_v0_ZScore_v0_Dropout_v1_Denoising_v0_St...   \n",
       "0  ZScore_v0_ZScore_v0_Dropout_v1_Denoising_v0_St...   \n",
       "0  ZScore_v0_ZScore_v0_Dropout_v1_Denoising_v0_St...   \n",
       "\n",
       "        Applications_Condition Model  \\\n",
       "0  Out_1_Nor_0_Aut_0_DR_0_NeNe  NeNe   \n",
       "0  Out_1_Nor_1_Aut_0_DR_0_NeNe  NeNe   \n",
       "0  Out_1_Nor_1_Aut_1_DR_0_NeNe  NeNe   \n",
       "0  Out_1_Nor_1_Aut_1_DR_1_NeNe  NeNe   \n",
       "0  Out_1_Nor_0_Aut_0_DR_0_NeNe  NeNe   \n",
       "0  Out_1_Nor_1_Aut_0_DR_0_NeNe  NeNe   \n",
       "0  Out_1_Nor_1_Aut_1_DR_0_NeNe  NeNe   \n",
       "0  Out_1_Nor_1_Aut_1_DR_1_NeNe  NeNe   \n",
       "\n",
       "                                          Parameters  Accuracy  Precision  \\\n",
       "0  exp_p0: {'GaussianNoise': 0.1}, exp_p1: {'Dens...  0.920113   0.955464   \n",
       "0  exp_p0: {'GaussianNoise': 0.1}, exp_p1: {'Dens...  0.961455   0.980732   \n",
       "0  exp_p0: {'GaussianNoise': 0.1}, exp_p1: {'Dens...  0.389901   0.392103   \n",
       "0  exp_p0: {'GaussianNoise': 0.1}, exp_p1: {'Dens...  0.394105   0.380501   \n",
       "0  exp_p0: {'GaussianNoise': 0.1}, exp_p1: {'Dens...  0.921502   0.941788   \n",
       "0  exp_p0: {'GaussianNoise': 0.1}, exp_p1: {'Dens...  0.977959   0.987830   \n",
       "0  exp_p0: {'GaussianNoise': 0.1}, exp_p1: {'Dens...  0.082664   0.004756   \n",
       "0  exp_p0: {'GaussianNoise': 0.1}, exp_p1: {'Dens...  0.141842   0.108369   \n",
       "\n",
       "     Recall        F1  \n",
       "0  0.944828  0.938471  \n",
       "0  0.979310  0.978543  \n",
       "0  0.475862  0.414928  \n",
       "0  0.468966  0.403222  \n",
       "0  0.917241  0.906983  \n",
       "0  0.986207  0.985653  \n",
       "0  0.068966  0.008899  \n",
       "0  0.144828  0.118488  "
      ]
     },
     "execution_count": 10,
     "metadata": {},
     "output_type": "execute_result"
    }
   ],
   "source": [
    "NN_Total"
   ]
  },
  {
   "cell_type": "code",
   "execution_count": 11,
   "metadata": {},
   "outputs": [
    {
     "name": "stdout",
     "output_type": "stream",
     "text": [
      "Number of Unique Models: 2\n"
     ]
    }
   ],
   "source": [
    "try:\n",
    "    # Number of Unique Models \n",
    "    print(f\"Number of Unique Models: {len(pd.unique(NN_Total['Applications']))}\") \n",
    "except: \n",
    "    print(\"No NN Total Data\") "
   ]
  },
  {
   "cell_type": "markdown",
   "metadata": {},
   "source": [
    "### A-) `Inspection: Single`"
   ]
  },
  {
   "cell_type": "code",
   "execution_count": 12,
   "metadata": {},
   "outputs": [],
   "source": [
    "try: \n",
    "    # Target \n",
    "    target_model = \"Free_v0_Free_v0_PCA_n2\" \n",
    "    # Statistics \n",
    "    NN_Total[NN_Total[\"Applications\"] == target_model] \n",
    "except: \n",
    "    print(\"No NN Total Data\") "
   ]
  },
  {
   "cell_type": "markdown",
   "metadata": {},
   "source": [
    "### B-) `Inspection: Best`"
   ]
  },
  {
   "cell_type": "code",
   "execution_count": 13,
   "metadata": {},
   "outputs": [],
   "source": [
    "try: \n",
    "    NN_Total.sort_values(by=\"F1\", ascending=False) \n",
    "except: \n",
    "    print(\"No NN Total Data\") "
   ]
  },
  {
   "cell_type": "markdown",
   "metadata": {},
   "source": [
    "## 1-) `SVM`"
   ]
  },
  {
   "cell_type": "code",
   "execution_count": 14,
   "metadata": {},
   "outputs": [
    {
     "data": {
      "text/html": [
       "<div>\n",
       "<style scoped>\n",
       "    .dataframe tbody tr th:only-of-type {\n",
       "        vertical-align: middle;\n",
       "    }\n",
       "\n",
       "    .dataframe tbody tr th {\n",
       "        vertical-align: top;\n",
       "    }\n",
       "\n",
       "    .dataframe thead th {\n",
       "        text-align: right;\n",
       "    }\n",
       "</style>\n",
       "<table border=\"1\" class=\"dataframe\">\n",
       "  <thead>\n",
       "    <tr style=\"text-align: right;\">\n",
       "      <th></th>\n",
       "      <th>Applications</th>\n",
       "      <th>Applications_Condition</th>\n",
       "      <th>Model</th>\n",
       "      <th>Parameters</th>\n",
       "      <th>Accuracy</th>\n",
       "      <th>Precision</th>\n",
       "      <th>Recall</th>\n",
       "      <th>F1</th>\n",
       "    </tr>\n",
       "  </thead>\n",
       "  <tbody>\n",
       "    <tr>\n",
       "      <th>0</th>\n",
       "      <td>ZScore_v0_ZScore_v0_Basic_v1_Basic_v1_Standard...</td>\n",
       "      <td>Out_1_Nor_0_Aut_0_DR_0</td>\n",
       "      <td>SVM</td>\n",
       "      <td>kernel_poly_degree_2_coef0_0.5_C_1_gamma_scale</td>\n",
       "      <td>0.363014</td>\n",
       "      <td>0.334954</td>\n",
       "      <td>0.363014</td>\n",
       "      <td>0.298778</td>\n",
       "    </tr>\n",
       "    <tr>\n",
       "      <th>0</th>\n",
       "      <td>ZScore_v0_ZScore_v0_Basic_v1_Basic_v1_Standard...</td>\n",
       "      <td>Out_1_Nor_1_Aut_0_DR_0</td>\n",
       "      <td>SVM</td>\n",
       "      <td>kernel_poly_degree_2_coef0_0.5_C_1_gamma_scale</td>\n",
       "      <td>1.000000</td>\n",
       "      <td>1.000000</td>\n",
       "      <td>1.000000</td>\n",
       "      <td>1.000000</td>\n",
       "    </tr>\n",
       "    <tr>\n",
       "      <th>0</th>\n",
       "      <td>ZScore_v0_ZScore_v0_Basic_v1_Basic_v1_Standard...</td>\n",
       "      <td>Out_1_Nor_1_Aut_1_DR_0</td>\n",
       "      <td>SVM</td>\n",
       "      <td>kernel_poly_degree_2_coef0_0.5_C_1_gamma_scale</td>\n",
       "      <td>0.554795</td>\n",
       "      <td>0.592525</td>\n",
       "      <td>0.554795</td>\n",
       "      <td>0.526218</td>\n",
       "    </tr>\n",
       "    <tr>\n",
       "      <th>0</th>\n",
       "      <td>ZScore_v0_ZScore_v0_Basic_v1_Basic_v1_Standard...</td>\n",
       "      <td>Out_1_Nor_1_Aut_1_DR_1</td>\n",
       "      <td>SVM</td>\n",
       "      <td>kernel_poly_degree_2_coef0_0.5_C_1_gamma_scale</td>\n",
       "      <td>0.554795</td>\n",
       "      <td>0.580111</td>\n",
       "      <td>0.554795</td>\n",
       "      <td>0.528342</td>\n",
       "    </tr>\n",
       "    <tr>\n",
       "      <th>0</th>\n",
       "      <td>ZScore_v0_ZScore_v0_Dropout_v1_Denoising_v0_St...</td>\n",
       "      <td>Out_1_Nor_0_Aut_0_DR_0</td>\n",
       "      <td>SVM</td>\n",
       "      <td>kernel_poly_degree_2_coef0_0.5_C_1_gamma_scale</td>\n",
       "      <td>0.363014</td>\n",
       "      <td>0.334954</td>\n",
       "      <td>0.363014</td>\n",
       "      <td>0.298778</td>\n",
       "    </tr>\n",
       "    <tr>\n",
       "      <th>0</th>\n",
       "      <td>ZScore_v0_ZScore_v0_Dropout_v1_Denoising_v0_St...</td>\n",
       "      <td>Out_1_Nor_1_Aut_0_DR_0</td>\n",
       "      <td>SVM</td>\n",
       "      <td>kernel_poly_degree_2_coef0_0.5_C_1_gamma_scale</td>\n",
       "      <td>1.000000</td>\n",
       "      <td>1.000000</td>\n",
       "      <td>1.000000</td>\n",
       "      <td>1.000000</td>\n",
       "    </tr>\n",
       "    <tr>\n",
       "      <th>0</th>\n",
       "      <td>ZScore_v0_ZScore_v0_Dropout_v1_Denoising_v0_St...</td>\n",
       "      <td>Out_1_Nor_1_Aut_1_DR_0</td>\n",
       "      <td>SVM</td>\n",
       "      <td>kernel_poly_degree_2_coef0_0.5_C_1_gamma_scale</td>\n",
       "      <td>0.191781</td>\n",
       "      <td>0.131647</td>\n",
       "      <td>0.191781</td>\n",
       "      <td>0.139114</td>\n",
       "    </tr>\n",
       "    <tr>\n",
       "      <th>0</th>\n",
       "      <td>ZScore_v0_ZScore_v0_Dropout_v1_Denoising_v0_St...</td>\n",
       "      <td>Out_1_Nor_1_Aut_1_DR_1</td>\n",
       "      <td>SVM</td>\n",
       "      <td>kernel_poly_degree_2_coef0_0.5_C_1_gamma_scale</td>\n",
       "      <td>0.157534</td>\n",
       "      <td>0.100393</td>\n",
       "      <td>0.157534</td>\n",
       "      <td>0.121024</td>\n",
       "    </tr>\n",
       "  </tbody>\n",
       "</table>\n",
       "</div>"
      ],
      "text/plain": [
       "                                        Applications  Applications_Condition  \\\n",
       "0  ZScore_v0_ZScore_v0_Basic_v1_Basic_v1_Standard...  Out_1_Nor_0_Aut_0_DR_0   \n",
       "0  ZScore_v0_ZScore_v0_Basic_v1_Basic_v1_Standard...  Out_1_Nor_1_Aut_0_DR_0   \n",
       "0  ZScore_v0_ZScore_v0_Basic_v1_Basic_v1_Standard...  Out_1_Nor_1_Aut_1_DR_0   \n",
       "0  ZScore_v0_ZScore_v0_Basic_v1_Basic_v1_Standard...  Out_1_Nor_1_Aut_1_DR_1   \n",
       "0  ZScore_v0_ZScore_v0_Dropout_v1_Denoising_v0_St...  Out_1_Nor_0_Aut_0_DR_0   \n",
       "0  ZScore_v0_ZScore_v0_Dropout_v1_Denoising_v0_St...  Out_1_Nor_1_Aut_0_DR_0   \n",
       "0  ZScore_v0_ZScore_v0_Dropout_v1_Denoising_v0_St...  Out_1_Nor_1_Aut_1_DR_0   \n",
       "0  ZScore_v0_ZScore_v0_Dropout_v1_Denoising_v0_St...  Out_1_Nor_1_Aut_1_DR_1   \n",
       "\n",
       "  Model                                      Parameters  Accuracy  Precision  \\\n",
       "0   SVM  kernel_poly_degree_2_coef0_0.5_C_1_gamma_scale  0.363014   0.334954   \n",
       "0   SVM  kernel_poly_degree_2_coef0_0.5_C_1_gamma_scale  1.000000   1.000000   \n",
       "0   SVM  kernel_poly_degree_2_coef0_0.5_C_1_gamma_scale  0.554795   0.592525   \n",
       "0   SVM  kernel_poly_degree_2_coef0_0.5_C_1_gamma_scale  0.554795   0.580111   \n",
       "0   SVM  kernel_poly_degree_2_coef0_0.5_C_1_gamma_scale  0.363014   0.334954   \n",
       "0   SVM  kernel_poly_degree_2_coef0_0.5_C_1_gamma_scale  1.000000   1.000000   \n",
       "0   SVM  kernel_poly_degree_2_coef0_0.5_C_1_gamma_scale  0.191781   0.131647   \n",
       "0   SVM  kernel_poly_degree_2_coef0_0.5_C_1_gamma_scale  0.157534   0.100393   \n",
       "\n",
       "     Recall        F1  \n",
       "0  0.363014  0.298778  \n",
       "0  1.000000  1.000000  \n",
       "0  0.554795  0.526218  \n",
       "0  0.554795  0.528342  \n",
       "0  0.363014  0.298778  \n",
       "0  1.000000  1.000000  \n",
       "0  0.191781  0.139114  \n",
       "0  0.157534  0.121024  "
      ]
     },
     "execution_count": 14,
     "metadata": {},
     "output_type": "execute_result"
    }
   ],
   "source": [
    "SVM_Total"
   ]
  },
  {
   "cell_type": "code",
   "execution_count": 15,
   "metadata": {},
   "outputs": [
    {
     "name": "stdout",
     "output_type": "stream",
     "text": [
      "Number of Unique Models: 2\n"
     ]
    }
   ],
   "source": [
    "try:\n",
    "    # Number of Unique Models \n",
    "    print(f\"Number of Unique Models: {len(pd.unique(SVM_Total['Applications']))}\") \n",
    "except: \n",
    "    print(\"No SVM Total Data\") "
   ]
  },
  {
   "cell_type": "markdown",
   "metadata": {},
   "source": [
    "### A-) `Inspection: Single`"
   ]
  },
  {
   "cell_type": "code",
   "execution_count": 16,
   "metadata": {},
   "outputs": [],
   "source": [
    "try: \n",
    "    # Target \n",
    "    target_model = \"Free_v0_Free_v0_PCA_n2\" \n",
    "    # Statistics \n",
    "    SVM_Total[SVM_Total[\"Applications\"] == target_model] \n",
    "except: \n",
    "    print(\"No SVM Total Data\") "
   ]
  },
  {
   "cell_type": "markdown",
   "metadata": {},
   "source": [
    "### B-) `Inspection: Best`"
   ]
  },
  {
   "cell_type": "code",
   "execution_count": 17,
   "metadata": {},
   "outputs": [],
   "source": [
    "try: \n",
    "    SVM_Total.sort_values(by=\"F1\", ascending=False) \n",
    "except: \n",
    "    print(\"No SVM Total Data\") "
   ]
  },
  {
   "cell_type": "markdown",
   "metadata": {},
   "source": [
    "## 2-) `SGD`"
   ]
  },
  {
   "cell_type": "code",
   "execution_count": 18,
   "metadata": {},
   "outputs": [
    {
     "name": "stdout",
     "output_type": "stream",
     "text": [
      "Number of Unique Models: 2\n"
     ]
    }
   ],
   "source": [
    "try:\n",
    "    # Number of Unique Models \n",
    "    print(f\"Number of Unique Models: {len(pd.unique(SGD_Total['Applications']))}\") \n",
    "except: \n",
    "    print(\"No SGD Total Data\") "
   ]
  },
  {
   "cell_type": "markdown",
   "metadata": {},
   "source": [
    "### A-) `Inspection: Single`"
   ]
  },
  {
   "cell_type": "code",
   "execution_count": 19,
   "metadata": {},
   "outputs": [],
   "source": [
    "try: \n",
    "    # Target \n",
    "    target_model = \"Free_v0_Free_v0_PCA_n2\" \n",
    "    # Statistics \n",
    "    SGD_Total[SGD_Total[\"Applications\"] == target_model] \n",
    "except: \n",
    "    print(\"No SGD Total Data\") "
   ]
  },
  {
   "cell_type": "markdown",
   "metadata": {},
   "source": [
    "### B-) `Inspection: Best`"
   ]
  },
  {
   "cell_type": "code",
   "execution_count": 20,
   "metadata": {},
   "outputs": [],
   "source": [
    "try: \n",
    "    SGD_Total.sort_values(by=\"F1\", ascending=False) \n",
    "except: \n",
    "    print(\"No SGD Total Data\") "
   ]
  },
  {
   "cell_type": "markdown",
   "metadata": {},
   "source": [
    "## 3-) `Decision Tree`"
   ]
  },
  {
   "cell_type": "code",
   "execution_count": 21,
   "metadata": {},
   "outputs": [
    {
     "name": "stdout",
     "output_type": "stream",
     "text": [
      "Number of Unique Models: 2\n"
     ]
    }
   ],
   "source": [
    "try:\n",
    "    # Number of Unique Models \n",
    "    print(f\"Number of Unique Models: {len(pd.unique(DT_Total['Applications']))}\") \n",
    "except: \n",
    "    print(\"No DT Total Data\") "
   ]
  },
  {
   "cell_type": "markdown",
   "metadata": {},
   "source": [
    "### A-) `Inspection: Single`"
   ]
  },
  {
   "cell_type": "code",
   "execution_count": 22,
   "metadata": {},
   "outputs": [],
   "source": [
    "try: \n",
    "    # Target \n",
    "    target_model = \"Free_v0_Free_v0_PCA_n2\" \n",
    "    # Statistics \n",
    "    DT_Total[DT_Total[\"Applications\"] == target_model] \n",
    "except: \n",
    "    print(\"No DT Total Data\") "
   ]
  },
  {
   "cell_type": "markdown",
   "metadata": {},
   "source": [
    "### B-) `Inspection: Best`"
   ]
  },
  {
   "cell_type": "code",
   "execution_count": 23,
   "metadata": {},
   "outputs": [],
   "source": [
    "try: \n",
    "    DT_Total.sort_values(by=\"F1\", ascending=False) \n",
    "except: \n",
    "    print(\"No DT Total Data\") "
   ]
  },
  {
   "cell_type": "markdown",
   "metadata": {},
   "source": [
    "## 4-) `Random Forest`"
   ]
  },
  {
   "cell_type": "code",
   "execution_count": 24,
   "metadata": {},
   "outputs": [
    {
     "name": "stdout",
     "output_type": "stream",
     "text": [
      "Number of Unique Models: 2\n"
     ]
    }
   ],
   "source": [
    "try:\n",
    "    # Number of Unique Models \n",
    "    print(f\"Number of Unique Models: {len(pd.unique(RF_Total['Applications']))}\") \n",
    "except: \n",
    "    print(\"No GB Total Data\") "
   ]
  },
  {
   "cell_type": "markdown",
   "metadata": {},
   "source": [
    "### A-) `Inspection: Single`"
   ]
  },
  {
   "cell_type": "code",
   "execution_count": 25,
   "metadata": {},
   "outputs": [],
   "source": [
    "try: \n",
    "    # Target \n",
    "    target_model = \"Free_v0_Free_v0_PCA_n2\" \n",
    "    # Statistics \n",
    "    RF_Total[RF_Total[\"Applications\"] == target_model] \n",
    "except: \n",
    "    print(\"No RF Total Data\") "
   ]
  },
  {
   "cell_type": "markdown",
   "metadata": {},
   "source": [
    "### B-) `Inspection: Best`"
   ]
  },
  {
   "cell_type": "code",
   "execution_count": 26,
   "metadata": {},
   "outputs": [],
   "source": [
    "try: \n",
    "    RF_Total.sort_values(by=\"F1\", ascending=False) \n",
    "except: \n",
    "    print(\"No GB Total Data\") "
   ]
  },
  {
   "cell_type": "markdown",
   "metadata": {},
   "source": [
    "## 5-) `Gradient Boosting`"
   ]
  },
  {
   "cell_type": "code",
   "execution_count": 27,
   "metadata": {},
   "outputs": [
    {
     "name": "stdout",
     "output_type": "stream",
     "text": [
      "No GB Total Data\n"
     ]
    }
   ],
   "source": [
    "try:\n",
    "    # Number of Unique Models \n",
    "    print(f\"Number of Unique Models: {len(pd.unique(GB_Total['Applications']))}\") \n",
    "except: \n",
    "    print(\"No GB Total Data\") "
   ]
  },
  {
   "cell_type": "markdown",
   "metadata": {},
   "source": [
    "### A-) `Inspection: Single`"
   ]
  },
  {
   "cell_type": "code",
   "execution_count": 28,
   "metadata": {},
   "outputs": [
    {
     "name": "stdout",
     "output_type": "stream",
     "text": [
      "No GB Total Data\n"
     ]
    }
   ],
   "source": [
    "try: \n",
    "    # Target \n",
    "    target_model = \"Free_v0_Free_v0_PCA_n2\" \n",
    "    # Statistics \n",
    "    GB_Total[GB_Total[\"Applications\"] == target_model] \n",
    "except: \n",
    "    print(\"No GB Total Data\") "
   ]
  },
  {
   "cell_type": "markdown",
   "metadata": {},
   "source": [
    "### B-) `Inspection: Best`"
   ]
  },
  {
   "cell_type": "code",
   "execution_count": 29,
   "metadata": {},
   "outputs": [
    {
     "name": "stdout",
     "output_type": "stream",
     "text": [
      "No GB Total Data\n"
     ]
    }
   ],
   "source": [
    "try: \n",
    "    GB_Total.sort_values(by=\"F1\", ascending=False) \n",
    "except: \n",
    "    print(\"No GB Total Data\") "
   ]
  },
  {
   "cell_type": "markdown",
   "metadata": {},
   "source": [
    "---\n",
    "# 3- `All In One`"
   ]
  },
  {
   "cell_type": "code",
   "execution_count": 30,
   "metadata": {},
   "outputs": [
    {
     "data": {
      "text/html": [
       "<div>\n",
       "<style scoped>\n",
       "    .dataframe tbody tr th:only-of-type {\n",
       "        vertical-align: middle;\n",
       "    }\n",
       "\n",
       "    .dataframe tbody tr th {\n",
       "        vertical-align: top;\n",
       "    }\n",
       "\n",
       "    .dataframe thead th {\n",
       "        text-align: right;\n",
       "    }\n",
       "</style>\n",
       "<table border=\"1\" class=\"dataframe\">\n",
       "  <thead>\n",
       "    <tr style=\"text-align: right;\">\n",
       "      <th></th>\n",
       "      <th>Applications</th>\n",
       "      <th>Applications_Condition</th>\n",
       "      <th>Model</th>\n",
       "      <th>Parameters</th>\n",
       "      <th>Accuracy</th>\n",
       "      <th>Precision</th>\n",
       "      <th>Recall</th>\n",
       "      <th>F1</th>\n",
       "    </tr>\n",
       "  </thead>\n",
       "  <tbody>\n",
       "    <tr>\n",
       "      <th>0</th>\n",
       "      <td>ZScore_v0_ZScore_v0_Dropout_v1_Denoising_v0_St...</td>\n",
       "      <td>Out_1_Nor_1_Aut_0_DR_0</td>\n",
       "      <td>SGD</td>\n",
       "      <td>alpha_0.01_max_iter_1000_penalty_l2_tol_0.0001</td>\n",
       "      <td>1.000000</td>\n",
       "      <td>1.000000</td>\n",
       "      <td>1.000000</td>\n",
       "      <td>1.000000</td>\n",
       "    </tr>\n",
       "    <tr>\n",
       "      <th>0</th>\n",
       "      <td>ZScore_v0_ZScore_v0_Dropout_v1_Denoising_v0_St...</td>\n",
       "      <td>Out_1_Nor_1_Aut_0_DR_0</td>\n",
       "      <td>RF</td>\n",
       "      <td>Basic</td>\n",
       "      <td>1.000000</td>\n",
       "      <td>1.000000</td>\n",
       "      <td>1.000000</td>\n",
       "      <td>1.000000</td>\n",
       "    </tr>\n",
       "    <tr>\n",
       "      <th>0</th>\n",
       "      <td>ZScore_v0_ZScore_v0_Dropout_v1_Denoising_v0_St...</td>\n",
       "      <td>Out_1_Nor_1_Aut_0_DR_0</td>\n",
       "      <td>SVM</td>\n",
       "      <td>kernel_poly_degree_2_coef0_0.5_C_1_gamma_scale</td>\n",
       "      <td>1.000000</td>\n",
       "      <td>1.000000</td>\n",
       "      <td>1.000000</td>\n",
       "      <td>1.000000</td>\n",
       "    </tr>\n",
       "    <tr>\n",
       "      <th>0</th>\n",
       "      <td>ZScore_v0_ZScore_v0_Dropout_v1_Denoising_v0_St...</td>\n",
       "      <td>Out_1_Nor_0_Aut_0_DR_0</td>\n",
       "      <td>RF</td>\n",
       "      <td>Basic</td>\n",
       "      <td>1.000000</td>\n",
       "      <td>1.000000</td>\n",
       "      <td>1.000000</td>\n",
       "      <td>1.000000</td>\n",
       "    </tr>\n",
       "    <tr>\n",
       "      <th>0</th>\n",
       "      <td>ZScore_v0_ZScore_v0_Basic_v1_Basic_v1_Standard...</td>\n",
       "      <td>Out_1_Nor_1_Aut_0_DR_0</td>\n",
       "      <td>SVM</td>\n",
       "      <td>kernel_poly_degree_2_coef0_0.5_C_1_gamma_scale</td>\n",
       "      <td>1.000000</td>\n",
       "      <td>1.000000</td>\n",
       "      <td>1.000000</td>\n",
       "      <td>1.000000</td>\n",
       "    </tr>\n",
       "    <tr>\n",
       "      <th>0</th>\n",
       "      <td>ZScore_v0_ZScore_v0_Basic_v1_Basic_v1_Standard...</td>\n",
       "      <td>Out_1_Nor_1_Aut_0_DR_0</td>\n",
       "      <td>SGD</td>\n",
       "      <td>alpha_0.01_max_iter_1000_penalty_l2_tol_0.0001</td>\n",
       "      <td>1.000000</td>\n",
       "      <td>1.000000</td>\n",
       "      <td>1.000000</td>\n",
       "      <td>1.000000</td>\n",
       "    </tr>\n",
       "    <tr>\n",
       "      <th>0</th>\n",
       "      <td>ZScore_v0_ZScore_v0_Basic_v1_Basic_v1_Standard...</td>\n",
       "      <td>Out_1_Nor_0_Aut_0_DR_0</td>\n",
       "      <td>RF</td>\n",
       "      <td>Basic</td>\n",
       "      <td>1.000000</td>\n",
       "      <td>1.000000</td>\n",
       "      <td>1.000000</td>\n",
       "      <td>1.000000</td>\n",
       "    </tr>\n",
       "    <tr>\n",
       "      <th>0</th>\n",
       "      <td>ZScore_v0_ZScore_v0_Basic_v1_Basic_v1_Standard...</td>\n",
       "      <td>Out_1_Nor_1_Aut_0_DR_0</td>\n",
       "      <td>RF</td>\n",
       "      <td>Basic</td>\n",
       "      <td>1.000000</td>\n",
       "      <td>1.000000</td>\n",
       "      <td>1.000000</td>\n",
       "      <td>1.000000</td>\n",
       "    </tr>\n",
       "    <tr>\n",
       "      <th>0</th>\n",
       "      <td>ZScore_v0_ZScore_v0_Basic_v1_Basic_v1_Standard...</td>\n",
       "      <td>Out_1_Nor_1_Aut_1_DR_0</td>\n",
       "      <td>RF</td>\n",
       "      <td>Basic</td>\n",
       "      <td>0.965753</td>\n",
       "      <td>0.968281</td>\n",
       "      <td>0.965753</td>\n",
       "      <td>0.965996</td>\n",
       "    </tr>\n",
       "    <tr>\n",
       "      <th>0</th>\n",
       "      <td>ZScore_v0_ZScore_v0_Dropout_v1_Denoising_v0_St...</td>\n",
       "      <td>Out_1_Nor_1_Aut_0_DR_0</td>\n",
       "      <td>DT</td>\n",
       "      <td>Basic</td>\n",
       "      <td>0.931507</td>\n",
       "      <td>0.937690</td>\n",
       "      <td>0.931507</td>\n",
       "      <td>0.931468</td>\n",
       "    </tr>\n",
       "    <tr>\n",
       "      <th>0</th>\n",
       "      <td>ZScore_v0_ZScore_v0_Dropout_v1_Denoising_v0_St...</td>\n",
       "      <td>Out_1_Nor_0_Aut_0_DR_0</td>\n",
       "      <td>DT</td>\n",
       "      <td>Basic</td>\n",
       "      <td>0.931507</td>\n",
       "      <td>0.937690</td>\n",
       "      <td>0.931507</td>\n",
       "      <td>0.931468</td>\n",
       "    </tr>\n",
       "    <tr>\n",
       "      <th>0</th>\n",
       "      <td>ZScore_v0_ZScore_v0_Basic_v1_Basic_v1_Standard...</td>\n",
       "      <td>Out_1_Nor_1_Aut_0_DR_0</td>\n",
       "      <td>DT</td>\n",
       "      <td>Basic</td>\n",
       "      <td>0.931507</td>\n",
       "      <td>0.937690</td>\n",
       "      <td>0.931507</td>\n",
       "      <td>0.931468</td>\n",
       "    </tr>\n",
       "    <tr>\n",
       "      <th>0</th>\n",
       "      <td>ZScore_v0_ZScore_v0_Basic_v1_Basic_v1_Standard...</td>\n",
       "      <td>Out_1_Nor_0_Aut_0_DR_0</td>\n",
       "      <td>DT</td>\n",
       "      <td>Basic</td>\n",
       "      <td>0.931507</td>\n",
       "      <td>0.937690</td>\n",
       "      <td>0.931507</td>\n",
       "      <td>0.931468</td>\n",
       "    </tr>\n",
       "    <tr>\n",
       "      <th>0</th>\n",
       "      <td>ZScore_v0_ZScore_v0_Basic_v1_Basic_v1_Standard...</td>\n",
       "      <td>Out_1_Nor_1_Aut_1_DR_0</td>\n",
       "      <td>DT</td>\n",
       "      <td>Basic</td>\n",
       "      <td>0.821918</td>\n",
       "      <td>0.845229</td>\n",
       "      <td>0.821918</td>\n",
       "      <td>0.827906</td>\n",
       "    </tr>\n",
       "    <tr>\n",
       "      <th>0</th>\n",
       "      <td>ZScore_v0_ZScore_v0_Basic_v1_Basic_v1_Standard...</td>\n",
       "      <td>Out_1_Nor_1_Aut_1_DR_1</td>\n",
       "      <td>RF</td>\n",
       "      <td>Basic</td>\n",
       "      <td>0.719178</td>\n",
       "      <td>0.746802</td>\n",
       "      <td>0.719178</td>\n",
       "      <td>0.717150</td>\n",
       "    </tr>\n",
       "    <tr>\n",
       "      <th>0</th>\n",
       "      <td>ZScore_v0_ZScore_v0_Basic_v1_Basic_v1_Standard...</td>\n",
       "      <td>Out_1_Nor_1_Aut_1_DR_1</td>\n",
       "      <td>DT</td>\n",
       "      <td>Basic</td>\n",
       "      <td>0.623288</td>\n",
       "      <td>0.656235</td>\n",
       "      <td>0.623288</td>\n",
       "      <td>0.625832</td>\n",
       "    </tr>\n",
       "    <tr>\n",
       "      <th>0</th>\n",
       "      <td>ZScore_v0_ZScore_v0_Basic_v1_Basic_v1_Standard...</td>\n",
       "      <td>Out_1_Nor_1_Aut_1_DR_1</td>\n",
       "      <td>SVM</td>\n",
       "      <td>kernel_poly_degree_2_coef0_0.5_C_1_gamma_scale</td>\n",
       "      <td>0.554795</td>\n",
       "      <td>0.580111</td>\n",
       "      <td>0.554795</td>\n",
       "      <td>0.528342</td>\n",
       "    </tr>\n",
       "    <tr>\n",
       "      <th>0</th>\n",
       "      <td>ZScore_v0_ZScore_v0_Basic_v1_Basic_v1_Standard...</td>\n",
       "      <td>Out_1_Nor_1_Aut_1_DR_0</td>\n",
       "      <td>SVM</td>\n",
       "      <td>kernel_poly_degree_2_coef0_0.5_C_1_gamma_scale</td>\n",
       "      <td>0.554795</td>\n",
       "      <td>0.592525</td>\n",
       "      <td>0.554795</td>\n",
       "      <td>0.526218</td>\n",
       "    </tr>\n",
       "    <tr>\n",
       "      <th>0</th>\n",
       "      <td>ZScore_v0_ZScore_v0_Dropout_v1_Denoising_v0_St...</td>\n",
       "      <td>Out_1_Nor_0_Aut_0_DR_0</td>\n",
       "      <td>SGD</td>\n",
       "      <td>alpha_0.01_max_iter_1000_penalty_l2_tol_0.0001</td>\n",
       "      <td>0.500000</td>\n",
       "      <td>0.731398</td>\n",
       "      <td>0.500000</td>\n",
       "      <td>0.513436</td>\n",
       "    </tr>\n",
       "    <tr>\n",
       "      <th>0</th>\n",
       "      <td>ZScore_v0_ZScore_v0_Basic_v1_Basic_v1_Standard...</td>\n",
       "      <td>Out_1_Nor_0_Aut_0_DR_0</td>\n",
       "      <td>SGD</td>\n",
       "      <td>alpha_0.01_max_iter_1000_penalty_l2_tol_0.0001</td>\n",
       "      <td>0.500000</td>\n",
       "      <td>0.731398</td>\n",
       "      <td>0.500000</td>\n",
       "      <td>0.513436</td>\n",
       "    </tr>\n",
       "  </tbody>\n",
       "</table>\n",
       "</div>"
      ],
      "text/plain": [
       "                                        Applications  Applications_Condition  \\\n",
       "0  ZScore_v0_ZScore_v0_Dropout_v1_Denoising_v0_St...  Out_1_Nor_1_Aut_0_DR_0   \n",
       "0  ZScore_v0_ZScore_v0_Dropout_v1_Denoising_v0_St...  Out_1_Nor_1_Aut_0_DR_0   \n",
       "0  ZScore_v0_ZScore_v0_Dropout_v1_Denoising_v0_St...  Out_1_Nor_1_Aut_0_DR_0   \n",
       "0  ZScore_v0_ZScore_v0_Dropout_v1_Denoising_v0_St...  Out_1_Nor_0_Aut_0_DR_0   \n",
       "0  ZScore_v0_ZScore_v0_Basic_v1_Basic_v1_Standard...  Out_1_Nor_1_Aut_0_DR_0   \n",
       "0  ZScore_v0_ZScore_v0_Basic_v1_Basic_v1_Standard...  Out_1_Nor_1_Aut_0_DR_0   \n",
       "0  ZScore_v0_ZScore_v0_Basic_v1_Basic_v1_Standard...  Out_1_Nor_0_Aut_0_DR_0   \n",
       "0  ZScore_v0_ZScore_v0_Basic_v1_Basic_v1_Standard...  Out_1_Nor_1_Aut_0_DR_0   \n",
       "0  ZScore_v0_ZScore_v0_Basic_v1_Basic_v1_Standard...  Out_1_Nor_1_Aut_1_DR_0   \n",
       "0  ZScore_v0_ZScore_v0_Dropout_v1_Denoising_v0_St...  Out_1_Nor_1_Aut_0_DR_0   \n",
       "0  ZScore_v0_ZScore_v0_Dropout_v1_Denoising_v0_St...  Out_1_Nor_0_Aut_0_DR_0   \n",
       "0  ZScore_v0_ZScore_v0_Basic_v1_Basic_v1_Standard...  Out_1_Nor_1_Aut_0_DR_0   \n",
       "0  ZScore_v0_ZScore_v0_Basic_v1_Basic_v1_Standard...  Out_1_Nor_0_Aut_0_DR_0   \n",
       "0  ZScore_v0_ZScore_v0_Basic_v1_Basic_v1_Standard...  Out_1_Nor_1_Aut_1_DR_0   \n",
       "0  ZScore_v0_ZScore_v0_Basic_v1_Basic_v1_Standard...  Out_1_Nor_1_Aut_1_DR_1   \n",
       "0  ZScore_v0_ZScore_v0_Basic_v1_Basic_v1_Standard...  Out_1_Nor_1_Aut_1_DR_1   \n",
       "0  ZScore_v0_ZScore_v0_Basic_v1_Basic_v1_Standard...  Out_1_Nor_1_Aut_1_DR_1   \n",
       "0  ZScore_v0_ZScore_v0_Basic_v1_Basic_v1_Standard...  Out_1_Nor_1_Aut_1_DR_0   \n",
       "0  ZScore_v0_ZScore_v0_Dropout_v1_Denoising_v0_St...  Out_1_Nor_0_Aut_0_DR_0   \n",
       "0  ZScore_v0_ZScore_v0_Basic_v1_Basic_v1_Standard...  Out_1_Nor_0_Aut_0_DR_0   \n",
       "\n",
       "  Model                                      Parameters  Accuracy  Precision  \\\n",
       "0   SGD  alpha_0.01_max_iter_1000_penalty_l2_tol_0.0001  1.000000   1.000000   \n",
       "0    RF                                           Basic  1.000000   1.000000   \n",
       "0   SVM  kernel_poly_degree_2_coef0_0.5_C_1_gamma_scale  1.000000   1.000000   \n",
       "0    RF                                           Basic  1.000000   1.000000   \n",
       "0   SVM  kernel_poly_degree_2_coef0_0.5_C_1_gamma_scale  1.000000   1.000000   \n",
       "0   SGD  alpha_0.01_max_iter_1000_penalty_l2_tol_0.0001  1.000000   1.000000   \n",
       "0    RF                                           Basic  1.000000   1.000000   \n",
       "0    RF                                           Basic  1.000000   1.000000   \n",
       "0    RF                                           Basic  0.965753   0.968281   \n",
       "0    DT                                           Basic  0.931507   0.937690   \n",
       "0    DT                                           Basic  0.931507   0.937690   \n",
       "0    DT                                           Basic  0.931507   0.937690   \n",
       "0    DT                                           Basic  0.931507   0.937690   \n",
       "0    DT                                           Basic  0.821918   0.845229   \n",
       "0    RF                                           Basic  0.719178   0.746802   \n",
       "0    DT                                           Basic  0.623288   0.656235   \n",
       "0   SVM  kernel_poly_degree_2_coef0_0.5_C_1_gamma_scale  0.554795   0.580111   \n",
       "0   SVM  kernel_poly_degree_2_coef0_0.5_C_1_gamma_scale  0.554795   0.592525   \n",
       "0   SGD  alpha_0.01_max_iter_1000_penalty_l2_tol_0.0001  0.500000   0.731398   \n",
       "0   SGD  alpha_0.01_max_iter_1000_penalty_l2_tol_0.0001  0.500000   0.731398   \n",
       "\n",
       "     Recall        F1  \n",
       "0  1.000000  1.000000  \n",
       "0  1.000000  1.000000  \n",
       "0  1.000000  1.000000  \n",
       "0  1.000000  1.000000  \n",
       "0  1.000000  1.000000  \n",
       "0  1.000000  1.000000  \n",
       "0  1.000000  1.000000  \n",
       "0  1.000000  1.000000  \n",
       "0  0.965753  0.965996  \n",
       "0  0.931507  0.931468  \n",
       "0  0.931507  0.931468  \n",
       "0  0.931507  0.931468  \n",
       "0  0.931507  0.931468  \n",
       "0  0.821918  0.827906  \n",
       "0  0.719178  0.717150  \n",
       "0  0.623288  0.625832  \n",
       "0  0.554795  0.528342  \n",
       "0  0.554795  0.526218  \n",
       "0  0.500000  0.513436  \n",
       "0  0.500000  0.513436  "
      ]
     },
     "execution_count": 30,
     "metadata": {},
     "output_type": "execute_result"
    }
   ],
   "source": [
    "All = pd.concat([SVM_Total, SGD_Total, DT_Total, RF_Total, GB_Total], axis=0) \n",
    "All.sort_values(by=\"F1\", ascending=False).head(20)"
   ]
  },
  {
   "cell_type": "markdown",
   "metadata": {},
   "source": [
    "---\n",
    "# `End`"
   ]
  }
 ],
 "metadata": {
  "kernelspec": {
   "display_name": "Python 3",
   "language": "python",
   "name": "python3"
  },
  "language_info": {
   "codemirror_mode": {
    "name": "ipython",
    "version": 3
   },
   "file_extension": ".py",
   "mimetype": "text/x-python",
   "name": "python",
   "nbconvert_exporter": "python",
   "pygments_lexer": "ipython3",
   "version": "3.11.8"
  }
 },
 "nbformat": 4,
 "nbformat_minor": 2
}
