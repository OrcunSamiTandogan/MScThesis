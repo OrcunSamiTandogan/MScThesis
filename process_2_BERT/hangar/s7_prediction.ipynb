{
 "cells": [
  {
   "cell_type": "markdown",
   "metadata": {},
   "source": [
    "# `Step 7: Predictions`"
   ]
  },
  {
   "cell_type": "markdown",
   "metadata": {},
   "source": [
    "# 1-) `Config`"
   ]
  },
  {
   "cell_type": "code",
   "execution_count": null,
   "metadata": {},
   "outputs": [],
   "source": [
    "import pandas as pd \n",
    "import numpy as np "
   ]
  },
  {
   "cell_type": "code",
   "execution_count": 1,
   "metadata": {},
   "outputs": [
    {
     "name": "stdout",
     "output_type": "stream",
     "text": [
      "s0_config.ipynb | Started\n",
      "Current working directory: /Volumes/yeniwd/github/iThesis/backend/modules/experiments/exp1/process_1_BERT\n",
      "Parent directory: /Volumes/yeniwd/github/iThesis/backend/modules/experiments/exp1\n",
      "Import main data folder: /Volumes/yeniwd/github/iThesis/backend/modules/experiments/exp1/process_0/progress/s1_setup\n",
      "s0_config.ipynb | Finished\n"
     ]
    }
   ],
   "source": [
    "try: \n",
    "    if manual == 0:\n",
    "        print(\"s1_load.ipynb running from MANAGER\")\n",
    "except: \n",
    "    %run s0_config.ipynb "
   ]
  },
  {
   "cell_type": "markdown",
   "metadata": {},
   "source": [
    "# 2-) `Load`"
   ]
  },
  {
   "cell_type": "code",
   "execution_count": null,
   "metadata": {},
   "outputs": [],
   "source": [
    "with open(os.path.join(export_data_path(file_dimension), f'data_raw.pkl') , 'rb') as file:\n",
    "    data_raw = pickle.load(file)   \n",
    "\n",
    "with open(os.path.join(export_data_path(file_dimension), f'subject_data_full.pkl') , 'rb') as file:\n",
    "    subject_data_full = pickle.load(file)   \n",
    "\n",
    "with open(os.path.join(export_data_path(file_dimension), f'subject_outlier.pkl') , 'rb') as file:\n",
    "    subject_outlier = pickle.load(file)   \n",
    "\n",
    "with open(os.path.join(export_data_path(file_dimension), f'subject_autoencoder.pkl') , 'rb') as file:\n",
    "    subject_autoencoder = pickle.load(file)   \n",
    "    \n",
    "with open(os.path.join(export_data_path(file_dimension), f'subject_dimension.pkl') , 'rb') as file:\n",
    "    subject_dimension = pickle.load(file)    "
   ]
  },
  {
   "cell_type": "markdown",
   "metadata": {},
   "source": [
    "# 1-) `Config`"
   ]
  },
  {
   "cell_type": "markdown",
   "metadata": {},
   "source": [
    "## 0-) `Overview`"
   ]
  },
  {
   "cell_type": "code",
   "execution_count": 3,
   "metadata": {},
   "outputs": [
    {
     "name": "stdout",
     "output_type": "stream",
     "text": [
      "Length: 1872\n",
      "Unique Cell Types: 12\n",
      "Unique Gene Markers: 1602\n",
      "--------------------\n",
      "Subject Outlier: Free_v0\n",
      "Subject Autoencoder: Free_v0\n",
      "Subject Dimension: PCA_n2\n",
      "Shape: Outlier = 1 | Autoencoder = 0 | Dimension Reduction = 0 | (1872, 5)\n",
      "--------------------\n",
      "Shape: Outlier = 1 | Autoencoder = 0 | Dimension Reduction = 0 | (1872, 768)\n",
      "--------------------\n",
      "Subject Autoencoder: Free_v0\n",
      "Shape: Outlier = 1 | Autoencoder = 1 | Dimension Reduction = 0 | (1872, 768)\n",
      "--------------------\n",
      "Subject Dimension: PCA_n2\n",
      "Shape: Outlier = 1 | Autoencoder = 1 | Dimension Reduction = 1 | (1872, 2)\n",
      "--------------------\n"
     ]
    },
    {
     "data": {
      "text/html": [
       "<div>\n",
       "<style scoped>\n",
       "    .dataframe tbody tr th:only-of-type {\n",
       "        vertical-align: middle;\n",
       "    }\n",
       "\n",
       "    .dataframe tbody tr th {\n",
       "        vertical-align: top;\n",
       "    }\n",
       "\n",
       "    .dataframe thead th {\n",
       "        text-align: right;\n",
       "    }\n",
       "</style>\n",
       "<table border=\"1\" class=\"dataframe\">\n",
       "  <thead>\n",
       "    <tr style=\"text-align: right;\">\n",
       "      <th></th>\n",
       "      <th>Cell_Type</th>\n",
       "      <th>Gene_Marker</th>\n",
       "      <th>Cell_Type_Gene_Marker_Embeddings_Outlier</th>\n",
       "      <th>Cell_Type_Gene_Marker_Embeddings_Autoencoder</th>\n",
       "      <th>Cell_Type_Gene_Marker_Embeddings_Dimension</th>\n",
       "    </tr>\n",
       "  </thead>\n",
       "  <tbody>\n",
       "    <tr>\n",
       "      <th>0</th>\n",
       "      <td>Plasma</td>\n",
       "      <td>JCHAIN</td>\n",
       "      <td>[-0.7468124628067017, -0.24906286597251892, -0...</td>\n",
       "      <td>[-0.7468124628067017, -0.24906286597251892, -0...</td>\n",
       "      <td>[6.787688134618471, -1.050334230924371]</td>\n",
       "    </tr>\n",
       "    <tr>\n",
       "      <th>55</th>\n",
       "      <td>Macro_pDC</td>\n",
       "      <td>SERPINA1,FBP1,IRF7,PLD4,GPNMB</td>\n",
       "      <td>[-0.7176597714424133, -0.42917120456695557, -0...</td>\n",
       "      <td>[-0.7176597714424133, -0.42917120456695557, -0...</td>\n",
       "      <td>[-3.265294102627614, 1.856979344936547]</td>\n",
       "    </tr>\n",
       "  </tbody>\n",
       "</table>\n",
       "</div>"
      ],
      "text/plain": [
       "    Cell_Type                    Gene_Marker  \\\n",
       "0      Plasma                         JCHAIN   \n",
       "55  Macro_pDC  SERPINA1,FBP1,IRF7,PLD4,GPNMB   \n",
       "\n",
       "             Cell_Type_Gene_Marker_Embeddings_Outlier  \\\n",
       "0   [-0.7468124628067017, -0.24906286597251892, -0...   \n",
       "55  [-0.7176597714424133, -0.42917120456695557, -0...   \n",
       "\n",
       "         Cell_Type_Gene_Marker_Embeddings_Autoencoder  \\\n",
       "0   [-0.7468124628067017, -0.24906286597251892, -0...   \n",
       "55  [-0.7176597714424133, -0.42917120456695557, -0...   \n",
       "\n",
       "   Cell_Type_Gene_Marker_Embeddings_Dimension  \n",
       "0     [6.787688134618471, -1.050334230924371]  \n",
       "55    [-3.265294102627614, 1.856979344936547]  "
      ]
     },
     "execution_count": 3,
     "metadata": {},
     "output_type": "execute_result"
    }
   ],
   "source": [
    "print(f\"Length: {len(subject_data_full)}\")\n",
    "Cell_Type   = subject_data_full[\"Cell_Type\"] \n",
    "Gene_Marker = subject_data_full[\"Gene_Marker\"] \n",
    "print(f\"Unique Cell Types: {Cell_Type.nunique()}\")\n",
    "print(f\"Unique Gene Markers: {Gene_Marker.nunique()}\")\n",
    "\n",
    "print(\"--------------------\")\n",
    "print(f\"Subject Outlier: {subject_outlier}\")\n",
    "print(f\"Subject Autoencoder: {subject_autoencoder}\") \n",
    "print(f\"Subject Dimension: {subject_dimension}\") \n",
    "print(f\"Shape: Outlier = 1 | Autoencoder = 0 | Dimension Reduction = 0 | {subject_data_full.shape}\") \n",
    "\n",
    "print(\"--------------------\")\n",
    "Subject_Out_1_Aut_0_DR_0 = np.stack(subject_data_full[\"Cell_Type_Gene_Marker_Embeddings_Outlier\"].values)  \n",
    "print(f\"Shape: Outlier = 1 | Autoencoder = 0 | Dimension Reduction = 0 | {Subject_Out_1_Aut_0_DR_0.shape}\")\n",
    "#Subject_Out_1_Aut_0_DR_0 = np.stack(subject_data_full[\"Gene_Marker_Embeddings_Outlier\"].values) \n",
    "#print(f\"Shape: Outlier = 1 | Autoencoder = 1 | Dimension Reduction = 0 | {Subject_Out_1_Aut_0_DR_0.shape}\")\n",
    "\n",
    "print(\"--------------------\")\n",
    "print(f\"Subject Autoencoder: {subject_autoencoder}\") \n",
    "Subject_Out_1_Aut_1_DR_0 = np.stack(subject_data_full[\"Cell_Type_Gene_Marker_Embeddings_Autoencoder\"].values)   \n",
    "print(f\"Shape: Outlier = 1 | Autoencoder = 1 | Dimension Reduction = 0 | {Subject_Out_1_Aut_1_DR_0.shape}\")\n",
    "#Subject_Out_1_Aut_1_DR_0 = np.stack(subject_data_full[\"Gene_Markers_Autoencoder\"].values) \n",
    "\n",
    "print(\"--------------------\")\n",
    "print(f\"Subject Dimension: {subject_dimension}\") \n",
    "Subject_Out_1_Aut_1_DR_1 = np.stack(subject_data_full[\"Cell_Type_Gene_Marker_Embeddings_Dimension\"].values)\n",
    "print(f\"Shape: Outlier = 1 | Autoencoder = 1 | Dimension Reduction = 1 | {Subject_Out_1_Aut_1_DR_1.shape}\")\n",
    "#Subject_Out_1_Aut_1_DR_1 = np.stack(subject_data_full[\"Gene_Markers_Dimension\"].values) \n",
    "#print(f\"Shape: Outlier = 1 | Autoencoder = 1 | Dimension Reduction = 1 | {Subject_Out_1_Aut_1_DR_1.shape}\") \n",
    "\n",
    "print(\"--------------------\")\n",
    "pd.concat([subject_data_full.head(5), subject_data_full.tail(5)])    "
   ]
  },
  {
   "cell_type": "markdown",
   "metadata": {},
   "source": [
    "## 2-) `Tool Setup`"
   ]
  },
  {
   "cell_type": "code",
   "execution_count": 7,
   "metadata": {},
   "outputs": [
    {
     "name": "stdout",
     "output_type": "stream",
     "text": [
      "Tools of ML\n"
     ]
    }
   ],
   "source": [
    "tool_prediction = access_data_path(target_folder = f\"class/{file_prediction}\", target_file = \"tool.ipynb\")     \n",
    "%run $tool_prediction \n",
    "\n",
    "tool_basic_prediction = access_data_path(target_folder = f\"class/{file_prediction}\", target_file = \"toolbasic.ipynb\")     \n",
    "%run $tool_basic_prediction "
   ]
  },
  {
   "cell_type": "markdown",
   "metadata": {},
   "source": [
    "## 3-) `Panel`"
   ]
  },
  {
   "cell_type": "code",
   "execution_count": 8,
   "metadata": {},
   "outputs": [
    {
     "data": {
      "text/plain": [
       "\"\\n{'sgd__estimator__alpha': 0.01, 'sgd__estimator__max_iter': 1000, 'sgd__estimator__penalty': 'l2', 'sgd__estimator__tol': 0.0001}\\nSVM_Kernel_poly_Degree_2_Coef0_0.5_C_1_Gamma_scale_Out_1_Aut_1_DR_1\\n{'rf__max_depth': 20, 'rf__min_samples_leaf': 2, 'rf__min_samples_split': 5, 'rf__n_estimators': 300}\\n{'gb__learning_rate': 0.2, 'gb__max_depth': 7, 'gb__min_samples_leaf': 1, 'gb__min_samples_split': 2, 'gb__n_estimators': 100}\\n{'clf__max_depth': 20, 'clf__min_samples_leaf': 2, 'clf__min_samples_split': 2}\\n\""
      ]
     },
     "execution_count": 8,
     "metadata": {},
     "output_type": "execute_result"
    }
   ],
   "source": [
    "\"\"\"\n",
    "{'sgd__estimator__alpha': 0.01, 'sgd__estimator__max_iter': 1000, 'sgd__estimator__penalty': 'l2', 'sgd__estimator__tol': 0.0001}\n",
    "SVM_Kernel_poly_Degree_2_Coef0_0.5_C_1_Gamma_scale_Out_1_Aut_1_DR_1\n",
    "{'rf__max_depth': 20, 'rf__min_samples_leaf': 2, 'rf__min_samples_split': 5, 'rf__n_estimators': 300}\n",
    "{'gb__learning_rate': 0.2, 'gb__max_depth': 7, 'gb__min_samples_leaf': 1, 'gb__min_samples_split': 2, 'gb__n_estimators': 100}\n",
    "{'clf__max_depth': 20, 'clf__min_samples_leaf': 2, 'clf__min_samples_split': 2}\n",
    "\"\"\""
   ]
  },
  {
   "cell_type": "code",
   "execution_count": 9,
   "metadata": {},
   "outputs": [],
   "source": [
    "switch_models = \"basic\"  \n",
    "try:\n",
    "    if manual == 0:\n",
    "        switch_models = \"complex\"      \n",
    "        print(\"Machine Learning Models: Complex\")\n",
    "except:\n",
    "    switch_models = \"basic\"  \n",
    "    print(\"Machine Learning Models: Basic\")\n",
    "\n",
    "\n",
    "if switch_models == \"basic\":\n",
    "    SGD_Method = prediction_model_SGD_multilabel_basic\n",
    "    SVM_Method = prediction_model_SVM_multilabel_basic\n",
    "    GB_Method  = prediction_model_GB_multilabel_basic\n",
    "    RF_Method  = prediction_model_RF_multilabel_basic\n",
    "    DT_Method  = prediction_model_DT_multilabel_basic\n",
    "else:\n",
    "    SGD_Method = prediction_model_SGD_multilabel\n",
    "    SVM_Method = prediction_model_SVM_multilabel\n",
    "    GB_Method  = prediction_model_GB_multilabel\n",
    "    RF_Method  = prediction_model_RF_multilabel\n",
    "    DT_Method  = prediction_model_DT_multilabel"
   ]
  },
  {
   "cell_type": "markdown",
   "metadata": {},
   "source": [
    "## `Switches`"
   ]
  },
  {
   "cell_type": "code",
   "execution_count": 10,
   "metadata": {},
   "outputs": [],
   "source": [
    "# Gradient Boosting \n",
    "try:\n",
    "    if manual == 0:\n",
    "        print(\"s1_load.ipynb running from MANAGER\")\n",
    "        switch_GB_0 = 0\n",
    "        switch_GB_1 = 0\n",
    "        switch_GB_2 = 0\n",
    "except:\n",
    "    switch_GB_0 = 0\n",
    "    switch_GB_1 = 0\n",
    "    switch_GB_2 = 0\n",
    "\n",
    "# ------------------------\n",
    "# Stochastic Gradient Descent \n",
    "try:\n",
    "    if manual == 0:\n",
    "        print(\"s1_load.ipynb running from MANAGER\")\n",
    "        switch_SGD_0 = 0\n",
    "        switch_SGD_1 = 0\n",
    "        switch_SGD_2 = 1\n",
    "except:\n",
    "    switch_SGD_0 = 1\n",
    "    switch_SGD_1 = 1\n",
    "    switch_SGD_2 = 1\n",
    "\n",
    "# ------------------------\n",
    "# Random Forest \n",
    "try:\n",
    "    if manual == 0:\n",
    "        print(\"s1_load.ipynb running from MANAGER\")\n",
    "        switch_RF_0 = 0\n",
    "        switch_RF_1 = 0\n",
    "        switch_RF_2 = 1\n",
    "except:\n",
    "    switch_RF_0 = 1\n",
    "    switch_RF_1 = 1\n",
    "    switch_RF_2 = 1\n",
    "\n",
    "# ------------------------ \n",
    "# Decision Tree \n",
    "try:\n",
    "    if manual == 0:\n",
    "        print(\"s1_load.ipynb running from MANAGER\")\n",
    "        switch_DT_0 = 0\n",
    "        switch_DT_1 = 0\n",
    "        switch_DT_2 = 1\n",
    "except:\n",
    "    switch_DT_0 = 1\n",
    "    switch_DT_1 = 1\n",
    "    switch_DT_2 = 1\n",
    "\n",
    "# ------------------------ \n",
    "# Support Vector Machine \n",
    "try:\n",
    "    if manual == 0:\n",
    "        print(\"s1_load.ipynb running from MANAGER\")\n",
    "        switch_A_0 = 0\n",
    "        switch_A_1 = 0\n",
    "        switch_A_2 = 1\n",
    "except:\n",
    "    switch_A_0 = 1\n",
    "    switch_A_1 = 1\n",
    "    switch_A_2 = 1 "
   ]
  },
  {
   "cell_type": "markdown",
   "metadata": {},
   "source": [
    "# `Operation: SGD`"
   ]
  },
  {
   "cell_type": "markdown",
   "metadata": {},
   "source": [
    "### `Detailed`"
   ]
  },
  {
   "cell_type": "code",
   "execution_count": 11,
   "metadata": {},
   "outputs": [
    {
     "name": "stdout",
     "output_type": "stream",
     "text": [
      "alpha_0.01_max_iter_1000_penalty_l2_tol_0.0001\n",
      "alpha_0.01_max_iter_1000_penalty_l2_tol_0.0001\n",
      "alpha_0.01_max_iter_1000_penalty_l2_tol_0.0001\n",
      "Debug 1.4\n",
      "alpha_0.01_max_iter_1000_penalty_l2_tol_0.0001\n"
     ]
    }
   ],
   "source": [
    "if switch_SGD_0 == 1: \n",
    "    SGD_Dict_Out_1_Aut_0_DR_0 = SGD_Method(X_Gene_Marker_Embeddings           = Subject_Out_1_Aut_0_DR_0, \n",
    "                                            y_Cell_Type           = Cell_Type,\n",
    "                                            subject_label         =\"Out_1_Aut_0_DR_0\",\n",
    "                                            subject_outlier       = subject_outlier, \n",
    "                                                        subject_autoencoder   = subject_autoencoder,\n",
    "                                                        subject_dimension     = subject_dimension\n",
    "                                                        ) \n",
    "    Model_SGD_Out_1_Aut_0_DR_0                = SGD_Dict_Out_1_Aut_0_DR_0[\"Model\"] \n",
    "    Predictions_SGD_Out_1_Aut_0_DR_0          = SGD_Dict_Out_1_Aut_0_DR_0[\"Predictions\"]\n",
    "    Statistics_Detailed_SGD_Out_1_Aut_0_DR_0  = SGD_Dict_Out_1_Aut_0_DR_0[\"Statistics\"]\n",
    "    Statistics_SGD_Out_1_Aut_0_DR_0           = SGD_Dict_Out_1_Aut_0_DR_0[\"Statistics_DF\"] "
   ]
  },
  {
   "cell_type": "code",
   "execution_count": 12,
   "metadata": {},
   "outputs": [
    {
     "name": "stdout",
     "output_type": "stream",
     "text": [
      "alpha_0.01_max_iter_1000_penalty_l2_tol_0.0001\n",
      "alpha_0.01_max_iter_1000_penalty_l2_tol_0.0001\n",
      "alpha_0.01_max_iter_1000_penalty_l2_tol_0.0001\n",
      "Debug 1.4\n",
      "alpha_0.01_max_iter_1000_penalty_l2_tol_0.0001\n"
     ]
    }
   ],
   "source": [
    "if switch_SGD_1 == 1: \n",
    "    SGD_Dict_Out_1_Aut_1_DR_0 = SGD_Method(X_Gene_Marker_Embeddings = Subject_Out_1_Aut_1_DR_0, \n",
    "                                                        y_Cell_Type           = Cell_Type,\n",
    "                                                        subject_label         =\"Out_1_Aut_1_DR_0\" ,\n",
    "                                                        subject_outlier       = subject_outlier, \n",
    "                                                        subject_autoencoder   = subject_autoencoder,\n",
    "                                                        subject_dimension     = subject_dimension\n",
    "                                                        ) \n",
    "    Model_SGD_Out_1_Aut_1_DR_0                = SGD_Dict_Out_1_Aut_1_DR_0[\"Model\"] \n",
    "    Predictions_SGD_Out_1_Aut_1_DR_0          = SGD_Dict_Out_1_Aut_1_DR_0[\"Predictions\"]\n",
    "    Statistics_Detailed_SGD_Out_1_Aut_1_DR_0  = SGD_Dict_Out_1_Aut_1_DR_0[\"Statistics\"]\n",
    "    Statistics_SGD_Out_1_Aut_1_DR_0           = SGD_Dict_Out_1_Aut_1_DR_0[\"Statistics_DF\"] "
   ]
  },
  {
   "cell_type": "markdown",
   "metadata": {},
   "source": [
    "### `Main`"
   ]
  },
  {
   "cell_type": "code",
   "execution_count": 13,
   "metadata": {},
   "outputs": [
    {
     "name": "stdout",
     "output_type": "stream",
     "text": [
      "alpha_0.01_max_iter_1000_penalty_l2_tol_0.0001\n",
      "alpha_0.01_max_iter_1000_penalty_l2_tol_0.0001\n",
      "alpha_0.01_max_iter_1000_penalty_l2_tol_0.0001\n",
      "Debug 1.4\n",
      "alpha_0.01_max_iter_1000_penalty_l2_tol_0.0001\n"
     ]
    }
   ],
   "source": [
    "if switch_SGD_2 == 1: \n",
    "    SGD_Dict_Out_1_Aut_1_DR_1 = SGD_Method(X_Gene_Marker_Embeddings = Subject_Out_1_Aut_1_DR_1, \n",
    "                                                        y_Cell_Type           = Cell_Type,\n",
    "                                                        subject_label         =\"Out_1_Aut_1_DR_1\" ,\n",
    "                                                        subject_outlier       = subject_outlier, \n",
    "                                                        subject_autoencoder   = subject_autoencoder,\n",
    "                                                        subject_dimension     = subject_dimension\n",
    "                                                        ) \n",
    "    Model_SGD_Out_1_Aut_1_DR_1                = SGD_Dict_Out_1_Aut_1_DR_1[\"Model\"] \n",
    "    Predictions_SGD_Out_1_Aut_1_DR_1          = SGD_Dict_Out_1_Aut_1_DR_1[\"Predictions\"]\n",
    "    Statistics_Detailed_SGD_Out_1_Aut_1_DR_1  = SGD_Dict_Out_1_Aut_1_DR_1[\"Statistics\"]\n",
    "    Statistics_SGD_Out_1_Aut_1_DR_1           = SGD_Dict_Out_1_Aut_1_DR_1[\"Statistics_DF\"] "
   ]
  },
  {
   "cell_type": "markdown",
   "metadata": {},
   "source": [
    "# `Operation: Gradient Boosting`"
   ]
  },
  {
   "cell_type": "markdown",
   "metadata": {},
   "source": [
    "### `Detailed`"
   ]
  },
  {
   "cell_type": "code",
   "execution_count": 14,
   "metadata": {},
   "outputs": [],
   "source": [
    "if switch_GB_0 == 1: \n",
    "    GB_Dict_Out_1_Aut_0_DR_0 = GB_Method(X_Gene_Marker_Embeddings = Subject_Out_1_Aut_0_DR_0, \n",
    "                                                        y_Cell_Type           = Cell_Type,\n",
    "                                                        subject_label         =\"Out_1_Aut_0_DR_0\" ,\n",
    "                                                        subject_outlier       = subject_outlier, \n",
    "                                                        subject_autoencoder   = subject_autoencoder,\n",
    "                                                        subject_dimension     = subject_dimension\n",
    "                                                        ) \n",
    "    Model_GB_Out_1_Aut_0_DR_0                = GB_Dict_Out_1_Aut_0_DR_0[\"Model\"] \n",
    "    Predictions_GB_Out_1_Aut_0_DR_0          = GB_Dict_Out_1_Aut_0_DR_0[\"Predictions\"]\n",
    "    Statistics_Detailed_GB_Out_1_Aut_0_DR_0  = GB_Dict_Out_1_Aut_0_DR_0[\"Statistics\"]\n",
    "    Statistics_GB_Out_1_Aut_0_DR_0           = GB_Dict_Out_1_Aut_0_DR_0[\"Statistics_DF\"] "
   ]
  },
  {
   "cell_type": "code",
   "execution_count": 15,
   "metadata": {},
   "outputs": [],
   "source": [
    "if switch_GB_1 == 1: \n",
    "    GB_Dict_Out_1_Aut_1_DR_0 = GB_Method(X_Gene_Marker_Embeddings = Subject_Out_1_Aut_1_DR_0, \n",
    "                                                        y_Cell_Type           = Cell_Type,\n",
    "                                                        subject_label         =\"Out_1_Aut_1_DR_0\" ,\n",
    "                                                        subject_outlier       = subject_outlier, \n",
    "                                                        subject_autoencoder   = subject_autoencoder,\n",
    "                                                        subject_dimension     = subject_dimension\n",
    "                                                        ) \n",
    "    Model_GB_Out_1_Aut_1_DR_0                = GB_Dict_Out_1_Aut_1_DR_0[\"Model\"] \n",
    "    Predictions_GB_Out_1_Aut_1_DR_0          = GB_Dict_Out_1_Aut_1_DR_0[\"Predictions\"]\n",
    "    Statistics_Detailed_GB_Out_1_Aut_1_DR_0  = GB_Dict_Out_1_Aut_1_DR_0[\"Statistics\"]\n",
    "    Statistics_GB_Out_1_Aut_1_DR_0           = GB_Dict_Out_1_Aut_1_DR_0[\"Statistics_DF\"] "
   ]
  },
  {
   "cell_type": "markdown",
   "metadata": {},
   "source": [
    "### `Main`"
   ]
  },
  {
   "cell_type": "code",
   "execution_count": 16,
   "metadata": {},
   "outputs": [],
   "source": [
    "if switch_GB_2 == 1: \n",
    "    GB_Dict_Out_1_Aut_1_DR_1 = GB_Method(X_Gene_Marker_Embeddings = Subject_Out_1_Aut_1_DR_1, \n",
    "                                                        y_Cell_Type           = Cell_Type,\n",
    "                                                        subject_label         =\"Out_1_Aut_1_DR_1\" ,\n",
    "                                                        subject_outlier       = subject_outlier, \n",
    "                                                        subject_autoencoder   = subject_autoencoder,\n",
    "                                                        subject_dimension     = subject_dimension\n",
    "                                                        ) \n",
    "    Model_GB_Out_1_Aut_1_DR_1                = GB_Dict_Out_1_Aut_1_DR_1[\"Model\"] \n",
    "    Predictions_GB_Out_1_Aut_1_DR_1          = GB_Dict_Out_1_Aut_1_DR_1[\"Predictions\"]\n",
    "    Statistics_Detailed_GB_Out_1_Aut_1_DR_1  = GB_Dict_Out_1_Aut_1_DR_1[\"Statistics\"]\n",
    "    Statistics_GB_Out_1_Aut_1_DR_1           = GB_Dict_Out_1_Aut_1_DR_1[\"Statistics_DF\"] "
   ]
  },
  {
   "cell_type": "markdown",
   "metadata": {},
   "source": [
    "# `Operation: Random Forest`"
   ]
  },
  {
   "cell_type": "markdown",
   "metadata": {},
   "source": [
    "### `Detailed`"
   ]
  },
  {
   "cell_type": "code",
   "execution_count": 17,
   "metadata": {},
   "outputs": [],
   "source": [
    "if switch_RF_0 == 1: \n",
    "    RF_Dict_Out_1_Aut_0_DR_0 = RF_Method(X_Gene_Marker_Embeddings = Subject_Out_1_Aut_0_DR_0, \n",
    "                                            y_Cell_Type           = Cell_Type,\n",
    "                                            subject_label         = \"Out_1_Aut_0_DR_0\",\n",
    "                                            subject_outlier       = subject_outlier, \n",
    "                                            subject_autoencoder   = subject_autoencoder,\n",
    "                                            subject_dimension     = subject_dimension\n",
    "                                            ) \n",
    "    Model_RF_Out_1_Aut_0_DR_0                = RF_Dict_Out_1_Aut_0_DR_0[\"Model\"] \n",
    "    Predictions_RF_Out_1_Aut_0_DR_0          = RF_Dict_Out_1_Aut_0_DR_0[\"Predictions\"]\n",
    "    Statistics_Detailed_RF_Out_1_Aut_0_DR_0  = RF_Dict_Out_1_Aut_0_DR_0[\"Statistics\"]\n",
    "    Statistics_RF_Out_1_Aut_0_DR_0           = RF_Dict_Out_1_Aut_0_DR_0[\"Statistics_DF\"] "
   ]
  },
  {
   "cell_type": "code",
   "execution_count": 18,
   "metadata": {},
   "outputs": [],
   "source": [
    "if switch_RF_1 == 1: \n",
    "    RF_Dict_Out_1_Aut_1_DR_0 = RF_Method(X_Gene_Marker_Embeddings = Subject_Out_1_Aut_1_DR_0, \n",
    "                                            y_Cell_Type           = Cell_Type,\n",
    "                                            subject_label         = \"Out_1_Aut_1_DR_0\",\n",
    "                                            subject_outlier       = subject_outlier, \n",
    "                                            subject_autoencoder   = subject_autoencoder,\n",
    "                                            subject_dimension     = subject_dimension\n",
    "                                            ) \n",
    "    Model_RF_Out_1_Aut_1_DR_0                = RF_Dict_Out_1_Aut_1_DR_0[\"Model\"] \n",
    "    Predictions_RF_Out_1_Aut_1_DR_0          = RF_Dict_Out_1_Aut_1_DR_0[\"Predictions\"]\n",
    "    Statistics_Detailed_RF_Out_1_Aut_1_DR_0  = RF_Dict_Out_1_Aut_1_DR_0[\"Statistics\"]\n",
    "    Statistics_RF_Out_1_Aut_1_DR_0           = RF_Dict_Out_1_Aut_1_DR_0[\"Statistics_DF\"] "
   ]
  },
  {
   "cell_type": "markdown",
   "metadata": {},
   "source": [
    "### `Main`"
   ]
  },
  {
   "cell_type": "code",
   "execution_count": 19,
   "metadata": {},
   "outputs": [],
   "source": [
    "if switch_RF_2 == 1: \n",
    "    RF_Dict_Out_1_Aut_1_DR_1 = RF_Method(X_Gene_Marker_Embeddings = Subject_Out_1_Aut_1_DR_1, \n",
    "                                            y_Cell_Type           = Cell_Type,\n",
    "                                            subject_label         = \"Out_1_Aut_1_DR_1\",\n",
    "                                            subject_outlier       = subject_outlier, \n",
    "                                            subject_autoencoder   = subject_autoencoder,\n",
    "                                            subject_dimension     = subject_dimension\n",
    "                                            ) \n",
    "    Model_RF_Out_1_Aut_1_DR_1                = RF_Dict_Out_1_Aut_1_DR_1[\"Model\"] \n",
    "    Predictions_RF_Out_1_Aut_1_DR_1          = RF_Dict_Out_1_Aut_1_DR_1[\"Predictions\"]\n",
    "    Statistics_Detailed_RF_Out_1_Aut_1_DR_1  = RF_Dict_Out_1_Aut_1_DR_1[\"Statistics\"]\n",
    "    Statistics_RF_Out_1_Aut_1_DR_1           = RF_Dict_Out_1_Aut_1_DR_1[\"Statistics_DF\"] "
   ]
  },
  {
   "cell_type": "markdown",
   "metadata": {},
   "source": [
    "# `Operation: Decision Tree`"
   ]
  },
  {
   "cell_type": "markdown",
   "metadata": {},
   "source": [
    "### `Detailed`"
   ]
  },
  {
   "cell_type": "code",
   "execution_count": 20,
   "metadata": {},
   "outputs": [],
   "source": [
    "if switch_DT_0 == 1: \n",
    "    DT_Dict_Out_1_Aut_0_DR_0 = DT_Method(\n",
    "                                        X_Gene_Marker_Embeddings = Subject_Out_1_Aut_0_DR_0,\n",
    "                                        y_Cell_Type              = Cell_Type,\n",
    "                                        subject_label            = \"Out_1_Aut_0_DR_0\",\n",
    "                                        subject_outlier       = subject_outlier, \n",
    "                                        subject_autoencoder   = subject_autoencoder,\n",
    "                                        subject_dimension     = subject_dimension\n",
    "                                        ) \n",
    "    Model_DT_Out_1_Aut_0_DR_0                = DT_Dict_Out_1_Aut_0_DR_0[\"Model\"] \n",
    "    Predictions_DT_Out_1_Aut_0_DR_0          = DT_Dict_Out_1_Aut_0_DR_0[\"Predictions\"]\n",
    "    Statistics_Detailed_DT_Out_1_Aut_0_DR_0  = DT_Dict_Out_1_Aut_0_DR_0[\"Statistics\"]\n",
    "    Statistics_DT_Out_1_Aut_0_DR_0           = DT_Dict_Out_1_Aut_0_DR_0[\"Statistics_DF\"] "
   ]
  },
  {
   "cell_type": "code",
   "execution_count": 21,
   "metadata": {},
   "outputs": [],
   "source": [
    "if switch_DT_1 == 1: \n",
    "  DT_Dict_Out_1_Aut_1_DR_0 = DT_Method(\n",
    "                                        X_Gene_Marker_Embeddings = Subject_Out_1_Aut_1_DR_0,\n",
    "                                        y_Cell_Type              = Cell_Type,\n",
    "                                        subject_label            = \"Out_1_Aut_1_DR_0\",\n",
    "                                        subject_outlier       = subject_outlier, \n",
    "                                      subject_autoencoder   = subject_autoencoder,\n",
    "                                      subject_dimension     = subject_dimension\n",
    "                                      ) \n",
    "  Model_DT_Out_1_Aut_1_DR_0                = DT_Dict_Out_1_Aut_1_DR_0[\"Model\"] \n",
    "  Predictions_DT_Out_1_Aut_1_DR_0          = DT_Dict_Out_1_Aut_1_DR_0[\"Predictions\"]\n",
    "  Statistics_Detailed_DT_Out_1_Aut_1_DR_0  = DT_Dict_Out_1_Aut_1_DR_0[\"Statistics\"]\n",
    "  Statistics_DT_Out_1_Aut_1_DR_0           = DT_Dict_Out_1_Aut_1_DR_0[\"Statistics_DF\"] "
   ]
  },
  {
   "cell_type": "code",
   "execution_count": 22,
   "metadata": {},
   "outputs": [
    {
     "data": {
      "text/html": [
       "<div>\n",
       "<style scoped>\n",
       "    .dataframe tbody tr th:only-of-type {\n",
       "        vertical-align: middle;\n",
       "    }\n",
       "\n",
       "    .dataframe tbody tr th {\n",
       "        vertical-align: top;\n",
       "    }\n",
       "\n",
       "    .dataframe thead th {\n",
       "        text-align: right;\n",
       "    }\n",
       "</style>\n",
       "<table border=\"1\" class=\"dataframe\">\n",
       "  <thead>\n",
       "    <tr style=\"text-align: right;\">\n",
       "      <th></th>\n",
       "      <th>Applications</th>\n",
       "      <th>Applications_Condition</th>\n",
       "      <th>Model</th>\n",
       "      <th>Parameters</th>\n",
       "      <th>Accuracy</th>\n",
       "      <th>Precision</th>\n",
       "      <th>Recall</th>\n",
       "      <th>F1</th>\n",
       "    </tr>\n",
       "  </thead>\n",
       "  <tbody>\n",
       "    <tr>\n",
       "      <th>0</th>\n",
       "      <td>Free_v0_Free_v0_PCA_n2</td>\n",
       "      <td>Out_1_Aut_1_DR_0</td>\n",
       "      <td>DT</td>\n",
       "      <td>Basic</td>\n",
       "      <td>0.813333</td>\n",
       "      <td>0.811625</td>\n",
       "      <td>0.813333</td>\n",
       "      <td>0.809454</td>\n",
       "    </tr>\n",
       "  </tbody>\n",
       "</table>\n",
       "</div>"
      ],
      "text/plain": [
       "             Applications Applications_Condition Model Parameters  Accuracy  \\\n",
       "0  Free_v0_Free_v0_PCA_n2       Out_1_Aut_1_DR_0    DT      Basic  0.813333   \n",
       "\n",
       "   Precision    Recall        F1  \n",
       "0   0.811625  0.813333  0.809454  "
      ]
     },
     "execution_count": 22,
     "metadata": {},
     "output_type": "execute_result"
    }
   ],
   "source": [
    "Statistics_DT_Out_1_Aut_1_DR_0"
   ]
  },
  {
   "cell_type": "markdown",
   "metadata": {},
   "source": [
    "### `Main`"
   ]
  },
  {
   "cell_type": "code",
   "execution_count": 23,
   "metadata": {},
   "outputs": [],
   "source": [
    "if switch_DT_2 == 1: \n",
    "    DT_Dict_Out_1_Aut_1_DR_1 = DT_Method(\n",
    "                                        X_Gene_Marker_Embeddings = Subject_Out_1_Aut_1_DR_1, \n",
    "                                        y_Cell_Type              = Cell_Type,\n",
    "                                        subject_label            = \"Out_1_Aut_1_DR_1\",\n",
    "                                        subject_outlier       = subject_outlier, \n",
    "                                        subject_autoencoder   = subject_autoencoder,\n",
    "                                        subject_dimension     = subject_dimension\n",
    "                                      ) \n",
    "    Model_DT_Out_1_Aut_1_DR_1                = DT_Dict_Out_1_Aut_1_DR_1[\"Model\"] \n",
    "    Predictions_DT_Out_1_Aut_1_DR_1          = DT_Dict_Out_1_Aut_1_DR_1[\"Predictions\"]\n",
    "    Statistics_Detailed_DT_Out_1_Aut_1_DR_1  = DT_Dict_Out_1_Aut_1_DR_1[\"Statistics\"]\n",
    "    Statistics_DT_Out_1_Aut_1_DR_1           = DT_Dict_Out_1_Aut_1_DR_1[\"Statistics_DF\"] "
   ]
  },
  {
   "cell_type": "code",
   "execution_count": 24,
   "metadata": {},
   "outputs": [
    {
     "data": {
      "text/html": [
       "<div>\n",
       "<style scoped>\n",
       "    .dataframe tbody tr th:only-of-type {\n",
       "        vertical-align: middle;\n",
       "    }\n",
       "\n",
       "    .dataframe tbody tr th {\n",
       "        vertical-align: top;\n",
       "    }\n",
       "\n",
       "    .dataframe thead th {\n",
       "        text-align: right;\n",
       "    }\n",
       "</style>\n",
       "<table border=\"1\" class=\"dataframe\">\n",
       "  <thead>\n",
       "    <tr style=\"text-align: right;\">\n",
       "      <th></th>\n",
       "      <th>Applications</th>\n",
       "      <th>Applications_Condition</th>\n",
       "      <th>Model</th>\n",
       "      <th>Parameters</th>\n",
       "      <th>Accuracy</th>\n",
       "      <th>Precision</th>\n",
       "      <th>Recall</th>\n",
       "      <th>F1</th>\n",
       "    </tr>\n",
       "  </thead>\n",
       "  <tbody>\n",
       "    <tr>\n",
       "      <th>0</th>\n",
       "      <td>Free_v0_Free_v0_PCA_n2</td>\n",
       "      <td>Out_1_Aut_1_DR_1</td>\n",
       "      <td>DT</td>\n",
       "      <td>Basic</td>\n",
       "      <td>0.205333</td>\n",
       "      <td>0.227629</td>\n",
       "      <td>0.205333</td>\n",
       "      <td>0.211487</td>\n",
       "    </tr>\n",
       "  </tbody>\n",
       "</table>\n",
       "</div>"
      ],
      "text/plain": [
       "             Applications Applications_Condition Model Parameters  Accuracy  \\\n",
       "0  Free_v0_Free_v0_PCA_n2       Out_1_Aut_1_DR_1    DT      Basic  0.205333   \n",
       "\n",
       "   Precision    Recall        F1  \n",
       "0   0.227629  0.205333  0.211487  "
      ]
     },
     "execution_count": 24,
     "metadata": {},
     "output_type": "execute_result"
    }
   ],
   "source": [
    "Statistics_DT_Out_1_Aut_1_DR_1"
   ]
  },
  {
   "cell_type": "markdown",
   "metadata": {},
   "source": [
    "# `Operation: SVM`"
   ]
  },
  {
   "cell_type": "markdown",
   "metadata": {},
   "source": [
    "### `Detailed`"
   ]
  },
  {
   "cell_type": "code",
   "execution_count": 25,
   "metadata": {},
   "outputs": [
    {
     "name": "stdout",
     "output_type": "stream",
     "text": [
      "kernel_poly_degree_2_coef0_0.5_C_1_gamma_scale\n",
      "kernel_poly_degree_2_coef0_0.5_C_1_gamma_scale\n"
     ]
    }
   ],
   "source": [
    "if switch_A_0 == 1: \n",
    "    SVM_Dict_Out_1_Aut_0_DR_0 = SVM_Method(X_Gene_Marker_Embeddings = Subject_Out_1_Aut_0_DR_0, \n",
    "                                           y_Cell_Type = Cell_Type, \n",
    "                                           subject_label = \"Out_1_Aut_0_DR_0\", \n",
    "                                           subject_outlier = subject_outlier, \n",
    "                                           subject_autoencoder = subject_autoencoder, \n",
    "                                           subject_dimension = subject_dimension )\n",
    "    Model_SVM_Out_1_Aut_0_DR_0                = SVM_Dict_Out_1_Aut_0_DR_0[\"Model\"] \n",
    "    Predictions_SVM_Out_1_Aut_0_DR_0          = SVM_Dict_Out_1_Aut_0_DR_0[\"Predictions\"]\n",
    "    Statistics_Detailed_SVM_Out_1_Aut_0_DR_0  = SVM_Dict_Out_1_Aut_0_DR_0[\"Statistics\"]\n",
    "    Statistics_SVM_Out_1_Aut_0_DR_0           = SVM_Dict_Out_1_Aut_0_DR_0[\"Statistics_DF\"] "
   ]
  },
  {
   "cell_type": "code",
   "execution_count": 26,
   "metadata": {},
   "outputs": [
    {
     "name": "stdout",
     "output_type": "stream",
     "text": [
      "kernel_poly_degree_2_coef0_0.5_C_1_gamma_scale\n",
      "kernel_poly_degree_2_coef0_0.5_C_1_gamma_scale\n"
     ]
    }
   ],
   "source": [
    "if switch_A_1 == 1: \n",
    "    SVM_Dict_Out_1_Aut_1_DR_0 = SVM_Method(X_Gene_Marker_Embeddings = Subject_Out_1_Aut_1_DR_0, \n",
    "                                         y_Cell_Type = Cell_Type, \n",
    "                                         subject_label = \"Out_1_Aut_1_DR_0\", \n",
    "                                         subject_outlier = subject_outlier, \n",
    "                                         subject_autoencoder = subject_autoencoder, \n",
    "                                         subject_dimension = subject_dimension )\n",
    "    Model_SVM_Out_1_Aut_1_DR_0                = SVM_Dict_Out_1_Aut_1_DR_0[\"Model\"] \n",
    "    Predictions_SVM_Out_1_Aut_1_DR_0          = SVM_Dict_Out_1_Aut_1_DR_0[\"Predictions\"]\n",
    "    Statistics_Detailed_SVM_Out_1_Aut_1_DR_0  = SVM_Dict_Out_1_Aut_1_DR_0[\"Statistics\"]\n",
    "    Statistics_SVM_Out_1_Aut_1_DR_0           = SVM_Dict_Out_1_Aut_1_DR_0[\"Statistics_DF\"] "
   ]
  },
  {
   "cell_type": "markdown",
   "metadata": {},
   "source": [
    "### `Main`"
   ]
  },
  {
   "cell_type": "code",
   "execution_count": 27,
   "metadata": {},
   "outputs": [
    {
     "name": "stdout",
     "output_type": "stream",
     "text": [
      "kernel_poly_degree_2_coef0_0.5_C_1_gamma_scale\n",
      "kernel_poly_degree_2_coef0_0.5_C_1_gamma_scale\n"
     ]
    }
   ],
   "source": [
    "if switch_A_2 == 1: \n",
    "    SVM_Dict_Out_1_Aut_1_DR_1 = SVM_Method(X_Gene_Marker_Embeddings = Subject_Out_1_Aut_1_DR_1, \n",
    "                                         y_Cell_Type = Cell_Type, \n",
    "                                         subject_label = \"Out_1_Aut_1_DR_1\", \n",
    "                                         subject_outlier = subject_outlier, \n",
    "                                         subject_autoencoder = subject_autoencoder, \n",
    "                                         subject_dimension = subject_dimension\n",
    "                                           )\n",
    "    Model_SVM_Out_1_Aut_1_DR_1                = SVM_Dict_Out_1_Aut_1_DR_1[\"Model\"] \n",
    "    Predictions_SVM_Out_1_Aut_1_DR_1          = SVM_Dict_Out_1_Aut_1_DR_1[\"Predictions\"]\n",
    "    Statistics_Detailed_SVM_Out_1_Aut_1_DR_1  = SVM_Dict_Out_1_Aut_1_DR_1[\"Statistics\"]\n",
    "    Statistics_SVM_Out_1_Aut_1_DR_1           = SVM_Dict_Out_1_Aut_1_DR_1[\"Statistics_DF\"] "
   ]
  },
  {
   "cell_type": "markdown",
   "metadata": {},
   "source": [
    "# `Operation: Combine`"
   ]
  },
  {
   "cell_type": "code",
   "execution_count": 31,
   "metadata": {},
   "outputs": [],
   "source": [
    "SVM_All = pd.DataFrame() \n",
    "if switch_A_0 == 1: \n",
    "    SVM_All = pd.concat([SVM_All, SVM_Dict_Out_1_Aut_0_DR_0[\"Statistics_DF\"]], axis = 0) \n",
    "if switch_A_1 == 1:\n",
    "    SVM_All = pd.concat([SVM_All, SVM_Dict_Out_1_Aut_1_DR_0[\"Statistics_DF\"]], axis = 0)\n",
    "if switch_A_2 == 1:\n",
    "    SVM_All = pd.concat([SVM_All, SVM_Dict_Out_1_Aut_1_DR_1[\"Statistics_DF\"]], axis = 0) \n",
    "\n",
    "\n",
    "DT_All = pd.DataFrame() \n",
    "if switch_DT_0 == 1:\n",
    "    DT_All = pd.concat([DT_All, DT_Dict_Out_1_Aut_0_DR_0[\"Statistics_DF\"]], axis = 0)\n",
    "if switch_DT_1 == 1:\n",
    "    DT_All = pd.concat([DT_All, DT_Dict_Out_1_Aut_1_DR_0[\"Statistics_DF\"]], axis = 0)\n",
    "if switch_DT_2 == 1:\n",
    "    DT_All = pd.concat([DT_All, DT_Dict_Out_1_Aut_1_DR_1[\"Statistics_DF\"]], axis = 0)\n",
    "\n",
    "\n",
    "RF_All = pd.DataFrame()\n",
    "if switch_RF_0 == 1:\n",
    "    RF_All = pd.concat([RF_All, RF_Dict_Out_1_Aut_0_DR_0[\"Statistics_DF\"]], axis = 0)\n",
    "if switch_RF_1 == 1:\n",
    "    RF_All = pd.concat([RF_All, RF_Dict_Out_1_Aut_1_DR_0[\"Statistics_DF\"]], axis = 0)\n",
    "if switch_RF_2 == 1:\n",
    "    RF_All = pd.concat([RF_All, RF_Dict_Out_1_Aut_1_DR_1[\"Statistics_DF\"]], axis = 0)\n",
    "\n",
    "\n",
    "GB_All = pd.DataFrame()\n",
    "if switch_GB_0 == 1:\n",
    "    GB_All = pd.concat([GB_All, GB_Dict_Out_1_Aut_0_DR_0[\"Statistics_DF\"]], axis = 0)\n",
    "if switch_GB_1 == 1:\n",
    "    GB_All = pd.concat([GB_All, GB_Dict_Out_1_Aut_1_DR_0[\"Statistics_DF\"]], axis = 0)\n",
    "if switch_GB_2 == 1:\n",
    "    GB_All = pd.concat([GB_All, GB_Dict_Out_1_Aut_1_DR_1[\"Statistics_DF\"]], axis = 0)\n",
    "\n",
    "\n",
    "SGD_All = pd.DataFrame()\n",
    "if switch_SGD_0 == 1:\n",
    "    SGD_All = pd.concat([SGD_All, SGD_Dict_Out_1_Aut_0_DR_0[\"Statistics_DF\"]], axis = 0)\n",
    "if switch_SGD_1 == 1:\n",
    "    SGD_All = pd.concat([SGD_All, SGD_Dict_Out_1_Aut_1_DR_0[\"Statistics_DF\"]], axis = 0)\n",
    "if switch_SGD_2 == 1:\n",
    "    SGD_All = pd.concat([SGD_All, SGD_Dict_Out_1_Aut_1_DR_1[\"Statistics_DF\"]], axis = 0)"
   ]
  },
  {
   "cell_type": "code",
   "execution_count": 32,
   "metadata": {},
   "outputs": [
    {
     "name": "stdout",
     "output_type": "stream",
     "text": [
      "Subject Outlier: Free_v0\n",
      "Subject Autoencoder: Free_v0\n",
      "Subject Dimension: PCA_n2\n"
     ]
    }
   ],
   "source": [
    "print(f\"Subject Outlier: {subject_outlier}\")\n",
    "print(f\"Subject Autoencoder: {subject_autoencoder}\")\n",
    "print(f\"Subject Dimension: {subject_dimension}\")"
   ]
  },
  {
   "cell_type": "code",
   "execution_count": 33,
   "metadata": {},
   "outputs": [
    {
     "data": {
      "text/html": [
       "<div>\n",
       "<style scoped>\n",
       "    .dataframe tbody tr th:only-of-type {\n",
       "        vertical-align: middle;\n",
       "    }\n",
       "\n",
       "    .dataframe tbody tr th {\n",
       "        vertical-align: top;\n",
       "    }\n",
       "\n",
       "    .dataframe thead th {\n",
       "        text-align: right;\n",
       "    }\n",
       "</style>\n",
       "<table border=\"1\" class=\"dataframe\">\n",
       "  <thead>\n",
       "    <tr style=\"text-align: right;\">\n",
       "      <th></th>\n",
       "      <th>Applications</th>\n",
       "      <th>Applications_Condition</th>\n",
       "      <th>Model</th>\n",
       "      <th>Parameters</th>\n",
       "      <th>Accuracy</th>\n",
       "      <th>Precision</th>\n",
       "      <th>Recall</th>\n",
       "      <th>F1</th>\n",
       "    </tr>\n",
       "  </thead>\n",
       "  <tbody>\n",
       "    <tr>\n",
       "      <th>0</th>\n",
       "      <td>Free_v0_Free_v0_PCA_n2</td>\n",
       "      <td>Out_1_Aut_0_DR_0</td>\n",
       "      <td>SGD</td>\n",
       "      <td>alpha_0.01_max_iter_1000_penalty_l2_tol_0.0001</td>\n",
       "      <td>0.997333</td>\n",
       "      <td>0.997412</td>\n",
       "      <td>0.997333</td>\n",
       "      <td>0.997333</td>\n",
       "    </tr>\n",
       "    <tr>\n",
       "      <th>0</th>\n",
       "      <td>Free_v0_Free_v0_PCA_n2</td>\n",
       "      <td>Out_1_Aut_1_DR_0</td>\n",
       "      <td>SGD</td>\n",
       "      <td>alpha_0.01_max_iter_1000_penalty_l2_tol_0.0001</td>\n",
       "      <td>0.997333</td>\n",
       "      <td>0.997412</td>\n",
       "      <td>0.997333</td>\n",
       "      <td>0.997333</td>\n",
       "    </tr>\n",
       "    <tr>\n",
       "      <th>0</th>\n",
       "      <td>Free_v0_Free_v0_PCA_n2</td>\n",
       "      <td>Out_1_Aut_0_DR_0</td>\n",
       "      <td>RF</td>\n",
       "      <td>Basic</td>\n",
       "      <td>0.986667</td>\n",
       "      <td>0.986821</td>\n",
       "      <td>0.986667</td>\n",
       "      <td>0.986663</td>\n",
       "    </tr>\n",
       "    <tr>\n",
       "      <th>0</th>\n",
       "      <td>Free_v0_Free_v0_PCA_n2</td>\n",
       "      <td>Out_1_Aut_1_DR_0</td>\n",
       "      <td>RF</td>\n",
       "      <td>Basic</td>\n",
       "      <td>0.986667</td>\n",
       "      <td>0.986821</td>\n",
       "      <td>0.986667</td>\n",
       "      <td>0.986663</td>\n",
       "    </tr>\n",
       "    <tr>\n",
       "      <th>0</th>\n",
       "      <td>Free_v0_Free_v0_PCA_n2</td>\n",
       "      <td>Out_1_Aut_0_DR_0</td>\n",
       "      <td>SVM</td>\n",
       "      <td>kernel_poly_degree_2_coef0_0.5_C_1_gamma_scale</td>\n",
       "      <td>0.962667</td>\n",
       "      <td>0.965052</td>\n",
       "      <td>0.962667</td>\n",
       "      <td>0.962490</td>\n",
       "    </tr>\n",
       "    <tr>\n",
       "      <th>0</th>\n",
       "      <td>Free_v0_Free_v0_PCA_n2</td>\n",
       "      <td>Out_1_Aut_1_DR_0</td>\n",
       "      <td>SVM</td>\n",
       "      <td>kernel_poly_degree_2_coef0_0.5_C_1_gamma_scale</td>\n",
       "      <td>0.962667</td>\n",
       "      <td>0.965052</td>\n",
       "      <td>0.962667</td>\n",
       "      <td>0.962490</td>\n",
       "    </tr>\n",
       "    <tr>\n",
       "      <th>0</th>\n",
       "      <td>Free_v0_Free_v0_PCA_n2</td>\n",
       "      <td>Out_1_Aut_0_DR_0</td>\n",
       "      <td>DT</td>\n",
       "      <td>Basic</td>\n",
       "      <td>0.813333</td>\n",
       "      <td>0.811625</td>\n",
       "      <td>0.813333</td>\n",
       "      <td>0.809454</td>\n",
       "    </tr>\n",
       "    <tr>\n",
       "      <th>0</th>\n",
       "      <td>Free_v0_Free_v0_PCA_n2</td>\n",
       "      <td>Out_1_Aut_1_DR_0</td>\n",
       "      <td>DT</td>\n",
       "      <td>Basic</td>\n",
       "      <td>0.813333</td>\n",
       "      <td>0.811625</td>\n",
       "      <td>0.813333</td>\n",
       "      <td>0.809454</td>\n",
       "    </tr>\n",
       "    <tr>\n",
       "      <th>0</th>\n",
       "      <td>Free_v0_Free_v0_PCA_n2</td>\n",
       "      <td>Out_1_Aut_1_DR_1</td>\n",
       "      <td>RF</td>\n",
       "      <td>Basic</td>\n",
       "      <td>0.229333</td>\n",
       "      <td>0.232435</td>\n",
       "      <td>0.229333</td>\n",
       "      <td>0.226945</td>\n",
       "    </tr>\n",
       "    <tr>\n",
       "      <th>0</th>\n",
       "      <td>Free_v0_Free_v0_PCA_n2</td>\n",
       "      <td>Out_1_Aut_1_DR_1</td>\n",
       "      <td>SVM</td>\n",
       "      <td>kernel_poly_degree_2_coef0_0.5_C_1_gamma_scale</td>\n",
       "      <td>0.250667</td>\n",
       "      <td>0.275690</td>\n",
       "      <td>0.250667</td>\n",
       "      <td>0.219262</td>\n",
       "    </tr>\n",
       "    <tr>\n",
       "      <th>0</th>\n",
       "      <td>Free_v0_Free_v0_PCA_n2</td>\n",
       "      <td>Out_1_Aut_1_DR_1</td>\n",
       "      <td>DT</td>\n",
       "      <td>Basic</td>\n",
       "      <td>0.205333</td>\n",
       "      <td>0.227629</td>\n",
       "      <td>0.205333</td>\n",
       "      <td>0.211487</td>\n",
       "    </tr>\n",
       "    <tr>\n",
       "      <th>0</th>\n",
       "      <td>Free_v0_Free_v0_PCA_n2</td>\n",
       "      <td>Out_1_Aut_1_DR_1</td>\n",
       "      <td>SGD</td>\n",
       "      <td>alpha_0.01_max_iter_1000_penalty_l2_tol_0.0001</td>\n",
       "      <td>0.090667</td>\n",
       "      <td>0.034567</td>\n",
       "      <td>0.090667</td>\n",
       "      <td>0.048504</td>\n",
       "    </tr>\n",
       "  </tbody>\n",
       "</table>\n",
       "</div>"
      ],
      "text/plain": [
       "             Applications Applications_Condition Model  \\\n",
       "0  Free_v0_Free_v0_PCA_n2       Out_1_Aut_0_DR_0   SGD   \n",
       "0  Free_v0_Free_v0_PCA_n2       Out_1_Aut_1_DR_0   SGD   \n",
       "0  Free_v0_Free_v0_PCA_n2       Out_1_Aut_0_DR_0    RF   \n",
       "0  Free_v0_Free_v0_PCA_n2       Out_1_Aut_1_DR_0    RF   \n",
       "0  Free_v0_Free_v0_PCA_n2       Out_1_Aut_0_DR_0   SVM   \n",
       "0  Free_v0_Free_v0_PCA_n2       Out_1_Aut_1_DR_0   SVM   \n",
       "0  Free_v0_Free_v0_PCA_n2       Out_1_Aut_0_DR_0    DT   \n",
       "0  Free_v0_Free_v0_PCA_n2       Out_1_Aut_1_DR_0    DT   \n",
       "0  Free_v0_Free_v0_PCA_n2       Out_1_Aut_1_DR_1    RF   \n",
       "0  Free_v0_Free_v0_PCA_n2       Out_1_Aut_1_DR_1   SVM   \n",
       "0  Free_v0_Free_v0_PCA_n2       Out_1_Aut_1_DR_1    DT   \n",
       "0  Free_v0_Free_v0_PCA_n2       Out_1_Aut_1_DR_1   SGD   \n",
       "\n",
       "                                       Parameters  Accuracy  Precision  \\\n",
       "0  alpha_0.01_max_iter_1000_penalty_l2_tol_0.0001  0.997333   0.997412   \n",
       "0  alpha_0.01_max_iter_1000_penalty_l2_tol_0.0001  0.997333   0.997412   \n",
       "0                                           Basic  0.986667   0.986821   \n",
       "0                                           Basic  0.986667   0.986821   \n",
       "0  kernel_poly_degree_2_coef0_0.5_C_1_gamma_scale  0.962667   0.965052   \n",
       "0  kernel_poly_degree_2_coef0_0.5_C_1_gamma_scale  0.962667   0.965052   \n",
       "0                                           Basic  0.813333   0.811625   \n",
       "0                                           Basic  0.813333   0.811625   \n",
       "0                                           Basic  0.229333   0.232435   \n",
       "0  kernel_poly_degree_2_coef0_0.5_C_1_gamma_scale  0.250667   0.275690   \n",
       "0                                           Basic  0.205333   0.227629   \n",
       "0  alpha_0.01_max_iter_1000_penalty_l2_tol_0.0001  0.090667   0.034567   \n",
       "\n",
       "     Recall        F1  \n",
       "0  0.997333  0.997333  \n",
       "0  0.997333  0.997333  \n",
       "0  0.986667  0.986663  \n",
       "0  0.986667  0.986663  \n",
       "0  0.962667  0.962490  \n",
       "0  0.962667  0.962490  \n",
       "0  0.813333  0.809454  \n",
       "0  0.813333  0.809454  \n",
       "0  0.229333  0.226945  \n",
       "0  0.250667  0.219262  \n",
       "0  0.205333  0.211487  \n",
       "0  0.090667  0.048504  "
      ]
     },
     "execution_count": 33,
     "metadata": {},
     "output_type": "execute_result"
    }
   ],
   "source": [
    "All_Data = pd.concat([SVM_All, DT_All, RF_All, GB_All, SGD_All], axis=0) \n",
    "All_Data.sort_values(by = [\"F1\"], ascending= False )"
   ]
  },
  {
   "cell_type": "markdown",
   "metadata": {},
   "source": [
    "# `End`"
   ]
  },
  {
   "cell_type": "code",
   "execution_count": 34,
   "metadata": {},
   "outputs": [],
   "source": [
    "# --------------------\n",
    "# Basic Data \n",
    "export_name = \"data_raw\" \n",
    "with open(os.path.join(export_data_path(file_prediction),  export_name + \".pkl\")  , 'wb') as file:\n",
    "    pickle.dump(data_raw, file)   \n",
    "export_name = \"subject_data_full\" \n",
    "with open(os.path.join(export_data_path(file_prediction),  export_name + \".pkl\")  , 'wb') as file:\n",
    "    pickle.dump(subject_data_full, file)   \n",
    "export_name = \"subject_outlier\" \n",
    "with open(os.path.join(export_data_path(file_prediction),  export_name + \".pkl\")  , 'wb') as file:\n",
    "    pickle.dump(subject_outlier, file)   \n",
    "export_name = \"subject_autoencoder\" \n",
    "with open(os.path.join(export_data_path(file_prediction),  export_name + \".pkl\")  , 'wb') as file:\n",
    "    pickle.dump(subject_autoencoder, file)   \n",
    "export_name = \"subject_dimension\" \n",
    "with open(os.path.join(export_data_path(file_prediction),  export_name + \".pkl\")  , 'wb') as file:\n",
    "    pickle.dump(subject_dimension, file) \n",
    "\n",
    "\n",
    "\n",
    "# --------------------\n",
    "# SVM \n",
    "export_name = \"SVM_All\"\n",
    "with open(os.path.join(export_data_path(file_prediction),  export_name + \".pkl\")  , 'wb') as file:\n",
    "    pickle.dump(SVM_All, file) \n",
    "\n",
    "# --------------------\n",
    "# SGD\n",
    "export_name = \"SGD_All\"\n",
    "with open(os.path.join(export_data_path(file_prediction),  export_name + \".pkl\")  , 'wb') as file:\n",
    "    pickle.dump(SGD_All, file)\n",
    "\n",
    "    \n",
    "# --------------------\n",
    "# DT\n",
    "export_name = \"DT_All\"\n",
    "with open(os.path.join(export_data_path(file_prediction),  export_name + \".pkl\")  , 'wb') as file:\n",
    "    pickle.dump(DT_All, file)\n",
    "\n",
    "# --------------------\n",
    "# RF\n",
    "export_name = \"RF_All\"\n",
    "with open(os.path.join(export_data_path(file_prediction),  export_name + \".pkl\")  , 'wb') as file:\n",
    "    pickle.dump(RF_All, file)\n",
    "\n",
    "# --------------------\n",
    "# GB\n",
    "export_name = \"GB_All\"\n",
    "with open(os.path.join(export_data_path(file_prediction),  export_name + \".pkl\")  , 'wb') as file:\n",
    "    pickle.dump(GB_All, file)\n"
   ]
  }
 ],
 "metadata": {
  "kernelspec": {
   "display_name": "Python 3",
   "language": "python",
   "name": "python3"
  },
  "language_info": {
   "codemirror_mode": {
    "name": "ipython",
    "version": 3
   },
   "file_extension": ".py",
   "mimetype": "text/x-python",
   "name": "python",
   "nbconvert_exporter": "python",
   "pygments_lexer": "ipython3",
   "version": "3.12.2"
  }
 },
 "nbformat": 4,
 "nbformat_minor": 2
}
